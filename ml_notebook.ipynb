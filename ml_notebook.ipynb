{
 "cells":[
  {
   "cell_type":"markdown",
   "source":[
    "# Audio classification for clap sounds\n",
    "\n",
    "- Built using reinforcement learning based on YAMNet model\n",
    "- Then we trained it on ~20 samples of single and double claps sounds each"
   ],
   "attachments":{
    
   },
   "metadata":{
    "datalore":{
     "node_id":"swpmnQE1cIx9RlbZ2uVVOe",
     "type":"MD",
     "hide_input_from_viewers":true,
     "hide_output_from_viewers":true
    }
   }
  },
  {
   "cell_type":"markdown",
   "source":[
    "# Install TensorFlow and audio libraries for audio conversion"
   ],
   "attachments":{
    
   },
   "metadata":{
    "datalore":{
     "node_id":"JOH2F0VnnCD8unranOtovr",
     "type":"MD",
     "hide_input_from_viewers":true,
     "hide_output_from_viewers":true
    }
   }
  },
  {
   "cell_type":"code",
   "source":[
    "!sudo apt-get update -y\n",
    "!sudo apt-get install ffmpeg -y\n",
    "!pip install pydub\n",
    "!pip install \"tensorflow==2.11.*\"\n",
    "# tensorflow_io 0.28 is compatible with TensorFlow 2.11\n",
    "!pip install \"tensorflow_io==0.28.*\"\n",
    "!pip install tensorflow-hub"
   ],
   "execution_count":136,
   "outputs":[
    {
     "name":"stdout",
     "text":[
      "\r0% [Working]\r            \rHit:1 http:\/\/archive.ubuntu.com\/ubuntu jammy InRelease\r\n",
      "\r0% [Connecting to security.ubuntu.com (91.189.91.38)] [Connected to ppa.launchp\r                                                                               \rHit:2 http:\/\/archive.ubuntu.com\/ubuntu jammy-updates InRelease\r\n",
      "\r0% [Waiting for headers] [Connecting to security.ubuntu.com (91.189.91.38)] [Co\r                                                                               \rHit:3 http:\/\/archive.ubuntu.com\/ubuntu jammy-backports InRelease\r\n",
      "\r0% [Connecting to security.ubuntu.com (91.189.91.38)] [Connected to ppa.launchp\r                                                                               \rHit:4 https:\/\/ppa.launchpadcontent.net\/criu\/ppa\/ubuntu jammy InRelease\r\n",
      "\r                                                                               \r0% [Connecting to security.ubuntu.com (91.189.91.38)]\r                                                     \r0% [Waiting for headers]\r                        \rHit:5 http:\/\/security.ubuntu.com\/ubuntu jammy-security InRelease\r\n",
      "\r                        \r0% [Working]\r0% [Working]\r0% [Working]\r0% [Working]\r20% [Working]\r             \r\rReading package lists... 0%\r\rReading package lists... 0%\r\rReading package lists... 0%\r\rReading package lists... 7%\r\rReading package lists... 7%\r\rReading package lists... 7%\r\rReading package lists... 7%\r\rReading package lists... 74%\r\rReading package lists... 74%\r\rReading package lists... 75%\r\rReading package lists... 75%\r\rReading package lists... 79%\r\rReading package lists... 79%\r\rReading package lists... 82%\r\rReading package lists... 82%\r\rReading package lists... 82%\r\rReading package lists... 88%\r\rReading package lists... 88%\r\rReading package lists... 88%\r\rReading package lists... 88%\r\rReading package lists... 88%\r\rReading package lists... 88%\r\rReading package lists... 88%\r\rReading package lists... 88%\r\rReading package lists... 91%\r\rReading package lists... 91%\r\rReading package lists... 94%\r\rReading package lists... 94%\r\rReading package lists... 99%\r\rReading package lists... 99%\r\rReading package lists... 99%\r\rReading package lists... 99%\r\rReading package lists... 99%\r\rReading package lists... 99%\r\rReading package lists... Done\r\r\n",
      "\rReading package lists... 0%\r\rReading package lists... 0%\r\rReading package lists... 0%\r\rReading package lists... 7%\r\rReading package lists... 7%\r\rReading package lists... 7%\r\rReading package lists... 7%\r\rReading package lists... 74%\r\rReading package lists... 74%\r\rReading package lists... 75%\r\rReading package lists... 75%\r\rReading package lists... 79%\r\rReading package lists... 79%\r\rReading package lists... 82%\r\rReading package lists... 82%\r\rReading package lists... 84%\r\rReading package lists... 88%\r\rReading package lists... 88%\r\rReading package lists... 88%\r\rReading package lists... 88%\r\rReading package lists... 88%\r\rReading package lists... 88%\r\rReading package lists... 88%\r\rReading package lists... 88%\r\rReading package lists... 91%\r\rReading package lists... 91%\r\rReading package lists... 94%\r\rReading package lists... 94%\r\rReading package lists... 99%\r\rReading package lists... 99%\r\rReading package lists... 99%\r\rReading package lists... 99%\r\rReading package lists... 99%\r\rReading package lists... 99%\r\rReading package lists... Done\r\r\n",
      "\rBuilding dependency tree... 0%\r\rBuilding dependency tree... 0%\r\rBuilding dependency tree... 50%\r\rBuilding dependency tree... 50%\r\rBuilding dependency tree... Done\r\r\n",
      "\rReading state information... 0% \r\rReading state information... 0%\r\rReading state information... Done\r\r\n",
      "ffmpeg is already the newest version (7:4.4.2-0ubuntu0.22.04.1).\r\n",
      "0 upgraded, 0 newly installed, 0 to remove and 106 not upgraded.\r\n",
      "Requirement already satisfied: pydub in \/opt\/python\/envs\/default\/lib\/python3.8\/site-packages (0.25.1)\r\n",
      "Requirement already satisfied: tensorflow==2.11.* in \/opt\/python\/envs\/default\/lib\/python3.8\/site-packages (2.11.1)\r\n",
      "Requirement already satisfied: absl-py>=1.0.0 in \/opt\/python\/envs\/default\/lib\/python3.8\/site-packages (from tensorflow==2.11.*) (1.4.0)\r\n",
      "Requirement already satisfied: astunparse>=1.6.0 in \/opt\/python\/envs\/default\/lib\/python3.8\/site-packages (from tensorflow==2.11.*) (1.6.3)\r\n",
      "Requirement already satisfied: flatbuffers>=2.0 in \/opt\/python\/envs\/default\/lib\/python3.8\/site-packages (from tensorflow==2.11.*) (23.5.26)\r\n",
      "Requirement already satisfied: gast<=0.4.0,>=0.2.1 in \/opt\/python\/envs\/default\/lib\/python3.8\/site-packages (from tensorflow==2.11.*) (0.4.0)\r\n",
      "Requirement already satisfied: google-pasta>=0.1.1 in \/opt\/python\/envs\/default\/lib\/python3.8\/site-packages (from tensorflow==2.11.*) (0.2.0)\r\n",
      "Requirement already satisfied: grpcio<2.0,>=1.24.3 in \/opt\/python\/envs\/default\/lib\/python3.8\/site-packages (from tensorflow==2.11.*) (1.54.2)\r\n",
      "Requirement already satisfied: h5py>=2.9.0 in \/opt\/python\/envs\/default\/lib\/python3.8\/site-packages (from tensorflow==2.11.*) (3.8.0)\r\n",
      "Requirement already satisfied: keras<2.12,>=2.11.0 in \/opt\/python\/envs\/default\/lib\/python3.8\/site-packages (from tensorflow==2.11.*) (2.11.0)\r\n",
      "Requirement already satisfied: libclang>=13.0.0 in \/opt\/python\/envs\/default\/lib\/python3.8\/site-packages (from tensorflow==2.11.*) (16.0.0)\r\n",
      "Requirement already satisfied: numpy>=1.20 in \/opt\/python\/envs\/default\/lib\/python3.8\/site-packages (from tensorflow==2.11.*) (1.24.3)\r\n",
      "Requirement already satisfied: opt-einsum>=2.3.2 in \/opt\/python\/envs\/default\/lib\/python3.8\/site-packages (from tensorflow==2.11.*) (3.3.0)\r\n",
      "Requirement already satisfied: packaging in \/opt\/python\/envs\/default\/lib\/python3.8\/site-packages (from tensorflow==2.11.*) (23.1)\r\n",
      "Requirement already satisfied: protobuf<3.20,>=3.9.2 in \/opt\/python\/envs\/default\/lib\/python3.8\/site-packages (from tensorflow==2.11.*) (3.19.6)\r\n",
      "Requirement already satisfied: setuptools in \/opt\/python\/envs\/default\/lib\/python3.8\/site-packages (from tensorflow==2.11.*) (67.8.0)\r\n",
      "Requirement already satisfied: six>=1.12.0 in \/opt\/python\/envs\/default\/lib\/python3.8\/site-packages (from tensorflow==2.11.*) (1.16.0)\r\n",
      "Requirement already satisfied: tensorboard<2.12,>=2.11 in \/opt\/python\/envs\/default\/lib\/python3.8\/site-packages (from tensorflow==2.11.*) (2.11.2)\r\n",
      "Requirement already satisfied: tensorflow-estimator<2.12,>=2.11.0 in \/opt\/python\/envs\/default\/lib\/python3.8\/site-packages (from tensorflow==2.11.*) (2.11.0)\r\n",
      "Requirement already satisfied: termcolor>=1.1.0 in \/opt\/python\/envs\/default\/lib\/python3.8\/site-packages (from tensorflow==2.11.*) (2.3.0)\r\n",
      "Requirement already satisfied: typing-extensions>=3.6.6 in \/opt\/python\/envs\/default\/lib\/python3.8\/site-packages (from tensorflow==2.11.*) (4.6.3)\r\n",
      "Requirement already satisfied: wrapt>=1.11.0 in \/opt\/python\/envs\/default\/lib\/python3.8\/site-packages (from tensorflow==2.11.*) (1.15.0)\r\n",
      "Requirement already satisfied: tensorflow-io-gcs-filesystem>=0.23.1 in \/opt\/python\/envs\/default\/lib\/python3.8\/site-packages (from tensorflow==2.11.*) (0.28.0)\r\n",
      "Requirement already satisfied: wheel<1.0,>=0.23.0 in \/opt\/python\/envs\/default\/lib\/python3.8\/site-packages (from astunparse>=1.6.0->tensorflow==2.11.*) (0.40.0)\r\n",
      "Requirement already satisfied: google-auth<3,>=1.6.3 in \/opt\/python\/envs\/default\/lib\/python3.8\/site-packages (from tensorboard<2.12,>=2.11->tensorflow==2.11.*) (2.19.1)\r\n",
      "Requirement already satisfied: google-auth-oauthlib<0.5,>=0.4.1 in \/opt\/python\/envs\/default\/lib\/python3.8\/site-packages (from tensorboard<2.12,>=2.11->tensorflow==2.11.*) (0.4.6)\r\n",
      "Requirement already satisfied: markdown>=2.6.8 in \/opt\/python\/envs\/default\/lib\/python3.8\/site-packages (from tensorboard<2.12,>=2.11->tensorflow==2.11.*) (3.4.3)\r\n",
      "Requirement already satisfied: requests<3,>=2.21.0 in \/opt\/python\/envs\/default\/lib\/python3.8\/site-packages (from tensorboard<2.12,>=2.11->tensorflow==2.11.*) (2.30.0)\r\n",
      "Requirement already satisfied: tensorboard-data-server<0.7.0,>=0.6.0 in \/opt\/python\/envs\/default\/lib\/python3.8\/site-packages (from tensorboard<2.12,>=2.11->tensorflow==2.11.*) (0.6.1)\r\n",
      "Requirement already satisfied: tensorboard-plugin-wit>=1.6.0 in \/opt\/python\/envs\/default\/lib\/python3.8\/site-packages (from tensorboard<2.12,>=2.11->tensorflow==2.11.*) (1.8.1)\r\n",
      "Requirement already satisfied: werkzeug>=1.0.1 in \/opt\/python\/envs\/default\/lib\/python3.8\/site-packages (from tensorboard<2.12,>=2.11->tensorflow==2.11.*) (2.3.4)\r\n",
      "Requirement already satisfied: cachetools<6.0,>=2.0.0 in \/opt\/python\/envs\/default\/lib\/python3.8\/site-packages (from google-auth<3,>=1.6.3->tensorboard<2.12,>=2.11->tensorflow==2.11.*) (5.3.1)\r\n",
      "Requirement already satisfied: pyasn1-modules>=0.2.1 in \/opt\/python\/envs\/default\/lib\/python3.8\/site-packages (from google-auth<3,>=1.6.3->tensorboard<2.12,>=2.11->tensorflow==2.11.*) (0.3.0)\r\n",
      "Requirement already satisfied: rsa<5,>=3.1.4 in \/opt\/python\/envs\/default\/lib\/python3.8\/site-packages (from google-auth<3,>=1.6.3->tensorboard<2.12,>=2.11->tensorflow==2.11.*) (4.9)\r\n",
      "Requirement already satisfied: urllib3<2.0 in \/opt\/python\/envs\/default\/lib\/python3.8\/site-packages (from google-auth<3,>=1.6.3->tensorboard<2.12,>=2.11->tensorflow==2.11.*) (1.26.16)\r\n",
      "Requirement already satisfied: requests-oauthlib>=0.7.0 in \/opt\/python\/envs\/default\/lib\/python3.8\/site-packages (from google-auth-oauthlib<0.5,>=0.4.1->tensorboard<2.12,>=2.11->tensorflow==2.11.*) (1.3.1)\r\n",
      "Requirement already satisfied: importlib-metadata>=4.4 in \/opt\/python\/envs\/default\/lib\/python3.8\/site-packages (from markdown>=2.6.8->tensorboard<2.12,>=2.11->tensorflow==2.11.*) (6.6.0)\r\n",
      "Requirement already satisfied: charset-normalizer<4,>=2 in \/opt\/python\/envs\/default\/lib\/python3.8\/site-packages (from requests<3,>=2.21.0->tensorboard<2.12,>=2.11->tensorflow==2.11.*) (3.1.0)\r\n",
      "Requirement already satisfied: idna<4,>=2.5 in \/opt\/python\/envs\/default\/lib\/python3.8\/site-packages (from requests<3,>=2.21.0->tensorboard<2.12,>=2.11->tensorflow==2.11.*) (3.4)\r\n",
      "Requirement already satisfied: certifi>=2017.4.17 in \/opt\/python\/envs\/default\/lib\/python3.8\/site-packages (from requests<3,>=2.21.0->tensorboard<2.12,>=2.11->tensorflow==2.11.*) (2023.5.7)\r\n",
      "Requirement already satisfied: MarkupSafe>=2.1.1 in \/opt\/python\/envs\/default\/lib\/python3.8\/site-packages (from werkzeug>=1.0.1->tensorboard<2.12,>=2.11->tensorflow==2.11.*) (2.1.3)\r\n",
      "Requirement already satisfied: zipp>=0.5 in \/opt\/python\/envs\/default\/lib\/python3.8\/site-packages (from importlib-metadata>=4.4->markdown>=2.6.8->tensorboard<2.12,>=2.11->tensorflow==2.11.*) (3.15.0)\r\n",
      "Requirement already satisfied: pyasn1<0.6.0,>=0.4.6 in \/opt\/python\/envs\/default\/lib\/python3.8\/site-packages (from pyasn1-modules>=0.2.1->google-auth<3,>=1.6.3->tensorboard<2.12,>=2.11->tensorflow==2.11.*) (0.5.0)\r\n",
      "Requirement already satisfied: oauthlib>=3.0.0 in \/opt\/python\/envs\/default\/lib\/python3.8\/site-packages (from requests-oauthlib>=0.7.0->google-auth-oauthlib<0.5,>=0.4.1->tensorboard<2.12,>=2.11->tensorflow==2.11.*) (3.2.2)\r\n",
      "Requirement already satisfied: tensorflow_io==0.28.* in \/opt\/python\/envs\/default\/lib\/python3.8\/site-packages (0.28.0)\r\n",
      "Requirement already satisfied: tensorflow-io-gcs-filesystem==0.28.0 in \/opt\/python\/envs\/default\/lib\/python3.8\/site-packages (from tensorflow_io==0.28.*) (0.28.0)\r\n",
      "Requirement already satisfied: tensorflow-hub in \/opt\/python\/envs\/default\/lib\/python3.8\/site-packages (0.13.0)\r\n",
      "Requirement already satisfied: numpy>=1.12.0 in \/opt\/python\/envs\/default\/lib\/python3.8\/site-packages (from tensorflow-hub) (1.24.3)\r\n",
      "Requirement already satisfied: protobuf>=3.19.6 in \/opt\/python\/envs\/default\/lib\/python3.8\/site-packages (from tensorflow-hub) (3.19.6)\r\n"
     ],
     "output_type":"stream"
    }
   ],
   "metadata":{
    "datalore":{
     "node_id":"OgrCzpcRlNCMzo0KFXD66z",
     "type":"CODE",
     "hide_input_from_viewers":true,
     "hide_output_from_viewers":true
    }
   }
  },
  {
   "cell_type":"markdown",
   "source":[
    "# Convert raw .m4a audio files into .wav files"
   ],
   "attachments":{
    
   },
   "metadata":{
    "datalore":{
     "node_id":"VDnEGzIlNSMGAF4t4xgZgo",
     "type":"MD",
     "hide_input_from_viewers":true,
     "hide_output_from_viewers":true
    }
   }
  },
  {
   "cell_type":"code",
   "source":[
    "from pydub import AudioSegment\n",
    "import os\n",
    "\n",
    "\n",
    "def convert_audio_to_wav(input_file, output_file):\n",
    "    audio = AudioSegment.from_file(input_file)\n",
    "    audio.export(output_file, format='wav')\n",
    "\n",
    "\n",
    "def convert_directory_to_wav(input_directory, output_directory):\n",
    "    if not os.path.exists(output_directory):\n",
    "        os.makedirs(output_directory)\n",
    "\n",
    "    for file_name in os.listdir(input_directory):\n",
    "        input_file = os.path.join(input_directory, file_name)\n",
    "        if os.path.isfile(input_file):\n",
    "            base_name, extension = os.path.splitext(file_name)\n",
    "            output_file = os.path.join(output_directory, base_name + '.wav')\n",
    "            convert_audio_to_wav(input_file, output_file)\n",
    "\n",
    "\n",
    "# Example usage:\n",
    "single_claps_input_directory = 'clap_sounds\/raw\/single_claps'\n",
    "single_claps_output_directory = 'clap_sounds\/converted\/single_claps'\n",
    "convert_directory_to_wav(single_claps_input_directory, single_claps_output_directory)\n",
    "\n",
    "double_claps_input_directory = 'clap_sounds\/raw\/double_claps'\n",
    "double_claps_output_directory = 'clap_sounds\/converted\/double_claps'\n",
    "convert_directory_to_wav(double_claps_input_directory, double_claps_output_directory)"
   ],
   "execution_count":137,
   "outputs":[
    
   ],
   "metadata":{
    "datalore":{
     "node_id":"pkopmbdn0zshiXrrJIJlEo",
     "type":"CODE",
     "hide_input_from_viewers":true,
     "hide_output_from_viewers":true
    }
   }
  },
  {
   "cell_type":"markdown",
   "source":[
    "# Transfer learning with YAMNet for environmental sound classification\n",
    "\n",
    "[YAMNet](https:\/\/tfhub.dev\/google\/yamnet\/1) is a pre-trained deep neural network that can predict audio events from [521 classes](https:\/\/github.com\/tensorflow\/models\/blob\/master\/research\/audioset\/yamnet\/yamnet_class_map.csv), such as laughter, barking, or a siren."
   ],
   "attachments":{
    
   },
   "metadata":{
    "datalore":{
     "node_id":"KHjKlKXImnpcRmwoPjmMpv",
     "type":"MD",
     "hide_input_from_viewers":false,
     "hide_output_from_viewers":false,
     "report_properties":{
      "rowId":"XT0MtDVDnlYT5Yksodh3MB"
     }
    }
   }
  },
  {
   "cell_type":"code",
   "source":[
    "import os\n",
    "\n",
    "from IPython import display\n",
    "import matplotlib.pyplot as plt\n",
    "import numpy as np\n",
    "import pandas as pd\n",
    "\n",
    "import tensorflow as tf\n",
    "import tensorflow_hub as hub\n",
    "import tensorflow_io as tfio"
   ],
   "execution_count":138,
   "outputs":[
    
   ],
   "metadata":{
    "datalore":{
     "node_id":"jOFXTVlx1yC7yUc0oEGe01",
     "type":"CODE",
     "hide_input_from_viewers":false,
     "hide_output_from_viewers":false,
     "report_properties":{
      "rowId":"V2xAz4bH4ADsZs7TT0ZgxL"
     }
    }
   }
  },
  {
   "cell_type":"code",
   "source":[
    "yamnet_model_handle = 'https:\/\/tfhub.dev\/google\/yamnet\/1'\n",
    "yamnet_model = hub.load(yamnet_model_handle)"
   ],
   "execution_count":139,
   "outputs":[
    
   ],
   "metadata":{
    "datalore":{
     "node_id":"bzRG6Lt2IEdywmezz6WFjN",
     "type":"CODE",
     "hide_input_from_viewers":false,
     "hide_output_from_viewers":false,
     "report_properties":{
      "rowId":"Fuxge69njRJyMruBBszKRp"
     }
    }
   }
  },
  {
   "cell_type":"code",
   "source":[
    "# Utility functions for loading audio files and making sure the sample rate is correct.\n",
    "\n",
    "@tf.function\n",
    "def load_wav_16k_mono(filename):\n",
    "    \"\"\" Load a WAV file, convert it to a float tensor, resample to 16 kHz single-channel audio. \"\"\"\n",
    "    file_contents = tf.io.read_file(filename)\n",
    "    wav, sample_rate = tf.audio.decode_wav(\n",
    "          file_contents,\n",
    "          desired_channels=1)\n",
    "    wav = tf.squeeze(wav, axis=-1)\n",
    "    sample_rate = tf.cast(sample_rate, dtype=tf.int64)\n",
    "    wav = tfio.audio.resample(wav, rate_in=sample_rate, rate_out=16000)\n",
    "    return wav"
   ],
   "execution_count":140,
   "outputs":[
    
   ],
   "metadata":{
    "datalore":{
     "node_id":"RWv1QUYFtjelT2Uu7bMsUT",
     "type":"CODE",
     "hide_input_from_viewers":false,
     "hide_output_from_viewers":false,
     "report_properties":{
      "rowId":"XiQO7U4am5U9iR6RvIzuC9"
     }
    }
   }
  },
  {
   "cell_type":"code",
   "source":[
    "# load test audio file\n",
    "clap_wav_data = load_wav_16k_mono(\"clap_sounds\/test_sounds\/clap.wav\")\n",
    "\n",
    "_ = plt.plot(clap_wav_data)\n",
    "\n",
    "# Play the audio file.\n",
    "display.Audio(clap_wav_data, rate=16000)"
   ],
   "execution_count":141,
   "outputs":[
    {
     "name":"stdout",
     "text":[
      "WARNING:tensorflow:Using a while_loop for converting IO>AudioResample cause there is no registered converter for this op.\n"
     ],
     "output_type":"stream"
    },
    {
     "name":"stderr",
     "text":[
      "WARNING:tensorflow:Using a while_loop for converting IO>AudioResample cause there is no registered converter for this op.\n"
     ],
     "output_type":"stream"
    },
    {
     "data":{
      "text\/html":[
       "\n",
       "                <audio  controls=\"controls\" >\n",
       "                    <source src=\"data:audio\/wav;base64,UklGRnjVAABXQVZFZm10IBAAAAABAAEAgD4AAAB9AAACABAAZGF0YVTVAAAAAAAAAAAAAAAAAAAAAAAAAAAAAAAAAAAAAAAAAAAAAAAAAAAAAAAAAAAAAAAAAAAAAAAAAAAAAAAAAAAAAAAAAAAAAAAAAAAAAAAAAAAAAAAAAAAAAAAAAAAAAAAAAAAAAAAAAAAAAAAAAAAAAAAAAAAAAAAAAAAAAAAAAAAAAAAAAAAAAAAAAAAAAAAAAAAAAAAAAAAAAAAAAAAAAAAAAAAAAAAAAAAAAAAAAAAAAAAAAAAAAAAAAAAAAAAAAAAAAAAAAAAAAAAAAAAAAAAAAAAAAAAAAAAAAAAAAAAAAAAAAAAAAAAAAAAAAAAAAAAAAAAAAAAAAAAAAAAAAAAAAAAAAAAAAAAAAAAAAAAAAAAAAAAAAAAAAAAAAAAAAAAAAAAAAAAAAAAAAAAAAAAAAAAAAAAAAAAAAAAAAAAAAAAAAAAAAAAAAAAAAAAAAAAAAAAAAAAAAAAAAAAAAAAAAAAAAAAAAAAAAAAAAAAAAAAAAAAAAAAAAAAAAAAAAAAAAAAAAAAAAAAAAAAAAAAAAAAAAAAAAAAAAAAAAAAAAAAAAAAAAAAAAAAAAAAAAAAAAAAAAAAAAAAAAAAAAAAAAAAAAAAAAAAAAAAAAAAAAAAAAAAAAAAAAAAAAAAAAAAAAAAAAAAAAAAAAAAAAAAAAAAAAAAAAAAAAAAAAAAAAAAAAAAAAAAAAAAAAAAAAAAAAAAAAAAAAAAAAAAAAAAAAAAAAAAAAAAAAAAAAAAAAAAAAAAAAAAAAAAAAAAAAAAAAAAAAAAAAAAAAAAAAAAAAAAAAAAAAAAAAAAAAAAAAAAAAAAAAAAAAAAAAAAAAAAAAAAAAAAAAAAAAAAAAAAAAAAAAAAAAAAAAAAAAAAAAAAAAAAAAAAAAAAAAAAAAAAAAAAAAAAAAAAAAAAAAAAAAAAAAAAAAAAAAAAAAAAAAAAAAAAAAAAAAAAAAAAAAAAAAAAAAAAAAAAAAAAAAAAAAAAAAAAAAAAAAAAAAAAAAAAAAAAAAAAAAAAAAAAAAAAAAAAAAAAAAAAAAAAAAAAAAAAAAAAAAAAAAAAAAAAAAAAAAAAAAAAAAAAAAAAAAAAAAAAAAAAAAAAAAAAAAAAAAAAAAAAAAAAAAAAAAAAAAAAAAAAAAAAAAAAAAAAAAAAAAAAAAAAAAAAAAAAAAAAAAAAAAAAAAAAAAAAAAAAAAAAAAAAAAAAAAAAAAAAAAAAAAAAAAAAAAAAAAAAAAAAAAAAAAAAAAAAAAAAAAAAAAAAAAAAAAAAAAAAAAAAAAAAAAAAAAAAAAAAAAAAAAAAAAAAAAAAAAAAAAAAAAAAAAAAAAAAAAAAAAAAAAAAAAAAAAAAAAAAAAAAAAAAAAAAAAAAAAAAAAAAAAAAAAAAAAAAAAAAAAAAAAAAAAAAAAAAAAAAAAAAAAAAAAAAAAAAAAAAAAAAAAAAAAAAAAAAAAAAAAAAAAAAAAAAAAAAAAAAAAAAAAAAAAAAAAAAAAAAAAAAAAAAAAAAAAAAAAAAAAAAAAAAAAAAAAAAAAAAAAAAAAAAAAAAAAAAAAAAAAAAAAAAAAAAAAAAAAAAAAAAAAAAAAAAAAAAAAAAAAAAAAAAAAAAAAAAAAAAAAAAAAAAAAAAAAAAAAAAAAAAAAAAAAAAAAAAAAAAAAAAAAAAAAAAAAAAAAAAAAAAAAAAAAAAAAAAAAAAAAAAAAAAAAAAAAAAAAAAAAAAAAAAAAAAAAAAAAAAAAAAAAAAAAAAAAAAAAAAAAAAAAAAAAAAAAAAAAAAAAAAAAAAAAAAAAAAAAAAAAAAAAAAAAAAAAAAAAAAAAAAAAAAAAAAAAAAAAAAAAAAAAAAAAAAAAAAAAAAAAAAAAAAAAAAAAAAAAAAAAAAAAAAAAAAAAAAAAAAAAAAAAAAAAAAAAAAAAAAAAAAAAAAAAAAAAAAAAAAAAAAAAAAAAAAAAAAAAAAAAAAAAAAAAAAAAAAAAAAAAAABAAAAAQD\/\/wEAAAABAAAA\/f8EAPj\/QQBoAFIAYgBiAGgAawB3AGkAZgBzAHQAdgBvAHgAdwB0AHYAfgCDAHkAhQCRAIgAjwCVAJMAmQCbAKcAsgCdAJ0AtACkAKgAvQCrAKoAuQC0ALMAsAC1ALkArwC7AK4AswC6AKkAwQC+AK4AsAC0ALsAwACyAKgAzQC6AK8AxQC9AMcAuQC8ALoAuADIAK4AsgC+ALEApgCsALYArQCcAKEAvQChAJQAswCoAJoApACpAJgAnAChAJYAkwCWAJIAhwCMAIoAewB3AHoAbwBqAGkAbgBpAGIAXgBgAFsATQBYAEoAUwBJADMAOAA4ADwAMAAnACUAJwATAAoAGwAOAAgAAwAAAAEA\/v8GAPL\/5P\/g\/+v\/5f\/Q\/9r\/1f\/T\/8P\/uP+0\/67\/nf+X\/53\/h\/9\/\/27\/ef+F\/2z\/Yf9m\/2P\/Xf9b\/0b\/Rf9T\/0v\/Nf87\/0f\/O\/80\/zL\/Mv8v\/yn\/JP8l\/yv\/Hf8q\/zD\/Af8V\/y3\/Ef8L\/xX\/Gf8Q\/wj\/E\/8Q\/wr\/Ff8M\/wv\/Df8F\/wr\/EP8H\/\/7+\/\/4K\/wP\/7\/7+\/hf\/BP\/3\/h3\/Mv8a\/xf\/Lf84\/0D\/Nf9O\/2X\/Rv9L\/1v\/av9a\/1X\/ev9x\/3D\/cP99\/4\/\/ff+b\/6H\/jP+w\/7j\/pv+p\/8H\/xv\/G\/7T\/1P8EAMX\/1P\/\/\/wIA9\/\/p\/xIADQAMAPj\/BgA0ADQAOQAzAEsAMgBDAEYAMgBSAFcAcwBKAFYAkwBaAEYAdgCSAI0AZwBwAHkAjQCGAHAAeQCAAKMAlACUAIoAfgCNAJsAlgCbALMAmACSALMAxgCyAL0AtACMAJ8AvwDCAKMAqQDVANcAoQCVALgAywC7AIQAuQDoAK8ArADKAMsAtQClAM8ADAELAdYAuQC5AMkAwACtAJkAkQCqAKgAtADKAPIA5wC9ANgA6ADPALcAxgC7AKYArQC\/AM4ArQCwAM8AwQCtALUAuQC+ALwAogCxALwAlgCVAMcArACOAJEAmACfAJQAnAB5AG4AhACDAGsAaABrAGwAWQBZAH4ASwBLAFwAPABBAD8AQAAzADgAOAAhADkALgAZAC8AJgAPAP7\/CwATAOz\/7f8AAPn\/+f\/Z\/8n\/1P\/F\/8P\/v\/+7\/6z\/nP+V\/5f\/nv+d\/5X\/i\/98\/2j\/cf92\/2n\/aP9Y\/2X\/cf9b\/1P\/VP9W\/z3\/QP9Z\/1b\/Pv84\/0j\/Qf87\/0D\/PP8w\/zf\/Pv8s\/xv\/MP8q\/wv\/G\/8s\/yj\/Lf8q\/x\/\/Lf8k\/xP\/Lv8r\/xz\/Hv8X\/xn\/If8m\/yD\/Kf8x\/zH\/O\/86\/0b\/X\/9R\/1T\/c\/9p\/3H\/ff+D\/4P\/jv+X\/4T\/oP+f\/5D\/r\/\/A\/7P\/uP\/R\/8z\/yf\/B\/8n\/5P\/i\/+X\/6f\/3\/\/n\/+v8FAAkAFwAYABoAJQAhACQAQABFADQASABMAEMAYABnAFgAVgBjAGkAYQB0AHkAeQCLAIUAeACDAJEAggB7AJgAjABuAIMAjwCDAIQAlgCUAI0AnACWAIoAowCsAJsAoACnALsAvACnAKgAvQC\/AK8AvgDGAMUAvgDAALkAxADWAMQAvQDFANgAzADNAMYAzgDJALUAygDBAMYAwgDEAM0A1wDTALgA1gDWAM0A3QDNAMUAxwDTANEAzADKANIA3ADQANYAyADMAMoAvwDAAMIA1wDGALUAwADHAMMAqwC2AM4AtgCwALgAvQCsAKMAsACgAJ0AogCgAJ4AiACMAJ0AhwB+AH8AeQB6AHUAZABpAGgAXABnAFYAUwBXAEgAQABGAEAAMwBBADgAMwAxACAAGgAdABQA\/f\/2\/\/\/\/AwDo\/+D\/6\/\/S\/8X\/wv\/R\/77\/ov+m\/6n\/pP+J\/4b\/ev9\/\/33\/bP9s\/2b\/X\/9R\/03\/Qf9G\/0X\/M\/86\/zL\/I\/8y\/zP\/Iv8h\/yr\/JP8Q\/w3\/Gv8i\/xP\/Ef8H\/wP\/Ff8O\/wT\/\/P4L\/wr\/+\/71\/vr+A\/\/3\/vn+Av\/+\/vb+Bv8E\/\/X+\/P74\/uv+7v7\/\/un+8v4P\/wD\/Bf8b\/xj\/Hf8p\/yH\/Nv9I\/z\/\/Qv9Q\/2D\/V\/9b\/3T\/ev93\/3r\/h\/+P\/5b\/kv+g\/7T\/pP+i\/7T\/wf\/E\/87\/1f\/c\/9\/\/2\/\/n\/+3\/8\/\/9\/\/3\/BQAQABIAGwAkACgAJQA1AEIALQAzAE8ASABQAGAAUABWAF0AaQB4AG0AbQBwAHwAgQB1AHYAeACBAIwAjwCHAIsAiAB8AIwAkACHAJUAlwCRAKAAqQCpAKQAqQC6ALMArgC9AMIAxgDCAMIA0wDIAM4A1QDHANAA0QDRANIA0wDTANEA2wDYAMsA2ADnAOcA4QDUAOAA4QDXANIA2ADeANoA4QDaAN4A3QDPANoA6ADiANsA2wDbAOYA3ADUAN4A2QDbANoA2QDaANoA3QDPAM4A2wDWANEA0wDPANEA1QDMAMUAxgDTAMAAtADCALoAsACsAK4AqQCrAKkAoACkAJUAgACSAJAAgwCCAH8AeQByAHgAawBkAGQAYABYAFEAUABOAFQARwBDAEkARAAtACgALAAXABgAFwAFAAUA9\/\/o\/\/P\/5P\/g\/9T\/xf\/N\/8T\/uf+p\/6T\/qP+e\/5T\/jf+K\/4D\/cv9w\/3H\/cf9s\/2H\/XP9b\/1v\/Sv9M\/1T\/Qf9D\/0z\/Qv9G\/0P\/Pv9N\/0T\/NP83\/0H\/N\/84\/0D\/NP8x\/z7\/NP8w\/zb\/Lf8r\/yz\/MP8o\/y\/\/JP8p\/y\/\/Hv8g\/yP\/If8Z\/yf\/L\/8q\/x\/\/Lv9H\/0H\/Rf9R\/1D\/Wf9n\/2P\/bP95\/3z\/gP+T\/5X\/kv+Z\/5z\/pv+1\/7j\/rf+z\/7n\/xf\/F\/8D\/z\/\/W\/9T\/3f\/v\/+3\/6v\/8\/wAA+f8IABEACAAQACcAJAAgADMAQwA9AEEAUgBLAFIAXwBWAFYAXwBgAG0AdgB3AH0AggB\/AH8AgACHAIwAewB\/AI0AiwCIAI0AmACRAIgAlACdAJwAlgChAJwAnACwAKsArACzALYAtAC2ALsAuwC1AL4AygDEAMIAwADBAMYA0QDIAL4AxgDPAMUAwADNAMcAvQC\/AMAAwADHAMEAxgDDAMoAzgDEANIAxADCAMEAyQDSAMQAzADNAMYAxADEAMgAxAC+AL0AvAC5ALoAuACyALUAuwC3AKwApwCoAKcAowCiAJ8AoQCdAJcAlwCXAJYAlQCVAIgAhACOAH8AdwBzAHsAgQBoAGUAagBeAFQAWgBYAFAATQBLAEMAOwA5ADYAMwAwAC0AIAAiACEAEwATAB0AFgADAAYACAD9\/\/r\/9P\/f\/+H\/2\/\/T\/8\/\/xP\/B\/7T\/sP+j\/6H\/lv+I\/4f\/fP+C\/3P\/bP9q\/2L\/X\/9R\/1X\/Tv9I\/0r\/Rv9D\/zb\/Nf83\/zH\/Lv8m\/zD\/M\/8s\/yr\/Jv8u\/yH\/Iv8s\/yn\/Jf8d\/x3\/Gf8Z\/xj\/Hf8X\/xT\/EP8S\/xH\/Bv8R\/w\/\/C\/8E\/w3\/C\/8C\/wT\/Av8B\/\/\/+Bv8D\/w\/\/Hv8k\/yn\/MP86\/z3\/O\/85\/0f\/Uv9S\/2H\/Yv9q\/3L\/bv93\/3r\/fP+A\/4v\/jv+P\/5n\/pf+n\/6n\/tv+4\/7b\/wf\/P\/9H\/0f\/a\/+f\/5v\/m\/\/b\/+f8CAAMACgAYABEAGAAeAC0ALgApAC8ANAA7ADYAQABHAEgAUgBVAFgAZABpAGEAbQByAGwAcQBzAG8AbwB1AHcAeAByAHUAfAB\/AH4AhACKAIkAiwCPAJUAmACbAJkAqgCmAKMAtACsALEAtAC3ALQAsAC1ALYAvgC1ALkAugC5AMEAxwDEALoAwwDFAMIAxQC+AL0AxAC9AMYAwwDBAMoAwADFAMYAvgDAAL8AwADDAMMAxwDBALoAvwC5ALwAugCzALEAsQCsAKgAswCtAK4ApwCbAKUAowCXAJcAnQCXAI8AjACRAI4AhwCGAH4AfwCBAHwAcwB0AHQAZwBgAF0AYABZAFMASgBOAFEAPgA8ADkAMAAqACwAMgAnAB8AHgAcABgAFQARAAwADAACAP7\/+\/\/0\/\/n\/8\/\/m\/+f\/3v\/X\/8r\/yP\/E\/6\/\/qP+f\/5z\/lP+N\/4f\/ev95\/3b\/af9k\/2r\/XP9R\/1f\/TP9Q\/0v\/Of8+\/z7\/OP8x\/y7\/Kf8p\/zH\/Jv8i\/yr\/If8b\/xn\/Iv8f\/xT\/Gf8c\/x3\/Fv8T\/w\/\/EP8V\/xD\/Bf8J\/wn\/Av8G\/wH\/\/\/78\/v\/+Af\/z\/v3++\/7z\/vv+Av8E\/wb\/Fv8d\/x\/\/Jf8t\/zH\/OP88\/0H\/Rv9L\/03\/U\/9d\/1j\/X\/9j\/2n\/cf91\/3T\/ev+E\/4D\/jP+S\/5T\/m\/+a\/6b\/s\/+x\/7f\/v\/\/J\/8z\/0v\/e\/+L\/8f\/1\/\/X\/+\/8CAA0ADQATACIAJAAgACsANAA3AEUAQQBBAEwATABRAFkAYABeAGQAbgBtAHIAeAB2AHQAdwB8AHgAegCBAHsAewCCAI4AjgCJAJQAmACaAJ4ApQCpAKsAqQCpALcAtACzAMEAvQC5AL0AvAC9AL0AvwC8AL4AwgDAAL8AwgDDAMQAwwDBAMcAxQDHAM0AzADJAMYAyADIAMYAyADJAMoAyQDFAMQAxwDMAM0AzgDIAMEAvgC6AL0AugC3ALMAsQCzAKsArQCwAKoApgCkAJ4AnQCYAJoAmQCUAJIAiACOAIQAggCBAHgAdwB4AHEAbQBuAF4AWwBWAFUAUgBIAEEAOgA\/ADIALAAwACYAIQAbABEAEgASAAwADQACAPv\/\/\/\/9\/\/n\/8\/\/1\/+z\/6f\/m\/9v\/2\/\/Z\/9T\/y\/\/D\/73\/uP+p\/6H\/m\/+W\/47\/h\/+F\/3b\/d\/9t\/2j\/Zv9g\/1v\/T\/9P\/03\/Rv9D\/0X\/Pf83\/y3\/K\/81\/zD\/Kv8n\/yr\/K\/8o\/x\/\/Hv8c\/xf\/HP8Z\/xj\/Fv8W\/xn\/D\/8O\/xP\/Ev8P\/w7\/Ef8P\/wv\/C\/8N\/wb\/CP8K\/wH\/Av8O\/wz\/Af8D\/wz\/Df8M\/xf\/H\/8k\/yT\/Jv85\/z7\/O\/9D\/0r\/Tv9U\/1f\/XP9m\/2T\/av9x\/3T\/e\/99\/4T\/hP+H\/5P\/k\/+U\/6H\/rf+n\/6j\/tf+3\/8H\/xP\/J\/9b\/1f\/f\/+j\/7P\/t\/\/f\/+v\/7\/wIACQANAAgAFQAfAB0AHwAlADAALgAzADgANwBEAEMAQgBMAE4ATABTAFsAYABjAGQAZQBnAG0AbwBtAHAAegB6AH0AfgB\/AIkAkACSAJUAnQCcAJ0AoACgAKUAqgCtAKoApwCnAKsAsgC3ALIAtQC2ALAAtwC3ALIAsgCyAK8AsQC3ALQAuQC7ALsAvgC9ALsAvgC7ALUAuwC5ALoAxgDFAL8AvwDBAMEAvQCzALYAuQCuAK8AqQCqAKwAogCmAKYAnACYAKMAnwCTAJMAkQCLAIkAhwCDAIcAegB1AHwAeQBuAG4AbQBkAGUAYABeAFUATQBOAE0AQgA5ADsANQAvACgAJwAoAB8AGgAXAA4ACwAKAAEAAgAAAPf\/+f\/5\/\/H\/6v\/r\/+v\/4\/\/W\/9P\/1f\/I\/8f\/yv\/E\/7z\/sv+r\/6P\/mf+O\/4X\/ff93\/3D\/bP9l\/1v\/XP9T\/0v\/S\/9I\/0L\/O\/82\/zb\/NP8v\/yz\/Kf8l\/yH\/Hv8c\/xn\/Dv8T\/xj\/DP8N\/wj\/B\/8I\/wT\/B\/8D\/wb\/Af\/8\/v7++v74\/vX++v72\/vL+9f7s\/uz+8f7r\/ur+6f7n\/uf+6v7u\/u3++P76\/vr+CP8M\/xP\/Fv8R\/xz\/JP8j\/yz\/L\/8v\/z3\/Pf89\/0f\/Tf9O\/1T\/Xv9b\/2L\/b\/9s\/2\/\/df9+\/4T\/hf+N\/4\/\/lf+b\/57\/pv+u\/7T\/vP\/B\/7\/\/zP\/R\/9L\/3f\/n\/+r\/7\/\/4\/\/b\/\/v8FAAQACgANABUAHgAfACQAMAAuACwANwA\/AD4APgBKAFAAVQBaAFcAWgBfAF8AWwBkAG0AaQBrAHIAewB8AHoAfwCFAIUAhgCNAIgAiACRAJMAkgCVAJQAkgCXAJ0AmACUAJgAnACeAJgAlgCbAJsAlQCWAJwAmQCdAJwAoACgAJ0AowChAKAApQCnAKYAogClAK4ApACgAJ4AowCnAJ4AowCjAKAAmACWAJsAlgCPAJEAkACJAIgAhAB\/AH0AfQB4AHIAcQBsAGYAagBmAF8AXwBfAFYAUQBSAEwASQBHAEAAPgA8ADYANAArACUAIwAYABgAFAAKAAkABwAEAPv\/9f\/z\/+3\/7f\/q\/+P\/4v\/p\/+j\/3\/\/X\/9r\/2P\/L\/8j\/x\/\/E\/8b\/wP+x\/7L\/qf+Z\/5f\/jv+D\/33\/dv9w\/3D\/af9g\/1v\/U\/9P\/0f\/Qf86\/zf\/N\/8r\/yj\/KP8k\/yD\/Gv8X\/xH\/EP8P\/wz\/EP8I\/wH\/B\/8K\/wP\/Bf8F\/\/3+AP\/\/\/vn+9\/7x\/vP+9v7v\/u3+6v7p\/u\/+7f7l\/uL+5\/7n\/uP+4f7j\/t\/+4P7l\/uL+4\/7l\/ub+6f7z\/vz++f7+\/gb\/DP8T\/xT\/Hf8m\/yj\/L\/8x\/zj\/OP88\/0P\/Rf9I\/0v\/T\/9T\/13\/Yf9k\/2n\/b\/94\/3n\/fP+B\/4r\/jv+W\/5j\/nv+r\/6z\/sv+3\/7\/\/x\/\/H\/8v\/z\/\/X\/9\/\/4P\/k\/+3\/8P\/u\/\/L\/+f\/8\/wMABwANABcAFgAeACgALAAwADIANgA5ADIAOQA\/ADoAPwBCAEUAQQBAAEcASwBOAFEAVwBZAFsAYQBjAGMAZgBrAG0AbgByAHUAcwB0AHoAeQB2AH8AgAB7AIUAfwB6AIMAfgCAAIUAgwCCAIIAiACHAIcAhgCKAJIAjgCKAI0AjgCRAJEAkQCNAIoAjQCLAJEAlQCOAIwAkACQAIwAjgCTAI4AiACHAIcAhACDAIIAeQB1AHMAdQBzAG0AbQBnAGIAXgBfAFcAVQBVAEsATABJAEcAQAA8ADsANgA1ADEAKwAiAB4AHAAWAA4ACgAMAAsACAAAAP7\/+\/\/w\/+7\/7P\/p\/+f\/5P\/f\/9z\/2\/\/T\/83\/z\/\/H\/73\/v\/+3\/6z\/p\/+g\/5b\/kP+Q\/4L\/eP93\/2r\/Yv9i\/1X\/Tf9J\/0H\/Pv85\/zT\/Lv8l\/xz\/GP8W\/xH\/Ef8O\/wX\/Bf8E\/wD\/Av8F\/wH\/Af8C\/\/z+\/\/74\/vT++P70\/vD+7v7t\/uj+5P7l\/uH+3v7g\/tv+2\/7e\/tn+1\/7c\/tr+1P7V\/tj+2v7Z\/tX+0\/7W\/tb+1v7Z\/t\/+5\/7t\/vX+9v4A\/wf\/B\/8V\/xn\/Hf8g\/yr\/M\/8x\/zn\/Qf9K\/1P\/V\/9Y\/2D\/Z\/9m\/23\/df95\/3v\/gv+J\/4n\/kP+Y\/57\/oP+n\/6\/\/rv+1\/8D\/zP\/N\/9b\/2v\/a\/+b\/6f\/z\/\/v\/\/\/8AAAUABwAKABQAGQAjACAAJQAwAC8ANAA9AEAAQgBHAEQAQgBHAEwASwBJAEwASwBOAFEAVgBZAFQAWgBmAGQAZgBvAG0AcwB5AHYAewB+AHsAfwCFAIcAhwCSAJAAjQCOAJIAkgCPAJIAkQCUAIwAigCQAJAAjgCPAJAAiwCOAI4AjACMAIoAiwCMAJEAjgCNAJMAiwCQAJIAigCOAI8AigCQAJYAjACQAJEAiQCJAIYAhACCAIEAeAB1AHYAcQBtAGsAbQBnAGMAYQBiAGIAWwBWAFMAVgBOAEgASwBBAD4AQAA9ADcANwAzACoALgAmACIAHQAYABcAEAAKAAgAAAD8\/\/v\/9P\/y\/\/X\/7\/\/m\/+X\/4v\/e\/9f\/1\/\/T\/87\/zP\/D\/73\/t\/+x\/6T\/nP+Z\/4v\/hv+C\/3X\/bP9t\/2L\/Vf9R\/1D\/Sf9A\/z3\/Nf8x\/yj\/If8d\/xn\/Ff8K\/wn\/B\/8C\/wP\/\/v77\/vv+8\/70\/vT+7v7q\/u\/+7v7l\/ub+7f7m\/uT+5P7a\/uH+3\/7Y\/tf+1f7U\/s3+1f7W\/tL+0\/7R\/tD+y\/7T\/tb+1v7P\/tD+1f7Q\/tP+0\/7Z\/uL+7\/7v\/vX+AP8B\/wX\/D\/8a\/xn\/Jf8q\/y7\/N\/84\/0L\/R\/9M\/1H\/WP9Y\/1\/\/bf9s\/2z\/dv96\/3\/\/jP+L\/5H\/nv+f\/6P\/rv+w\/7P\/u\/+\/\/8X\/zP\/X\/9\/\/3P\/m\/\/H\/7v\/y\/\/n\/\/f8CAAgAEAAUABkAHAAeACcAKwAzAD0AOwA8AD4AQQBGAEcARgBMAFEAVgBUAFAAWgBbAFgAYABkAGMAaQBrAG0AdQB4AHkAfAB\/AH8AfwCGAIkAiACLAI0AjQCNAI0AkQCYAJQAjwCYAJcAlQCYAJUAmACYAJoAmQCaAJ4AmACbAKAAnACbAJoAmQCgAJ8AoACkAKEApgClAKIApAClAKMApgCkAKEAoQCdAJsAnACaAJUAmACYAJMAjwCUAJQAiACOAI0AhACFAIcAfwB8AIEAeQB1AHQAbgBsAGsAZwBiAGMAWQBPAFEATgBIAEMAQQA7ADYALwAoACsAKAAfABcAFgAUABAABgD\/\/wIA\/\/\/8\/\/T\/7v\/v\/+7\/6P\/d\/9T\/0f\/J\/8D\/uv+1\/7T\/qf+d\/5b\/kP+I\/3v\/cv9o\/2H\/Wv9W\/1H\/Sf9H\/0D\/PP81\/y7\/Kf8m\/yH\/Hf8c\/xX\/Ef8L\/wz\/CP8D\/wP\/\/\/7+\/vv++\/77\/vP+7P7w\/u\/+6P7p\/ur+5P7n\/un+4\/7l\/uX+3\/7g\/uD+2v7c\/tv+1f7Y\/t3+1f7R\/tT+1f7S\/tL+z\/7P\/tb+2v7e\/uP+7\/74\/v3+Af8L\/xL\/Gf8g\/yL\/K\/80\/zj\/Of9A\/0T\/Sv9V\/1X\/Wv9j\/2r\/b\/90\/3f\/ff+F\/4j\/kP+Y\/6H\/qP+t\/7P\/uv\/C\/8b\/zv\/Q\/9T\/2v\/h\/+v\/7\/\/4\/\/7\/+\/\/6\/wYADwAOABYAGgAdACIAKAAtADMAPQBAAEMARQBEAEYARwBIAE0AUQBOAEsAUwBUAE4AVABcAFcAVABeAGgAagBrAHQAeAB2AHwAgQCAAH8AgwCHAIsAjwCMAI0AlACXAJQAkgCYAJsAmwCcAKEAnQCgAKIAngCiAKMAnwChAKQAoACiAKMAnwChAKQAnQCcAKEAnACdAJsAmACcAJkAlQCcAJwAmQCYAJIAjwCRAJMAlACRAJAAlACPAJAAiwCIAIcAhQCFAIYAiQB+AHkAewB5AHUAdABuAGoAcABqAGMAXwBdAFkAVABWAFEARQBGAEUAPgA6ADQALQAsACwAJAAdAB0AGAASAA4ADAAIAAMAAAAAAPz\/+v\/3\/+r\/6\/\/k\/9b\/0v\/P\/8j\/wv+5\/7b\/sP+l\/6P\/m\/+S\/43\/hf93\/3P\/b\/9m\/17\/X\/9X\/0r\/Tf9E\/zz\/N\/8u\/yz\/Kv8m\/xz\/Hv8Z\/xX\/Ev8L\/xH\/C\/8E\/wf\/BP\/\/\/gT\/A\/8A\/\/r+9\/76\/vT+8\/71\/u\/+7f7y\/u7+5\/7v\/uz+6f7q\/uX+6f7p\/uX+4\/7l\/uX+3\/7c\/t3+5v7l\/t\/+4v7u\/v3+\/f4C\/w7\/D\/8S\/x7\/JP8o\/yn\/Mv8\/\/0D\/Rv9J\/0n\/UP9Z\/2P\/YP9k\/3P\/cf93\/4L\/hP+N\/5H\/jv+U\/5z\/o\/+u\/7P\/s\/+5\/8H\/yf\/M\/8v\/2P\/j\/+P\/6v\/0\/\/j\/9\/\/\/\/wMABwAMAA8AGgAYACEAJgAkACkAMQA9ADcAPQBBAEEARQBKAEcARQBTAFEAUQBXAFkAVgBYAFwAXwBlAGcAagBxAHMAdQB7AH0AfgCDAIsAjQCPAJMAmQCaAJ0AoQCZAJ8ApACfAKEApgCmAKIApQCpAKAAoQCnAKQApgCnAKMAowCqAKMApwCsAKQAqQCpAKYApwCoAKwArgCpAKkArACqAKsArgCmAKMApwCiAKAAnwCeAJ4AlwCYAJoAlQCTAJMAkACMAI4AjACHAIYAhAB\/AIAAfgB0AHUAdwBuAGcAZwBiAF0AXABUAFEATwBMAEUAPAA8ADgAMAAzADIAJwAjACAAHgAYABYAFAAKAAsABgD\/\/\/r\/\/P\/7\/\/T\/8P\/m\/+H\/2\/\/Z\/9L\/zf\/I\/77\/t\/+1\/67\/ov+Z\/5H\/j\/+F\/3v\/ev90\/27\/Zf9f\/2D\/Uf9E\/0r\/Qv80\/zf\/Of8v\/yf\/JP8i\/x7\/Hv8b\/xb\/G\/8T\/wv\/FP8U\/xP\/Df8E\/wv\/B\/\/\/\/gH\/\/\/7\/\/v\/++v76\/vn++P71\/vH+8\/70\/u3+7\/7w\/ur+7P7n\/ub+6P7k\/uT+5P7r\/vD+7P7w\/gL\/Bf8C\/xT\/H\/8c\/x7\/Lf8y\/zH\/N\/9A\/0n\/Rv9S\/1f\/V\/9j\/2T\/Zv9z\/3j\/c\/96\/4T\/hv+J\/5L\/l\/+a\/5\/\/pf+s\/7T\/t\/+7\/8D\/yv\/Q\/9X\/4P\/i\/+T\/6v\/x\/\/j\/+f\/\/\/wQACAARABgAFAAZACgAJQAqADQAOABAAEgASABJAFEAUABKAFAAUwBQAFEAVABYAFsAWgBdAGQAZABiAGgAcwB1AHYAdwB+AIEAfQB\/AIUAjQCMAIcAjwCVAI4AjACWAJcAlQCaAJsAmgCWAJcAnACfAJgAlwChAJsAmwCZAJoAnwCcAJsAmgCbAJoAnAClAKEAnAChAKcApQCmAKoAowCoAKoApACmAKIAqACiAJgAnwChAJYAlACYAJYAjACNAJMAigCEAIYAhQB8AHcAdQB2AHYAbQBtAGsAagBsAGMAXABbAFgAVwBWAE0ASgBNAD8ANgA7ADMAJgAqACMAIgAfABUAHQAUAAwACgAMAAcAAQAAAPX\/9\/\/1\/+f\/5P\/k\/93\/2P\/P\/8r\/xv+4\/7T\/rv+k\/53\/k\/+R\/4\/\/gv97\/3n\/cP9q\/1\/\/XP9c\/0\/\/SP88\/zn\/Nf8o\/yb\/Jv8e\/xb\/Gv8O\/wz\/E\/8H\/wT\/CP8D\/\/v++\/78\/vr+9v7z\/vH+8\/7v\/uv+7f7r\/uT+4\/7k\/uX+5f7c\/t7+2\/7Y\/uP+3v7V\/tb+1P7a\/tr+1f7X\/tf+1\/7T\/tr+5P7k\/vP+\/v73\/vz+B\/8G\/w7\/E\/8V\/xv\/Iv8o\/yX\/Kv84\/0D\/Qf9D\/0P\/Sf9V\/1X\/Wf9c\/2P\/cP9w\/3L\/e\/9+\/4X\/kP+U\/5j\/nv+o\/6f\/sf+6\/7v\/w\/\/B\/8X\/zv\/Z\/9v\/5P\/r\/\/H\/9\/\/8\/\/\/\/AAAIAAgADwAXABgAHAAhACcALwAzADUAMwAyADsAPAA7ADkAQABGAEYAQgBCAEkASwBRAFAAUwBcAF4AYABmAGcAaABoAG8AdwBuAHMAeAB6AHgAfgCGAIEAhgCGAIYAhQCGAIoAiQCEAIoAigCFAI0AjwCPAIsAjACMAIsAjwCOAIkAjACVAJgAlwCQAJMAlACTAJwAmgCXAJcAlACVAJEAkACKAIYAjgCHAIMAhwCIAIEAfwCDAHgAdgB2AHIAfAB1AG8AcABtAGoAZwBmAGIAXwBdAFoAVQBPAEoARgBDAEEANwAyAC0ALAAsACAAHgAYABUAFgASAAwABAAIAAUA\/v\/2\/\/v\/\/f\/4\/\/f\/6\/\/v\/+v\/4\/\/l\/9n\/1f\/R\/8n\/xf+7\/7j\/tf+s\/6H\/mf+R\/43\/i\/+A\/3n\/d\/9v\/2b\/Xf9b\/1j\/S\/9H\/0j\/Pv87\/zj\/L\/8w\/yz\/KP8n\/yP\/JP8d\/xn\/H\/8c\/xz\/F\/8S\/xD\/Cf8K\/wr\/CP8C\/wb\/Bf\/+\/gH\/\/P74\/vj+9P7x\/vT+9\/71\/vj+9P71\/vn+8\/75\/v7+9P74\/vr+\/P4C\/\/z+Bf8P\/xP\/Ff8i\/yr\/K\/80\/zb\/PP9D\/0r\/S\/9S\/1v\/XP9k\/2f\/bP9t\/3T\/fP97\/4D\/iP+O\/4z\/l\/+b\/5v\/pv+n\/6j\/t\/+9\/7v\/y\/\/M\/9P\/3P\/b\/9\/\/6f\/v\/+\/\/9P\/4\/wcABgAHABQAGAAdACEAKgArADEAOAA1ADwAQABAAEcATwBSAFAATwBVAFcAUgBaAFYAWQBeAFYAYgBiAGAAZwBoAGwAdgB6AHMAdgB\/AH4AfACCAIMAjACLAIgAkACMAI8AkwCSAJMAkwCVAJkAnQCXAJYAnACaAJ4AmwCbAJoAlgCbAJgAnACaAJYAnACbAJwAoACgAKEAnwCjAKYAowCqAKsAqAClAKYAqQCqAKgApACiAKAAngCbAJkAmACYAJkAkgCMAI0AjACOAIoAgQCDAIMAewB7AHoAdgBxAG4AawBnAGEAYgBcAFUAVQBWAFQARgBEAD4AOQA1ADAAMAAnACIAHwAaABcAFQAPAAwADAAIAAcAAAD8\/\/f\/8P\/4\/\/D\/5v\/p\/+L\/1v\/U\/87\/wf++\/7T\/qf+k\/5r\/k\/+K\/4L\/ef9r\/2n\/Yf9Z\/1b\/UP9M\/0D\/N\/85\/zH\/JP8h\/yL\/HP8a\/xr\/D\/8L\/w\/\/Cf8E\/wj\/CP\/\/\/gL\/BP\/8\/v\/+\/f78\/vv+9P70\/vX+9\/7u\/uz+7\/7m\/ub+7v7t\/uX+5\/7o\/uT+4v7m\/ub+5\/7m\/uD+4v7i\/uT+6P7s\/vX++f4A\/w7\/E\/8T\/xz\/IP8m\/yz\/Mf82\/zX\/QP9K\/0n\/T\/9T\/1T\/Y\/9k\/2X\/b\/9w\/3v\/e\/9+\/4f\/iP+O\/5H\/lv+b\/6T\/qP+o\/7D\/uP+5\/8P\/zv\/M\/9j\/3\/\/c\/+f\/8P\/1\/\/X\/+P8GAAcACQARABcAEgAZACkAIwAjAC4AMgA5AEEAQABBAEcAPwBHAEsARwBOAE0AUQBOAFMAXABXAFoAZQBmAGYAbQBzAHcAdQB4AH4AgACBAIQAhgCGAI8AlACRAJMAkACSAJcAlgCVAJMAlACWAJUAmQCYAJEAmQCYAJYAmQCVAJgAmQCRAJQAmgCZAJoAlwCgAKEAmwCeAKIAoAClAKIAowCoAKAAnACgAKAAmwCYAJgAlQCRAJMAjgCSAJEAiACDAIgAgwB9AIUAgAB9AHwAeQB1AHUAawBnAGcAXgBhAFoAVgBRAEoASgBDAEAAOwAyADEAKwAkAB4AHQAaABQAEgAKAAwACAADAAIA\/f\/y\/+\/\/9v\/p\/+f\/6\/\/k\/97\/4P\/Z\/9L\/zf\/E\/7\/\/u\/+9\/63\/ov+f\/5X\/i\/+G\/4P\/df9v\/2\/\/Yv9Z\/1v\/T\/9H\/0P\/OP80\/zT\/Kv8g\/yD\/F\/8W\/xT\/EP8S\/wv\/Cv8M\/wn\/Bf8C\/wH\/\/\/79\/vz++P72\/vr+9f7v\/vL+8\/7w\/uz+6v7x\/u\/+5f7r\/uj+5P7o\/uT+5f7n\/uP+5v7j\/t\/+5P7h\/t\/+4P7n\/vD+9f73\/v7+C\/8S\/xL\/Ff8i\/yX\/Kf8v\/zP\/QP9E\/0L\/Sv9R\/07\/Vv9i\/2P\/Y\/9m\/3L\/ev94\/37\/hf+I\/4z\/j\/+W\/6T\/rf+t\/7D\/vf\/F\/8n\/yv\/L\/9n\/3\/\/f\/+f\/8v\/2\/\/L\/9P8EAAQAAAAHAAwAEgAXABsAHgAnACUAKQA3AEEAQgA+AEkATABJAEoATgBPAFEAUgBRAFEAVgBcAFoAYABmAGsAbwBxAHYAfACGAIIAfQCOAJEAiwCTAJUAmQCWAJUAmQCZAJcAkwCYAKAAmACUAJ0AogCeAJsAnAChAKYAnQCdAKIAoAChAJ8ApgCqAKYApgCnAKwArgCqAK8AsgCzAK8ArACzALEApwCmAKsAqgCjAKEAoQCgAJoAlACWAJoAlQCQAI4AigCIAIoAhQCEAIUAfgB4AH4AfQBwAHEAbQBoAGcAZABfAFgAWABUAEwARwBFAD8AOAA2ADIALwAlACEAHwAdABYADAALAAcAAQD9\/\/z\/+v\/3\/\/H\/7P\/n\/+L\/4\/\/h\/9j\/yv\/H\/8X\/t\/+1\/7H\/qP+c\/5D\/i\/+C\/3v\/c\/9p\/2n\/Z\/9Z\/1L\/Uf9J\/z\/\/P\/9D\/zT\/LP8x\/yv\/Jv8e\/x\/\/Hv8U\/xb\/Ev8T\/w\/\/Bf8H\/wf\/Bf8A\/\/\/+A\/8B\/wH\/+\/78\/v3+9v73\/vL+9v7y\/vH+9f7r\/vP+8v7q\/u7+7v7v\/u7+7v7t\/u7+7v7x\/vT+8v78\/gn\/Cf8P\/xr\/Gv8l\/yz\/K\/8x\/zz\/Rf9H\/0\/\/Vf9b\/17\/Yv9m\/2z\/d\/96\/3z\/hf+R\/5P\/lf+f\/6P\/qf+v\/6\/\/t\/\/D\/8b\/xv\/X\/9z\/1\/\/g\/+v\/9P\/w\/\/X\/\/v8AAAUADgAXABsAHAAkACgAKQAwADMAOwA9AEEASQBMAFIAWQBdAFsAXwBfAGMAYwBlAGgAZABtAGkAaABtAGsAbwB3AH4AgACBAIgAjwCMAI8AkwCVAJkAmgCjAKEApACrAKcAqACuAK4ArwCxALAAswCxAK8AsQCvALIAsgCqAK0AsgCwAKwAsgCzAK8AtACuAK4AuAC1ALMAugC2ALEAsgCzALQAtgC1ALEAtQCvAK0AsACtALAAqAClAKcApACfAKAAoACcAJIAkgCUAIoAiwCKAIoAhwCGAH8AgAB6AHIAegByAGoAagBvAGwAYQBZAF0AWQBPAE8ASwBEAD8AQAA+ADYALgArACkAKwAgABcAHAAYABEADQAMAAQA\/f\/9\/\/j\/7v\/x\/+7\/5P\/e\/9r\/1v\/L\/8P\/vP+4\/6\/\/of+c\/5T\/iv+N\/4n\/e\/9z\/3D\/bP9l\/1r\/U\/9U\/03\/Rv9F\/zz\/Of87\/zT\/Mv8t\/yj\/KP8l\/yL\/JP8f\/xf\/GP8d\/xn\/Ev8X\/xf\/D\/8U\/xP\/Df8L\/wj\/C\/8J\/wn\/A\/\/+\/gT\/\/\/77\/vf++P75\/vP++P72\/vH+9\/70\/vD+9P76\/vz+AP8J\/wz\/D\/8a\/x3\/I\/8q\/y7\/Nv85\/0T\/SP9O\/1n\/Xf9e\/2X\/bv9t\/3P\/fP+A\/4T\/iv+P\/5D\/lf+b\/6D\/pP+u\/7L\/sP++\/8L\/wf\/R\/9P\/1f\/h\/+T\/5v\/w\/\/n\/+P\/8\/wIABgAOABQAGgAcACQAKwAlADAAPAA5AD0ASgBNAE8AVgBZAF0AXwBjAGAAXgBmAGgAYgBiAGsAawBnAGwAdAB1AHYAdwB5AIgAjgCHAIwAkwCRAJcAogCcAJ0AogCpAKwAowCsAKwAqQCuAKsArwCvALAAtACyALAArQCtALIAsQCyALYAsQCqAK8ArgCtALMAsQCyALEArgCzALYArQCuALgAtACwALMAsgCwALMAqACpAKgAoQCjAKAAoACdAJ4AmACXAJcAkQCSAI4AigCLAIcAhACDAH0AgQB9AHQAcQB4AHQAagBmAGYAYgBaAF0AVwBOAE0ASABDAEUAQgA6ADEALwAqAB4AIgAcABQAEQAQAA8ABwADAAcABQABAPz\/8P\/y\/+z\/4\/\/d\/9T\/0f\/J\/7\/\/tf+1\/63\/pf+a\/5P\/kf+C\/4D\/dv9w\/3L\/Zv9l\/17\/T\/9N\/0v\/Pv87\/zn\/Nf8r\/yr\/Lf8h\/x\/\/If8h\/xz\/Gv8Y\/xX\/Ev8K\/wr\/D\/8I\/wD\/Bf8H\/wP\/AP8D\/wD\/+v76\/vf+9P7x\/vf+9f7v\/vT+8v7x\/u7+7v7v\/uv+8f7x\/u7+7\/70\/v3+\/f4D\/w3\/F\/8Y\/x3\/Kv8r\/yv\/Mv9B\/0D\/Rf9R\/1b\/WP9b\/2X\/aP9t\/3D\/eP9+\/3\/\/hf+J\/5H\/lv+b\/5\/\/pP+r\/7P\/tv+4\/8L\/y\/\/P\/87\/1v\/i\/+P\/5f\/s\/\/f\/+v8AAAoABgANABcAGgAeACIAJQAqADIANQA5AD4ARABNAE8ATgBSAFMAWQBeAFoAXwBjAF0AXgBlAGQAZgBoAGgAawBsAHEAcQB2AHkAgACEAIUAiwCHAIkAiwCSAJMAjwCUAJcAmACWAJ4AnACYAKUApQCfAJ0AogCmAJ0AnwCpAKQAngCqAKkApwCmAKoAswCoAKYAtQCyAKoAsgCxAK8ArQC1ALoAsgCyAK8AtQC6AK4AqgCsAKUAqACfAJ0AowCaAJkAmgCYAI8AjwCQAIkAiACGAIEAhgCAAHgAdwB4AHcAbQBrAGgAawBfAFcAXABTAFAASwBEAEMAPwA4ADcALwApACkAJAAcABgAFwAWABQACAAGAAkA\/f\/6\/\/r\/9f\/v\/+n\/6\/\/i\/93\/1v\/H\/8v\/xv+7\/7f\/rv+o\/6D\/lf+N\/4j\/gf98\/3P\/av9p\/2T\/Xf9X\/1D\/Sf9B\/zn\/Mv8v\/yz\/Kf8m\/yH\/HP8a\/xX\/D\/8Q\/xD\/Df8I\/wj\/Dv8G\/wL\/Bf\/\/\/gD\/AP\/+\/v\/+9v72\/vf+7v7v\/vD+7f7t\/uz+6\/7p\/uf+5f7o\/uX+5f7i\/uP+4v7f\/uT+3f7e\/uj+8P71\/vf+\/\/4I\/xH\/F\/8Z\/x\/\/KP8t\/zD\/Nv89\/0H\/Rf9Q\/1P\/U\/9Z\/2D\/aP9p\/3D\/df96\/4T\/h\/+I\/5L\/mP+Y\/5\/\/p\/+t\/6\/\/u\/\/C\/8D\/zP\/W\/9f\/3P\/l\/+v\/8P\/4\/\/v\/AgAKAAcADgAWABcAHQAhACcAMQA0ADgASQBGAEgAVQBPAFMAVQBTAFYAWwBSAFkAYgBXAGEAZgBgAGMAcABwAHMAewB6AH4AiwCPAIUAhwCMAJIAlgCaAJoAnACeAJ8AogCiAKcAnACcAKoApAClAKkAqwCmAKkArgCrAK4AqQCwALMAqwCwALMAsQCxALIAsAC1ALIArwC5ALIAswC4ALUAtwC6ALYAtQC\/ALgAsQC3ALUArgCwALQAsgCpAKgApwClAKEAnQCdAJkAmgCXAI8AkQCOAIcAiQCLAIAAgACDAHwAgAB5AHAAcgBuAGgAZABfAFoAWQBTAE8ATgBIADwAOAA4ADEALAApACgAJgAhABYAGAAaAA0AEAAMAAAAAAD\/\/\/n\/8\/\/o\/+T\/4P\/U\/9H\/yf+8\/7f\/tf+o\/53\/nf+W\/4f\/iv+H\/3b\/dv9t\/2n\/av9i\/1n\/Wf9V\/07\/Tv9D\/0T\/Q\/86\/zz\/M\/8u\/zX\/Mf8t\/yz\/K\/8q\/yX\/Jf8l\/xv\/HP8Z\/xj\/Hf8Z\/xn\/F\/8U\/xP\/Ef8S\/xb\/Dv8P\/xT\/Cv8L\/xH\/Df8K\/w3\/Cf8J\/wv\/Dv8R\/xL\/Hv8q\/yv\/Mf88\/0D\/SP9P\/1P\/Wv9i\/2b\/Z\/9t\/3T\/d\/+D\/4n\/gP+M\/5b\/k\/+c\/6D\/pf+o\/7L\/t\/++\/8T\/xv\/M\/9D\/1f\/d\/97\/4v\/x\/\/D\/9\/\/7\/wEADAAKABIAHAAeACUAKgAyADoAOAA5AD0ASABNAE0AUQBUAFsAZQBqAHAAawBqAG8AcQByAHUAdgByAHkAfAB2AH0AhgB+AIQAjQCIAI0AlACUAJYAnACdAKcArACmAK0AsQCrAK0AtQCzALMAsgCwALkAtgCwALoAvQC\/ALMAsgC4ALkAvQC2AL4AuwC0ALoAvAC9ALcAvAC5ALUAuQC3ALgAuAC4ALMAugC8ALUAugC7AL0AuAC5ALoAswCxALMArgCrALMAqAChAKcAoACgAKEAnACTAJUAmACQAI0AjgCJAIYAiwCHAH4AfgB+AHcAeAB3AG8AbQBsAGwAXwBbAFwAUABSAEoAPgBAAD8AOQAuAC0ALgAkACUAIQAZABYAEQASAAoACQAFAPn\/+v\/7\/\/L\/6v\/h\/9z\/2P\/L\/8r\/vv+0\/6z\/pP+g\/5j\/kv+L\/47\/ff95\/3v\/bv9o\/2D\/YP9d\/1b\/T\/9Q\/0v\/SP9J\/0L\/P\/86\/zb\/M\/81\/zP\/K\/8r\/yj\/IP8h\/yf\/JP8Z\/xz\/Hv8X\/xb\/Gv8U\/xX\/Fv8M\/w7\/Ef8N\/wn\/Fv8N\/wL\/Dv8J\/wj\/B\/8I\/wj\/BP8C\/wn\/Ef8K\/w7\/Hv8n\/yv\/M\/82\/zf\/P\/8\/\/0X\/UP9Q\/1X\/Xv9l\/2b\/cf9z\/3H\/fP97\/4D\/i\/+T\/5T\/l\/+m\/6v\/qv+0\/7z\/uv\/B\/9D\/0f\/T\/93\/4f\/o\/+v\/8P\/4\/\/3\/\/\/8IABIAEQARABsAIgAeACMALAAuAC8ANgA3ADsASABNAE0AVgBdAFoAXgBiAGQAXwBmAGwAaQBsAG8AcQBvAHIAdQB2AHkAfwCFAIUAgwCPAJcAkQCTAJcAnQCaAJ8AnQCdAKYAngCoAKcAqQCyAKkArACvALIArwCzALYArgCwALAArwC0ALQArQCyALcAsQCwALQAtAC0ALUAuAC3ALEAswC2ALoAugC2ALoAvAC5ALQAtwC8ALIArACzAK4AqgCtAKQAowCmAKAAnACgAJwAigCVAJcAhgCJAIsAhgCBAIYAgAB1AHgAewB1AGsAbQBkAGUAaQBgAFcAVgBYAEwASwBNAEMAOAA9ADgAMQA0AC0AKQAmAB8AFwAiAB0AEQAOAAwAEQAHAAEAAgAAAPb\/7v\/r\/+T\/1\/\/Q\/9D\/y\/+9\/7H\/sP+m\/53\/m\/+V\/4j\/gf+F\/33\/dP9t\/2L\/Xf9Y\/1X\/Uf9I\/0f\/P\/86\/0D\/N\/8u\/zH\/Lv8r\/zH\/Lv8i\/yP\/I\/8a\/xj\/GP8X\/xj\/Ff8U\/xH\/Df8M\/xD\/Ff8Q\/w3\/Cv8G\/wb\/CP\/+\/gD\/Av\/8\/v3+\/\/7+\/v3+\/\/77\/v7+Av8H\/w\/\/G\/8j\/yP\/Kv80\/zL\/Mf9E\/0f\/Tf9U\/1X\/W\/9i\/2j\/Z\/9x\/3r\/fP+D\/4v\/i\/+N\/5f\/n\/+l\/6X\/rf+0\/7n\/v\/\/A\/87\/1\/\/V\/9v\/4v\/p\/+\/\/9f\/3\/\/3\/CQAKAAwAGQAZACAALgAuADcAQABAAEEAQgBRAFoAVgBZAGUAaQBsAG4AbwBwAGwAcABzAHUAeQB4AHkAeAB6AH8AgACEAIsAjwCSAJYAnQCcAJ4ApgCnAKgAqQCoAK8AtQCvAK0AugCzAK8AuwC7ALcAugDDAMQAxAC9ALwAxQDFAMUAwgDIAMMAvwDCALwAwgDEALsAuQC+AL0AvwC+AL4AwwDBAL8AwgDJAMMAvgDHAMoAwwC8ALwAwgC9ALsAtQCyALcArQCvALEAqwChAKAApgCdAJ0AnACWAJgAlACUAJcAiAB6AHoAegB4AH0AdwBzAHIAaABqAGgAYgBiAF0ARwBEAD8AKgAwAC0ALAAzAC8AMwAxACcAHwAZABkAFQATAA4ABAADAAUAAAD8\/\/f\/7P\/n\/+P\/2v\/U\/83\/wf+8\/7j\/rP+l\/6P\/nf+T\/4j\/hf+H\/4L\/c\/9v\/2z\/Yv9d\/1v\/Wf9P\/07\/Uf9M\/0n\/RP8+\/zr\/Qf8+\/zX\/OP8v\/y\/\/OP82\/zL\/LP8u\/y3\/Lv8s\/yX\/K\/8o\/yr\/L\/8p\/yb\/If8j\/xn\/GP8i\/x3\/Gf8Z\/x\/\/FP8X\/x\/\/GP8S\/xr\/H\/8i\/y3\/Mf87\/0X\/Sf9L\/1b\/V\/9e\/2n\/aP9u\/3P\/e\/+B\/4P\/i\/+W\/5j\/nv+g\/6b\/sv+3\/8H\/xP\/M\/8\/\/y\/\/X\/97\/3f\/p\/\/P\/9v\/8\/wMADQASABUAGQAdACMAKAAsADIANQA6AEIARQBIAFAAUgBWAFwAWwBoAGsAbQBxAHoAgQB9AIUAgwCJAIUAggCMAIoAjQCMAIgAfwCIAJcAkgCQAJsApQChAKQAqgCpAKsAqwCvALEAswC3AL0AvQC7AMEAxADCAMAAwQDGAMgAwgDIAM8AxgDIAMsAxQDFAM4AzgDKAMgAywDPAMwAzADSANIAyQDRANIAzQDUANcA0ADTANgA0ADMANYA2wDSANcA2ADOAM4AzQDFAMUAxgC8ALsAwQC7ALcAuAC1AK8ArQCsAKwAqQCnAKMAoQCjAJgAkgCWAJQAkQCQAJAAkQCIAIAAgQB7AHIAcABsAGQAZABfAFcAUwBSAFAATQBHAEMAQQA7ADoAMwAwADIALQAjACYAKAAZABUAFQAOAAAA\/f\/6\/\/H\/6v\/p\/+X\/1v\/L\/8L\/wf+x\/6j\/rP+g\/53\/lf+I\/4j\/i\/+A\/3j\/dv9w\/2v\/Y\/9i\/1z\/Vv9X\/1X\/Tv9K\/0\/\/Rv9A\/0b\/RP9D\/0D\/Qf9J\/0P\/N\/88\/zn\/LP84\/zj\/KP8t\/zH\/K\/8s\/yz\/Jf8l\/yr\/K\/8j\/yL\/If8k\/yb\/Hv8f\/yH\/JP8k\/yf\/Lv8z\/zj\/Pf9H\/0r\/T\/9W\/1n\/ZP9i\/2X\/cP9w\/3f\/f\/96\/4P\/hv+L\/5X\/lf+b\/6L\/pv+n\/63\/tP+z\/77\/x\/\/C\/87\/2P\/X\/9v\/5f\/v\/\/H\/7\/\/4\/wEABwAMAA0AFgAXAB4AKwAmACkAMwA4ADsAPAA\/AEEAQgBKAFIAVABYAGEAaABlAGcAbABvAG0AcQB4AHQAdAB8AHoAfACCAIIAhQCHAJEAkgCSAKAAmwCYAKEAowCkAKkAqQCsALYAtACwALgAvAC9ALUAugDDALwAwADCALwAvwDIAL4AvQDAAMAAxgDHAMMAwgDOAMYAwwDKAMUAyADNAMgAxQDKAM0AyADBAMoA1gDKAMMAygDJAMQAxAC+ALwAvgC5ALQAswCzALEArACoAK0AnwCdAJ8AkACYAJkAjACPAI8AggCCAIIAfwCAAHYAcgBzAG0AZwBiAF0AXQBVAEgASQBEADkAOQA8ADMAJQAnACYAHQAcAB0AFwAVABYADAAMAAcAAAAFAP\/\/+\/\/2\/+\/\/6v\/q\/+H\/1f\/U\/8\/\/zP\/A\/7b\/sv+l\/6D\/mf+R\/47\/hv+F\/3j\/av9v\/2b\/Xf9Z\/1P\/Sv9G\/07\/Rf8\/\/z7\/Nv8x\/zH\/KP8q\/y\/\/JP8s\/yz\/IP8d\/yL\/IP8a\/xz\/Gv8Y\/xv\/Fv8S\/xj\/Ev8Q\/xb\/D\/8F\/xT\/Ef8I\/wr\/C\/8S\/wX\/Cf8N\/wb\/B\/8I\/wr\/B\/8H\/xT\/Fv8V\/yT\/KP8u\/zH\/Nv9A\/0H\/Rv9R\/1b\/Vv9e\/2j\/bv9w\/3L\/eP9+\/3z\/if+U\/5b\/lf+h\/6j\/qf+w\/6\/\/uv++\/8L\/0P\/X\/9X\/3v\/n\/\/D\/7f\/x\/wMAAgAGAAsAEAAUABUAJAAsAC0ANgA4ADwARABFAEwASgBQAF8AYwBlAGcAaABvAHQAbwB0AHQAbwB4AHkAdACAAH0AdgCBAIIAhACKAIsAlQCZAJgAlQCZAKMApwCoAKcAqQCrAK0AsAC2ALUAswCzALEAtwC5ALUAswC9AL0AugC9ALoAvgC7ALwAwwDEAMMAwwC\/AMAAxADKAM0AxwDHAMUAyQDJAMIAygDHAMYAyADEAMgAxwDHAMoAvQC+AMQAvQC2ALcAuwC3AK8ArwCvAKoAqgCmAKoApAChAKMAogCbAJYAoACYAI4AiwCOAH4AhQCOAH0AfQB0AHIAcABpAGQAZgBiAFgAXQBaAFEATABNAEsARwBAADoAOAA1ADQAMgAyAC8AKQAnACIAIgAdABQAEAAGAAQA+\/\/5\/\/b\/5f\/h\/93\/1v\/H\/8D\/vv+v\/6b\/qf+m\/57\/nf+Z\/4T\/ff+B\/3v\/d\/9w\/23\/af9n\/13\/X\/9h\/1f\/WP9a\/1j\/T\/9P\/1f\/Tf9D\/0j\/Rv9L\/0T\/R\/9M\/zz\/P\/9C\/0T\/P\/85\/zn\/Rf9E\/zj\/Qv86\/zT\/PP8z\/zL\/Pv80\/zH\/Pv84\/zD\/Nf8+\/0D\/Sf9O\/1D\/Uf9b\/2P\/Yv9t\/3D\/cP93\/4L\/gf+H\/5b\/lP+a\/5v\/mP+k\/6P\/rP+v\/7L\/vv+6\/8P\/xf\/L\/9j\/1v\/c\/+L\/5P\/s\/\/L\/+f\/9\/\/7\/BgAVABEAEAAhAB0AJAAuAC4ALwA3AD4AOgBCAEYATQBQAFAAWwBgAGAAagBwAHMAdQBxAHwAfgCAAH8AfwCFAIUAgwB9AIsAiACEAIwAkQCOAJIAnQCdAKUAowCmAKcAqQCyAK0AsQC8ALgAtgDGAL0AuAC9ALwAvAC8AL4AuQC7AL4AugC8AMUAwgC\/AMAAvgDGAMYAwADFAMgAywDEAMQAzwDKAMIAxgDLAMoAxwDIAM0AygDJAMMAvQDEAMMAvQC9ALsAuAC2ALsAwAC5AKwArwCzAKwAqQCsAKQAnwCnAKcApACbAJ4AkwCRAJMAjgCTAIQAgACAAHkAdABwAG0AagBiAGIAZABTAFIAUQBLAE0ARgA\/AD0APAAtADQANAApACIAHwApABkADwAXABIACQAIAAMA\/P\/v\/+3\/5v\/Z\/9j\/0P\/A\/8H\/vP+r\/6n\/pv+a\/4z\/j\/+L\/4T\/ev9z\/3D\/Zv9i\/1f\/Wv9T\/0v\/Uf9M\/0D\/PP9G\/zb\/MP8\/\/zf\/Lv8y\/zD\/MP8m\/yX\/Kf8c\/x7\/Hv8f\/xf\/DP8X\/xb\/Df8R\/xb\/DP8K\/w3\/C\/8L\/wf\/BP8B\/\/3+B\/8I\/wH\/\/\/7+\/gP\/BP8O\/xH\/GP8e\/yT\/Mv84\/0L\/Ov9E\/1T\/Tf9R\/1r\/ZP9j\/2j\/d\/91\/3r\/fv+C\/4v\/kf+P\/5v\/n\/+Z\/6r\/sv+w\/7T\/wf+\/\/8X\/0\/\/Y\/9z\/4P\/t\/+7\/9\/8CAAAACAAMAAwAEwAdACAAGwAkADQAMgA2ADwAQgBGAEgAVABYAFgAYABrAGwAaQBuAHAAbABxAHUAeAB4AHcAdgB2AHsAegCHAIYAfwCPAI8AkwCeAJsAmQCnAKsApQCqAKoAsQCuAK0AtAC2ALEAtwC+ALMAuQC2ALIAvwC9ALoAuAC8AL8AuADEAMIAugDCAMYAwwDHAMkAvgDDAMoAzwDGAMIA0gDKAMsAzgDMANIAyADJAMgAygDEAL8AxwC7ALwAxQC6ALcAuQC4ALQAsACwAKsApQCkAKQAoQCiAJwAmwCVAJYAlwCIAIgAhQCAAIAAfABzAHYAcgBmAGkAZwBbAFYAVwBNAEsAUABFAEIAOgA0ADUALwAnACUAJgAgAB4AHAAfABcADwAUABQACgADAP7\/9f\/4\/+z\/4v\/j\/9P\/zv\/I\/77\/vf+z\/6z\/of+g\/5v\/j\/+Q\/4f\/hf92\/3L\/dv9m\/2H\/YP9f\/1v\/TP9M\/1H\/Sv9L\/0D\/Pf9A\/zr\/O\/87\/zr\/OP8y\/zH\/Nv8v\/yr\/Lf8o\/y\/\/Kv8j\/yH\/IP8m\/yD\/Hf8a\/xn\/HP8e\/xz\/EP8S\/xj\/E\/8O\/w3\/FP8V\/xH\/D\/8U\/xz\/Hv8u\/zb\/Nf8\/\/0T\/TP9T\/0z\/WP9k\/2T\/bP90\/3b\/e\/+G\/43\/jP+Q\/5j\/mv+i\/6v\/sP+z\/7z\/wP\/J\/83\/x\/\/a\/97\/2\/\/n\/\/H\/9P\/2\/wEACwAMABIAGQAbACYAKAAwADkAOwBDAEUARQBOAFIAWwBXAFkAaABeAGcAdgB8AH0AegCDAIAAfwCCAIoAiQCGAIwAhACJAI0AkQCSAJUAngCXAJsAowCpAK8AsACyALYAtAC9AMAAvQDFAMcAwgDIAMoAyADKAMUAzgDJAMQAxwDFAMsAywDPAMwAywDIAMQAzwDMAM0A0QDHAMoA0gDMAMkAzgDPANIA1gDPANEA0QDLAM4A0QDXAMsAygDOAMcAxgDDAMMAvwDAAL4AvwC6ALgAuQCwALIAqgCpAK0ApAClAKEAnQCfAJwAkQCQAJQAigB9AH0AfQB2AHAAaQBrAGgAYgBZAFQAWgBPAEcAQgBAADwAMgAyAC4AIwAiACYAIgAWABQAFQATAAwABwAIAP3\/\/\/\/0\/+X\/5\/\/d\/9D\/yP\/H\/73\/uf+q\/6P\/pf+X\/4z\/i\/+L\/4f\/gv91\/3P\/cv9i\/1T\/Vf9W\/0f\/Q\/9F\/zn\/Nv8\/\/zf\/LP8u\/zD\/L\/8j\/yL\/Jf8s\/yv\/HP8a\/x\/\/I\/8b\/xT\/Hf8g\/xH\/E\/8a\/xL\/E\/8S\/xL\/Df8N\/xD\/CP\/+\/gf\/Df\/8\/gL\/Bv8A\/wH\/Cv8H\/\/\/+Cv8U\/xL\/Df8d\/yv\/Kf80\/zP\/Lf9A\/0P\/Pv9P\/1\/\/WP9X\/23\/c\/91\/3H\/fP+J\/4H\/jv+T\/5H\/oP+i\/67\/tv+t\/63\/uf\/L\/8j\/yP\/T\/9n\/4P\/r\/\/H\/9f\/3\/wAACAAJAAwAEwAcABcAFwAiAC8ALAAyADsANQA9AE8AUwBIAFYAXABaAFwAZQBrAGIAZwBmAGkAbABnAG0AbgBzAHIAcAB\/AH0AeACGAIoAjgCVAJIAlwCZAJYAogCkAKAApQCmAKgArwCsAKoAqwChAK0AsACtAK0ArgC2AK0ArgCsALQAvACyALMAuwC1ALQAvwC7ALgAwADGAMIAwgDIAMEAxgDIAMUAxADGAMwAywDGAMEAzQDEALsAvQDAALoAtAC1AK8AswC0AKcAnQCtAKwAnwChAJoAkgCeAJ8AkQCZAJUAkQCJAIYAiAB+AH8AdgByAHQAbQBrAGUAYABZAFYAVQBIAEEASwBBADYAPAA7ADcANQAxACgAJAAeAB0AFAAWABAACQAXAAQA+\/\/9\/+7\/6f\/g\/93\/3P\/N\/8P\/uv+2\/63\/rv+k\/57\/lv+E\/4\/\/iP9z\/2v\/a\/9u\/17\/VP9b\/1D\/Uv9P\/0X\/Rv9F\/0X\/Of9F\/z\/\/Mv84\/zf\/Pf81\/yr\/LP8x\/yb\/Lf8o\/xz\/I\/8h\/yv\/Hv8d\/yH\/Hv8i\/xr\/G\/8Z\/xP\/F\/8e\/xP\/D\/8P\/xD\/Ef8T\/xT\/Cf8O\/xr\/Jv8k\/yz\/Nf8y\/0b\/Rf9F\/1D\/Uv9b\/13\/YP9j\/2v\/cf9z\/3j\/fv9+\/4n\/k\/+O\/5v\/nP+g\/6r\/r\/+2\/7D\/vv\/B\/7n\/x\/\/W\/9T\/zv\/j\/+r\/5f\/3\/\/b\/9f8DAAQAAgAPABoAGgAhACEAKAA1ADcAOgA4AEUASQBNAE8AVgBgAGAAawBxAG4AYwBrAHEAcwB5AG8AcwB7AH0AggB9AHgAfwCKAJEAjACTAJcAlQCiAKAAnwCmAKoArACqAK8AsAC0ALwAtQC4ALgAsQC1ALMAsgC6AL0AtwC3ALkAuwC\/AMAAvQC7AL8AvwC6AL4AwQC9AMEAwgDJAMgAuQC9AMgAxgDIAMsAwwDFAMQAzQDRAMMAxQDHAMsAxAC9ALoAvQC5ALUAvwC9ALIAqACrAKwAqQClAKIAmACgAJ0AkgCVAIwAigCEAIcAiQCAAH4AdwBxAHAAZABZAF0AWgBEAEwASQA7AD8AOAA8AC4ALgAtAB8AIgAaABgAFQAXAAkAAQAJAAcAAgAAAPr\/8\/\/z\/9\/\/2\/\/Y\/87\/0f\/C\/8T\/wv+w\/6T\/oP+e\/4\/\/if+A\/4L\/hP95\/3X\/Z\/9p\/2z\/W\/9e\/13\/TP9D\/03\/Qv85\/z7\/Mv88\/zv\/NP8z\/y7\/Mf8u\/yr\/LP8l\/yT\/J\/8h\/yP\/I\/8k\/yL\/I\/8k\/x7\/G\/8b\/x\/\/G\/8V\/xb\/HP8U\/xb\/Fv8X\/xX\/C\/8W\/xb\/E\/8X\/yD\/Kv8s\/zH\/N\/89\/0X\/SP9N\/1b\/V\/9Y\/2P\/a\/9r\/27\/dv9\/\/4n\/iP+R\/5P\/mP+h\/6r\/rv+w\/8H\/yP\/H\/8v\/2f\/U\/+D\/6\/\/t\/\/P\/7P\/7\/wEAAgAJABIAGwAeACYAKgA0ADEAMwA8AEQASwBMAFMAWQBbAGUAZwBqAG0AbwB8AIQAjgCNAI4AkwCdAJwAlACfAKUAoQCoAKsAogCrAKsArQC2ALYAvwDAAL4AxQDHAMQAxgDJAMYAzQDWANQA1ADYAN0A4wDeAN0A2gDcAOUA3QDhAOIA3gDgAOIA4gDWANgA3ADjAOAA2QDXANkA2gDWANUA1ADdAN4A3gDaANwA3gDYAOEA4gDeANYA3ADgANgA1ADVANgA0QDNAMsAzQDKAMkAxwDBAMUAwAC+ALYArgCwAK8AsAClAJ8AoQCiAKEAmgCTAJYAlACQAIwAfwCDAIUAfABxAG8AcABqAGMAWQBcAFsAUwBXAFAARQBJAEQAOwA4ADcANwAzAC4AKgAnACMAHAAVABgADAABAAIA\/\/\/6\/+3\/8P\/p\/9f\/1v\/M\/7z\/tv+7\/6\/\/p\/+m\/5r\/lP+P\/4v\/gP95\/3L\/bf9p\/2D\/Zf9j\/1r\/WP9T\/1L\/Uv9L\/0v\/Sf9A\/0P\/Qv8+\/z7\/P\/9A\/zz\/Ov80\/zD\/NP8v\/zD\/NP8r\/yn\/Kf8m\/yH\/H\/8i\/yL\/Hf8f\/x3\/F\/8h\/x7\/G\/8Y\/xr\/Hv8c\/yX\/Lf8y\/zX\/Pv9A\/0T\/Tv9P\/1X\/W\/9k\/2X\/Z\/9u\/2\/\/d\/+C\/4L\/fv+I\/5H\/kv+R\/5r\/pP+h\/6n\/s\/+1\/7b\/vf\/I\/8\/\/0P\/X\/93\/4f\/u\/\/T\/7v\/5\/wUADAAMAA4AFgAeAB4AIQAuADIAMAA2AEIARABJAEsATwBWAFkAYgBfAGkAdAB2AHcAewB1AHUAfgB2AH4AggCAAHoAfwCIAIcAkACQAJUAnACdAKEApAClAKUAsAC0ALUAtQCzALsAuwC4ALoAuQC8AMIAvQC8AMcAyQDFAMEAxADNAMMAxgDJAMQAzgDNANAAzQDJANAAzADOAM0A0wDTANQA1ADPANUA1QDTANAA0wDSAM8A0wDHAMcA0QDOAMYAvwC8AL0AuQC6ALoAsgCuALAAtACvAKkApgCjAJoAmQCfAJUAjwCLAIkAhgB+AIMAeQBzAHcAbQBuAG8AaABdAFsAVgBKAE4AUABFAD0AQAA9ADoAMwAkACUAKQAhABsAHQAbABUAGQAOAAkAAAD+\/wEA\/P\/u\/+j\/6\/\/Y\/9L\/0\/\/N\/8j\/wf+z\/6r\/pP+f\/5j\/i\/+O\/4X\/ef90\/2v\/YP9j\/2P\/V\/9I\/07\/S\/9D\/0X\/PP8\/\/zT\/MP84\/zP\/Lf8o\/yv\/Lf8p\/yP\/Kv8m\/yb\/J\/8d\/xv\/HP8g\/x3\/Gv8U\/w\/\/Ev8Q\/xH\/E\/8V\/xT\/G\/8Y\/xH\/G\/8a\/xn\/GP8V\/xv\/I\/8r\/y3\/Nv9I\/0P\/RP9Q\/0\/\/Vf9c\/2f\/av9k\/3H\/d\/99\/4X\/hf+P\/5b\/kf+W\/6X\/qP+s\/7j\/tf++\/83\/y\/\/U\/+D\/5f\/o\/\/D\/9f\/z\/\/3\/BgAIAA0AGQAjACUAJwAyADgAPgBFAEgAVgBUAFgAYQBjAGsAagB7AH8AgwCKAJAAlgCQAKAAqQCkAKMApgCgAKMAqACpAKsAqwCtALAAuwC8AMAAxQDOANIAzgDUANsA3QDgAOcA4gDmAPAA5gDsAPQA6QDyAPUA8ADyAPUA9wD9AAUB+wD4AP4A\/wD\/AAEBAgEBAQEB\/gD4APgA\/gD7APwA+gD3AAMB\/gABAe4AEQERAecA7AAnASsB9wAqAQ0BGwHUAF8BswB6AM4B2gDWAM0A9wASAaAA2ADGAPYAAQHOAMgA5QDIALgAxQDBAMYAwgCvAL0AvACvALAAowCkAJ8AlgCRAIoAhQCLAI8AgAB8AHIAWQBPAG8AdQBcAEQAUABZAFEAXgA9ADsARgAyABkAJwApABsALAALAAAABwAXABYAAgASAP7\/2v\/V\/8j\/w\/\/D\/77\/qP+X\/73\/w\/+5\/5f\/tf+G\/03\/rf92\/1b\/aP9c\/1b\/XP93\/2P\/Vf9H\/03\/Sv8+\/0D\/Mv8z\/0\/\/Tv8\/\/zn\/H\/8w\/0P\/Qf83\/x3\/Mv8n\/yn\/P\/8V\/x3\/Lf8W\/xb\/Jf8i\/wL\/A\/8W\/xT\/Cv8E\/xn\/Gf8N\/wf\/+v4g\/x3\/9f4t\/z7\/Gv8b\/yf\/SP9X\/0P\/Pf9R\/2T\/Xv9d\/2z\/Z\/9o\/3j\/iP+F\/4j\/k\/9\/\/4D\/q\/+f\/4z\/ov+n\/6r\/rv+5\/8n\/yv\/Q\/+L\/5v\/i\/+f\/9v\/2\/\/n\/+v\/4\/wwAFAAUABoAHwArACoAHgAlADAALQA9AEcASgBRAFYAWgBJAFcAVwBdAGsAbgCHAHYAbAB7AGUAagB+AGwAbwB5AHoAhwCDAI0AiACCAIsAhQCcAJoAmwCbAJwAowCpALIAkACZAKoAnwCnAKcAqwCqALEAsACUAJkArACmAKsAtAChAK8AswCfAKUAqwCtAKwAsgCoAKcAqwCqAK8AngClALEApwCqALUApgCVAKQAoACjAJ8AmACkAJQAnQCsAKEAjwCSAJgAhwCSAI4AjwCHAH0AkgCKAHoAewBwAHAAggB1AGQAWQBVAGAAZABkAFMASgBTAEYAOwA7ACYAMwBMADIAJQAoADkAMwAVABgAFwAMABIAEwAKAA0AHAAaAAoA9\/\/9\/wIA7P\/9\/+7\/1P\/f\/9j\/2P\/Q\/8P\/uv\/E\/6j\/l\/+e\/5n\/oP+B\/4D\/mP+W\/4D\/af94\/3b\/af9p\/07\/WP9o\/zT\/Qv9j\/z\/\/Sf9M\/zn\/Pv9J\/0H\/MP8+\/0T\/Nf8x\/z7\/Mf81\/0P\/Nv87\/z\/\/I\/81\/0P\/LP82\/y\/\/MP8x\/zP\/Kv8x\/zz\/Lf8y\/yb\/I\/82\/yz\/F\/8n\/0D\/S\/89\/0D\/Sv9U\/2f\/WP9N\/2H\/bf9t\/3\/\/i\/+D\/4v\/ov+j\/57\/l\/+P\/6D\/q\/+3\/7z\/vf\/D\/8r\/yP\/D\/97\/4P\/c\/\/H\/7v\/o\/\/P\/CAAJAAoAAAAJACMAGQApACIAKwBCADwAOABFAEoATQBdAE8AUgBbAGUAcQBzAHgAcwBxAIQAjACOAIwAkgCgAIgAlgChAJwAqQCmAK8AlwCZAK0AuAC6ALAAwACvALQAygDHAMoAzwDNAM0A0QDlAN4AwwDPAO4A6QDIAN0A8QDlAOAA5gDZANwA8QDkANsA3ADhAOYA2gDfAOUA1ADjAO8A3wDlAOkA1wDaAOsA8QDYAMwA5QDiANgA7ADqAOQA8QDoAOEA5ADiANUA0QDcAMIAwADDAMsA5wDMALwAtwC\/ALoAsQCsAKYAuwCrAJkAnQCpAKAAlQCPAJEAogCQAHgAgACNAH0AdABuAHkAagBaAGMAUABcAFEASwBZAE8ATgAnADIARwAtAC4AMQA3ACMAGgAdAB8AJgAaABkAEAADAPP\/8\/8BAPX\/7f\/f\/8X\/0P\/X\/8b\/u\/+y\/6v\/qP+Y\/5X\/n\/+P\/4D\/cv+I\/4z\/Zf9d\/2r\/aP9p\/2L\/U\/9a\/0\/\/VP9S\/0r\/Qv9M\/17\/Uf9I\/zr\/Lv80\/0f\/Uf8\/\/zH\/Pf8x\/x3\/Iv8u\/zf\/If8z\/0D\/KP8k\/xv\/L\/8z\/x7\/Lf8t\/x7\/K\/8l\/y3\/LP8f\/y3\/M\/87\/zz\/M\/88\/17\/Wf9W\/3H\/XP9c\/3f\/hf+E\/33\/hP+Z\/5z\/kf+X\/3\/\/kv+t\/6P\/rP+z\/6n\/s\/\/E\/8H\/1f\/L\/9T\/2P\/a\/\/X\/7v\/n\/\/j\/FwAOAA8AEQAOACcAIQAbABkAKQA9ADgAMAA4AE8ARgBOAGQAUgBcAHkAVQBfAI4AfAByAHMAigCDAHMAnQB+AGYAgwCQAIoAewB7AI4AmwCFAI0AoQCuAKIAkACiAK0AqgCqAKAAqgC9ALsAvgDFAL8AswDAAKQAsQDOAMEAugCyAMIAwQDFAMEAsgC4ALIAwADPAMIAvgCwAL0AzwDMALsAugC7AMYAxwC8AMoAxgDEAMsAzAC4AMMA1gDZAMMArQDNAM0ArgDCAMgAtACwALEAvAC6AKwApQDJALQAjwCiAJYAtACoAI8AoACLAIQAhwCbAIUAbQCLAJcAgwB0AHUAdgBsAFQAaABUAFAAXgBEAE8AQQBSAEsAJAAwAC0APAAuABcAOgAxABsAJgAkABoABQAOAA8AAgAKAPL\/8f\/o\/9v\/4f\/T\/97\/xf+x\/8\/\/xf+a\/5L\/k\/+c\/6n\/fv+D\/4H\/gf+L\/1z\/YP9w\/2X\/WP9c\/1L\/Sf8\/\/0L\/Wf80\/0n\/VP83\/0X\/O\/9D\/zX\/Pf88\/yf\/Ov80\/0D\/Of8m\/y\/\/IP8q\/yr\/F\/82\/yv\/Iv8o\/xz\/J\/8U\/xv\/L\/8U\/xH\/Jv8m\/yL\/Fv8T\/zP\/QP8w\/x\/\/SP9h\/0n\/Tf9K\/2v\/b\/9k\/33\/Z\/9y\/37\/hf+i\/4\/\/jf+Z\/5v\/ov+m\/7P\/vP+7\/7X\/yv\/V\/8j\/zv\/c\/9j\/7\/\/+\/9\/\/8f\/\/\/wIADwARABAAGwAtACoAHAArAEUAMQA0ADgAQgA\/AEQAbABPAF4AWQBRAHAAWgB9AHgAfQCVAHoAfgBxAHUAiACJAJAAlgCRAJAAhwCQAJIAnACdAHkArACxAKMApACkAMIAtAC8AK8AtQDFALwAyQDMAMsAzADWAMsAwgDYANcA1gDLAM4A5gDgAM4AxQDcAOAA0wDcAOAA4gDbANgA4QDRAN8A6gDeAOwA3wDmAPMA3gDZAOYA7wDsAOIA2QDiAN8A6ADmAOUA7QDUAM0A6gDyANMA2gDYAMsAxgDJANYAzADPAMQAxwC9ALQAwwCeAK0AvQClALQAowCeAKwAnACgAJMAggCNAJIAlAB0AHUAgQB8AG4AWwBsAGUAZQBYAFYAXQBQAEoAQQBUAFUAOQA5ADoAOgA6AC0AKgAmABYAFwAUAAAACwD9\/+T\/6\/\/Y\/+T\/x\/+9\/9b\/wv\/C\/63\/tf+3\/53\/mP+g\/5X\/lf+U\/4b\/kf+I\/2\/\/g\/+I\/2r\/dP9t\/2L\/a\/9w\/27\/Yv9h\/27\/Wv9X\/17\/X\/9r\/2D\/YP9V\/1b\/VP9J\/1z\/UP9L\/0z\/Tv9Q\/0b\/Sf9M\/0v\/Pv9P\/0v\/Qv86\/z3\/Q\/9R\/1v\/RP9Q\/2H\/e\/9c\/2b\/g\/9q\/3n\/gP+Q\/5H\/hv+a\/6z\/tP+d\/7X\/0f+9\/8r\/u\/\/P\/93\/1P\/q\/+3\/4\/\/U\/+n\/3\/\/w\/wIAAgAbAP7\/BQAkACMAFQArAEAANABAADMAYABUAEMAagBYAGMASwBlAHgAaAB\/AGkAiQCLAG8AggCQAKYAnQCdAKcAlQCTAKEApwC5AKkAogCnAJwAqwCsAKMAnQCvALkAxwDTAKkAvQDNALUAzwDaANkAywDXANoA0QDfANIA6gDMAMcA6ADNANAAxgDMANUA4QDTAMAAzADTAN4AwgDMANQA0wDKANYA0AC\/AN4A2wDJAL8A1gDYANgAzADOAM8AzQDgAMEAygDUAMoA1gDEAL0AzgDEAK4AswDWAK8AoAC\/ALwAqQCjAKgAmgCyAJYApwCdAIgAnwCMAJgAkgCFAHYAggB7AIkAdABmAHEAYQBqAFcAVABRAFwAVQA7AEIAUAA0ADAAOgAxAD8ANwAkACUAMAAZAB8ALQAaABkAJgAUAA0ACADz\/wMA\/\/\/v\/8n\/1P\/g\/7P\/xP+7\/7L\/p\/+S\/6b\/pf+L\/4z\/jv+M\/3\/\/cf+I\/3\/\/ff9d\/1T\/sf9M\/0L\/a\/9Z\/3n\/L\/9p\/z7\/ev8m\/4\/\/5P7g\/wf+qP4QA2j8yf76\/3b+egA9\/kf\/+f6o\/7X+0\/6M\/xj\/D\/8B\/0b\/5\/4z\/0D\/A\/8H\/yn\/+f4\/\/xT\/DP8l\/yf\/Kv8p\/1L\/Lf9M\/0f\/Nf9h\/0b\/Zf9P\/0b\/cf9c\/3H\/Z\/+V\/1n\/cP+G\/5T\/hv+e\/7v\/af\/p\/6T\/w\/+3\/+j\/iP\/N\/yAAlv8ZAKr\/EgDX\/\/j\/+\/8CAAsArf89APD\/MQAVAA8ALAAxAEMAHwBKAD8ARwAkAGoATwBCAJEAWQCMAHYAcQBxAHgAeQByAJAAYACbAE4AewCYAIQAfQBXAKYAdwCYAH8AmgCNAKYAkQCLAN0AewCtAKkAsgCsAKcA1QCqAMUAtADMAMEArwDTALQAygDBAL8AuwC2ANQAugCsAMsArQC3ANIAtwDHALkAwQDAAKQAvwC\/AMwAuwCoAMwAuADBAL4AsgCuAK8AyACOAJIApgCFAKwAhgCMAIsAUgCnAHgAZABrAFEAfwBXAFYARwBJAB0AQgAaAP7\/PACq\/7L\/7P9QAEf\/mf+M\/0L\/Vf7l\/8X+Pv4M\/h38q\/yX93oW7AcT4rz\/NgzvAsP34PgfBC4LEPiQ9+oPGPNy7H8gbuUL6HcZ1wS0AKHtFi3e6hDj8BoaE7gLUNjI5VH7E\/XDBhnjC93WNzwAjQls72epCAkPMvzQJq3ZUrBf5bCH1M8mFgSm5L7woxNy\/U\/XM7YBgOA3\/jQXmVXhJdiEVy24NNktYo2hG7A3oWqrVIpg5uzfKosvocSqG82OkAqdIZxNmqibQJY8nD2WWZywmJWfYpkXmkKYJZvkneSbvJu4mJWZppjom3aahJnMmR+du5mgmeqdkZe4myeZI55dma2eJplImxKYhpr8nfaXo6CWj\/USmQYqjd6e18ybw5ONDJ+clheaQJq5l9GaNJl9nFCY\/ZmbnDKgQZfbmsuahJmMnRiamZnTmT2ZfJn4mEmZIJnJmVKZIZk2mRyZOZkcmTaZIZlQmTqZHpk5mRaZQ5kImWqZ9ZkWmW2Zkpm6mdSZrZmqmT2ZTZkmmSuZLZkjmYyZ+pk6mleaWJpGmj6aNZo4mmmakJqcmpiafJplmkuaNZolmhmaCZr4meiZ3pndmeWZ8Zn9mQ2aIZo5mlWac5qVmr2a5poQmz6bbpufm9WbDpxJnIWcwJz+nD6dfZ26nfOdKJ5anoier57SnvGeBp8SnxqfHp8gnyCfIJ8gnyGfIp8jnyWfJZ8mnyafJp8lnyOfIJ8dnxufG58bnxmfGJ8WnxafGJ8ZnxufH58hnyWfKJ8rny2fLp8unyyfJp8cnw+fAp8KnxWfHJ8fnyCfIJ8gnyCfIZ8inyOfJJ8lnyafJp8lnyWfIp8fnx2fG58bnxufGZ8XnxafF58XnxqfHJ8fnyOfJp8pnyyfLZ8uny6fK58jnxifCZ8Dnw6fF58dnyCfH58gnyCfIZ8hnyOfJJ8lnyafJp8lnyWfI58hnx6fHJ8anxufGp8YnxefFp8XnxifGp8dnyGfJJ8nnyqfLJ8uny6fLp8pnyCfE58Gn+ieuJ6Knl+eNp4RnvSd3J3LncGdvZ3Cncud253xnQ2eLp5UnoCesZ7oniafaJ+tn\/efQ6CToOmgQaGaofahU6Kwog2jaaPCoxqkbqS9pAWlRaV\/pbOl2KX2pRCmI6YxpjymRKZKpk2mTqZMpkmmRKY8pjSmKqYephCmAabypeGlz6W+pamllaV+pWalT6U2pRql\/aTfpL2knaR6pFekNqQUpPaj16O6o52ji6OSo5mjoKOoo62jtKO7o8Ojx6PMo9Gj1aPao9+j5aPro\/Oj\/KMHpBKkIKQwpEGkUaRhpHOkhaSXpKikt6TFpNKk3aTlpO6k9aT\/pAmlE6UfpSqlNqVDpVClWqVmpXGleqWEpY2llaWbpaClpKWmpaqlraWwpbSluaW+pcWlzqXYpeOl76X5pQSmEKYapiSmLKYypjemOqY8pjymO6Y+pkGmRaZKplGmV6Zfpmimb6Z3pn2mhKaKpo+mlaaZpp6moaalpqmmrqa0prumxKbNptim5abxpgOnE6cjpzOnRKdWp2and6eFp5Knnaepp7KnuafBp8qn1afhp+yn+KcGqBOoIKgsqDioQqhLqFOoXKhjqGiobKhyqHSodqh6qH+og6iJqI+olqifqKmosqi+qMio0qjbqOao8aj4qP6oBKkIqQqpC6kKqQypEKkSqRipHakkqSypNalBqUupVKldqWepb6l4qYOpi6mRqZmpn6mkqaqpsKm4qb6pwanEqcepyqnLqc6p06nZqeKp7Kn3qQKqCaoUqhqqJ6otqj+qQqpWqlqqZ6ptqnOqhKp0qpeqcaqyqnSqyapzqtGqcKr6qu+tNKuIqherpaocq9GqJKvwqherBKsZqx+rH6sgqyurN6tEq0yrSKtQq1mrfKt\/q6Srdaulq1iroqtpqwGsUq0CrK2rMqy+qyOs0av4q\/2rlquqrNWqIrDHsuyqVqy2sP2u26uTrLSusa5lrBergbfRs8OpJq5Sq2StkK6Yraar8LEUsjGrfq9sqgO0obmdrUasWbDTriCu5qpAtnPHc7Dhqt6yVrBvuEe1xK\/fsv6u8bF2s\/uyNrMcroq8cr7ss\/qty8LEy\/az462kxcHN5LS1rpe9i7+Vr3G2h7itrfWw9sRKvR+vSLBTv1XIkbDMsaS0q74huGqxubkwtlKygrcAvAGz+Lm0sUK\/\/L5usWy6p7vRwKK2q7ACtoDNFMlBsam14ckCxiWwKb21v26ugbrIxsW+j7VjuvfKiLh8r9G87ckdyqO07LICwprF476Mvga\/2bvVue\/EdcpGyVKyqLqL0zm+uLsxvLHA48NUxkrP9bgOuBHKJsY7u9vC59TrvTC1EdFlz5GxgsJA36zG7a1BvIHem9gWycO11LnS2DDXFMGttMnIsNPT1B3Ot7lhv9LS29G5zcHHDsJPySnXfNKXvonBo9DY35\/K+7\/vyjnJb92X11TI88HwyhXj\/dQIw1zJz9kH0ZrExN6M2fLD0M6D2LXWJc+m0UncaswVzGnYhs+R4\/rWaspq2\/3ORtU83l3Zx9mkxYrUrusE0CjUEdPQ3U\/mSdN906nR3+Ob32TVJ9Yj2MTfDdui1vveb9tq1hDoS+K30AbQROsX76LXPMqZ3\/ztWNk23rre0eL93BPbcuWN5tTg+dAh5xLm9OFq7KnX6t286LfmcNy53EvuwOXz04btnvKC1vDibu7Y5QvZK+Yv7xLl2+dM5DDbrOvE+Qrk49Ek4ar+gfAW2Q\/i\/+yK8CzsC+Ak4uT2h\/Xk2ofimffr7m3eQ+9I+aTa7eny+T7sD+Aw7Wz+AOpB4brrL\/nC7LHnEe8m9ITvteWD+VvqpuS5+uXxB\/MF7N7sGvFR7lT2P+6H8PTzcfGq8yHzGuv36wz4pP4R8Djp8vSu7jn1J\/gi+ODxt+oC+db3O\/gn9fPoDPLj\/934z\/EW7gD1eQAQ8vvt8Py1\/Rf0mfBC+JT5SfMF+sb1RPM3\/kr7TPWr9Jr9+\/qB7djzsgX1\/Wjv\/vYd\/6r9TvNw\/gMAcfL69O8AMQe79XXu2Pj1AjYDhgIA997ycwBRACr+E\/8D\/3D32vr5\/3H9YAVR\/W34j\/leBucLHu7t+t8Kn\/rG+0cIFwTC95L4fgMVEMT8IvKmAiULUgc8+b3+WAJ0BAwMZv2r+ssDmwmICJr6LP3pDIsIgP1\/ATUJAAYNAZ4F3wp\/B4P6eQjCDzv+LgUGCgQJyAUhBC8GQwkoDFkKYwei+DUMIBidCA8A9v9IEsMJQgwpDegBogYrCkESoQltCLoIzwXjElUTvghNAhIMPRGxDeAJuAWPFN8QTQaRCosQ8hCSB\/oO3BBdC7cUXw6gBSgNTxk0FT8BLQp9FxoVVAqLDIkVKhF0EqwNUQ4NErsO6g\/fFEwV+QvbDKUVFhfvDNAPlhmWDvoQ1BZjFO8NaAw3GU0YHw3cE3sWTRToE60S5RfXD00VcBc7EtIU9RctFm8MvhdRIQwT8w5kFtoXoBcnFjgZPhJTEyAdcRfVFvQVOhLGHV0cqg4rFFsgIR4iD24StiEdG+UPQBhwHCMbzhK8F4sfOhhdFjkWfx\/+FGUXdCCsFlAaohjCGN0cEBpsGJQZlRlBHHYaNhxIHSoYRxYzGRIfJR6PHakRAhqlJK8eyxKnE9osZh4LErwUeyICJC8RiR70I2YbnBTYG6EnhBnUF8Eh3xopHDYeQCGdHDcXayAsINQbqBvGItkebBriGOQfriV\/GuYdPR+FGgEhMiaqGSgYIiLwI\/cfNhrEIJUiABn1HzokDB9LH28aFSNyJAAdTh87IusdqR4IJBwjriBRG\/EgmyE0I2Ekrh8rH+4ftCAEJdgk9R3tH34hSyjnIr0eKCLxITIleSGGIv4jECMfJC4izSPTI\/cj9SdJIiUiuSGZJ4kkfh+sJ9onNynJHtkhvSebJ64pRCBGIk0pYCdsJucjhicSKIIgJSanKk8rrSORI+wqdCcqJuYiAStzLqgg2yQrLIcoBieeJr4shykMJTAoPyscKuQiJSeILqcuYiTGI5kqjTD0K8Mftig+LhAu0CjBJscpcCy3K1Ilois\/LMgsJSpEKBIuBildLBEqxiz8Ljkjmiz6MPAsPSdwLJwwsCcwK0Yu3S0DKhorXi2LLtosSSpeMZ8tkSbBK940\/zFeJM8ryDI8LQ4rIi3nMmEt9irkLJkw1y6OK\/QugTFgMVgqmStTMG0wbi+ZLqgtXDKxLO4rljWAL6Uuwi0nL0wwijCzMHkseC5+M54yPi6ZMDEuuy\/\/MikwgS6bL5YwRjR5MgAqxjAJNnsxkC27LgE0\/zTQK60tPjcLMzAuWi2QNc0yRi7jMW0y7zGTLoM19zLKLJkyhzZUMGkumzPPM+QyqSwwNYo13S3xMNI15DbRKp8wKDfuNGUvLC\/CNawytTF1M80zci\/hMW41\/TRJMAgvNDYXN0gx\/S+eNb0xgDFjNNs0LjQWMOEzyzRsMygzOzO\/M5U0STP3Mt41rTaUMCwthTinON4z9C2HM4c+zjGJLJI06TvnMEMwMTv5NV0uPjLhPFoyEDAlNyM48TSLL5Q19zsnNEMtuTZ8O9U1lzCaNYw6cTUNMfs4ZDalMes4IzbqOBw15jSYN8gzDTioNUo4DjhLM242bzptN9IyojZhOUk3+TStOE45pjXaOHY5azYANRU4ITtlOL40Zze5Pf43ozNANqM80ztZNZg2yDVHPGI8Ize9NFI4vz00OAw5zThvOHc5YzkXOiE4QDnTOtE3pTZLPA88azfyNsw+JT38MUM4\/0A5OaY1iD1DOrs2+TlMPjs8zji5OkY3Gjx+Pnc31Tg6Pms9vjUsOI5CWjzUNoI62js0PQ45UTumPYs53TqdPLk7tzn8PGM9djwtOqM4mD1oPDA9GjzkObk86TuzPJc7LjvwPQ08lzktOwJARjxXOEY8ukB1PIE6Dz2YPH08hTp2PjM7XDy7P2I8yTobO1w\/HT6qOhk8Jz97PX878zwsPcs71DtWPytBoDkkO1g+kDy\/P8U6uDxyQDY8uzs0PPA+sj6gO3Q8\/z6OPF480D+1PIU78j43P0A6WDtzQsw+DjnYOw8\/AEGlOzw6VUAYPn48kTyTPTE9pTwlQDw7cjrdQOk9ozwpPDw9oTwYPCtAbDupO54\/6D1LOso8l0BKPHo6jj78Pfo6VT1bQAE9+TgkPjNBJj3RN5Q+q0LsOUY60j3wQb88CzkJPdc8XUDGPZA78TqPPRw\/HzxjPsY76juZPts+oTsvPIw+fjo3PpI\/JD0gPFI8aT3MPCE+ekDxO743ij9eP7491j+gO2o6+T0wQAw+Xjr3O+hAmj40PP09kz90PKE7IT+ZPoU92TyyPZk9JT9TP9U6mDvEQcdAeDoCPEtBzD8zO1Y9KT+0PgU+Dj3ZPnFAeTyRPZhBOD3oO4k96EGyP\/87CD5wQHM\/8jphQExBhzzkO2VApkKnPC48ID91QX0+0DxyQCo\/Oj5pPhBAuD7xPag+dT\/dQYk+Ez3qPU5DeUByOe4\/e0KOP0E82z4LRMw+vztwP7tAIUBOPn8\/1EBYPlY+TEGfQIA8Rz8DQyU\/WjvvP2JEiT6qO1RAp0EvP\/E9lEBuP7E++0C6P5hAGTzYPrRDjz75Pik+GD9iQqo+mzx\/QfhBbz04PSdB1UFuP9g8hD+jQcU+DEDYP6g\/rD6oPtdBU0APPRA+ZEANQJI9FT7mQK0+Hj5QQMA9pz3IQGc\/Tj62PJg\/eEFWPeY+Ej4oP54\/Oj5CQIY9QD6SPlw\/h0FZPFM8L0AaQWQ\/DTuFP2RC1jwhPqE\/Kz2PPV5BtECRO5I8S0G7QO86FT2uQVA\/xzrhPEBBOD6XPDM9G0AIPrA8Lz7pPQU\/KD3BPXA97j5wPe085T7hO0Y94D8lQKU8pjvBPS4\/+Tx4Pfk+kzzRPa49Mj88PuE84zyEPeA+gD7NPU08oz5JP\/89bzxvPQM\/\/T4zP9M8tjz+PUJB6j7qOqc9bz7qP4Y\/Tj0rPOw+V0CjPRo8GD5SQb09bjoPPppC+z9+OnE8VUGGP6w8jz1EP8E+tz7NPpE9ZD76Pkk\/UT7HPUM+Cj\/xPwk\/ZD3ePek\/8T7dPsA+YD6hP00\/uD4DPiZAt0DtPZQ9bj98QJI+Wz+BP3o+OkDmPrs\/rj\/XPbA\/tT\/xPk4\/AEBMQGg+kj0yQTtAOT2VPjJAIEG+PQM9sEACQaw+zzyfQC9BNj1EPtA\/SUCbPk8+RkAVP6E+hkDcPiE9oD+5Pw1AXD\/vPHY\/P0FuPhI9jj+vQCs+Ez6mQJw\/SD6jPxQ\/6T0\/Psc\/J0DMPZI\/5D5\/PsBADT7vPic\/QD6KPuU9X0FUQAY8Xj7qQAlA6TwsPS5Ar0BZPuo79D8bQTA9eD2rPmA\/Iz94Pes97D\/sPnA96z39Pu8+fjzrPQJAjT4OPvE8mj02P1o+5j2pPMM9CECFPiY87Tx0PjE+hD67PHI8RT5KPvI+hTzHO90+jj62PNA8nD4mPWs7fz4HP+A8JzwuPHA+Nj6kPJE8TD0tPsU8NDwUPWc93DssPb09fDy0POI6cj1hPgs7djv6PQQ9iTpQPXE++TpiOWM9UT5OOzU8hjtfOwc9Az03O4U6Aj3UPPg6NDvAPHQ83jqROyc8hjzJOvQ5lz1HPMM5xztsPRE7CjqWPJ47tjqSO+s8DTzKOWs64zwbPfw5oDndO\/w8hDtbOvw7FjzMOn478TskO8I64zuYPJ07ZDr+OvE7SDyCO4o6dDy6O187UTtzO488CTqWO108vjoHPOA7QTs6Onk8VD3FOXM6QjyPPbY7yTgPO2E9Fz2eOjM6GTxQPKY7JjvVO\/47\/jq3Omc8cDwYOw07jjvOPEw70Tq8OxY8hzyPOgU7aTz2O0U7+jpLPL08wzn7OkU98DtkO0E5xzs2PdQ7VTrzOYw9pjw0Oik6OD0cPIU5VztUPKQ8jTp\/Ork7FDs7PG87NjrKOzk7uTrSO3M7ojq8OqA7DDzfOuU6hzriOhk8pjqaOqk60TuqO+45YTo2O\/Y7oDqPObg6szvLO+463zmjOQI7Nz12OhI4HzsCPKA6yzmjOgo8nDn6OAc8VztwOY05CTvNOzU5hDkaOys6ZDrxOWA6SjrrOeI5vDnBOk06bTk2OZ86+zrAOJw4fTqmOg06Vzi4OOE6hToHORc4pTnBOvA4eDdyOoE6zDgNOK04LzvdOAM4MTg2Omw51TfTOTY4TjnGOD84wThgOEg5bzhxOLY3aDicOZU4azdcNxI5vTjLNxM4Kzg9N3U3FTkfOPM2Pje5OCU4xzYlOFY45Tb+Nso3uzfON8o2gzd7N0g3pDhbNkE21jczOLs3wDW5NlE4fzfmNpY2SzZKOJA3KDXgNi845jeqNa81aTgpN0E18jZsN2I2UTaXNuc2SDbNNmQ2eTYKNys2dTY2Nzc20jWfNrc2CTdvNmA2UTZ5N6s2GDU9Nm43wze1NZE1iTb8N6w28DSfNkI3gjdpNVM1ajexN3g2WjV1NoU30TZ0NXM2Mze1Ni82+DaSNoc1fTeONsE1vzb2NkE2nzXLN183SjXxNTo3+zbdNWk2UTc2Nuc1CjeFNkg2XDZjNto2DzdWNmQ1xDa2Noc1aTbXNk02rTXuNfw26TbUNbI1ZTZaNl82bTY9NvI10jUbNqQ21TV7NTU3WTZKNZs1KDZ3Nmo2lzUjNQw2uzbtNc003jUNNiA2sjXpNV01ajUmNhA1DTaONZk1SDXnNDU2pDUYNSA1WzWiNdU1MjXbNLw0yzUfNrczJTUdNt00XzTNNNE18DR7NGw0YjXsNEc01DSXNL40bzSCNOU0lTRPNCE0eTQXNf0zRDRKNKAzkzTCNOMzeDMkNB40UjR1M40znjS7M0szcjNLNJ4z\/TLlMyc0KzNzMrczPTQ4M5IygDOKM0gz7jK0Mo8zEzMlMwIz8DKHMlsyvzMUMzcyNjKsMhIzpzIpMsgxqDJFMxUyOjHtMekyxjJBMcoxIzLpMYgylzFwMXYxajKpMf4wVzLTMVcxUzHZMdUxJTEYMawx\/zGIMZwwQzFNMnkxfDANMQIyMzGeMJQxmzGaMA4xpjHOMAgwiDHeMTkwrjBiMVAxgzBAMEUxGDFsMD0wKDFDMRcwIjCZMeMxmC8QMF4xZTFiMBowgDGyMJ4wCDF9MP8v5jC\/McgwAzDMMAExTTCcMEIxjDDYLxAxuzCzMCsxSzDtL6gwbjHqMK0vPzCEMZ0w8i+UMDsxDjA\/MAgxYDAvMFcwDDFcMPUvTTAwMLkwpjDkLxwwkjBxMO0v\/S9wMBcw\/S9gMCowky\/cLwExci\/uLnkwOTBGMMQugi+EMHYvDzBcL\/8uHjAhMEYvTy9cL6Evwi\/CL5Uvli47L\/kvfy8hL7EuVS9iLwovdS8WL7kuny6UL3Yvdi6CLuEuDC9aLvIuCy+wLrou8y3YLu4uRi4cLnouAy9ELh8uwy15LsYuGy75LXEtEC7ALh0uOi18LVgugC6TLUUt0S1wLaQt3y2CLVUt+SySLcstJi2DLA4t1y1FLZQs1iw5LfUs6yzALLUspCz8LKwsaSy2LK8scCwbLJYssCw5LBssWyxDLHws7SsVLAssBixtLJ4r\/yu+KzEs3iu8KxgsnSv6K2grqyu7K7cruSuFK3ErYSuyK6YrISsEK9orESufKgYryitRKxoq8ipcK1griCo3Krwq\/yp6KokqICssKgEqoyrfKjYqEiqNKkIqSyohKtkpJip\/KlYqzCm7KSsqQirQKfwpNCrtKeQpoSmxKQ4qJiq\/KXQpACrDKcIpDyqGKYApySkNKmQpUSnOKcspoCl4KRsqLClEKeMpsCm6KfkouCkGKuwpPSkQKRkq\/imgKSIp7ynVKXYpuSndKbcpSCnvKd8psCl5KccpoClsKSAq8ilqKTEp0ynPKXcpmCnNKcYpUimtKeQpfCmCKZcp7im1KVwpsil0KZMp4ymzKZMpZCm9KRMqSykZKesp9ClbKV4p2ym6KRwpgCkZKmQpVimFKbAp9in3KBwpfym2Kd8ppihAKb8pSClHKesodylgKYEpaSlHKHspGiq+KL8oSyltKQcp8ihhKf8o8CgKKS0pLym3KMco+CgrKREp7CiTKJEoOykEKbQomSjQKOcovCjbKFQotSjzKEIoqygCKY0oKCjGKK0oKSikKLIogCgGKFUo5yiHKDEoGihDKIkofCj1J+snBiiMKDkofCc1KBQoFijzJ7An+CfCJ+QnmielJ9EnqCfTJ3UnNicYKIwnribyJ6cnJCc6J2knpSeYJtImpSc6J6YmNydTJ5QmkCZDJy8nNiaaJhgnkiZJJu8mwCZMJmAmbiaqJmgmiiY8JjUmeSZKJhYmOiYjJsslHiYVJgkmnSXtJfglbCXgJb0laSV\/JcYlgyVYJV4lHyVPJX4lQyUQJXslJyWVJAAlDSVJJQslkyT4JNUkyCTvJMokdiTcJBUlbiSSJLQkySSHJEkkiCSMJLkkgCQvJEUk4CSrJM0jDiTEJKIk3CMiJGokXSRBJBAkXyTlI\/8jjCQNJMEjHCRWJBgk9SMHJHYkESTMI2YkciQRJLMjfSTDJC4koiMiJA0lTSTCIzIkiyQSJBEkUyQUJPYjEyQuJAAk0SO4Iw4kESTWI64j+iM1JLAjuiOII\/IjaSTlI40jiyNRJOEjvyP4I6MjHSQOJMIjgSPnI0MktyOZIwIkICS3I6wjJiQfJLcj3iPEI8UjFySaI7AjuiOxI9EjVCO\/I8UjKyN8I5sjWiNDI24jTCM6I7cjgSO9IvMiCyRQI3EiWyPGIyUjqCJGIz4jsyLXIkEjIyNPIq4iKyPPInkihyLyIswiVSJVIvMigCIwIo0iUyK7ImQiOiKIIioiVSKXIoYiFiLyIW4ipSI4IvAhzyFHIsci+yFwIREiVCK3IbkhFCLvIaEhtSHLIZQhhSGLIXAhnyGkIVYhGSFvIY0hQCFUIcogUCFqIcgg8iDlIFIhHCGDIKUgGyH5IKgghCCAIIcgkyDMIF4gGCBKILEgViACIEMgMSAEINwfPSD4H64f\/B\/4H7Afpx\/LH9IfvB+SH2MfSh+vH40fbB9XH\/4eGR9nHyEf+R43H8MepR7JHiIf6x5JHnweuB6uHmQeWh5lHkoeEh4nHoAeLR7QHRseQx7BHcEdFR7qHcodoB2fHfEd4R1hHUgdeB3kHbcd7RwyHb0dgB3dHDgdqx0jHbYcDR2nHe4cphz9HC4dEx2THNscrxzsHPgcnxy0HHkcsxy+HKYcyBymHIYcnxyQHLocyBxOHIkc1RyBHFwcjxydHG4cahxoHJccehw5HFMcZxyFHF8cVxxhHEUcXRxgHCocKBx2HFscKBxSHEwcIhwbHEIcRhwbHDYcLxwLHDQcAhwtHEEc3xsMHAccIBwWHPUbGBzWG+wbQRwEHLYb\/BtLHMAbhBsuHCMcnBu3Gw0c2xtwG9IbGRybG54bdBuIG9gbpRuSG2YbrhuwG3wbmhtnG4cbrhuDG10bahtwG3oboxsfGwMbmxufG\/8a9xp1G1cbKBsHGxIbJxsvGwAb4RoLGzYb+hqxGgMb+Br8GsMatRrrGq0a2RrUGoAamRrNGoAabBrVGrIaSxpKGpAanxomGj8adRpdGkUaJBpdGjoaCxr+GSsaWhrxGeoZJhrmGQAaFxrUGaAZyRkiGskZjBmdGdEZ0xmgGZ4ZbRmMGbMZfBloGV8ZgxmOGRYZGhmSGYsZBhneGHEZORnHGBcZOxnrGMoYCxn\/GMkYthjaGKMYtxgMGakYSxiOGNUYbRhdGHwYThgeGEwYgBgMGNEXIBhMGMgXqRcSGAQYmBdeF9MXBxiLF0gXgxe5F2gXJhd4F14XThcvFxwXcRcSFxYXKhcFF\/oW5xYYFwMX6RbLFvkW5RaVFscWxxbHFoUWohbqFnQWeRZ8Fm0WhxZ3FoIWTBZgFmoWFxZJFl0WMxYfFgUWOxZNFkcWDRbJFTYWaBYLFgEWIxYMFh8WHxYjFgUWERY\/FhcW\/xX3FSsWNBYqFvEV3xVHFioW8xXbFRUWThbmFd8VCxYuFvoVoRUbFjcWzRXmFQIW7hXuFeEV8xUFFucVyxXxFQcW3xXHFb8VABb2FboVthXNFREW4BWtFbEV3RXrFcgVoRWbFRoWwhVwFa8V0xWxFXQVuhWbFZEVmhWZFYkVcBWOFZIVhxVmFa0VnBVlFVAVoRWYFSgVfBWEFWwVSRVjFXEVRBVcFXYVTRUcFUcVWRU+FRcVMRVaFU8V9hQFFU0VEBUEFRMVJBXuFOIUFRUFFewU1xTtFOUU1BSzFOYU3BR8FM4U5BSiFGkUmxS1FIIUlxR8FF4UXBR1FGAUQhRfFEIUGBRBFEcUABQMFBcU9BMOFP8T2BPPE8oTARTbE6cTvBOxE60TshOoE4wTdBN2E4ITfhNdE0ATXxNOEyUTSxNYEwQT+BIwExgT\/BLvEu0S9RLfEskS6BLpEq4SqhLBEsUSnBKQEpgSfhJ9EngSZxJBElQSRhIGEi0SQhIREsQR2BEdEuYRnBGVEc8R5xGOEVgRhRG\/EakRNBFJEZQRZhEbET4RfBEwETARLREJEScRIxEZEeUQ\/hAwERIR6BCrEOEQFBH2EL0QnRDpEOMQuxCcEKkQvxCiEK0QoBCWEJcQfBB4EKwQihBqEFEQXhCHEEwQdxBhEDwQZBBgEGIQUBB4EHYQKhCAEI4QPRA9EF8QhRBeEE0QUhB3EGIQSBB3EHIQURBCEGQQfRBZEDsQahBmEF0QYRBqEF4QUhBtEHgQfxBBEGYQZhBSEJAQZhBUEFwQdRBlEFMQbBBpEF0QPhBtEG8QLhBhEFoQThBYEDcQWBA8EEUQhRBKEBUQMxBREDYQHRApEEEQJhD1DxYQLBAKEOoPBRABEO4PFxD3D9AP4g8gEO8PtQ\/tD+kPww\/AD\/UP7w+oD58PzQ\/OD7sPlA+5D7gPkQ+3D3APlw+xD24PgQ+FD3IPbg9yD2MPXA9ZD3UPUQ8gD1oPVA8lDy0PLQ8mDyAPJQ8hDw4P8w76Dh8P\/g7MDtYO8w7cDq4Oxw7XDrkOmw6XDsgOqQ5kDokOoQ5wDmQOjA5hDksOZg5cDkMOIQ5iDj0O8A1DDjsO8Q3rDSQOGg7ADc4NCw7kDbwNxQ3PDbcNmw2kDZUNlg2oDZMNcA1qDW4NcA1kDVMNRw1XDVMNIQ02DTcNDg37DDMNJQ27DNIMFA3yDJ4MxwzhDJ0MhAyoDJ4MaQyGDH0MXQxODDoMXAxeDB0MFQwnDC8MCQzdCw8MFQzvC8sL2AsKDOQLtQu+C90L3wuvC7cLnwubC70LpwurC4cLhguUC4wLfAttC3wLgAtnC2ILfgtRC10LUAtKC28LMws8C0ELNQtICyoLHAs7CysLEQsmCy8LIQsPCysLMwspCzELFQsmCy0LMAsnCxYLQAsxCxQLHQtFC0wLAgv9CmILUQsVCykLPQtQCyILKwtBCzALQAsyCz4LUAtKCykLMws+C0kLQgsxCz4LQgtdCzELIwtBC3cLXwsVCywLVgtQCzULWgs9CzwLWgtaCzcLLQtwC0cLNgtTC0sLPAsuC04LRwsjCyYLRAtACwwLNgsuCyMLNQsgCzQLEgsxCzYLDQsxCywLFwsWCxoLIAsMCxMLKgsCC+cKBgsqCwYL4QruCvQKBQvvCtEK3ArpCvcK2ArACvAKzgquCtAK0Aq2CqIK3QqvCo4KtQqvCp4KfAqlCqIKmAqUCn8KjQqBCo4KgApnCoAKcgpTCmEKbApUCjAKWAplCjQKJwohCjoKIgr4CRIKJgoSCvAJ5An6CQcK5wnECc4J5wnRCcAJrgmhCaUJrQmxCXgJbgmPCYcJZQliCWUJSwlGCU0JNAkkCT0JLQkTCQEJBgkWCQAJ+AjsCNsI1gjsCOMIpwi1CNEIrwiCCI0IqgiECFQIXQhwCFUINwg5CC4IGggXCPsHBwgMCNwHzwfmB+YHuQehB7oHuweZB44HlgeTB3UHbAd7B2cHUAdrB10HQQdIB00HRwciBzUHOgcVBxAHLwc4B\/kG9QYVBw4H\/AbsBvUG7wbYBt0G6QbpBtQGyAbPBssG1AbFBrIGuQbDBswGtAahBr4G4gbKBqcGwQbuBukGpAbOBgQHygbKBtoG3wbcBugG6AbSBtEG3QbsBuMG2gbQBuwG6gbSBtoG6wbvBuIG2QbfBv4G6wbdBvAG7wbnBvEG\/AbdBucGBgftBtQG9QYAB+IG6wb3BuIG2Qb5Bu0G1AbgBvQG3QbaBuoG4gb0BtEG0QbmBtwG1Qa9BskG0ga5BrMGyQa5BqsGqQaxBsAGpwajBq0GtAa2BpgGmQaqBpwGjwadBqgGkQaHBp4GlAZ3BoAGigZ6BnkGjQZqBlAGfwaBBlUGVgZtBmsGVgZhBmQGPQZRBnQGTgY1BkcGUgZOBjYGQwZABi0GQAY8BiIGGwZDBjoGFgYXBioGJgb6BREGLAb8BfIFEQYLBu8F8gXsBeQF5gXjBdcFxAXWBeEF0AW0BasFygXTBbEFmgWeBbgFuQWKBZEFlAWVBaQFfQVxBXYFegV7BU4FWQVuBUoFSwVLBUMFTQUwBSQFOQU0BTIFFgUHBTMFLAUABQIFGgUOBfUE8gTxBO0E4gTcBNkE2gTFBK8EtgSuBKIEpASTBH8EhgR3BHcEcARPBF4EXwRRBDkEHwQ5BEYEGgQZBCQEBwT9AxUEMAToA9ADCgQPBOgD1wPxA\/ID5QPQA98D4APMA8wDywPbA7gDpAPCA7oDrAOlA6gDqAOFA4kDpQOSA3gDcwN+A38DbgNcA1YDZQNlA0oDTgNcA1UDWwNZA1gDZgNkA1oDUwNlA3EDVgNPA24DbwNVA2gDdgNKA1UDhANyA0QDRgN\/A4EDWgNqA3QDfwOAA3ADeQOQA54DgQN+A48DjwODA3cDhwN\/A3sDbwNkA2IDYQNjA0YDSANbA1YDNwMzA1YDVQM3A0IDWANKA1sDZQNSA1oDXANiA18DXANpA14DWwNkA2wDVwNRA2EDaQNtA1cDYwNxA28DZANpA4UDbwNhA2sDcgNjA1IDZQNjA04DQQNKA0kDPQNBAzQDLgM1Az0DIQMcAzwDMAMeAyMDNAMhAxUDLAMkAxEDFwMeAxQD+QIAAx0DCAPnAuoCBAP9AuEC6gLqAuIC6ALhAtUCzwLXAtYCywLHAscCwwK\/Ar4CuQLCArkCqwKuArICngKSArICmgJxAo0CoQJ\/Al8CZwJ9AnICVwJcAlcCQQJAAkcCPwIlAiUCKAIMAgcCFAIWAu8B1gHvAewB4AHGAb0BzQHDAbIBpgGiAZwBpwGOAXgBfgF9AXMBWgFeAVABPAE1ATUBGgEJARsB\/QDnAOYA3gDHALsAwACxAJ8AkQCOAIkAgQB6AGcAVgBTAGAATgAlACEAPQA0AAgAAwARAAgA8v\/r\/+H\/3\/\/i\/9r\/1P\/H\/7\/\/vf\/C\/7T\/n\/+l\/6b\/m\/+S\/47\/kf+M\/4H\/dv93\/3b\/bv9a\/1L\/Xv9j\/1v\/Of9D\/1b\/Q\/83\/0b\/Sf84\/03\/Uv82\/z\/\/af9l\/zv\/R\/93\/27\/Vf9k\/23\/aP9y\/4H\/b\/9v\/4P\/gP+N\/4\/\/if+R\/5f\/lf+e\/63\/o\/+g\/7P\/w\/+6\/6z\/vP\/E\/8f\/z\/\/Q\/9b\/1f\/o\/+H\/1P\/z\/\/3\/7v\/s\/\/7\/AQAAAP\/\/BQAJAAUADQASABkAEQAQABkAJAAgABUACwAQACcAFgD4\/woALgATAPz\/CQAbAA8A\/\/8aABgAEwAdAB8AFAAWADEAIQARACIALgApACIAHQAgACoAHQAQACIAJwAUAAkAFwAkAAAA\/f8UAAEA9\/8IAA0A9f\/n\/\/f\/AgDn\/+D\/9f\/r\/+D\/5\/\/m\/9T\/3f\/i\/9H\/z\/\/P\/9H\/zf\/L\/8b\/tv+\/\/8f\/tf+g\/5\/\/r\/+v\/5P\/gv+S\/5n\/kP91\/23\/e\/91\/2b\/Wf9m\/13\/Uf9X\/0b\/Qf8\/\/z3\/PP8o\/yL\/H\/8W\/w3\/FP8T\/\/H+7f70\/u7+2P7V\/tv+vP62\/sb+vv6o\/qT+nv6c\/pT+hP6G\/n\/+fP56\/mr+bv51\/l3+Uf5R\/lL+Uf4y\/iP+Jv4h\/g\/+CP4T\/vz96P3g\/eT92\/3E\/bz9sP26\/a\/9ov2Z\/ZT9ov2G\/Xf9d\/1r\/Wf9X\/1l\/V79Sf1K\/Ur9Q\/01\/Tf9P\/01\/Sn9M\/0o\/SD9Kv0i\/Rv9C\/0X\/SL9C\/38\/An9C\/35\/Pf8\/\/z+\/Oj85fzl\/Oz86vzY\/Nj82Pzd\/N\/80vzB\/ND80fzC\/M784vzX\/ML84vz3\/Oj81vzi\/PP88fzx\/On88\/z\/\/Pj8AP0G\/fj8\/vwP\/Rb9Af0D\/SL9HP0R\/R79Kf0g\/R79N\/04\/Sv9Nv09\/UD9Pf1J\/U79Qf1M\/VT9VP1Y\/V\/9af1d\/Vr9b\/1x\/XP9aP1q\/X79eP1z\/XH9d\/1\/\/YH9fv19\/Yj9kP2H\/Xb9hv2W\/YH9cP2E\/Zv9f\/1j\/Xb9if15\/W39ef15\/Xn9g\/2E\/X\/9gv2G\/X39gf2K\/YX9gv2O\/Yn9d\/2B\/Yn9gf17\/X79ff16\/Xj9ev11\/Xn9d\/1s\/XL9b\/10\/Wz9af1o\/Wn9av1a\/WT9YP1d\/Vv9Vf1T\/Ur9VP1M\/UP9RP1B\/Uj9Pv06\/Tj9Of08\/S39LP0v\/Sj9HP0d\/R39E\/0O\/RP9Df31\/Pr8B\/31\/OT85Pzl\/Ob82fzS\/NH8zPzS\/Mz8ufy1\/L\/8tvyw\/Kb8p\/yq\/JL8kvyV\/I78gvyD\/Hz8dfx3\/G78ZvxX\/GL8ZfxU\/Ev8Q\/xF\/En8Qfwv\/Db8Nfwo\/CD8Ifwl\/AX8BfwU\/Pv75vvr+\/L72vvP+8\/7wvvC+737pvug+6P7pPuU+3z7gPt\/+3X7YPth+2r7WPtM+0v7R\/tA+0X7O\/sv+zX7Nvss+yb7Lvsq+x77H\/sh+xb7F\/sQ+w77GfsN+wT7BvsL+wj7APv7+gD7Bvv0+vP6+vrw+vD65\/rq+uj63Pre+uD62vrP+tT61\/rO+tH64fre+uH66frp+u\/67\/r5+vv6\/PoE+wb7CvsJ+wf7Dfsb+xT7Efsa+yH7Jfsl+yX7Kfsx+yz7LPsy+zb7M\/s1+0X7SvtE+0L7T\/te+1n7Vvtd+2z7a\/tn+3b7bvtv+4H7h\/t8+3n7jvuN+4P7hvuV+5n7kvuW+577pfuh+6H7p\/us+6L7lfuj+6b7n\/uk+5z7nPuh+6H7mfuX+6D7nvuV+537qPuj+6H7qfuu+6f7qPun+6v7qvum+677oful+6\/7qPul+5\/7pvuh+6H7pfuW+5v7ofuX+4r7kvui+5D7ifuT+5H7jPuL+5f7jvuG+5P7lPuL+4f7kfuK+4b7i\/uN+4f7gfuH+4b7gPt1+3f7fPty+2\/7b\/tv+277XPtg+2f7V\/tM+1X7YPtO+0b7UvtU+z37OPs7+zb7MPsn+zD7Kvsg+x\/7F\/sR+xX7EPsH+\/n6+voG+\/D66Prp+uT64frZ+tD6xfrD+sj6ufqr+rr6tfqk+pz6ofqf+ov6kvqZ+oj6efp\/+n\/6cfpk+l36Zfpc+kf6Ovo5+jr6MPoc+g76FfoQ+v358Pny+fP56vnb+c750fnV+cf5svm1+br5tfml+Zr5ofmc+ZL5iPmK+Yv5hvl\/+YL5hfl6+Xf5dvmB+XL5Zvlp+Wv5cPlg+WD5XPli+WD5UPlX+Vr5VPlP+U75UvlO+UH5TPlQ+UP5OflI+Ur5NvlB+VH5U\/lP+Vz5Z\/lm+Wv5bflz+XT5ePl\/+Yf5ivmI+ZL5l\/mV+Zn5oPmo+a35pPmj+bf5tvmt+bz5x\/nD+cf50vnT+c\/53fnl+eD54vnz+fP55\/n5+QX6Avr3+QT6EPoQ+g76DfoY+hX6Fvoc+if6Kfod+iP6O\/o8+if6MfpD+kD6Ofo++kb6Qfo5+jz6Qfo9+j36QfpE+jv6Mfo9+j76PfpJ+kv6TPpJ+k\/6UvpO+lb6U\/pL+lD6XfpX+k\/6WPpf+lv6VPpS+l76V\/pI+lT6WfpT+kv6TvpS+lD6UvpG+kf6UvpO+k36TfpI+kr6TPpN+kn6Q\/pF+kf6RPo8+kT6Rvo2+jX6QPpA+jD6Lvoy+i76LPof+h76JPoZ+hD6GPoZ+gr6DPoY+hb6\/\/n2+QX6\/fnt+fD58Pnq+eP54fnn+eX51fnT+dP5zvnE+b35uvm2+bb5q\/mk+aH5ofma+Yz5ifl\/+Yn5g\/lu+Wj5aflp+Vn5V\/lb+Vb5TflG+UX5RPk7+TP5Nvkv+Sn5H\/kX+Rr5E\/kB+fj4+Pjx+OH40PjM+M34w\/i1+K74q\/ii+JT4kviN+IL4gvh1+Gr4d\/h0+F74W\/hk+GD4UfhJ+FD4Rfg9+Dz4OPg2+DL4NPgq+Cj4Jfgg+CL4H\/gg+Bn4Fvgb+BX4BPgG+BD4CfgD+AL4BPj99\/33Avj99\/j38ffv9\/j39\/fv9+73+fcA+Pn3AvgH+A34FfgT+CD4Ifgh+Cb4Kvgw+DL4Nfg7+EP4Q\/hG+E\/4UvhQ+Ff4ZPhg+GH4bfhz+HT4dvh++Hz4gfiM+JD4lviY+KD4qvir+LD4tfi2+Lz4u\/i\/+Mn4x\/jH+NL41\/jV+Nf43\/jd+Nr46Pjr+Ov47fjy+Pf4+PgD+Qf5\/\/j9+AX5BPkG+QD5APkO+Qf5A\/kH+Qn5DfkK+Qv5EPkM+Q35FvkZ+Rb5Ffkb+Rz5KPkg+Rb5IPkl+ST5Gfkf+Sf5HPkQ+R75I\/kb+Rz5E\/kS+RX5GPkR+Qz5FfkU+Qv5CPkU+Q35A\/kM+Q\/5DfkJ+QX5APkD+QP5\/fgA+f74\/vj6+Pz4\/Pj0+Pf49\/ju+Or48vjy+OD43\/jm+Nz42fja+Nb40PjL+M\/4yPi1+Lf4wvix+KT4q\/iq+KL4m\/if+Jj4jviS+Iz4iPiB+H\/4gPh9+Hr4b\/ht+GX4Zvhk+Fn4VPhI+Ev4S\/hD+D\/4OPg2+Dr4Mfgo+Cj4Ivga+Br4G\/gO+Av4Cfj99\/j38\/fv99z3z\/fT98n3ufe196\/3nveU95P3jfeA93z3gPd092H3Xfdh91r3VPdN90T3Pvc99zb3Kvco9yr3JPcY9xX3HPcd9xL3EPcV9w\/3DPcL9wn3DPcF9wb3DPcE9\/\/2\/fb99v729vbv9u726Pbo9uv26Pbf9tz24fbf9tv21\/bW9tb21fbV9tD20fbe9uP25\/bw9u729Pb79gD3BPcD9wD3BPcO9xL3FvcX9x73Jfck9yT3K\/cu9y\/3Ofc89z73SPdS90\/3T\/da92D3X\/dj9233cvdz93T3fveA94D3iPeM95T3m\/eZ95n3oPem96v3q\/e297r3tve798H3xPfF98X3zvfV99f33ffc99n33Pfe99v34Pfb99P30vfW99732\/fU99j33vfh99733\/fi9+j37\/fr9+338vf19\/P37ff29\/73+Pfz9\/T39\/f69\/T39ff79\/73+Pfx9\/j3\/Pf39\/X39Pft9\/P3+Pfz9+\/37\/f29\/r35vfh9\/b38\/fm9+T38Pfy9+j34vfj9+r37ffq9+H34ffn9+j35Pfi9+H32\/fa99j30ffT99L3yvfI98n3xPe697T3svex97P3rPen96H3ovef95T3m\/eX95L3jveL94r3hvd+93T3dvd192\/3ZPdl92H3UfdP91D3UfdD9zv3RPc+9zn3NPcv9y33Jvcm9yX3IPcd9xD3CvcN9wb3+vb19vb27fbg9t\/22vbK9r\/2vPa29q72pvao9pv2jvaL9ob2hfZ59nX2avZc9mD2W\/ZU9kb2Q\/ZK9kL2OfYz9jf2MvYv9jH2LPYr9ib2I\/Yi9iX2IPYb9hz2GfYT9hD2EvYL9gf2D\/YL9gX2BPYE9gT2AvYC9v\/19vX59f\/1\/PXv9fH1\/fX69e316\/X39fX19vX\/9QX2C\/YR9hT2HfYo9if2KPYu9jb2OvY59kH2RvZC9kj2UvZV9lX2W\/Zj9mj2bfZt9m\/2dvZ69nf2e\/aH9of2hvaO9pn2nfac9p\/2qfaw9rP2vfa79r32zPbP9tH20\/bb9uT24vbe9un28fbu9vH29vb59v32AvcG9wj3DfcP9w\/3D\/cN9w33FPcY9xP3DfcT9xz3GvcZ9xn3G\/ce9yD3J\/cr9yr3J\/cy9zf3Mvc09zr3Ovc69zz3P\/c89zr3Pvc99z33PPc89zn3Ofc+9z33Ovc590D3PPc59zb3OPdB9zv3Nvc39zr3Pfc39zf3Pfc39zn3OPcv9zT3QPc99zL3Nfc49zr3N\/cy9y73K\/cr9yj3Jvce9yD3IfcY9xj3GvcX9xD3DfcM9wv3CPcG9wH3APf\/9vz2+\/bw9uj27fbr9tz21\/bg9tr2yvbI9sT2v\/a79rX2tfax9qf2n\/ac9p32m\/aR9on2h\/aJ9n\/2efZ79nb2dfZv9mn2a\/Zk9lj2W\/ZY9lL2SfZD9kD2MPYr9ib2HfYW9hD2CPb89fT16\/Xj9d712\/XQ9c31zfXD9bj1s\/W09a\/1pPWe9aH1mfWP9Y31i\/WL9YD1fvWD9YT1ffV29Xj1cPVv9W31aPVq9WP1XfVk9Wj1X\/VX9Vv1XvVW9VT1XfVb9Vj1WPVT9VH1UvVV9VX1UfVU9VP1T\/VP9U71WfVY9Vb1YfVn9W71c\/V99Xz1ffWI9Yr1jvWT9ZX1nPWk9af1qvWp9a\/1uvW69bn1wPXD9cT1yvXQ9dX12fXg9ef17fXp9ez1\/fX+9fj1\/PUK9hH2CPYJ9hX2G\/Yg9h\/2JvYs9jL2NvY09jr2QfZJ9kX2Q\/ZR9lb2WvZd9mH2ZfZm9mv2cvZy9m32bPZ09nb2dfZ49nb2e\/Z89nj2e\/Z29nv2hPaF9oD2g\/aP9o72j\/aY9pz2m\/aY9pv2o\/ak9qP2oPan9q72qPan9qj2qvar9qn2qPao9qj2qfat9qj2qfas9qT2pfao9qf2m\/ag9qv2oPad9qT2qvai9qH2o\/al9qP2n\/an9qH2nfac9pn2ofac9pP2l\/aX9pT2kvaL9or2jvaJ9oL2gPaA9oL2evZ09nv2dPZv9mv2a\/Zv9mT2YPZe9lz2WfZV9lH2TfZK9j\/2QPZC9jz2NfYx9if2KPYr9h72H\/Yb9hb2E\/YM9gr2BPYA9vz1+PX39fT16\/Xk9eP14PXY9df11fXT9db10PXF9bn1tPW19aj1n\/Wa9ZL1i\/WA9X\/1e\/Vq9WD1YvVd9VT1UPVN9UT1PvU79Tb1MvUp9SL1HfUe9Rv1FvUT9Qv1C\/UM9Qf1APX+9AT1AfX49Pf0+fT09PD08vTw9Oj06fTx9Or05fTn9OP05vTk9Nz03\/Th9Nz02\/TY9Nb02PTU9NH01vTW9NP01PTY9OH06\/Tp9PD0+fT89AT1CPUO9Rb1F\/UW9R71JvUo9TL1NPU19T\/1Q\/VG9Un1TfVR9Vz1XPVb9Wn1a\/Vw9XH1dvV+9YL1f\/WF9ZP1lvWc9aD1qPWu9a71tPW+9cb1xfXH9cz11fXb9dr13vXh9ev17vXt9fD19PX69ff1APYK9gr2DPYN9hD2DvYQ9hH2EfYX9hv2F\/YU9hn2HPYW9hv2I\/Ym9if2KPYu9jP2NPYy9jj2N\/Y69kL2QfZG9kP2QPZI9k32R\/ZI9kf2QvZJ9kr2RvZH9kj2R\/ZI9kf2Q\/ZJ9kb2QPZF9k32T\/ZG9kf2T\/ZM9k32TfZJ9k32UPZL9kz2S\/ZL9kv2TPZO9k\/2TPZG9kf2TPZG9kD2R\/ZB9jn2O\/Y79jT2KfYq9i32J\/Yf9iD2I\/YZ9hH2E\/YW9hH2CPYH9gH2AvYC9vb17\/Xy9ez15PXi9dn12fXU9cv1x\/W+9bb1r\/Wt9an1pfWg9aD1mvWR9Y71h\/WC9YH1gPV69Xn1efV19XP1bPVm9WD1XPVO9UH1RvVD9TT1KfUj9SD1FPUI9Qb1APX39PP07vTm9OL02fTR9Mz0xfTE9L30s\/Sw9K70p\/Sg9J\/0nvSV9JH0lfSS9JH0jvSL9Ir0jfSO9Ir0hPSB9IL0gPR\/9IP0gPR69Hr0d\/R49Hb0dfR59Hn0cvRw9HH0cPR09HH0cvRy9Gb0avRx9Gz0cPR39Hz0gvSL9I30kfSX9Jz0nvSi9Kb0rPS19Lb0v\/TK9ND00fTW9N704vTl9On08vT29Pj0+\/QC9Qv1D\/UO9Rb1HPUg9ST1KfUz9Tf1O\/VE9Un1S\/VQ9VT1W\/Vh9Wb1bPVt9XL1ffWB9YP1ivWO9ZH1k\/WZ9Zz1n\/Wj9an1svW39bb1uvXB9bn1ufXA9cD1xPXF9cb1xPXG9cj1yPXN9c\/10\/XW9dn14PXl9ef15\/Xm9fP19\/X29fv18\/X89QL2A\/YF9gH2AvYE9gn2BfYJ9gj2BPYI9gj2CfYH9g72DPYJ9gr2DvYR9g32DPYM9g\/2DfYN9g32EvYU9g72E\/YV9hP2FfYZ9hj2FPYT9hX2FvYS9g32D\/YQ9g72CvYK9gn2Bvb\/9f\/1\/\/X49fn19fXw9fT18fXw9e\/16vXt9e315PXh9eT14fXc9df11vXY9c\/1yPXK9cX1w\/W99bP1s\/Wx9aj1nvWi9Z\/1l\/WU9Y31j\/WM9YP1f\/V99Xv1fPV59XT1cPVt9Wn1ZPVg9Vb1TvVM9UX1PfU59TH1LvUh9Rj1FPUL9Qf1+\/T79Pb06\/To9OT03\/TX9M70yfTG9MD0u\/S79LX0rvSt9K30p\/Sk9KT0o\/Sf9J70m\/SZ9Jr0nPSY9JH0lPSQ9I\/0jPSK9If0g\/SD9IL0gfR69Hn0fPR99Hf0d\/R49Hr0evR49Hb0dfR39Hf0ePR19Hf0ffSA9If0jvSQ9JL0ofSm9KX0qPSw9Lf0vvTE9Mn0zfTO9NX02vTe9OH05PTr9O709PT39Pj0BfUM9Qv1DvUT9Rr1HvUh9ST1MPU59Tv1Q\/VE9Uf1TvVa9WD1X\/Vn9XH1dPVy9X31gvWG9Yz1j\/WW9Zv1mvWc9aP1qvWs9bb1wPW79bn1vPW+9cH1w\/XE9cb1yPXJ9cf1yPXK9c\/1z\/XN9dn13vXc9eH15fXo9ez17fXq9e719vX49fX19PX79f31+\/X89f71\/PX\/9f\/1APYC9vz1APYC9gP2BfYH9gb2AfYD9gr2CPYC9gb2CvYK9gr2EPYN9g32D\/YL9g32DPYK9gj2BvYJ9gr2CPYH9gb2BfYB9gb2B\/b99fr1+\/X69fX19PX29fH17\/Xz9fT17\/Xr9fL18fXn9eT15\/Xk9d\/12PXX9dr11PXT9cz1yfXH9b\/1vvW89bv1svWu9a31qvWp9aP1oPWe9ZX1kPWR9Y71jPWH9YT1gvV79Xr1d\/Vy9XH1bvVm9WX1YvVb9Vf1UfVL9Ub1PvU29S\/1J\/Ue9Rj1E\/UK9f\/0\/fT19O\/07vTm9OP02vTS9Mr0yPTF9L70ufS49Lr0tvSx9K70rPSr9K30q\/So9Kf0ofSi9KP0nvSd9J70oPSd9Jr0mfSX9Jj0mPSZ9Jb0kvSR9JP0k\/SR9JP0lPSV9I70jvSO9Ir0jvSO9I70jPSL9I70k\/Sa9J30pvSw9Lj0uvS\/9Mn0zfTO9Nn03vTh9Oz07fT09Pn0\/\/QG9Qv1FfUV9Rv1I\/Us9TP1M\/U69UD1RfVM9VH1VfVh9WP1Z\/Vt9XH1fPWC9Yn1jvWS9Zn1mfWe9ab1qvWv9bP1vPXA9cP1zfXP9dL11fXa9eH15\/Xt9fD1+PX69fn1\/\/UE9gD2AvYH9gL2AvYH9gn2BfYJ9gz2C\/YU9hn2FvYX9iH2JfYp9i32LvYy9jn2OfY\/9kL2QPZE9kL2QvZE9kb2SfZK9kX2RfZK9k72TfZF9kv2UPZM9kr2UPZR9kv2TvZM9kz2TvZL9k32UPZS9lD2UPZT9lD2UfZT9k\/2TvZU9lL2TvZQ9lH2TvZI9kn2R\/ZE9kP2PfZA9jz2NfY49jn2NPYx9jL2M\/Yw9ir2KPYt9if2IPYd9h\/2HvYW9hP2EvYO9gv2CvYI9gP2\/PX29fP17\/Xp9ej13vXb9d711fXQ9cr1zPXE9bv1wfW99bX1sfWz9bL1rfWq9az1pvWd9Zn1j\/WQ9Yj1fvWA9Xr1cPVp9Wb1XfVX9VP1RvVC9Tz1MvUv9Sz1JvUg9Rn1EvUO9QT1AvX79Pf09PTv9PD06\/Tp9Or05vTk9Oj04\/Tg9OD02vTa9Nv01\/TX9NH0zvTQ9M700fTN9Mj0yvTG9Mj0x\/TF9Mv0x\/TC9Mf0yPTE9Mf0xvTE9MX0xPTG9MP0vfS79Mb0zfTQ9Nr03\/Tm9Ov08fT39P70\/\/QH9Q31C\/UT9Rr1JfUq9Sr1MPU19T\/1QPVI9U\/1UvVY9Vv1a\/Vt9Wb1cfV79X\/1hPWK9Y\/1mfWk9af1p\/Wu9bb1vPW99cL1y\/XO9db12vXf9er17PXx9fb1+fX89f\/1BvYO9hH2FfYh9iT2JPYn9iz2LfYv9jH2M\/Y19jP2M\/Y29jv2N\/Y49jr2P\/ZD9kH2R\/ZS9lP2VfZa9mD2Z\/Zl9mj2bfZt9m\/2dfZ29nj2d\/Z79oP2fvZ89oH2g\/Z+9n72g\/aE9of2ivaK9oz2i\/aM9oz2j\/aP9o32jfaO9pD2jvaO9pf2mvaX9pf2m\/aa9pr2mfac9p\/2mvab9pz2lvaZ9pz2lfaV9pb2k\/aU9pP2jPaH9or2ifaE9n32fPZ59nL2cvZw9m\/2avZl9mz2afZl9l\/2XPZb9lL2UvZL9kT2QPY\/9j32M\/Yv9i72KfYk9iH2GvYY9hf2E\/YP9gf2BvYG9gD2\/PX89fj19vX09e\/17PXo9eH12vXX9dH1xvXB9cD1t\/Wv9an1ovWZ9ZL1kPWE9Xr1dvVv9Wr1ZfVg9Vz1V\/VN9Un1SfVA9Tr1N\/U49TP1LfUv9Sn1JvUw9S31KPUk9SL1JvUj9SL1IPUW9Rj1HfUa9RX1EvUU9RT1EfUW9Rb1FPUT9Q31DfUK9Qj1C\/UK9Qv1CvUJ9Qj1CPUH9Qn1C\/UH9Qr1FvUf9SH1JfUw9TH1N\/VA9UP1SvVQ9VP1VvVj9WT1ZfVs9XT1efV49X\/1gvWG9Y31k\/WY9Z\/1pvWk9a\/1svW09cD1w\/XL9dH11fXc9eL14vXo9e\/18fX49QL2BvYK9hL2FvYc9iH2JfYo9jH2M\/Y09j\/2SPZL9kr2U\/Zb9mH2Y\/Zh9mL2ZvZr9mn2afZr9mr2cfZx9nD2dfZ09nz2gfZ+9oD2hPaL9pH2kfaN9pT2m\/aa9pz2nfah9qL2oPam9qj2pfao9qn2qvau9q32qvaq9q\/2rvas9q72sPaw9qz2rfaw9rL2sfaw9rH2tfa09rT2uPa29rX2tva39r32vPa89rb2tfa29rD2t\/a79rb2r\/ay9q\/2rvaz9qn2pfai9qb2qfae9p\/2ovaa9pX2lfaQ9o72kvaL9or2ivZ99nr2evZ59nr2ePZw9mn2aPZk9mP2XvZV9lP2T\/ZH9kf2SvZD9jj2N\/Yy9iz2LfYs9ib2HfYf9h32FvYU9hL2EfYM9gb2A\/YC9vz19fXx9ez15\/Xf9dX10fXJ9b71uPW09ar1ovWZ9ZX1kPWI9Yj1f\/V19Xj1dfVr9Wb1ZvVg9V31YfVa9VT1V\/VT9Uf1TfVV9Uj1QvVK9U\/1RvVG9Uf1O\/U59Uv1RfU19Tr1OPU39Tf1O\/U59TP1NPUy9Tj1NPUy9TH1MvUz9S71L\/Ut9S71MPUy9TT1MfU19Tn1P\/VK9Uz1U\/VY9Vz1ZvVu9XH1d\/V+9Xz1hfWM9ZP1mPWX9Zv1o\/Wn9a71uPWz9bb1wvXH9cv1z\/XT9df13fXf9eb18vXz9fT1\/\/UN9gn2DfYf9h72IfYq9jD2MfYx9jr2Q\/ZH9k32UvZP9lf2YvZj9mX2avZ09nr2ffaC9or2jPaP9pT2kvaU9pj2nfae9p32qPaq9qL2q\/as9q72tva69rz2u\/bD9sb2zfbL9s320\/bR9tj22vbb9tz24Pbk9uj26vbo9uj26fbp9vD29Pbr9vT2+fb19vX2+vb49vP2+vb39vb29\/b79vz2+fb79v32\/PYC9wT3\/\/YA9wX3B\/cD9wT3BvcH9wb3B\/cH9wD3AfcB9wL3A\/cA9wD3+\/b+9vv2+Pb09vX29fbu9vL27vbu9u\/27fbt9ub24fbi9uH22vbV9tX20vbL9sb2wvbD9r\/2uva39rr2sPam9qr2pvaf9pj2oPab9o32kPaO9o72ivaG9oj2hfaA9nv2evZ59nf2d\/Zx9mv2ZfZi9l\/2VPZQ9kr2QvY79jT2L\/Yk9hv2E\/YP9gz2Bfb+9fv19vXx9e314vXe9dv12PXS9cv1z\/XI9b31u\/W99bv1tPWx9bD1tfW49bH1r\/Wz9bP1rPWu9bP1qPWk9af1qfWo9aH1qvWr9Z31ovWk9aH1n\/Wc9Z71nvWg9Zv1mvWb9Zj1l\/WW9Z31nvWg9ar1sPW09bn1vPXG9dD1zvXV9eD14PXm9ev18fX59fv1\/fX+9Qn2DPYL9hv2HvYg9ir2K\/Yy9jz2QPZC9kj2UPZU9lv2WfZd9mn2bPZy9n32hPaE9pH2mPaW9pn2pPat9q\/2tPa19rj2w\/bJ9sf2yvbP9tX22\/bf9t\/25\/bv9vT2+fb29vn2+\/b99gD3\/vYB9wr3BfcC9wr3DvcQ9xH3Ffca9x33Hfcj9yn3Lvcw9zD3N\/c09zH3NPc19zz3Pvc99z73QvdE90T3RfdD90T3SvdL90T3R\/dN90j3S\/dN9073UfdO9033UvdU91D3UfdT91D3UvdT91T3VPdO91H3Wvda91v3W\/dW91v3W\/dR91D3VPdT90v3SfdJ90X3RfdF90X3RPc+9zr3Ovc79z33Ofc09zj3Mvcs9yz3KPcl9yX3JPch9xr3FPcY9xf3C\/cK9w73Bff79vv2+\/bv9un27Pbm9uP25fbc9tr21\/bP9sr2yfbL9sX2wvbC9sX2vfa59rv2t\/aw9q\/2rfak9qT2nvaX9pT2j\/aD9nz2fPZx9mX2YPZe9lX2UPZQ9k\/2SPY69jv2O\/Yu9i72LvYp9ij2J\/Yk9h\/2HPYd9hn2G\/YZ9hL2FfYY9hL2EvYY9hX2DPYM9hH2D\/YM9gn2CPYK9gb2AfYJ9gn2A\/YD9v71\/PX79f31\/PX79fr1+vX+9fr1+fX79fz1\/PUE9hH2E\/YY9h\/2KfYr9ir2M\/Y99kn2SvZL9lD2WvZh9mb2bvZy9nX2d\/aC9ob2i\/aR9pT2m\/ai9qf2pvav9rn2vPbD9sr20\/bT9tj25vbq9uz29\/b59vr2A\/cH9w33EfcU9xr3Ivcp9zD3L\/cv9zv3PPc+90f3UPdQ91T3X\/dl92P3Yfdt93H3afdv93T3b\/dz93P3dPd693z3e\/d994T3iPeN95j3nPeV95v3pveq96f3qfe096\/3svfD98D3tve998P3vve998f3xffF9833zffM99D30\/fM98731PfR99P32ffX99P32vfe99b32ffa99j33Pff99\/32ffa99\/34vfg99z34Pff99332\/fb99z32ffb99n31vfU99L30vfP9873zPfJ98b3xPfG97\/3v\/e+97v3vPe397P3sPes96j3rveq95z3nvei95\/3lveN94b3iPeH94D3fvd19273a\/do92b3Zfdn91\/3WPdU91H3UPdN90v3RfdJ90P3Pfc\/9zz3Ovcz9yj3Jvcm9xz3G\/cV9wn3CPcB9\/P27\/bq9uT23\/bV9tX21PbK9sj2wfa59rj2t\/ay9qf2o\/ah9pz2nfaZ9pb2k\/aP9o\/2j\/aN9ov2i\/aC9oH2h\/aC9oH2gfaA9n72evZ49nr2e\/Z29nH2cfZw9nH2dvZz9mr2afZx9m32afZq9mj2ZvZo9m72aPZo9m32bvZ19n72gfaJ9pL2k\/aZ9qX2rPaq9qz2vfa99r72y\/bP9tP22\/bh9uf26vbp9vP2+vb99gT3DPcS9xn3Hfcf9yX3Lfc09zj3QfdK91D3UfdW9173ZPdr93H3d\/d594P3h\/eG9473mPea96D3rves96j3sPe598D3wvfH99D3z\/fT99v31ffX9+H34ffi9+n36ffs9+337Pfu9\/H3+Pf59\/r3\/\/cE+Af4B\/gN+Bb4GPgY+B\/4Jvgp+CX4KPgx+DD4Lfgw+C74Lvgz+DX4M\/g1+Df4Nfg8+Dz4Ovg8+Dr4PPg9+D74PvhB+EL4Pvg6+Dz4PvhB+ED4QPhE+EP4Q\/hD+Eb4SPhK+Eb4SPhK+D\/4P\/hE+Eb4RfhD+ED4P\/hD+Dv4O\/g7+Dv4OPg0+DX4Lfgs+Cr4Lvgv+Cf4Jvgd+Br4HPgS+BL4FvgR+A74DPgE+P\/3APj\/9\/P36\/fx9+T34\/fm99r32vfc99b30PfM98v3xvfE98P3vve+97n3ufe197D3r\/ek96X3qPec95H3jfeK94n3g\/d693X3bPdk91\/3W\/dR90P3O\/c69zX3N\/cu9xz3IPcZ9xD3DvcL9wb3\/fYB9\/729\/bz9uz28Pbw9uz26fbq9uz25vbm9uf25Pbk9uH23\/bg9tX22fbg9tf20vbV9t\/22\/ba9tj20\/bV9tH20\/bS9tb21\/bQ9tj22\/bY9tX21fbZ9tv24Pbr9u727vb99gX3BvcP9xP3EfcV9yD3Kfcs9zT3O\/c+90X3TfdT91v3Yfdi92r3dvd193H3f\/eJ94P3jPea95z3nPee96j3tPe197j3xffP98v30Pfe9+D36vfx9+z39\/cA+AX4CfgP+Bb4GPgi+Cf4KPgs+DH4N\/hC+EL4Q\/hO+E74TvhU+FD4VPhU+E\/4VfhX+Fj4YPhl+Gf4Yfhh+Gr4bfht+HP4dfh5+Hv4fPiJ+If4i\/iK+Ij4jfiR+JX4kPiZ+Jr4l\/iX+Jz4m\/ib+Jv4l\/iZ+J\/4pvif+KT4o\/il+Kj4ovin+Kb4p\/in+Kv4rfit+Kz4qvix+Lb4s\/ir+LD4tfit+Kr4tPit+Kj4rfin+Kr4ovik+KH4m\/id+Jr4nvic+Jb4mPia+JT4kfiS+JP4jviH+In4iviH+ID4fPh9+Hv4cvhv+Gz4avhn+F34Xvhh+Fz4VvhN+Ef4RfhF+ET4Qfg2+C\/4M\/gw+C74LPgo+Cr4JPgg+Bz4IPgf+A\/4EfgT+BL4CfgA+AH49\/fv9+335vfh99330vfH98T3vve297T3pPei96H3mPeR94b3gvd993v3e\/d592\/3bPds92\/3Z\/de92H3WPdY91v3WvdU9073UfdO90z3UfdO91H3TfdG90z3SPdK90r3Q\/dI90f3RvdJ90j3SPdK90L3QPdD90T3Q\/dF90n3P\/dA90D3RPdD90v3VfdT92P3afdr93X3d\/d594T3iveM94\/3l\/ei96f3qvet96\/3r\/e79773wffF98z30vfP99f33Pfk9+337ff39wD4\/\/cJ+Bf4F\/gZ+Cb4KPgr+Db4N\/g5+EL4SfhD+E34XfhV+F74aPhn+Gz4cPh3+Hn4g\/iE+Ir4mfiV+Jn4oPii+Kf4qfiv+K\/4rviz+LX4rviv+Lr4uvi2+Lv4xPjG+Mb4z\/jV+NX41\/jg+On45Pjk+Or48Pjv+PD48\/jy+PT48vj0+Pb49\/j2+PX4+Pj2+Pj4+fj6+Pr4+Pj5+Pr4\/Pj9+AP5Bfn9+AH5AvkH+Qb5C\/kK+QH5C\/kJ+Q\/5EfkS+RD5CPkQ+RL5C\/kM+Q75DvkM+Qz5CfkC+QT5CfkG+fv4+vj7+Pv4+fj0+PP48\/j2+PL48Pjn+Of46vjj+Of44vjY+Nj41vjb+Nr4z\/jN+Mn4yPjD+L74vfi4+LL4tPi3+Kz4p\/ii+KH4nfiW+JT4j\/iO+I74i\/iL+IX4g\/iA+Hn4d\/h2+HT4bfhj+GL4XvhT+Ff4U\/hD+Dn4Nvgz+Cv4Jfgc+BH4DfgO+AP4APj49\/b39vfv9+v34vfo9+P32\/fe99n31ffb99T3zvfS99H30\/fK98v3zffK98n3xvfK98b3wffC98D3vfe+97\/3v\/e99733vvfA9773uPe297n3vPe297L3uve697P3tPe197f3vPe998T3zPfQ99n33vfh9+737\/fv9wH4AvgF+BL4G\/gb+Bn4Jvgt+DD4MPgx+EH4RPhB+Ev4UPhQ+Fn4X\/hi+Gr4bvhv+H34g\/iB+I\/4mfia+J34q\/iv+LP4vPjC+Mf4y\/jT+Nf44vjn+Oj48fj3+Pr4+vj\/+Ab5DPkZ+Rf5Ffkk+Sr5Jfks+TH5KPku+TD5MPkx+TP5Nfk1+Tv5Ofk6+UP5R\/lH+Uv5Vvla+U\/5Vflg+V35Z\/lq+WT5avly+XD5cfl4+Xn5dvl2+Xf5dvl4+X35evl6+X75f\/l++X35gPl7+X75hfl8+Xr5g\/mA+X75hPmG+YT5hfmG+Yn5h\/l8+YT5jvmT+Y75ivmP+Yv5j\/mM+YL5gfmB+YP5fvl7+X35evl7+X\/5e\/l1+Xb5cvlt+XH5c\/lp+Wn5cvlr+Wf5Yflc+V75WvlW+VP5TPlH+Ub5RPlA+TX5Mvk1+TD5LPko+Sn5J\/kc+Rr5GfkV+Q\/5DvkR+Qz5AfkD+QL5\/fj9+PT49Pj3+Pb48fjv+On43fja+Nz41\/jM+Mj4wfi9+LX4rPik+J74nfiT+JL4j\/iG+ID4fPh5+HD4Z\/hl+GL4XPhh+GD4VvhQ+FH4TfhK+Ev4SfhG+Ef4SvhA+EP4R\/g\/+EL4Q\/hA+Dv4P\/g9+Df4N\/g1+DH4M\/g2+C\/4M\/g0+C\/4Mvg3+DH4Lvgv+DH4OPgr+C74M\/gz+DL4Mvg4+D34RvhK+FH4Wvhg+GP4afhz+HL4ePiC+Ir4j\/iS+Jv4nvii+Kz4tfi4+Ln4wvjF+M\/40\/jV+Nr44Pjq+Ov48\/j9+AT5CvkN+Rb5IPkh+Sj5MPkx+Tf5QflA+UT5UPlS+VX5XPlf+WD5Zflt+XH5dvl6+YH5iPmP+Y75kfmg+aP5o\/mm+an5pfmj+a35sfmp+a35s\/m2+bb5s\/m9+bz5w\/nI+cP5yfnI+c\/51vnY+dX51\/ne+d353fng+eb54vno+en55\/nr+ev56fnn+e\/58vnr+ev58Pny+fH57fny+fH58\/n2+fD58Pnt+e357vn3+fj57vn0+fr58vn1+fb58vn3+fn58fnw+fT57fn1+fX56vnr+er56vnk+ej56fnh+eL53fna+df51\/nT+c\/50\/nP+cj5yvnJ+cD5wfnC+b75tfm1+bf5s\/m1+a35p\/mm+af5nPmW+Zb5kfmO+Yf5gvl7+X75e\/lz+W\/5bflm+Wb5Z\/la+Vv5XPlZ+VP5UvlS+U75TPlB+Tf5N\/k1+S75Kfkk+SL5HfkT+Qv5BPkC+fr49Pjz+Oj46Pjm+Nv42fjU+Mv4yvjK+MT4wfjC+Ln4svi2+LH4rfiv+Kv4p\/ij+Kb4p\/ij+Jz4mvif+Jv4m\/ie+Jn4mPiY+Jn4mviW+Jj4m\/ia+Jj4lPiZ+J\/4mPiT+Jj4m\/iY+Jf4lfiS+JX4l\/iY+Jf4k\/ih+LH4tPi2+Ln4wvjI+ND42Pjb+OH45fjn+O349\/j\/+AH5AvkO+RH5DvkX+SD5Ifkl+Sv5L\/k3+Tv5QvlK+VH5VPlV+Vz5Yvlm+Wf5dfl++Xz5gvmJ+ZL5lfmY+aL5pfms+bf5tvm7+cb5yPnO+c350\/nb+dv53\/nk+ez57vn7+f35+\/kE+gT6AfoG+g36DfoQ+hX6EvoN+hP6Ffod+iP6Hvop+i36Mfo7+j36O\/pB+k36R\/pH+lD6UPpM+lD6WvpU+k76V\/pb+lv6Wfpa+lr6Xfpi+lz6XPpi+mH6Yvpm+mT6Yfph+mP6Z\/pl+mn6bvpr+mr6afpn+mn6aPpo+mv6afps+nH6bfps+m\/6bvpk+mT6Z\/pk+mP6ZPpl+mP6Yfpf+l\/6WvpV+lj6V\/pU+lb6T\/pL+k36TvpM+kn6R\/o\/+jv6QPpA+jn6Nfo0+iz6KPov+iT6Gfoc+h76EvoS+hT6BvoC+gH6\/Pn\/+fr58Pnx+fX57vnk+er55\/ng+d\/53Pnc+d351\/nT+dH5x\/nF+b\/5t\/mw+av5qPme+Zr5kfmC+YH5gfl1+W\/5bPlo+WX5Yflc+VP5VPlO+UX5R\/lI+UP5Qfk\/+Tf5Ofk7+TP5MPky+Sz5Kvku+Sn5Jfkq+Sv5Ifkg+Sj5I\/kf+ST5JPkg+ST5Jfkf+R75H\/kf+Rz5H\/kZ+RT5Hfkg+R75Hfkc+Rv5Hvkh+ST5J\/kv+Tz5PflG+Un5Tvlb+V75Zvln+W\/5dfl8+YL5g\/mI+Yz5kfmV+aP5pPml+a\/5r\/m1+bz5wfnH+dD50\/nY+eH55vno+fL5+\/n7+QT6D\/oQ+hf6IPoi+in6Mfo2+jz6Q\/pM+kz6TfpT+lb6Yfpk+mb6a\/pq+m36evp++nv6hvqM+pD6lPqS+pD6k\/qc+pj6lPqe+p\/6nPqi+qL6qPqt+qn6rfqx+rP6ufq9+r\/6v\/rE+sv6x\/rK+tL6z\/rU+tj61frY+tz63Pra+t363Prb+t363fre+uD64frg+uH65Prj+uL64fri+uX64frj+uf65Prj+uj66frq+uj66Pru+uv67frq+ub65frm+uT65frk+tv62\/rZ+t762frZ+tv60PrO+tL60\/rO+sn6yfrI+sT6wvrC+r\/6vvq5+rL6s\/qu+qz6rvqq+qj6o\/qe+pv6mPqT+ov6hfqB+oL6fPp2+nb6ePpx+mn6Z\/pj+l\/6Wvpa+lf6TvpM+k76TPpG+kj6Rfo8+j\/6PPo2+jH6Kfoo+iL6HPoY+hH6B\/oA+vf58Pnu+ef54Pnc+df5z\/nN+cj5xPm9+bj5ufmv+az5q\/ms+aj5n\/mh+Zj5kPmY+ZT5k\/mU+Y35i\/mM+Y\/5iPmK+Yn5gvmD+Yf5ivmF+YP5f\/l9+YH5gPl\/+YD5fvl5+Xr5fvl8+Xz5f\/l\/+Xz5evl7+Xv5evmD+X\/5gfmR+ZL5kvme+ar5rfmy+bf5vfnD+cf5zPnS+dj52vne+eX56vns+fT5+Pn4+QD6BvoO+hP6Fvob+iX6Kfop+jH6Ovo9+j\/6S\/pQ+lX6W\/pf+mX6bPpz+nX6ePqC+oj6j\/qV+pL6k\/qa+qD6p\/qs+rL6tfq7+sD6xvrJ+sz61frX+tj63Prd+t363\/rl+uX65fro+ub66Prq+uT66frx+vb69\/r4+gD7BPsD+wf7C\/sL+xD7FvsV+xP7G\/sc+xr7HPsd+xz7Gvse+x77Hfsi+yX7Jfsl+yT7Ivsm+yz7LPsm+yr7LPst+y37L\/st+yv7LPsu+zH7Lfst+y77Mvss+yr7MPsu+yn7LPsy+yn7Kvsr+yj7Kfsl+yT7I\/sl+yL7HfsZ+xr7GPsV+xP7EvsS+wr7DPsM+wb7BvsE+wL7+fr5+vT69fr1+ub65\/rq+uT62\/ra+tv62frU+s\/6zfrF+r\/6vvq6+rT6svqs+q36qvql+qH6nPqd+p36m\/qV+pT6kPqI+of6hfp++nf6dvpx+mf6YPpg+lf6S\/pI+kH6NPoy+i\/6Kvok+hv6GfoS+g76CvoB+gD6\/Pn3+fT58\/nx+e\/56Pnn+eL54fnl+eD54fnh+d\/53Pnf+d352\/nc+db50\/nS+dL50PnS+dP5z\/nJ+cv5z\/nJ+cn5x\/nG+cT5yPnI+cP5xPnD+cH5vfnE+cT5vvnF+cn5zvnV+dz54fno+ez58fn1+fv5AvoI+hD6EvoY+hr6IPoq+i36LPo0+jr6OfpC+kb6T\/pR+lT6Yvph+mP6b\/p4+nz6g\/qI+pD6lvqX+p36pvqt+rD6svq5+sH6w\/rH+tL61frY+t364\/rm+ub67\/r2+vn6\/foE+wv7DfsQ+xb7H\/si+yH7Hvsh+yf7Jfsp+yz7Lvsw+y37Nvs2+zX7Ovs8+0L7RvtK+037UvtW+1j7Wftb+177Xvtm+2r7Zfti+2\/7bftt+3L7bvt0+3P7cPtx+3X7dft2+3v7fPt6+3f7eft\/+3\/7eft8+4L7fPt8+4b7gvuA+4T7hPuC+4P7h\/uH+4b7ifuJ+4T7hfuH+4L7g\/uD+4H7e\/t5+377efty+3T7d\/t1+277bvtt+2f7aftm+2P7Yvtd+1v7XPtZ+1T7VPtO+0v7SftF+0T7Pvs7+zj7M\/sx+yz7Kvsk+x\/7GvsZ+xr7E\/sP+wv7CPsG+wb7APv6+v36+fr1+u\/68\/ru+ub66frg+uD63vrW+s76yvrK+sX6u\/qz+qr6ovqe+pb6kfqM+or6hvqB+n36evp0+m76Z\/pi+l76WvpZ+lH6TvpM+kf6RfpE+kP6Qvo++jz6P\/o6+jf6N\/o2+jL6Mvov+ir6L\/ou+ib6J\/oo+iT6Ivoo+if6Ifol+iL6Ivof+h36IPoa+iH6H\/oX+hz6Hvoa+hX6G\/oh+iH6JPov+jf6OPo++kj6SfpJ+lb6Xfpg+mP6Zfps+nH6efp5+n\/6i\/qO+pH6kfqY+qL6pPqq+rH6sfq1+rv6wvrF+sz60\/rb+uL65frt+vH6+foB+wX7B\/sO+xL7FfsZ+x\/7Ifsm+zH7M\/s5+0D7QftF+0n7UPtW+1f7Wvtc+2L7aPtt+2\/7cPt0+3L7ePt7+3r7fft6+3\/7fft8+4L7iPuN+4z7k\/ua+5j7m\/ud+6L7pfuh+6b7qfur+677rfuq+6j7rfur+637sfuv+6v7r\/u1+7H7tPu4+7H7tPu0+7P7u\/u5+7T7tvu0+7b7uvu6+7v7t\/u7+8D7vvu7+7r7vfvB+8H7wPu\/+777wfvA+777vfu6+7b7uPu8+7b7s\/uz+7P7s\/ux+7H7rfut+6v7qvuq+6X7pfui+6H7mvuZ+5n7k\/uS+5D7jPuK+4b7hPuA+3b7dvt3+3H7aftj+2f7aPtd+1f7V\/tT+1T7UftL+0L7QPtB+zz7Pfs7+zX7Nfs0+y37Kvsr+yb7HfsW+xD7CfsG+\/\/6+fr1+vD65frg+t760vrK+sr6wfq0+rf6s\/qs+qP6nfqc+pX6mfqW+o76jvqN+or6iPqB+n36fvp7+nr6ePp4+nn6dvp1+nf6d\/p2+nf6cfps+nL6cPpt+mv6a\/pq+mv6bvpr+mX6ZPpn+mP6ZPpj+mX6Z\/pg+mT6Y\/pf+mP6aPps+m36cfp5+oL6hPqQ+pf6mPqi+qX6qfqv+rL6t\/q7+r36x\/rK+sr61fra+tj64frj+ub68Pr3+vz6\/\/oI+wr7EvsZ+xz7JPss+zD7NPs6+z77RPtM+0\/7Uvtb+1\/7Yfti+277dvt4+3n7ePt9+4P7jPuM+5T7nfuh+6f7qPuy+7T7tvu8+7f7t\/u\/+8D7wfvH+8L7wvvJ+8f7y\/vM+9H70\/vU+9z73fvm++z77fvs+\/H78vvv+\/j79\/v7+\/n79vv8+wL8B\/wA\/AD8BfwE\/Ab8B\/wG\/Af8CvwC\/AX8D\/wN\/AP8A\/wM\/A38DfwL\/Az8CvwJ\/BH8DvwO\/Az8DfwR\/Ar8CvwP\/BT8FvwO\/Az8D\/wS\/Af8\/vsP\/BL8BvwC\/Ab8DvwD\/P37+\/v8+\/T78vv7+\/H77fvt+\/f78fvk++b76vvm+9z73Pvh+9r70PvZ+9P7x\/vN+8r7xPvD+7z7tfuz+7f7t\/um+6H7o\/ue+5\/7mfuT+5L7iPuI+4z7hvuD+4b7f\/tz+2\/7b\/tz+2P7Wftc+1T7UftL+0D7Pfs3+yr7JPsg+xH7DvsR+wf7Avv1+uz67frv+uz63\/rV+tX61vrT+s\/6yfrF+sT6yvrK+r36vfq9+rr6uPq1+rr6tvqt+q\/6tPqw+qz6sfqv+qz6rfqt+qj6nvql+qv6pPqm+qP6m\/qh+qn6pfqd+pz6nvqh+p\/6mvqd+pz6ofqs+qz6rfq3+sL6x\/rF+sr62vrg+uP67Prt+u\/68fr8+gT7CPsQ+wr7E\/sh+yL7I\/sn+yz7K\/sw+zf7PPtA+0b7S\/tU+2H7Xfth+277cPt1+3j7d\/uA+4r7kvuX+5v7pPum+7P7wfu7+7X7ufvC+8r7z\/vT+9X71\/vb++b78fv2+\/j7+Pv6+\/37\/Pv6+\/77AvwE\/Af8AfwH\/A78DvwW\/BX8E\/wX\/CL8Kvwg\/CT8K\/wt\/DP8Nvw8\/D\/8O\/w+\/Ej8RvxD\/ET8SfxM\/En8UPxG\/Ef8TvxP\/E78S\/xP\/FH8WPxY\/FT8UPxT\/FX8UvxU\/Ff8W\/xZ\/Fr8XPxk\/GP8YPxk\/Gb8Zfxl\/Gv8ZPxk\/Gv8Y\/xh\/Gr8Z\/xj\/GT8YPxd\/Fz8ZPxl\/Fn8Wfxc\/Fr8WPxY\/FP8SvxL\/E78T\/xJ\/Er8SfxE\/EL8Qvw+\/Dr8Ofw0\/DH8Kfwt\/Cn8H\/wf\/B38E\/wL\/A38CvwB\/AX8B\/z\/+\/f78fvz+\/D76\/vo++T75Pvh++L72\/vW+9r7z\/vH+8X7wvu1+7H7r\/uj+6P7nPuP+437g\/t8+3f7bvto+1\/7XPtd+1f7TPtI+0T7PPs6+zj7NPsx+yr7Ivsq+yr7Ifse+xz7GvsZ+x\/7F\/sU+xb7FfsT+xX7EPsJ+xH7D\/sN+xT7FPsN+wz7E\/sT+wT7CPsP+wf7BfsE+wn7A\/v7+gb7B\/v7+gH7Bvv9+v76D\/sQ+wv7Ffsd+yP7K\/sv+zP7Pvs5+z37SvtP+1D7U\/tg+177Yvtr+237b\/t0+3\/7g\/uF+4r7k\/uW+5T7nPuf+6P7qfu0+7X7uPvG+8X7y\/vX+9r73\/vk++j76\/vs+\/f7APwB\/A78DvwN\/Bn8HPwd\/B38KPwt\/Cv8Ofw4\/D38S\/xR\/FH8SPxP\/Ff8UvxW\/Fn8U\/xX\/F38V\/xY\/Fv8Yfxh\/GD8avxv\/HH8cfx6\/Hz8d\/x9\/H78g\/yF\/Ib8jPyT\/JT8k\/yc\/J38mfyb\/J\/8m\/yd\/J\/8m\/yk\/Kf8pvyq\/KT8p\/yx\/Kr8qfyr\/Kv8rfyo\/K78sPyr\/LD8tvyz\/LL8tvy0\/LT8tfy4\/LL8sPy6\/LX8svy6\/Lj8sfyu\/K\/8r\/ys\/K\/8rfyk\/KT8o\/yh\/KD8pPye\/Jn8n\/yc\/Jj8mPyX\/JH8jfyP\/JD8ifyB\/IP8gPx4\/HX8cfxu\/G38ZPxg\/Fz8VPxU\/FX8UvxL\/En8RfxE\/D78Ovw8\/DT8Mfwu\/Cn8Jvwl\/CT8Hvwa\/Bj8E\/wJ\/AX8\/vv++\/v79Pvv++T73PvZ+9T7yPvC+7z7t\/u0+6j7o\/uf+5f7j\/uP+4j7hvuI+4D7fft9+3j7bftv+3T7bftn+2b7Zvtj+2b7ZPti+2D7YPtf+1v7W\/ta+1X7VPtW+1X7VPtR+1b7U\/tO+1H7TvtN+037SvtN+1P7UvtJ+1D7UvtO+1X7T\/tQ+1n7YPtm+2z7cvt0+337h\/uM+5H7mfue+6P7qfuu+7L7ufu++8H7y\/vP+9P74Pvi++X77fvw+\/T7+fsA\/AL8CPwN\/BX8H\/wf\/CX8L\/w1\/Df8P\/xE\/EX8TPxO\/FT8Wfxh\/Gn8b\/xx\/Hj8gPyB\/If8jPyQ\/JL8lfyd\/KD8o\/yu\/Lb8tvy4\/Lr8u\/y\/\/Lz8v\/zC\/MH8wfzD\/Mb8xvzJ\/M38yvzN\/NX80\/zY\/N383fzm\/Oj86vzq\/On86vzq\/O\/89Pz3\/Pb89\/z1\/Pb8+vz5\/Pv8+vz6\/P38Af36\/Pf8\/Pz5\/Pn8\/vwB\/f38+vwE\/Qf9\/vwE\/QX9\/\/wC\/QH9BP0F\/Qf9B\/0C\/QD9Bf0F\/QP9Bv0D\/QL9Af0A\/QD99vz2\/Pn89\/z4\/PX88vzz\/PD87vzs\/OT85vzl\/OL85Pze\/Nb81PzV\/NT81fzP\/Mn8xfzG\/MH8tvyx\/LH8sPyk\/KX8o\/yg\/Jj8k\/yW\/I\/8ivyC\/IX8hPx\/\/HP8cfx\/\/Hn8dPxi\/Gz8dfxl\/GX8Yfxh\/Fv8Xvw\/\/FD8Tfwn\/E\/8Jvwg\/DT8Dfwf\/BT86fsm\/On77\/sS\/NP7+fvZ+9\/73fvS+8T71Pu\/+837wPuy+8\/7rfu\/+5j7xvu2+5v7uvuq+6H7tvuo+6T7qvul+7D7oPue+6z7q\/uI+7H7kfuU+677iPuy+4X7lvu6+4b7kfuf+6v7lfuR+537k\/ue+5P7lvuk+5b7tvuY+7v7y\/ua++P7wvvB++H73fve++X77vvi+wf8APzy+wv8BPwE\/Cj8CPwV\/En8Cfw+\/DT8Gfxj\/CP8VvxS\/B\/8fvxU\/FX8efxZ\/Hf8ffx4\/I\/8gvyX\/KX8ffys\/LH8lfyu\/Lz8v\/y9\/Kz84fzK\/LD8+\/zS\/Mz8z\/z1\/Pv83\/z0\/Nf87fz9\/OX8+vz2\/Pz8\/fzv\/AP96vz4\/AH9+vwA\/fz8AP0E\/Rn9F\/39\/B79Ff0F\/SH9Ef0s\/Rr9FP0R\/ST9Qf0P\/Rz9KP0l\/SL9Gf0w\/RP9Lf0g\/QD9Pv0r\/TD9JP0i\/Tf9F\/0z\/Tb9G\/0i\/Tn9Jf0T\/Sn9Mv0s\/R39PP0s\/Sb9Ov0x\/UL9Lf0l\/Sv9KP0h\/Sj9Mv0e\/Rr9Jv0Y\/Tz9P\/0E\/Rj9J\/0n\/Rf9Dv0R\/Rr9Ev0i\/Sn97vwL\/R39I\/0Q\/ef89fwR\/Q39+\/zz\/Nb89\/z6\/Pz89Pze\/Nj82vz9\/OP8x\/zC\/Mr8x\/zN\/Mj8tfy6\/K78wPzM\/LH8mvyg\/LD8p\/yo\/JX8efyS\/JT8jPxx\/GX8dvxe\/Gr8YvxH\/D78Pfw8\/Dn8LPwY\/Cj8H\/wO\/A38F\/wB\/AH8Bfz9+wT88fv0++n79vvs++H75vvc++H74vvc+9X7zfvT+9v7x\/vI+8j71vvJ+8r7yPu4+837zfvQ+8P7sPu6+8f7u\/u8+7r7wfu9+7P7vvu3+737rPu1+7n7p\/u7+7r7x\/vT+8z73Pvh++f75vvn+\/T7+fv\/+\/r7AvwX\/Af8HPwu\/Br8NPwx\/DD8OPwx\/Dr8SPxG\/Ef8VvxR\/GT8bPxn\/Hb8e\/x5\/H\/8hvyG\/Iz8l\/ye\/JL8nvyx\/Kr8uPzE\/L\/8xfzH\/NH83vzZ\/Nb85vzr\/O789vz0\/Az9CP0P\/R\/9Bf0e\/Rr9H\/0m\/R39I\/0e\/TP9Mf0v\/S\/9L\/04\/TX9Pf1C\/Tv9Uf1F\/Uz9Uf1M\/V79S\/1k\/V79X\/1l\/Wz9bP1d\/XP9cP1q\/Wj9eP1z\/XT9fP1v\/X39dP1z\/Xj9eP13\/Wv9fP13\/Xz9cf2B\/Xr9ef18\/W39jP1y\/XD9ev12\/Xr9fP1u\/YD9ev16\/Yb9ef2H\/Wz9gf19\/XT9gP1o\/XX9bP1y\/Xn9Yf14\/XX9Y\/1t\/W\/9Y\/1X\/Wf9Zv1W\/Vj9Vf1P\/VD9Uf1K\/UL9Rf0\/\/UT9O\/0u\/S79M\/0m\/SD9I\/0T\/Rv9Ff0R\/Qf9Df0A\/fv8\/fzw\/P387Pzv\/OP86\/zl\/Nv85\/zO\/Nb8y\/zL\/Mz8ufy7\/K\/8r\/yk\/J\/8o\/yO\/I78h\/x9\/H\/8efxd\/GX8Z\/xg\/E\/8Q\/xX\/Ef8Rvw6\/Dz8K\/wy\/Df8K\/wx\/CD8Hfwh\/Cn8HvwY\/B38JPwj\/B38HvwV\/BH8Ivwf\/Av8D\/wb\/Br8FPwO\/BP8DfwG\/Bn8D\/wO\/Af8A\/wS\/BH8DPz\/+w\/8E\/z8+wX8CfwE\/An8CPwQ\/Ab8Gfws\/Cj8Mfwt\/Db8Q\/xK\/EH8TPxU\/FT8Wvxf\/Gf8a\/xv\/HT8fPx4\/H\/8h\/yW\/JH8jvyk\/Jv8pvyx\/LH8t\/y6\/L38yPzb\/NP8zPzc\/OT84vzm\/Ov8+\/z3\/AD9C\/0F\/RD9Df0W\/SL9Iv0n\/ST9Mf07\/Tf9Pf0\/\/Ur9T\/1P\/Vn9WP1P\/Vn9XP1f\/Wb9YP1f\/WP9bf1p\/WT9Yv1w\/Wj9bP1\/\/XP9eP10\/YD9iP2C\/Yb9hf2R\/Y39hv2Q\/Yn9kP2Q\/Yv9lv2P\/Zb9kv2T\/Zr9lf2Y\/ZT9lP2g\/Zv9kv2e\/Zr9mv2b\/Zz9nv2e\/Z39m\/2d\/Zz9pP2k\/an9pv2e\/an9qP2p\/an9pv21\/a79pv2m\/aT9rv2p\/aH9o\/2m\/aT9pv2g\/Zr9nP2c\/Zr9m\/2U\/Y\/9lf2Q\/Yr9iP2Q\/Yr9jf2J\/X39gf18\/YH9fP14\/Xb9c\/1y\/Wn9aP1l\/V39Wv1Z\/Vb9U\/1O\/Uz9S\/08\/T79Qf0z\/TX9Mv0w\/Sj9I\/0t\/SD9Hv0j\/Rr9Gv0O\/Qv9C\/0F\/f\/87vz2\/O384Pzh\/NX80vzJ\/MP8vfy8\/Lb8pfyq\/Kf8ofyX\/JH8lvyI\/In8hPyH\/IL8efx+\/HH8fPxz\/Gr8dPxq\/G38afxo\/Gn8Yfxh\/GT8YPxc\/F38Xvxe\/FX8V\/xX\/FL8UfxS\/FL8SvxO\/Er8UPxQ\/Eb8SPxJ\/Ev8SPxM\/En8SfxP\/Ej8UvxT\/Fj8Y\/xk\/HH8cvx2\/Hz8gPyK\/I38lfyd\/J38ovyu\/LL8rvy3\/L78wfzG\/Mr80\/zV\/Nj85\/zp\/PH89Pz5\/Ab9AP0L\/Qz9Ff0W\/RX9JP0o\/Sv9Kf05\/Tz9QP1B\/Un9Uv1O\/VX9Xv1k\/WD9Yv1u\/XT9cf14\/X39hf2C\/YD9kf2U\/ZL9kf2a\/Zr9lv2b\/Zz9nv2f\/aP9of2k\/aX9of2u\/af9qv2z\/bD9tv24\/bn9vf3F\/cT9yP3J\/c\/90f3I\/c\/9yf3Y\/dn9zf3e\/dn92f3c\/dn93P3Y\/dz92\/3m\/dn92v3k\/eH95v3g\/eb95P3l\/ef96v3s\/er97P3u\/er97v3v\/er97v3q\/e797v3r\/en95v3q\/er95f3m\/eL93v3g\/dz93f3Z\/dv90\/3U\/dj9zv3Q\/cz9z\/3I\/cf9zP3C\/cL9v\/2\/\/bz9tf2x\/bH9sf2r\/aP9qP2i\/ZX9l\/2V\/ZD9if2A\/YL9e\/14\/Xz9bv1x\/XD9bP1o\/WL9X\/1W\/VX9Tf1S\/U79SP1F\/UT9Q\/00\/TT9MP0q\/ST9Gv0X\/Q39Bf0F\/fX87Pzm\/N784PzM\/Mz80vzB\/MD8u\/yv\/LP8p\/yd\/KL8nvye\/JP8k\/yY\/Iv8i\/yP\/Ir8gvyD\/IP8gPyD\/IP8hPyA\/Hz8evx4\/Hz8ePx3\/Hj8cvxx\/HH8dPxw\/G38bPxv\/Gz8ZPxp\/Gb8Zfxn\/GH8Y\/xi\/F78Zfxj\/GT8bfxu\/H38gvyA\/JH8lfyX\/Kb8pvyr\/K78r\/y9\/MH8wvzI\/NH82fzc\/OP87fzt\/Pb8\/vz9\/Aj9D\/0N\/RX9G\/0f\/Sr9LP04\/T79Sv1W\/VT9YP1k\/W39dP15\/YD9hP2I\/Y\/9kP2V\/Zj9mP2k\/Zv9m\/2l\/aP9rP2w\/bP9uf2\/\/cT9zf3U\/df92\/3Z\/dv92\/3b\/eD94P3f\/eD95f3k\/eH95\/3q\/ev97\/3y\/fj9\/P0A\/gP+Af4E\/gf+Cf4N\/g7+DP4S\/hT+EP4O\/hD+Ff4T\/hP+FP4S\/hT+G\/4d\/hz+HP4g\/if+Jv4o\/iv+MP4u\/i3+K\/4o\/in+NP4y\/iX+MP4w\/jb+MP48\/ij+Pv47\/ir+Sf4R\/lb+Kv4Z\/kz+Ev46\/jD+Ff5D\/hn+Gv45\/vr9Nf4W\/gr+HP4M\/hP+E\/4K\/g3+D\/4A\/gD+6\/0e\/uX96\/37\/dL9A\/7m\/dX94f3L\/ef9vv3J\/dP9qP3K\/aT9pv3G\/Zb9pP2s\/aH9lv2V\/bH9cv2A\/Z79jf1u\/Xf9f\/1q\/X\/9a\/1i\/XP9VP1h\/Vf9aP1C\/Ub9a\/0b\/Tf9L\/0t\/SL9BP0b\/Rj9+fwB\/fv8\/Pzl\/PH8Af3A\/PL85vzA\/On8x\/zf\/M78tvzm\/L78z\/y+\/Lj80vy9\/LP8x\/y\/\/Lb8wPyy\/MP8pvzA\/K78tfy1\/Jn8w\/yo\/LX8n\/yq\/Jb8svy\/\/Hv8qfyk\/Lf8kPyM\/LH8l\/yp\/JT8p\/y4\/Kn8xfy7\/NL82fy8\/OT82vze\/Pz83\/z5\/Pz8+fwR\/QL9KP0F\/RX9Jv0j\/UL9Kf0r\/TD9WP05\/T39Vf07\/Uv9U\/1a\/V\/9U\/1u\/Xb9cP2H\/XX9jv19\/aL9o\/17\/bv9ov2e\/b39tv3A\/b\/9uf3Q\/c39zv3p\/dL95f39\/eT9\/f39\/QT+Bf71\/RX+C\/4B\/gj+Cv4I\/gX+A\/4X\/gz+D\/4g\/iH+Rf8KAPL\/EAAFAAgABwAOAA4ACgAHAAEABAACAAMA+\/\/8\/\/z\/DwA4AO7\/z\/\/7\/\/f\/\/P\/2\/\/r\/AQAJAAkABgAFAP7\/+v\/6\/\/z\/\/v8AAAAAAgADAAEAAAD9\/\/v\/+\/\/8\/\/3\/\/\/8AAAIABAAEAAQABAACAAEAAAAAAP\/\/\/\/\/\/\/wAAAAAAAAAA\/\/\/\/\/\/\/\/\/\/\/\/\/\/\/\/AAAAAAAAAAAAAP\/\/\/v\/8\/\/v\/+v\/5\/\/n\/+v\/6\/\/v\/\/P\/9\/\/7\/\/v\/\/\/\/\/\/\/\/8AAAAAAQACAAMABAAEAAUABAAEAAMAAgABAAEAAAABAAEAAQABAAIAAgABAAEAAAAAAAAAAAABAAEAAgADAAMAAwADAAMAAgABAAEAAQABAAEAAQACAAIAAgACAAEAAQABAAEAAgACAAMAAwA=\" type=\"audio\/wav\" \/>\n",
       "                    Your browser does not support the audio element.\n",
       "                <\/audio>\n",
       "              "
      ]
     },
     "metadata":{
      
     },
     "output_type":"display_data"
    },
    {
     "data":{
      "image\/png":"[encoded data removed]"
     },
     "metadata":{
      "image\/png":{
       
      }
     },
     "output_type":"display_data"
    }
   ],
   "metadata":{
    "datalore":{
     "node_id":"OJqlK70ZnoLF8z1nFHfOTI",
     "type":"CODE",
     "hide_input_from_viewers":true,
     "hide_output_from_viewers":true
    }
   }
  },
  {
   "cell_type":"markdown",
   "source":[
    "# Load the class mapping from YAMNet"
   ],
   "attachments":{
    
   },
   "metadata":{
    "datalore":{
     "node_id":"yXbkCpmFvAJ4DtmITOhMlw",
     "type":"MD",
     "hide_input_from_viewers":false,
     "hide_output_from_viewers":false,
     "report_properties":{
      "rowId":"o8yk3Uju8d5jG1bPYjohoB"
     }
    }
   }
  },
  {
   "cell_type":"code",
   "source":[
    "class_map_path = yamnet_model.class_map_path().numpy().decode('utf-8')\n",
    "class_names = list(pd.read_csv(class_map_path)['display_name'])\n",
    "\n",
    "# for name in class_names[:20]:\n",
    "#   print(name)\n",
    "# print('...')"
   ],
   "execution_count":142,
   "outputs":[
    
   ],
   "metadata":{
    "datalore":{
     "node_id":"oTV6ImH9OrGVf5njFH88ut",
     "type":"CODE",
     "hide_input_from_viewers":false,
     "hide_output_from_viewers":false,
     "report_properties":{
      "rowId":"6mOupses0Nh272uxbTURx0"
     }
    }
   }
  },
  {
   "cell_type":"markdown",
   "source":[
    "# Run inference\n",
    "\n",
    "YAMNet provides frame-level class-scores (i.e., 521 scores for every frame). In order to determine clip-level predictions, the scores can be aggregated per-class across frames (e.g., using mean or max aggregation). This is done below by `scores_np.mean(axis=0)`. Finally, to find the top-scored class at the clip-level, you take the maximum of the 521 aggregated scores."
   ],
   "attachments":{
    
   },
   "metadata":{
    "datalore":{
     "node_id":"BicD4hVBqO0ixo4FQ6cBhh",
     "type":"MD",
     "hide_input_from_viewers":false,
     "hide_output_from_viewers":false,
     "report_properties":{
      "rowId":"iXqyjfQtEB0iVsCITkOZEg"
     }
    }
   }
  },
  {
   "cell_type":"code",
   "source":[
    "# run inference on clap.wav\n",
    "\n",
    "scores, embeddings, spectrogram = yamnet_model(clap_wav_data)\n",
    "class_scores = tf.reduce_mean(scores, axis=0)\n",
    "top_class = tf.math.argmax(class_scores)\n",
    "inferred_class = class_names[top_class]\n",
    "\n",
    "print(f'The main sound is: {inferred_class}')\n",
    "print(f'The embeddings shape: {embeddings.shape}')"
   ],
   "execution_count":143,
   "outputs":[
    {
     "name":"stdout",
     "text":[
      "The main sound is: Slap, smack\n",
      "The embeddings shape: (3, 1024)\n"
     ],
     "output_type":"stream"
    }
   ],
   "metadata":{
    "datalore":{
     "node_id":"7ykNgLKNGBILTx0d32s3Cg",
     "type":"CODE",
     "hide_input_from_viewers":true,
     "hide_output_from_viewers":true
    }
   }
  },
  {
   "cell_type":"markdown",
   "source":[
    "## Create claps_metadata.csv based on file names of training data"
   ],
   "attachments":{
    
   },
   "metadata":{
    "datalore":{
     "node_id":"2n9SkBGFrza097YXlLVBft",
     "type":"MD",
     "hide_input_from_viewers":false,
     "hide_output_from_viewers":false,
     "report_properties":{
      "rowId":"4Qm1G8QQWUF4cxLVExDwbo"
     }
    }
   }
  },
  {
   "cell_type":"code",
   "source":[
    "import csv\n",
    "import os\n",
    "\n",
    "# Specify the directory where your WAV files are located\n",
    "directory = 'clap_sounds\/converted'\n",
    "\n",
    "# Initialize an empty list to store the file details\n",
    "file_list = []\n",
    "\n",
    "\n",
    "# Walk through the subdirectories\n",
    "for root, dirs, files in os.walk(directory):\n",
    "    for filename in files:\n",
    "        if filename.endswith(\".wav\"):\n",
    "            # Extract the necessary information from the filename\n",
    "            category = os.path.basename(root)  # Get the name of the subdirectory\n",
    "\n",
    "            # Append the file details to the list\n",
    "            file_list.append([os.path.join(root, filename), category])\n",
    "\n",
    "\n",
    "# Print the file details as CSV\n",
    "print('filename, category')\n",
    "for file_details in file_list:\n",
    "    print(','.join(str(detail) for detail in file_details))\n",
    "\n",
    "\n",
    "# Specify the output CSV file path\n",
    "output_file = 'clap_sounds\/claps_metadata.csv'\n",
    "\n",
    "# Write the file details to the CSV file\n",
    "with open(output_file, 'w', newline='') as csvfile:\n",
    "    writer = csv.writer(csvfile)\n",
    "    writer.writerow(['filename', 'category'])  # Write header\n",
    "    writer.writerows(file_list)\n",
    "\n",
    "print(\"CSV file created successfully.\")"
   ],
   "execution_count":144,
   "outputs":[
    {
     "name":"stdout",
     "text":[
      "filename, category\n",
      "clap_sounds\/converted\/double_claps\/double_clap_1.wav,double_claps\n",
      "clap_sounds\/converted\/double_claps\/double_clap_6.wav,double_claps\n",
      "clap_sounds\/converted\/double_claps\/double_clap_11.wav,double_claps\n",
      "clap_sounds\/converted\/double_claps\/double_clap_3.wav,double_claps\n",
      "clap_sounds\/converted\/double_claps\/double_clap_21.wav,double_claps\n",
      "clap_sounds\/converted\/double_claps\/double_clap_4.wav,double_claps\n",
      "clap_sounds\/converted\/double_claps\/double_clap_8.wav,double_claps\n",
      "clap_sounds\/converted\/double_claps\/double_clap_13.wav,double_claps\n",
      "clap_sounds\/converted\/double_claps\/double_clap_19.wav,double_claps\n",
      "clap_sounds\/converted\/double_claps\/double_clap_15.wav,double_claps\n",
      "clap_sounds\/converted\/double_claps\/double_clap_17.wav,double_claps\n",
      "clap_sounds\/converted\/double_claps\/double_clap_7.wav,double_claps\n",
      "clap_sounds\/converted\/double_claps\/double_clap_12.wav,double_claps\n",
      "clap_sounds\/converted\/double_claps\/double_clap_0.wav,double_claps\n",
      "clap_sounds\/converted\/double_claps\/double_clap_10.wav,double_claps\n",
      "clap_sounds\/converted\/double_claps\/double_clap_5.wav,double_claps\n",
      "clap_sounds\/converted\/double_claps\/double_clap_20.wav,double_claps\n",
      "clap_sounds\/converted\/double_claps\/double_clap_2.wav,double_claps\n",
      "clap_sounds\/converted\/double_claps\/double_clap_14.wav,double_claps\n",
      "clap_sounds\/converted\/double_claps\/double_clap_9.wav,double_claps\n",
      "clap_sounds\/converted\/double_claps\/double_clap_18.wav,double_claps\n",
      "clap_sounds\/converted\/double_claps\/double_clap_16.wav,double_claps\n",
      "clap_sounds\/converted\/single_claps\/single_clap_16.wav,single_claps\n",
      "clap_sounds\/converted\/single_claps\/single_clap_19.wav,single_claps\n",
      "clap_sounds\/converted\/single_claps\/single_clap_2.wav,single_claps\n",
      "clap_sounds\/converted\/single_claps\/single_clap_13.wav,single_claps\n",
      "clap_sounds\/converted\/single_claps\/single_clap_8.wav,single_claps\n",
      "clap_sounds\/converted\/single_claps\/single_clap_11.wav,single_claps\n",
      "clap_sounds\/converted\/single_claps\/single_clap_4.wav,single_claps\n",
      "clap_sounds\/converted\/single_claps\/single_clap_6.wav,single_claps\n",
      "clap_sounds\/converted\/single_claps\/single_clap_5.wav,single_claps\n",
      "clap_sounds\/converted\/single_claps\/single_clap_0.wav,single_claps\n",
      "clap_sounds\/converted\/single_claps\/single_clap_15.wav,single_claps\n",
      "clap_sounds\/converted\/single_claps\/single_clap_17.wav,single_claps\n",
      "clap_sounds\/converted\/single_claps\/single_clap_18.wav,single_claps\n",
      "clap_sounds\/converted\/single_claps\/single_clap_3.wav,single_claps\n",
      "clap_sounds\/converted\/single_claps\/single_clap_1.wav,single_claps\n",
      "clap_sounds\/converted\/single_claps\/single_clap_14.wav,single_claps\n",
      "clap_sounds\/converted\/single_claps\/single_clap_9.wav,single_claps\n",
      "clap_sounds\/converted\/single_claps\/single_clap_12.wav,single_claps\n",
      "clap_sounds\/converted\/single_claps\/single_clap_7.wav,single_claps\n",
      "clap_sounds\/converted\/single_claps\/single_clap_10.wav,single_claps\n",
      "CSV file created successfully.\n"
     ],
     "output_type":"stream"
    }
   ],
   "metadata":{
    "datalore":{
     "node_id":"r7iLc1t9YZDzbs59rAosIF",
     "type":"CODE",
     "hide_input_from_viewers":true,
     "hide_output_from_viewers":true
    }
   }
  },
  {
   "cell_type":"markdown",
   "source":[
    "# Read in csv and convert to Pandas dataframe"
   ],
   "attachments":{
    
   },
   "metadata":{
    "datalore":{
     "node_id":"XHIh9JUDDQlBcW19Fgafhg",
     "type":"MD",
     "hide_input_from_viewers":false,
     "hide_output_from_viewers":false,
     "report_properties":{
      "rowId":"1585fdE7SwM3SL5fcbEbA1"
     }
    }
   }
  },
  {
   "cell_type":"code",
   "source":[
    "# read in our .csv\n",
    "\n",
    "claps_metadata_csv = '.\/clap_sounds\/claps_metadata.csv'\n",
    "base_data_path = '.\/clap_sounds\/output\/'\n",
    "\n",
    "pd_data = pd.read_csv(claps_metadata_csv)\n",
    "pd_data.head()"
   ],
   "execution_count":145,
   "outputs":[
    {
     "data":{
      "text\/html":[
       "<div>\n",
       "<style scoped>\n",
       "    .dataframe tbody tr th:only-of-type {\n",
       "        vertical-align: middle;\n",
       "    }\n",
       "\n",
       "    .dataframe tbody tr th {\n",
       "        vertical-align: top;\n",
       "    }\n",
       "\n",
       "    .dataframe thead th {\n",
       "        text-align: right;\n",
       "    }\n",
       "<\/style>\n",
       "<table border=\"1\" class=\"dataframe\">\n",
       "  <thead>\n",
       "    <tr style=\"text-align: right;\">\n",
       "      <th><\/th>\n",
       "      <th>filename<\/th>\n",
       "      <th>category<\/th>\n",
       "    <\/tr>\n",
       "  <\/thead>\n",
       "  <tbody>\n",
       "    <tr>\n",
       "      <th>0<\/th>\n",
       "      <td>clap_sounds\/converted\/double_claps\/double_clap...<\/td>\n",
       "      <td>double_claps<\/td>\n",
       "    <\/tr>\n",
       "    <tr>\n",
       "      <th>1<\/th>\n",
       "      <td>clap_sounds\/converted\/double_claps\/double_clap...<\/td>\n",
       "      <td>double_claps<\/td>\n",
       "    <\/tr>\n",
       "    <tr>\n",
       "      <th>2<\/th>\n",
       "      <td>clap_sounds\/converted\/double_claps\/double_clap...<\/td>\n",
       "      <td>double_claps<\/td>\n",
       "    <\/tr>\n",
       "    <tr>\n",
       "      <th>3<\/th>\n",
       "      <td>clap_sounds\/converted\/double_claps\/double_clap...<\/td>\n",
       "      <td>double_claps<\/td>\n",
       "    <\/tr>\n",
       "    <tr>\n",
       "      <th>4<\/th>\n",
       "      <td>clap_sounds\/converted\/double_claps\/double_clap...<\/td>\n",
       "      <td>double_claps<\/td>\n",
       "    <\/tr>\n",
       "  <\/tbody>\n",
       "<\/table>\n",
       "<\/div>"
      ]
     },
     "metadata":{
      
     },
     "output_type":"display_data"
    }
   ],
   "metadata":{
    "datalore":{
     "node_id":"4pztFr6a3mHpQlLhsPitrO",
     "type":"CODE",
     "hide_input_from_viewers":true,
     "hide_output_from_viewers":true
    }
   }
  },
  {
   "cell_type":"markdown",
   "source":[
    "# Specify class names of sounds that we're trying to identify"
   ],
   "attachments":{
    
   },
   "metadata":{
    "datalore":{
     "node_id":"8Ngfc6AUGO1BSvUnMeYPRD",
     "type":"MD",
     "hide_input_from_viewers":true,
     "hide_output_from_viewers":true
    }
   }
  },
  {
   "cell_type":"code",
   "source":[
    "my_classes = ['double_claps', 'single_claps']"
   ],
   "execution_count":146,
   "outputs":[
    
   ],
   "metadata":{
    "datalore":{
     "node_id":"48JJ40ivbnZawXdIRv5IaW",
     "type":"CODE",
     "hide_input_from_viewers":true,
     "hide_output_from_viewers":true
    }
   }
  },
  {
   "cell_type":"markdown",
   "source":[
    "# Add fold column which'll be used later onto to split into train, test, validation\n",
    "\n",
    "fold value is randomly generated between 1-5, inclusive"
   ],
   "attachments":{
    
   },
   "metadata":{
    "datalore":{
     "node_id":"Y1zCTqUc7TlvKqrvYTM48v",
     "type":"MD",
     "hide_input_from_viewers":true,
     "hide_output_from_viewers":true
    }
   }
  },
  {
   "cell_type":"code",
   "source":[
    "import random\n",
    "random.seed(42) # Setting seed for reproducibility\n",
    "\n",
    "folds_pd = pd_data.copy()\n",
    "\n",
    "# Assign fold value to each row\n",
    "for index, row in pd_data.iterrows():\n",
    "    folds_pd.at[index, 'fold'] = random.randint(1, 5)\n",
    "\n",
    "folds_pd['fold'] = folds_pd['fold'].astype(int)  # Convert 'fold' column to integers\n",
    "\n",
    "folds_pd.head(10)"
   ],
   "execution_count":147,
   "outputs":[
    {
     "data":{
      "text\/html":[
       "<div>\n",
       "<style scoped>\n",
       "    .dataframe tbody tr th:only-of-type {\n",
       "        vertical-align: middle;\n",
       "    }\n",
       "\n",
       "    .dataframe tbody tr th {\n",
       "        vertical-align: top;\n",
       "    }\n",
       "\n",
       "    .dataframe thead th {\n",
       "        text-align: right;\n",
       "    }\n",
       "<\/style>\n",
       "<table border=\"1\" class=\"dataframe\">\n",
       "  <thead>\n",
       "    <tr style=\"text-align: right;\">\n",
       "      <th><\/th>\n",
       "      <th>filename<\/th>\n",
       "      <th>category<\/th>\n",
       "      <th>fold<\/th>\n",
       "    <\/tr>\n",
       "  <\/thead>\n",
       "  <tbody>\n",
       "    <tr>\n",
       "      <th>0<\/th>\n",
       "      <td>clap_sounds\/converted\/double_claps\/double_clap...<\/td>\n",
       "      <td>double_claps<\/td>\n",
       "      <td>1<\/td>\n",
       "    <\/tr>\n",
       "    <tr>\n",
       "      <th>1<\/th>\n",
       "      <td>clap_sounds\/converted\/double_claps\/double_clap...<\/td>\n",
       "      <td>double_claps<\/td>\n",
       "      <td>1<\/td>\n",
       "    <\/tr>\n",
       "    <tr>\n",
       "      <th>2<\/th>\n",
       "      <td>clap_sounds\/converted\/double_claps\/double_clap...<\/td>\n",
       "      <td>double_claps<\/td>\n",
       "      <td>3<\/td>\n",
       "    <\/tr>\n",
       "    <tr>\n",
       "      <th>3<\/th>\n",
       "      <td>clap_sounds\/converted\/double_claps\/double_clap...<\/td>\n",
       "      <td>double_claps<\/td>\n",
       "      <td>2<\/td>\n",
       "    <\/tr>\n",
       "    <tr>\n",
       "      <th>4<\/th>\n",
       "      <td>clap_sounds\/converted\/double_claps\/double_clap...<\/td>\n",
       "      <td>double_claps<\/td>\n",
       "      <td>2<\/td>\n",
       "    <\/tr>\n",
       "    <tr>\n",
       "      <th>5<\/th>\n",
       "      <td>clap_sounds\/converted\/double_claps\/double_clap...<\/td>\n",
       "      <td>double_claps<\/td>\n",
       "      <td>2<\/td>\n",
       "    <\/tr>\n",
       "    <tr>\n",
       "      <th>6<\/th>\n",
       "      <td>clap_sounds\/converted\/double_claps\/double_clap...<\/td>\n",
       "      <td>double_claps<\/td>\n",
       "      <td>1<\/td>\n",
       "    <\/tr>\n",
       "    <tr>\n",
       "      <th>7<\/th>\n",
       "      <td>clap_sounds\/converted\/double_claps\/double_clap...<\/td>\n",
       "      <td>double_claps<\/td>\n",
       "      <td>5<\/td>\n",
       "    <\/tr>\n",
       "    <tr>\n",
       "      <th>8<\/th>\n",
       "      <td>clap_sounds\/converted\/double_claps\/double_clap...<\/td>\n",
       "      <td>double_claps<\/td>\n",
       "      <td>1<\/td>\n",
       "    <\/tr>\n",
       "    <tr>\n",
       "      <th>9<\/th>\n",
       "      <td>clap_sounds\/converted\/double_claps\/double_clap...<\/td>\n",
       "      <td>double_claps<\/td>\n",
       "      <td>5<\/td>\n",
       "    <\/tr>\n",
       "  <\/tbody>\n",
       "<\/table>\n",
       "<\/div>"
      ]
     },
     "metadata":{
      
     },
     "output_type":"display_data"
    }
   ],
   "metadata":{
    "datalore":{
     "node_id":"xgue8kslRF8SXK1f8VYgmb",
     "type":"CODE",
     "hide_input_from_viewers":true,
     "hide_output_from_viewers":true
    }
   }
  },
  {
   "cell_type":"markdown",
   "source":[
    "# Add target column which just converts category column into an integer"
   ],
   "attachments":{
    
   },
   "metadata":{
    "datalore":{
     "node_id":"W4lIaVmonOWt8f4I7RzAqX",
     "type":"MD",
     "hide_input_from_viewers":true,
     "hide_output_from_viewers":true
    }
   }
  },
  {
   "cell_type":"code",
   "source":[
    "import pandas as pd\n",
    "from sklearn.preprocessing import LabelEncoder\n",
    "\n",
    "# Create a deep copy of the folds_pd DataFrame\n",
    "category_id_pd = folds_pd.copy()\n",
    "\n",
    "# Encode the \"category\" column in target\n",
    "label_encoder = LabelEncoder()\n",
    "category_id_pd[\"target\"] = label_encoder.fit_transform(category_id_pd[\"category\"])\n",
    "\n",
    "# Create a category mapping dictionary if needed\n",
    "# category_mapping = dict(zip(label_encoder.classes_, label_encoder.transform(label_encoder.classes_)))\n",
    "\n",
    "category_id_pd.head(100)"
   ],
   "execution_count":148,
   "outputs":[
    {
     "data":{
      "text\/html":[
       "<div>\n",
       "<style scoped>\n",
       "    .dataframe tbody tr th:only-of-type {\n",
       "        vertical-align: middle;\n",
       "    }\n",
       "\n",
       "    .dataframe tbody tr th {\n",
       "        vertical-align: top;\n",
       "    }\n",
       "\n",
       "    .dataframe thead th {\n",
       "        text-align: right;\n",
       "    }\n",
       "<\/style>\n",
       "<table border=\"1\" class=\"dataframe\">\n",
       "  <thead>\n",
       "    <tr style=\"text-align: right;\">\n",
       "      <th><\/th>\n",
       "      <th>filename<\/th>\n",
       "      <th>category<\/th>\n",
       "      <th>fold<\/th>\n",
       "      <th>target<\/th>\n",
       "    <\/tr>\n",
       "  <\/thead>\n",
       "  <tbody>\n",
       "    <tr>\n",
       "      <th>0<\/th>\n",
       "      <td>clap_sounds\/converted\/double_claps\/double_clap...<\/td>\n",
       "      <td>double_claps<\/td>\n",
       "      <td>1<\/td>\n",
       "      <td>0<\/td>\n",
       "    <\/tr>\n",
       "    <tr>\n",
       "      <th>1<\/th>\n",
       "      <td>clap_sounds\/converted\/double_claps\/double_clap...<\/td>\n",
       "      <td>double_claps<\/td>\n",
       "      <td>1<\/td>\n",
       "      <td>0<\/td>\n",
       "    <\/tr>\n",
       "    <tr>\n",
       "      <th>2<\/th>\n",
       "      <td>clap_sounds\/converted\/double_claps\/double_clap...<\/td>\n",
       "      <td>double_claps<\/td>\n",
       "      <td>3<\/td>\n",
       "      <td>0<\/td>\n",
       "    <\/tr>\n",
       "    <tr>\n",
       "      <th>3<\/th>\n",
       "      <td>clap_sounds\/converted\/double_claps\/double_clap...<\/td>\n",
       "      <td>double_claps<\/td>\n",
       "      <td>2<\/td>\n",
       "      <td>0<\/td>\n",
       "    <\/tr>\n",
       "    <tr>\n",
       "      <th>4<\/th>\n",
       "      <td>clap_sounds\/converted\/double_claps\/double_clap...<\/td>\n",
       "      <td>double_claps<\/td>\n",
       "      <td>2<\/td>\n",
       "      <td>0<\/td>\n",
       "    <\/tr>\n",
       "    <tr>\n",
       "      <th>5<\/th>\n",
       "      <td>clap_sounds\/converted\/double_claps\/double_clap...<\/td>\n",
       "      <td>double_claps<\/td>\n",
       "      <td>2<\/td>\n",
       "      <td>0<\/td>\n",
       "    <\/tr>\n",
       "    <tr>\n",
       "      <th>6<\/th>\n",
       "      <td>clap_sounds\/converted\/double_claps\/double_clap...<\/td>\n",
       "      <td>double_claps<\/td>\n",
       "      <td>1<\/td>\n",
       "      <td>0<\/td>\n",
       "    <\/tr>\n",
       "    <tr>\n",
       "      <th>7<\/th>\n",
       "      <td>clap_sounds\/converted\/double_claps\/double_clap...<\/td>\n",
       "      <td>double_claps<\/td>\n",
       "      <td>5<\/td>\n",
       "      <td>0<\/td>\n",
       "    <\/tr>\n",
       "    <tr>\n",
       "      <th>8<\/th>\n",
       "      <td>clap_sounds\/converted\/double_claps\/double_clap...<\/td>\n",
       "      <td>double_claps<\/td>\n",
       "      <td>1<\/td>\n",
       "      <td>0<\/td>\n",
       "    <\/tr>\n",
       "    <tr>\n",
       "      <th>9<\/th>\n",
       "      <td>clap_sounds\/converted\/double_claps\/double_clap...<\/td>\n",
       "      <td>double_claps<\/td>\n",
       "      <td>5<\/td>\n",
       "      <td>0<\/td>\n",
       "    <\/tr>\n",
       "    <tr>\n",
       "      <th>10<\/th>\n",
       "      <td>clap_sounds\/converted\/double_claps\/double_clap...<\/td>\n",
       "      <td>double_claps<\/td>\n",
       "      <td>4<\/td>\n",
       "      <td>0<\/td>\n",
       "    <\/tr>\n",
       "    <tr>\n",
       "      <th>11<\/th>\n",
       "      <td>clap_sounds\/converted\/double_claps\/double_clap...<\/td>\n",
       "      <td>double_claps<\/td>\n",
       "      <td>1<\/td>\n",
       "      <td>0<\/td>\n",
       "    <\/tr>\n",
       "    <tr>\n",
       "      <th>12<\/th>\n",
       "      <td>clap_sounds\/converted\/double_claps\/double_clap...<\/td>\n",
       "      <td>double_claps<\/td>\n",
       "      <td>1<\/td>\n",
       "      <td>0<\/td>\n",
       "    <\/tr>\n",
       "    <tr>\n",
       "      <th>13<\/th>\n",
       "      <td>clap_sounds\/converted\/double_claps\/double_clap...<\/td>\n",
       "      <td>double_claps<\/td>\n",
       "      <td>1<\/td>\n",
       "      <td>0<\/td>\n",
       "    <\/tr>\n",
       "    <tr>\n",
       "      <th>14<\/th>\n",
       "      <td>clap_sounds\/converted\/double_claps\/double_clap...<\/td>\n",
       "      <td>double_claps<\/td>\n",
       "      <td>2<\/td>\n",
       "      <td>0<\/td>\n",
       "    <\/tr>\n",
       "    <tr>\n",
       "      <th>15<\/th>\n",
       "      <td>clap_sounds\/converted\/double_claps\/double_clap...<\/td>\n",
       "      <td>double_claps<\/td>\n",
       "      <td>2<\/td>\n",
       "      <td>0<\/td>\n",
       "    <\/tr>\n",
       "    <tr>\n",
       "      <th>16<\/th>\n",
       "      <td>clap_sounds\/converted\/double_claps\/double_clap...<\/td>\n",
       "      <td>double_claps<\/td>\n",
       "      <td>5<\/td>\n",
       "      <td>0<\/td>\n",
       "    <\/tr>\n",
       "    <tr>\n",
       "      <th>17<\/th>\n",
       "      <td>clap_sounds\/converted\/double_claps\/double_clap...<\/td>\n",
       "      <td>double_claps<\/td>\n",
       "      <td>5<\/td>\n",
       "      <td>0<\/td>\n",
       "    <\/tr>\n",
       "    <tr>\n",
       "      <th>18<\/th>\n",
       "      <td>clap_sounds\/converted\/double_claps\/double_clap...<\/td>\n",
       "      <td>double_claps<\/td>\n",
       "      <td>1<\/td>\n",
       "      <td>0<\/td>\n",
       "    <\/tr>\n",
       "    <tr>\n",
       "      <th>19<\/th>\n",
       "      <td>clap_sounds\/converted\/double_claps\/double_clap...<\/td>\n",
       "      <td>double_claps<\/td>\n",
       "      <td>5<\/td>\n",
       "      <td>0<\/td>\n",
       "    <\/tr>\n",
       "    <tr>\n",
       "      <th>20<\/th>\n",
       "      <td>clap_sounds\/converted\/double_claps\/double_clap...<\/td>\n",
       "      <td>double_claps<\/td>\n",
       "      <td>2<\/td>\n",
       "      <td>0<\/td>\n",
       "    <\/tr>\n",
       "    <tr>\n",
       "      <th>21<\/th>\n",
       "      <td>clap_sounds\/converted\/double_claps\/double_clap...<\/td>\n",
       "      <td>double_claps<\/td>\n",
       "      <td>5<\/td>\n",
       "      <td>0<\/td>\n",
       "    <\/tr>\n",
       "    <tr>\n",
       "      <th>22<\/th>\n",
       "      <td>clap_sounds\/converted\/single_claps\/single_clap...<\/td>\n",
       "      <td>single_claps<\/td>\n",
       "      <td>4<\/td>\n",
       "      <td>1<\/td>\n",
       "    <\/tr>\n",
       "    <tr>\n",
       "      <th>23<\/th>\n",
       "      <td>clap_sounds\/converted\/single_claps\/single_clap...<\/td>\n",
       "      <td>single_claps<\/td>\n",
       "      <td>2<\/td>\n",
       "      <td>1<\/td>\n",
       "    <\/tr>\n",
       "    <tr>\n",
       "      <th>24<\/th>\n",
       "      <td>clap_sounds\/converted\/single_claps\/single_clap...<\/td>\n",
       "      <td>single_claps<\/td>\n",
       "      <td>4<\/td>\n",
       "      <td>1<\/td>\n",
       "    <\/tr>\n",
       "    <tr>\n",
       "      <th>25<\/th>\n",
       "      <td>clap_sounds\/converted\/single_claps\/single_clap...<\/td>\n",
       "      <td>single_claps<\/td>\n",
       "      <td>5<\/td>\n",
       "      <td>1<\/td>\n",
       "    <\/tr>\n",
       "    <tr>\n",
       "      <th>26<\/th>\n",
       "      <td>clap_sounds\/converted\/single_claps\/single_clap...<\/td>\n",
       "      <td>single_claps<\/td>\n",
       "      <td>3<\/td>\n",
       "      <td>1<\/td>\n",
       "    <\/tr>\n",
       "    <tr>\n",
       "      <th>27<\/th>\n",
       "      <td>clap_sounds\/converted\/single_claps\/single_clap...<\/td>\n",
       "      <td>single_claps<\/td>\n",
       "      <td>1<\/td>\n",
       "      <td>1<\/td>\n",
       "    <\/tr>\n",
       "    <tr>\n",
       "      <th>28<\/th>\n",
       "      <td>clap_sounds\/converted\/single_claps\/single_clap...<\/td>\n",
       "      <td>single_claps<\/td>\n",
       "      <td>2<\/td>\n",
       "      <td>1<\/td>\n",
       "    <\/tr>\n",
       "    <tr>\n",
       "      <th>29<\/th>\n",
       "      <td>clap_sounds\/converted\/single_claps\/single_clap...<\/td>\n",
       "      <td>single_claps<\/td>\n",
       "      <td>4<\/td>\n",
       "      <td>1<\/td>\n",
       "    <\/tr>\n",
       "    <tr>\n",
       "      <th>30<\/th>\n",
       "      <td>clap_sounds\/converted\/single_claps\/single_clap...<\/td>\n",
       "      <td>single_claps<\/td>\n",
       "      <td>3<\/td>\n",
       "      <td>1<\/td>\n",
       "    <\/tr>\n",
       "    <tr>\n",
       "      <th>31<\/th>\n",
       "      <td>clap_sounds\/converted\/single_claps\/single_clap...<\/td>\n",
       "      <td>single_claps<\/td>\n",
       "      <td>3<\/td>\n",
       "      <td>1<\/td>\n",
       "    <\/tr>\n",
       "    <tr>\n",
       "      <th>32<\/th>\n",
       "      <td>clap_sounds\/converted\/single_claps\/single_clap...<\/td>\n",
       "      <td>single_claps<\/td>\n",
       "      <td>2<\/td>\n",
       "      <td>1<\/td>\n",
       "    <\/tr>\n",
       "    <tr>\n",
       "      <th>33<\/th>\n",
       "      <td>clap_sounds\/converted\/single_claps\/single_clap...<\/td>\n",
       "      <td>single_claps<\/td>\n",
       "      <td>2<\/td>\n",
       "      <td>1<\/td>\n",
       "    <\/tr>\n",
       "    <tr>\n",
       "      <th>34<\/th>\n",
       "      <td>clap_sounds\/converted\/single_claps\/single_clap...<\/td>\n",
       "      <td>single_claps<\/td>\n",
       "      <td>3<\/td>\n",
       "      <td>1<\/td>\n",
       "    <\/tr>\n",
       "    <tr>\n",
       "      <th>35<\/th>\n",
       "      <td>clap_sounds\/converted\/single_claps\/single_clap...<\/td>\n",
       "      <td>single_claps<\/td>\n",
       "      <td>1<\/td>\n",
       "      <td>1<\/td>\n",
       "    <\/tr>\n",
       "    <tr>\n",
       "      <th>36<\/th>\n",
       "      <td>clap_sounds\/converted\/single_claps\/single_clap...<\/td>\n",
       "      <td>single_claps<\/td>\n",
       "      <td>1<\/td>\n",
       "      <td>1<\/td>\n",
       "    <\/tr>\n",
       "    <tr>\n",
       "      <th>37<\/th>\n",
       "      <td>clap_sounds\/converted\/single_claps\/single_clap...<\/td>\n",
       "      <td>single_claps<\/td>\n",
       "      <td>4<\/td>\n",
       "      <td>1<\/td>\n",
       "    <\/tr>\n",
       "    <tr>\n",
       "      <th>38<\/th>\n",
       "      <td>clap_sounds\/converted\/single_claps\/single_clap...<\/td>\n",
       "      <td>single_claps<\/td>\n",
       "      <td>1<\/td>\n",
       "      <td>1<\/td>\n",
       "    <\/tr>\n",
       "    <tr>\n",
       "      <th>39<\/th>\n",
       "      <td>clap_sounds\/converted\/single_claps\/single_clap...<\/td>\n",
       "      <td>single_claps<\/td>\n",
       "      <td>3<\/td>\n",
       "      <td>1<\/td>\n",
       "    <\/tr>\n",
       "    <tr>\n",
       "      <th>40<\/th>\n",
       "      <td>clap_sounds\/converted\/single_claps\/single_clap...<\/td>\n",
       "      <td>single_claps<\/td>\n",
       "      <td>3<\/td>\n",
       "      <td>1<\/td>\n",
       "    <\/tr>\n",
       "    <tr>\n",
       "      <th>41<\/th>\n",
       "      <td>clap_sounds\/converted\/single_claps\/single_clap...<\/td>\n",
       "      <td>single_claps<\/td>\n",
       "      <td>5<\/td>\n",
       "      <td>1<\/td>\n",
       "    <\/tr>\n",
       "  <\/tbody>\n",
       "<\/table>\n",
       "<\/div>"
      ]
     },
     "metadata":{
      
     },
     "output_type":"display_data"
    }
   ],
   "metadata":{
    "datalore":{
     "node_id":"D8hOI3mj6iQrG57CnlDnl8",
     "type":"CODE",
     "hide_input_from_viewers":true,
     "hide_output_from_viewers":true
    }
   }
  },
  {
   "cell_type":"markdown",
   "source":[
    "# Load the audio files\n",
    "\n",
    "Here we use the `load_wav_16k_mono` function and prepare the WAV data for the model."
   ],
   "attachments":{
    
   },
   "metadata":{
    "datalore":{
     "node_id":"d6MTBrw69THC2TKfAXKpC8",
     "type":"MD",
     "hide_input_from_viewers":false,
     "hide_output_from_viewers":false,
     "report_properties":{
      "rowId":"LkKpYHCKXm65OgxccZ8UBG"
     }
    }
   }
  },
  {
   "cell_type":"code",
   "source":[
    "filenames = category_id_pd['filename']\n",
    "targets = category_id_pd['target']\n",
    "folds = category_id_pd['fold']\n",
    "\n",
    "main_ds = tf.data.Dataset.from_tensor_slices((filenames, targets, folds))\n",
    "main_ds.element_spec"
   ],
   "execution_count":149,
   "outputs":[
    {
     "data":{
      "text\/plain":[
       "(TensorSpec(shape=(), dtype=tf.string, name=None),\n",
       " TensorSpec(shape=(), dtype=tf.int64, name=None),\n",
       " TensorSpec(shape=(), dtype=tf.int64, name=None))"
      ]
     },
     "metadata":{
      
     },
     "output_type":"display_data"
    }
   ],
   "metadata":{
    "datalore":{
     "node_id":"omloB9POoz3EBpdgMOzHGz",
     "type":"CODE",
     "hide_input_from_viewers":false,
     "hide_output_from_viewers":false,
     "report_properties":{
      "rowId":"aAkHOWVDSdJw6SXftfPxqo"
     }
    }
   }
  },
  {
   "cell_type":"code",
   "source":[
    "def load_wav_for_map(filename, label, fold):\n",
    "  return load_wav_16k_mono(filename), label, fold\n",
    "\n",
    "main_ds = main_ds.map(load_wav_for_map)\n",
    "main_ds.element_spec"
   ],
   "execution_count":150,
   "outputs":[
    {
     "name":"stdout",
     "text":[
      "WARNING:tensorflow:Using a while_loop for converting IO>AudioResample cause there is no registered converter for this op.\n"
     ],
     "output_type":"stream"
    },
    {
     "name":"stderr",
     "text":[
      "WARNING:tensorflow:Using a while_loop for converting IO>AudioResample cause there is no registered converter for this op.\n"
     ],
     "output_type":"stream"
    },
    {
     "data":{
      "text\/plain":[
       "(TensorSpec(shape=<unknown>, dtype=tf.float32, name=None),\n",
       " TensorSpec(shape=(), dtype=tf.int64, name=None),\n",
       " TensorSpec(shape=(), dtype=tf.int64, name=None))"
      ]
     },
     "metadata":{
      
     },
     "output_type":"display_data"
    }
   ],
   "metadata":{
    "datalore":{
     "node_id":"F0GxDdD44gjz3NsvyVJlPj",
     "type":"CODE",
     "hide_input_from_viewers":false,
     "hide_output_from_viewers":false,
     "report_properties":{
      "rowId":"zIL06YTibUHOn4ATB2xK51"
     }
    }
   }
  },
  {
   "cell_type":"code",
   "source":[
    "# applies the embedding extraction model to a wav data\n",
    "def extract_embedding(wav_data, label, fold):\n",
    "  ''' Run YAMNet to extract embedding from the wav data '''\n",
    "  scores, embeddings, spectrogram = yamnet_model(wav_data)\n",
    "  num_embeddings = tf.shape(embeddings)[0]\n",
    "  return (embeddings,\n",
    "            tf.repeat(label, num_embeddings),\n",
    "            tf.repeat(fold, num_embeddings))\n",
    "\n",
    "# extract embedding\n",
    "main_ds = main_ds.map(extract_embedding).unbatch()\n",
    "main_ds.element_spec"
   ],
   "execution_count":151,
   "outputs":[
    {
     "data":{
      "text\/plain":[
       "(TensorSpec(shape=(1024,), dtype=tf.float32, name=None),\n",
       " TensorSpec(shape=(), dtype=tf.int64, name=None),\n",
       " TensorSpec(shape=(), dtype=tf.int64, name=None))"
      ]
     },
     "metadata":{
      
     },
     "output_type":"display_data"
    }
   ],
   "metadata":{
    "datalore":{
     "node_id":"uimkhjVQiPxe9lLcLXyPGo",
     "type":"CODE",
     "hide_input_from_viewers":false,
     "hide_output_from_viewers":false,
     "report_properties":{
      "rowId":"9ulzWVrUXqIFVU2AgFY67X"
     }
    }
   }
  },
  {
   "cell_type":"markdown",
   "source":[
    "# Split the data\n",
    "\n",
    "We use the `fold` column to split the dataset into train, validation and test sets.\n",
    "Then, we remove the `fold` column from the dataset since we're not going to use it during training.\n",
    "\n",
    "- `fold` values b\/t 1-3 are for train\n",
    "- `fold` values that are 4 are for validation\n",
    "- `fold` values that are 5 are for test"
   ],
   "attachments":{
    
   },
   "metadata":{
    "datalore":{
     "node_id":"KtqTCrTIM8IV7ciUBdt59F",
     "type":"MD",
     "hide_input_from_viewers":false,
     "hide_output_from_viewers":false,
     "report_properties":{
      "rowId":"2gyc990hyfGHlZWwD2D38S"
     }
    }
   }
  },
  {
   "cell_type":"code",
   "source":[
    "cached_ds = main_ds.cache()\n",
    "\n",
    "# Split data based on 'fold' value\n",
    "train_ds = cached_ds.filter(lambda embedding, label, fold: fold < 4)\n",
    "val_ds = cached_ds.filter(lambda embedding, label, fold: fold == 4)\n",
    "test_ds = cached_ds.filter(lambda embedding, label, fold: fold == 5)\n",
    "\n",
    "# remove the folds column now that it's not needed anymore\n",
    "remove_fold_column = lambda embedding, label, fold: (embedding, label)\n",
    "\n",
    "train_ds = train_ds.map(remove_fold_column)\n",
    "val_ds = val_ds.map(remove_fold_column)\n",
    "test_ds = test_ds.map(remove_fold_column)\n",
    "\n",
    "train_ds = train_ds.cache().shuffle(1000).batch(32).prefetch(tf.data.AUTOTUNE)\n",
    "val_ds = val_ds.cache().batch(32).prefetch(tf.data.AUTOTUNE)\n",
    "test_ds = test_ds.cache().batch(32).prefetch(tf.data.AUTOTUNE)"
   ],
   "execution_count":152,
   "outputs":[
    
   ],
   "metadata":{
    "datalore":{
     "node_id":"zkqtD2YWSnatSJ3YxNOmxy",
     "type":"CODE",
     "hide_input_from_viewers":false,
     "hide_output_from_viewers":false,
     "report_properties":{
      "rowId":"HZXNFrLIbJ0NbrlHZKZkRD"
     }
    }
   }
  },
  {
   "cell_type":"markdown",
   "source":[
    "# Create model\n",
    "\n",
    "Next, we define a very simple [Sequential](https:\/\/www.tensorflow.org\/guide\/keras\/sequential_model) model with one hidden layer and two outputs to distinguish single and double claps."
   ],
   "attachments":{
    
   },
   "metadata":{
    "datalore":{
     "node_id":"wq5Bwq3Df9sM4zSD83NPM7",
     "type":"MD",
     "hide_input_from_viewers":false,
     "hide_output_from_viewers":false,
     "report_properties":{
      "rowId":"j54ARAoD90WJ8mA7ljRJzA"
     }
    }
   }
  },
  {
   "cell_type":"code",
   "source":[
    "my_model = tf.keras.Sequential([\n",
    "    tf.keras.layers.Input(shape=(1024), dtype=tf.float32,\n",
    "                          name='input_embedding'),\n",
    "    tf.keras.layers.Dense(512, activation='relu'),\n",
    "    tf.keras.layers.Dense(len(my_classes))\n",
    "], name='my_model')\n",
    "\n",
    "my_model.summary()"
   ],
   "execution_count":153,
   "outputs":[
    {
     "name":"stdout",
     "text":[
      "Model: \"my_model\"\n",
      "_________________________________________________________________\n",
      " Layer (type)                Output Shape              Param #   \n",
      "=================================================================\n",
      " dense_6 (Dense)             (None, 512)               524800    \n",
      "                                                                 \n",
      " dense_7 (Dense)             (None, 2)                 1026      \n",
      "                                                                 \n",
      "=================================================================\n",
      "Total params: 525,826\n",
      "Trainable params: 525,826\n",
      "Non-trainable params: 0\n",
      "_________________________________________________________________\n"
     ],
     "output_type":"stream"
    }
   ],
   "metadata":{
    "datalore":{
     "node_id":"Canx8cmqnir1i82k3WZ5Kn",
     "type":"CODE",
     "hide_input_from_viewers":false,
     "hide_output_from_viewers":false,
     "report_properties":{
      "rowId":"Toe5mxCWXzMNT4fE92K9uy"
     }
    }
   }
  },
  {
   "cell_type":"code",
   "source":[
    "my_model.compile(loss=tf.keras.losses.SparseCategoricalCrossentropy(from_logits=True),\n",
    "                 optimizer=\"adam\",\n",
    "                 metrics=['accuracy'])\n",
    "\n",
    "callback = tf.keras.callbacks.EarlyStopping(monitor='loss',\n",
    "                                            patience=3,\n",
    "                                            restore_best_weights=True)"
   ],
   "execution_count":154,
   "outputs":[
    
   ],
   "metadata":{
    "datalore":{
     "node_id":"MimwmaoKBEuR2OuY2R0BBQ",
     "type":"CODE",
     "hide_input_from_viewers":false,
     "hide_output_from_viewers":false,
     "report_properties":{
      "rowId":"aAP0ytxFs24OHwyJL3WS6z"
     }
    }
   }
  },
  {
   "cell_type":"code",
   "source":[
    "history = my_model.fit(train_ds,\n",
    "                       epochs=20,\n",
    "                       validation_data=val_ds,\n",
    "                       callbacks=callback)"
   ],
   "execution_count":155,
   "outputs":[
    {
     "name":"stdout",
     "text":[
      "Epoch 1\/20\n",
      "\r      1\/Unknown - 2s 2s\/step - loss: 0.6735 - accuracy: 0.5312\b\b\b\b\b\b\b\b\b\b\b\b\b\b\b\b\b\b\b\b\b\b\b\b\b\b\b\b\b\b\b\b\b\b\b\b\b\b\b\b\b\b\b\b\b\b\b\b\b\b\b\b\b\b\b\b\b\b\b\b\b\b\r4\/4 [==============================] - 2s 124ms\/step - loss: 1.0162 - accuracy: 0.4845 - val_loss: 1.1080 - val_accuracy: 0.2000\n",
      "Epoch 2\/20\n",
      "\r1\/4 [======>.......................] - ETA: 0s - loss: 0.9268 - accuracy: 0.7812\b\b\b\b\b\b\b\b\b\b\b\b\b\b\b\b\b\b\b\b\b\b\b\b\b\b\b\b\b\b\b\b\b\b\b\b\b\b\b\b\b\b\b\b\b\b\b\b\b\b\b\b\b\b\b\b\b\b\b\b\b\b\b\b\b\b\b\b\b\b\b\b\b\b\b\b\b\b\b\b\r4\/4 [==============================] - 0s 9ms\/step - loss: 0.6908 - accuracy: 0.7423 - val_loss: 1.0075 - val_accuracy: 0.3333\n",
      "Epoch 3\/20\n",
      "\r1\/4 [======>.......................] - ETA: 0s - loss: 0.5613 - accuracy: 0.7188\b\b\b\b\b\b\b\b\b\b\b\b\b\b\b\b\b\b\b\b\b\b\b\b\b\b\b\b\b\b\b\b\b\b\b\b\b\b\b\b\b\b\b\b\b\b\b\b\b\b\b\b\b\b\b\b\b\b\b\b\b\b\b\b\b\b\b\b\b\b\b\b\b\b\b\b\b\b\b\b\r4\/4 [==============================] - 0s 10ms\/step - loss: 0.4828 - accuracy: 0.7835 - val_loss: 1.1331 - val_accuracy: 0.2000\n",
      "Epoch 4\/20\n",
      "\r1\/4 [======>.......................] - ETA: 0s - loss: 0.4641 - accuracy: 0.7812\b\b\b\b\b\b\b\b\b\b\b\b\b\b\b\b\b\b\b\b\b\b\b\b\b\b\b\b\b\b\b\b\b\b\b\b\b\b\b\b\b\b\b\b\b\b\b\b\b\b\b\b\b\b\b\b\b\b\b\b\b\b\b\b\b\b\b\b\b\b\b\b\b\b\b\b\b\b\b\b\r4\/4 [==============================] - 0s 9ms\/step - loss: 0.5158 - accuracy: 0.7732 - val_loss: 0.9693 - val_accuracy: 0.3333\n",
      "Epoch 5\/20\n",
      "\r1\/4 [======>.......................] - ETA: 0s - loss: 0.6175 - accuracy: 0.6562\b\b\b\b\b\b\b\b\b\b\b\b\b\b\b\b\b\b\b\b\b\b\b\b\b\b\b\b\b\b\b\b\b\b\b\b\b\b\b\b\b\b\b\b\b\b\b\b\b\b\b\b\b\b\b\b\b\b\b\b\b\b\b\b\b\b\b\b\b\b\b\b\b\b\b\b\b\b\b\b\r4\/4 [==============================] - 0s 8ms\/step - loss: 0.5684 - accuracy: 0.7320 - val_loss: 0.7939 - val_accuracy: 0.5333\n",
      "Epoch 6\/20\n",
      "\r1\/4 [======>.......................] - ETA: 0s - loss: 0.7575 - accuracy: 0.7188\b\b\b\b\b\b\b\b\b\b\b\b\b\b\b\b\b\b\b\b\b\b\b\b\b\b\b\b\b\b\b\b\b\b\b\b\b\b\b\b\b\b\b\b\b\b\b\b\b\b\b\b\b\b\b\b\b\b\b\b\b\b\b\b\b\b\b\b\b\b\b\b\b\b\b\b\b\b\b\b\r4\/4 [==============================] - 0s 9ms\/step - loss: 0.6241 - accuracy: 0.7423 - val_loss: 0.8735 - val_accuracy: 0.4667\n"
     ],
     "output_type":"stream"
    }
   ],
   "metadata":{
    "datalore":{
     "node_id":"sXNR0lqjrA8ElzfVy6KPYp",
     "type":"CODE",
     "hide_input_from_viewers":false,
     "hide_output_from_viewers":false,
     "report_properties":{
      "rowId":"CysxcsJPJBY481S0cLRnfm"
     }
    }
   }
  },
  {
   "cell_type":"markdown",
   "source":[
    "Let's run the `evaluate` method on the test data just to be sure there's no overfitting."
   ],
   "attachments":{
    
   },
   "metadata":{
    "datalore":{
     "node_id":"jaHbmdXoX01YzuwpoGvbKZ",
     "type":"MD",
     "hide_input_from_viewers":false,
     "hide_output_from_viewers":false,
     "report_properties":{
      "rowId":"LCmi9u9bdCSkpdhyz2C739"
     }
    }
   }
  },
  {
   "cell_type":"code",
   "source":[
    "loss, accuracy = my_model.evaluate(test_ds)\n",
    "\n",
    "print(\"Loss: \", loss)\n",
    "print(\"Accuracy: \", accuracy)"
   ],
   "execution_count":156,
   "outputs":[
    {
     "name":"stdout",
     "text":[
      "\r      1\/Unknown - 0s 164ms\/step - loss: 0.6893 - accuracy: 0.7600\b\b\b\b\b\b\b\b\b\b\b\b\b\b\b\b\b\b\b\b\b\b\b\b\b\b\b\b\b\b\b\b\b\b\b\b\b\b\b\b\b\b\b\b\b\b\b\b\b\b\b\b\b\b\b\b\b\b\b\b\b\b\b\b\b\r1\/1 [==============================] - 0s 181ms\/step - loss: 0.6893 - accuracy: 0.7600\n",
      "Loss:  0.6892582178115845\n",
      "Accuracy:  0.7599999904632568\n"
     ],
     "output_type":"stream"
    }
   ],
   "metadata":{
    "datalore":{
     "node_id":"L6A9VGh0BbFmrjdV1hBvtk",
     "type":"CODE",
     "hide_input_from_viewers":false,
     "hide_output_from_viewers":false,
     "report_properties":{
      "rowId":"UuDLJuhkq4cUAhN7LdZBET"
     }
    }
   }
  },
  {
   "cell_type":"markdown",
   "source":[
    "# Test model"
   ],
   "attachments":{
    
   },
   "metadata":{
    "datalore":{
     "node_id":"8OWcp9XZJQTduvZNtUtomF",
     "type":"MD",
     "hide_input_from_viewers":false,
     "hide_output_from_viewers":false,
     "report_properties":{
      "rowId":"Q673X22lQI6G1JJmdhqsv6"
     }
    }
   }
  },
  {
   "cell_type":"code",
   "source":[
    "# load my test audio file clap_sounds\/clap.wav\n",
    "# clap_wav_data = load_wav_16k_mono(\"clap_sounds\/clap.wav\")\n",
    "# clap_wav_data = load_wav_16k_mono(\"clap_sounds\/converted\/double_claps\/double_clap_1.wav\")\n",
    "clap_wav_data = load_wav_16k_mono(\"clap_sounds\/converted\/single_claps\/single_clap_3.wav\")\n",
    "\n",
    "_ = plt.plot(clap_wav_data)\n",
    "\n",
    "# Play the audio file.\n",
    "display.Audio(clap_wav_data, rate=16000)"
   ],
   "execution_count":157,
   "outputs":[
    {
     "name":"stdout",
     "text":[
      "WARNING:tensorflow:Using a while_loop for converting IO>AudioResample cause there is no registered converter for this op.\n",
      "WARNING:tensorflow:5 out of the last 5 calls to <function load_wav_16k_mono at 0x7f62b76d7160> triggered tf.function retracing. Tracing is expensive and the excessive number of tracings could be due to (1) creating @tf.function repeatedly in a loop, (2) passing tensors with different shapes, (3) passing Python objects instead of tensors. For (1), please define your @tf.function outside of the loop. For (2), @tf.function has reduce_retracing=True option that can avoid unnecessary retracing. For (3), please refer to https:\/\/www.tensorflow.org\/guide\/function#controlling_retracing and https:\/\/www.tensorflow.org\/api_docs\/python\/tf\/function for  more details.\n"
     ],
     "output_type":"stream"
    },
    {
     "name":"stderr",
     "text":[
      "WARNING:tensorflow:Using a while_loop for converting IO>AudioResample cause there is no registered converter for this op.\n",
      "WARNING:tensorflow:5 out of the last 5 calls to <function load_wav_16k_mono at 0x7f62b76d7160> triggered tf.function retracing. Tracing is expensive and the excessive number of tracings could be due to (1) creating @tf.function repeatedly in a loop, (2) passing tensors with different shapes, (3) passing Python objects instead of tensors. For (1), please define your @tf.function outside of the loop. For (2), @tf.function has reduce_retracing=True option that can avoid unnecessary retracing. For (3), please refer to https:\/\/www.tensorflow.org\/guide\/function#controlling_retracing and https:\/\/www.tensorflow.org\/api_docs\/python\/tf\/function for  more details.\n"
     ],
     "output_type":"stream"
    },
    {
     "data":{
      "text\/html":[
       "\n",
       "                <audio  controls=\"controls\" >\n",
       "                    <source src=\"data:audio\/wav;base64,UklGRiTAAABXQVZFZm10IBAAAAABAAEAgD4AAAB9AAACABAAZGF0YQDAAAAAAAAAAAAAAAAAAAAAAAAAAAAAAAAAAAAAAAAAAAAAAAAAAAAAAAAAAAAAAAAAAAAAAAAAAAAAAAAAAAAAAAAAAAAAAAAAAAAAAAAAAAAAAAAAAAAAAAAAAAAAAAAAAAAAAAAAAAAAAAAAAAAAAAAAAAAAAAAAAAAAAAAAAAAAAAAAAAAAAAAAAAAAAAAAAAAAAAAAAAAAAAAAAAAAAAAAAAAAAAAAAAAAAAAAAAAAAAAAAAAAAAAAAAAAAAAAAAAAAAAAAAAAAAAAAAAAAAAAAAAAAAAAAAAAAAAAAAAAAAAAAAAAAAAAAAAAAAAAAAAAAAAAAAAAAAAAAAAAAAAAAAAAAAAAAAAAAAAAAAAAAAAAAAAAAAAAAAAAAAAAAAAAAAAAAAAAAAAAAAAAAAAAAAAAAAAAAAAAAAAAAAAAAAAAAAAAAAAAAAAAAAAAAAAAAAAAAAAAAAAAAAAAAAAAAAAAAAAAAAAAAAAAAAAAAAAAAAAAAAAAAAAAAAAAAAAAAAAAAAAAAAAAAAAAAAAAAAAAAAAAAAAAAAAAAAAAAAAAAAAAAAAAAAAAAAAAAAAAAAAAAAAAAAAAAAAAAAAAAAAAAAAAAAAAAAAAAAAAAAAAAAAAAAAAAAAAAAAAAAAAAAAAAAAAAAAAAAAAAAAAAAAAAAAAAAAAAAAAAAAAAAAAAAAAAAAAAAAAAAAAAAAAAAAAAAAAAAAAAAAAAAAAAAAAAAAAAAAAAAAAAAAAAAAAAAAAAAAAAAAAAAAAAAAAAAAAAAAAAAAAAAAAAAAAAAAAAAAAAAAAAAAAAAAAAAAAAAAAAAAAAAAAAAAAAAAAAAAAAAAAAAAAAAAAAAAAAAAAAAAAAAAAAAAAAAAAAAAAAAAAAAAAAAAAAAAAAAAAAAAAAAAAAAAAAAAAAAAAAAAAAAAAAAAAAAAAAAAAAAAAAAAAAAAAAAAAAAAAAAAAAAAAAAAAAAAAAAAAAAAAAAAAAAAAAAAAAAAAAAAAAAAAAAAAAAAAAAAAAAAAAAAAAAAAAAAAAAAAAAAAAAAAAAAAAAAAAAAAAAAAAAAAAAAAAAAAAAAAAAAAAAAAAAAAAAAAAAAAAAAAAAAAAAAAAAAAAAAAAAAAAAAAAAAAAAAAAAAAAAAAAAAAAAAAAAAAAAAAAAAAAAAAAAAAAAAAAAAAAAAAAAAAAAAAAAAAAAAAAAAAAAAAAAAAAAAAAAAAAAAAAAAAAAAAAAAAAAAAAAAAAAAAAAAAAAAAAAAAAAAAAAAAAAAAAAAAAAAAAAAAAAAAAAAAAAAAAAAAAAAAAAAAAAAAAAAAAAAAAAAAAAAAAAAAAAAAAAAAAAAAAAAAAAAAAAAAAAAAAAAAAAAAAAAAAAAAAAAAAAAAAAAAAAAAAAAAAAAAAAAAAAAAAAAAAAAAAAAAAAAAAAAAAAAAAAAAAAAAAAAAAAAAAAAAAAAAAAAAAAAAAAAAAAAAAAAAAAAAAAAAAAAAAAAAAAAAAAAAAAAAAAAAAAAAAAAAAAAAAAAAAAAAAAAAAAAAAAAAAAAAAAAAAAAAAAAAAAAAAAAAAAAAAAAAAAAAAAAAAAAAAAAAAAAAAAAAAAAAAAAAAAAAAAAAAAAAAAAAAAAAAAAAAAAAAAAAAAAAAAAAAAAAAAAAAAAAAAAAAAAAAAAAAAAAAAAAAAAAAAAAAAAAAAAAAAAAAAAAAAAAAAAAAAAAAAAAAAAAAAAAAAAAAAAAAAAAAAAAAAAAAAAAAAAAAAAAAAAAAAAAAAAAAAAAAAAAAAAAAAAAAAAAAAAAAAAAAAAAAAAAAAAAAAAAAAAAAAAAAAAAAAAAAAAAAAAAAAAAAAAAAAAAAAAAAAAAAAAAAAAAAAAAAAAAAAAAAAAAAAAAAAAAAAAAAAAAAAAAAAAAAAAAAAAAAAAAAAAAAAAAAAAAAAAAAAAAAAAAAAAAAAAAAAAAAAAAAAAAAAAAAAAAAAD\/\/wAA\/P8AAP3\/AQD8\/\/\/\/8\/\/6\/\/n\/+P8AAOj\/8gCJAVYBdgFoAV4BWQGGAXsBVwFxAYEBbAF2AY8BhwF\/AYEBgwF\/AW4BfgGaAYgBfgF+AYkBiAF\/AXQBXgFZAW8BdgFnAXMBeQFxAXMBbgFnAXcBfwFwAWsBcgFXAUYBWgFIAUcBUwFBATUBMwE+AToBIAEUAQ8BCAEDAQcBEgEGAfoAAgECAfcA6ADlAOEA0QC\/AMsAyQCvALYArACYAIkAggB3AFkARwBJAEAAKAAcAA8AAQDr\/9z\/xv+u\/53\/lP+R\/3\/\/fP9t\/1b\/Q\/82\/zP\/Jf8X\/xP\/Ef8M\/wv\/+v7u\/u3+5f7Y\/s\/+1P7Q\/sX+tv64\/sT+vv62\/rX+q\/6f\/qz+p\/6c\/pv+kP6O\/on+jP5+\/nf+hf5y\/nL+gP51\/m3+cf5s\/lj+Xf5l\/lP+Wv5m\/lj+XP5l\/mn+c\/5+\/pH+pv6m\/qT+w\/7H\/sn+1f7h\/vL+8\/4B\/wf\/Ef8l\/y3\/Of9J\/1L\/Wf9n\/3L\/hf+H\/5L\/t\/+y\/7P\/x\/\/h\/+j\/6v8HAA0AGAAiACsARABOAGUAaQBhAHwAiwCMAJgAqQCyAK4AtgC9AM0A1gDcAPIA8QD+AAUBAwENARMBEwEUARQBDwERARMBGgEfARkBIgEvATABNgE1AToBSQFKAUQBVgFlAVsBcAF5AWoBdwGJAY4BiQGSAZ0BoAGpAaYBpgGzAa4BqwG9AbgBtAG+AcUBxwHFAcsBwAHDAdMB0QHXAdgB1QHSAdEB2AHhAfAB8AHvAfEB5QHhAegB7QHgAd4B6QHsAe0B5gHqAeoB5QHsAe0B5wHhAeAB6wHwAewB8AH1AewB8QH4AeMB4AHkAdoB1wHYAdsBygHFAdUBzQG4AbkBsAGdAaYBmwGFAYQBhAFyAWcBaAFSAUoBSwE\/ATMBKwEkARkBEwETAf8A\/wD8AOYA8ADyANkAxQDMALMAmgCbAHgAbgB2AFsAOQAuACEADQD6\/+f\/7f\/T\/7z\/uP+i\/4r\/hv+B\/2f\/aP9m\/0r\/RP9I\/zD\/Hv8e\/wz\/CP8B\/\/n+8v7r\/ub+3f7R\/sj+1P7F\/r7+rv6w\/rf+rf6j\/pf+nP6T\/ov+if6V\/o3+gP53\/oT+fv5r\/nv+cP5l\/mz+Y\/5a\/lz+Xf5d\/lX+XP5f\/l7+Vv5g\/mv+df6S\/oj+kv6g\/rH+sP6x\/sn+xv7W\/vH+9P70\/gf\/EP8X\/xn\/K\/88\/0L\/Uv9h\/3H\/eP9\/\/4b\/lP+i\/67\/tP\/H\/9v\/2P\/p\/\/X\/8\/8BAAgAGwAnADUAUQBdAGgAawBzAHIAiwCbAJQApQCwAMMAzADRANUA0wDgAOEA3wDlAO0A6gDxAPMA6gD1APUA\/AD5AAIBDwELAQ8BFAEVARgBHQEqATMBMwFDAUgBVQFZAWEBaQFmAX0BfQF\/AX4BfwGTAZYBnAGfAaYBrQGoAZ4BoAGrAa0BqgGvAbsBvgHBAbkBuwG8AcABxAHFAc4BywHDAb4BzwHJAb0BvwG\/AcUBxwHKAcsBzAHOAdIBxgHQAdYBzwHTAcoByAHLAdMB1wHQAdIBzAHcAdUBxwHXAdQB5gHXAc8B1gHOAcMBtwG\/AboBvQG0Aa0BqwGiAZkBkgGHAX8BegFwAWYBVgFgAUoBPwFAASgBMQEpASIBGwEWARIBBQH+APIA6gDYAMsAwwC6ALIApACGAG4AZQBTAEEAOAAiAA8ABwDx\/93\/y\/+5\/6j\/oP+O\/3j\/cv9q\/1X\/RP9B\/zH\/JP8j\/xb\/A\/8E\/\/3+8v7w\/t7+1f7N\/sT+w\/66\/rT+uf62\/qj+o\/6g\/pX+mv6c\/o3+hf6N\/o\/+d\/57\/nv+a\/5q\/l\/+YP5n\/mX+Vv5R\/lf+V\/5P\/lH+VP5Q\/lP+RP5M\/k\/+RP5V\/mn+c\/58\/of+jf6X\/qL+s\/69\/sL+z\/7e\/ub+9P7\/\/gb\/Df8V\/yb\/N\/89\/0D\/U\/9k\/23\/c\/99\/47\/mf+i\/7T\/w\/\/H\/9j\/7f\/4\/wMAEQAoADQANQBCAFIAWwBtAHUAfACIAJIAnwCmAL8AyADGANMA4gDtAPsABQEAAQMBAgEEARABDwEPARcBHAEeASABHwEjASoBMwEyASgBNQFCATwBTAFcAV4BZwFtAW0BcQF6AYABggGAAYYBmQGTAaABtgGrAaYBpgG0AboBsAG6AbsBvAHBAcgBygG+AccBxQHBAcwBxAHDAdQB0wHKAc0B1wHdAdABxwHKAc8B1AHaAd8B1wHVAdQB1gHgAdUB0gHVAdMBygHNAdEBywHMAckByAHWAdcBwQHBAbsBtgG8Ab4BuwGqAakBrgGiAagBqAGcAZ8BkQGRAYoBfgF3AWcBYgFaAV4BWQFEATsBQQE3AR8BHgEcAQ8BCgECAfsA+QDqAOIA3wDXANYA0AC9AK0AogCSAI0AagBcAFsAPQA5ACEACAACAPX\/4\/\/R\/8T\/uv+m\/4v\/fv98\/3f\/av9X\/0z\/P\/82\/zf\/Gf8M\/xL\/Bv\/9\/vb+7P7a\/tT+yv67\/rb+tP6x\/p3+mP6Y\/pT+kP6R\/ob+fP5\/\/nX+d\/50\/nH+ff5s\/mX+eP5l\/lj+WP5g\/mD+Tf5U\/lv+VP5T\/lX+R\/5P\/kf+QP5L\/k3+W\/5Z\/mb+e\/6H\/on+k\/6f\/q7+uf62\/tT+3\/7k\/u3++P4H\/wv\/G\/8j\/z7\/Sf9G\/1D\/Xf9t\/3P\/f\/+B\/5H\/q\/+2\/8D\/zP\/f\/+L\/6\/\/\/\/wMADgASABYAIQA6AEYASwBXAFoAdAB9AIEAjgCHAJUApgCuALoAxgDSANcA3QDhAOEA3ADfAOYA8wD6AO4A9gD9AAsBAgH7AAUBAQEGAQcBFQEbARgBHwEkAS0BOgE+AUMBTgFLAVABVgFeAV4BawF1AW8BfwF4AXEBewGDAY4BjgGVAY8BhgGTAZMBigGGAZUBkwGLAZcBkgGZAaIBngGfAaUBogGjAakBqwGmAacBqgGmAa4BsAG2Aa8BqQGlAakBtAGtAbMBpwGoAbsBwQG3AbIBvAG7AbsBuwHEAcEBtAG7AbwBvwG7AbkBwAGzAbIBrgGfAaEBpAGYAYsBkAGEAXMBewF5AW0BZwFZAUIBPQFBATYBKgEsASEBEAEPAQAB7QDsAOUA2gDNAMYAvwCtAKoAogCLAHwAdgBdAEsAPQArACsAEwACAPH\/3\/\/Z\/8r\/t\/+i\/5P\/jP99\/2z\/Zf9R\/0n\/QP82\/xz\/F\/8c\/wT\/Cv8N\/wH\/5v7i\/uT+0f7P\/sv+xv68\/rj+r\/6s\/q7+qP6h\/pv+kf6I\/ob+gf6G\/nz+cf5v\/mX+Wv5W\/mX+Zf5R\/lT+Xv5d\/lf+Tf5O\/kT+QP4\/\/i7+N\/5A\/kb+Rf5G\/l\/+Yv5v\/nr+g\/6a\/pD+m\/60\/rf+xP7M\/tb+3v7w\/gP\/DP8V\/xX\/Jf8y\/zP\/PP9I\/1P\/Yv9p\/3H\/f\/+M\/5T\/n\/+0\/7f\/uv\/G\/9P\/4f\/s\/\/z\/AQAFAA4AJgAtACwARgBOAF0AdAB4AIEAiwCNAJsApgC2AMIAxgDOAM0A1wDfANkA1ADmAOoA2ADeAOQA6ADyAPcA8QDqAPAAAAEHAQABDAETARwBJQEnASsBMAE3ASwBQgFTAVUBXwFhAWUBawFrAWQBcQFwAXUBfgF0AXkBfQF6AXgBfgF9AX4BhQF8AYYBiwGCAYcBjwGIAYQBiwGEAYcBiQGLAZABiwGKAYYBiAGGAYMBhQGGAYkBkAGSAY0BhAGHAYgBjwGOAYABiQGEAYQBiQGDAYABfgF7AXcBeQFxAWcBaQFhAV4BXQFNAVcBVAFFAUABLAEoASYBHgEUARABCAH5AO0A4wDeAMsAzQDAAMEAuwCrAK0AjgCWAJIAhQCBAHEAagBlAF4ASgBPAEUAOAAoABAA+\/\/j\/9\/\/1f\/E\/7X\/rP+Z\/4T\/dv9u\/2b\/T\/87\/yz\/K\/8o\/w3\/B\/\/6\/vH+7P7Q\/sv+xf6\/\/rL+pf6e\/pf+if6C\/n7+e\/6A\/nL+d\/50\/mj+Zf5Y\/lr+Wf5M\/kv+Sf5M\/jv+Ov5B\/jP+OP4x\/i7+Jv4b\/iT+JP4i\/h7+D\/4P\/hH+Cv4L\/hT+Ef4E\/gr+Hf4u\/i3+Of5B\/kP+V\/5h\/mb+ef6M\/oj+lf6p\/qn+tf7D\/tH+zf7a\/u\/+6\/4A\/w\/\/Hv8e\/yP\/Pv9D\/1L\/Yf9i\/2r\/ef+B\/4v\/mf+l\/7r\/y\/\/J\/9X\/5v\/u\/\/b\/\/\/8NAA0AFQAfACAANwA7ADkAQwBMAGUAagBtAH4AiQCNAI4AlQCVAJgAoACkAKQAswC6AK8ArgCwALUAvAC+AMcA0ADOANQA2QDhAOkA8gD0APMAAQH2AAUBDQENARcBFQElASYBJgEhATIBOwEyATcBOgEyATgBRQE3ATgBRAFKAUQBPwE+AUIBRwFFAUcBUQFXAUcBSwFTAUkBRwFVAVcBSQFVAVYBUAFbAU4BSQFPAVQBTwFPAVEBTgFXAVIBXwFkAVQBTgFTAVsBTwFIAUsBRwFBAUgBQAE9ATsBMgEvASwBLgEeAR8BFwEHAQIB\/wD\/AOwA2wDMAMoA1QDNALoAuwCqAJ0AmgCCAHwAcQBwAGsAXgBYAFQAUwBJAEgAPQBGADwAJQAjABsAEADt\/+3\/6\/\/S\/8j\/tf+p\/5T\/h\/97\/23\/Y\/9H\/zn\/Nf8u\/xb\/CP\/+\/vT+7\/7Y\/tL+wf6x\/rH+r\/6k\/qD+i\/57\/oP+b\/5z\/mv+Zv5f\/lf+XP5U\/lD+Rf5Q\/j\/+P\/47\/iz+Of4y\/iX+If4r\/hn+I\/4j\/hb+Gv4a\/h3+Ef4S\/gv+Bf4H\/g3+B\/76\/f39\/v3\/\/Qb+GP4Y\/hz+Jv5A\/ln+UP5b\/lr+av56\/nj+gv6K\/pn+oP6q\/qn+s\/7C\/sD+0v7W\/uP+8v72\/gT\/DP8Y\/xj\/Iv8z\/z7\/S\/9M\/1n\/bv9t\/37\/mf+R\/5z\/s\/++\/8b\/wf\/N\/93\/2\/\/e\/\/D\/+\/8HABMAGQAfACwAPgA4AEIATwBfAHIAcgB0AIIAggB8AIwAgQCIAIwAjACWAJgAnQCQAJYAlwCkAKMApACvALYAyQDEAM4AzQDIAM8A3ADsAOsA7gD1APwAAAEKAQMBAgEQARABDAERARgBEwEeAR8BHAEZASABJQEfASgBKwEqAScBLgEyATsBOwE0AUEBOwE3ATsBQQE+AUABTQFLAUEBPwFFAUgBQQFAAUMBRQFCATUBNAE\/AT0BNwEwATIBNAEvASoBIgEfASIBGwEUASABGwESAQcB\/wD7APUA9wDqAOEA5QDbAMQAtwC7ALEApACgAJoAhABrAHMAdABnAFwATwBOAEIAOQA5ADYAMAAxADIAGgAYABYABQABAAIA+v\/k\/9n\/0v\/I\/6\/\/nv+Y\/4T\/dP9h\/1r\/Sf8x\/y3\/I\/8T\/wb\/8\/7m\/un+0v6\/\/q\/+ov6u\/qT+n\/6U\/n7+f\/51\/mX+Yv5a\/lD+T\/5R\/k3+QP4+\/kX+P\/47\/jr+K\/4k\/hr+Fv4b\/hf+E\/4O\/gv+Bf4G\/v79\/P30\/eP96\/3o\/eb94\/3r\/ej91v3g\/dr92f3g\/ef96f36\/QH++v0L\/hj+KP4t\/iv+Nv5K\/kn+Sv5e\/l\/+Yv5u\/n\/+f\/5\/\/o\/+jv6W\/qf+sv61\/r3+x\/7T\/uX+6f7n\/vH+Af8A\/xD\/JP8n\/yn\/NP9M\/1v\/aP9s\/2\/\/ef+I\/5f\/l\/+l\/7L\/t\/\/K\/9b\/0v\/b\/+v\/9\/8BAAYACgAfAC8ANQBPAGIAVgBSAGMAawBcAF4AaABqAHgAdwBzAH0AhwCRAJcAoQCxAKkAsgC+AMEA1gDXANsA4gDoAO8A8gADAQYBBwEJAQcBDQEKAREBGAEkASoBGwEfARoBHwErASkBLAEsAT8BQwE1ATABMgEwAScBIwEoAS8BKQEqARgBFgEbARQBFgEFAf8A\/QAJARkBBgECAQ4BDAEOARABDgEAAfsABQEBAQEB\/ADwAPMA\/QAGAfsA7ADvAPAA9ADuAN4A6AD4AOcA3ADkANwAzADKALwAsAChAIcAjAB6AGQAXQBTAEgANwAzACIAEwAUABoADwD3\/\/3\/BgDy\/+n\/9v\/t\/9r\/zf\/G\/7b\/vv+5\/57\/kv93\/2v\/Zf9P\/z3\/Kv8W\/w3\/Af\/\/\/vb+2\/7N\/sn+w\/60\/qz+n\/6U\/pP+iP5z\/mf+Zv5i\/lX+VP5Y\/kv+P\/5H\/kL+N\/46\/jT+J\/4d\/h\/+Jv4c\/gr+B\/4J\/gn+Bf7z\/fL97\/3a\/d\/94v3Z\/db90f3Q\/c39zP3G\/b\/9xf3U\/c39vv3A\/cP9xP3J\/dX92P3d\/eT98f0I\/gP+\/P0T\/iP+Gf4l\/jL+MP5G\/k\/+Tf5X\/mL+Xv5p\/oT+jf6V\/p7+o\/6r\/r\/+xf7M\/tz+5P73\/gX\/EP8O\/xn\/Nf8+\/0X\/TP9Y\/2X\/ev+N\/5P\/kv+a\/6T\/p\/+y\/8H\/w\/\/K\/9n\/4f\/s\/\/j\/AgAMABMAGwAjACMAKwBBAFIAVgBgAGoAYwBkAGkAcAByAHEAeQCBAIIAjgCTAJkAnQClALsAvgDHANAA0QDYAN4A5QD2APwA+AAPAR8BHgEgARYBEQEcASQBIwEtATABJwEvATUBQQFIAT4BQgFQAU0BQgFGAVABTwFNAVIBTwFbAWUBXAFiAWIBWQFUAVoBZAFcAVUBTwFRAWIBXgFWAVMBWQFfAVgBUwFPAUoBSAFKAUQBOwE2ATsBMwEgAS4BNAEXAQ0BCQEJAQsB\/QDzAPIA5ADiAOoA0wDHAMkAvgC5AL4ArgCZAJYAlwCKAH8AdgBlAF8AZQBrAFgAQgA+AEgAPQAuADIAHwAVABkAGAAPAAsA\/\/\/t\/+v\/5f\/G\/6\/\/sf+k\/53\/hv9y\/2n\/VP9G\/zj\/I\/8V\/w7\/\/f7u\/un+1\/7N\/tb+sf6h\/rP+pv6b\/pP+h\/57\/nn+a\/5h\/mz+YP5e\/lz+Sv5L\/lf+T\/5A\/kL+Rv5A\/jr+Rv4+\/i\/+NP42\/iv+M\/5A\/iX+G\/4e\/iX+K\/4Y\/hL+Ff4h\/iH+EP4W\/g\/+BP4S\/ij+KP4o\/jv+S\/5S\/lb+XP5l\/mv+av5\/\/o\/+jv6a\/qX+sf65\/rn+tv7G\/tT+1v7h\/u7+AP\/2\/gH\/GP8P\/yX\/L\/83\/0r\/U\/9m\/3L\/ff9\/\/4j\/mv+n\/7D\/uv\/J\/9j\/5P\/h\/+X\/8\/\/6\/wAADwAgACAAJQAwAD4ARwBJAEwAVgBsAHAAeACAAJYAmwCOAKUAmwCaAKcArgCtAK0AtACzALwAwgDQAM8AywDdAOcA7QD1APEA7gD0AAUBCQEBARYBIwEiAR8BIgEeASMBNgE2AT0BPwE+ATkBOgFDAT8BQwE\/AUYBUgFLAU4BVgFYAVUBVgFZAVoBXgFVAVUBYAFkAVsBVgFcAV4BXwFnAWsBYAFcAWMBZgFfAVkBSwFMAVIBTgFRAUgBRAFEAUMBSAE9ATEBLgE3ATYBJgEsAR8BCgENAQYBBwECAfUA7QDtAOwAygC8ALYAsQCsAKAAqgCWAIgAggB8AHsAagBZAFUAXABPAEMAOgAvAC0AKwAjABgAGQAGAPz\/CQD\/\/+X\/1v\/h\/8\/\/tP+3\/6j\/jv92\/2T\/V\/9M\/zn\/KP8e\/w\/\/+f7z\/uj+0v7N\/sb+tv6r\/qL+kf6K\/oD+dv5z\/mb+YP5X\/kr+TP5R\/kD+Of5D\/jr+J\/4c\/iT+If4K\/g3+FP4N\/g7+Bv78\/e796\/30\/e396f3x\/ej91f3Y\/dj91P3W\/dj9yv3F\/dD9w\/26\/cH9yv3f\/eP94v3x\/f39Bv4E\/g7+G\/4o\/in+Kv47\/kT+Q\/5R\/mX+V\/5j\/nX+gf6M\/o7+nP6f\/rH+u\/7H\/sz+1f7o\/u\/+CP8K\/xD\/Hf8q\/z7\/Q\/9I\/03\/YP91\/3P\/hf+a\/5n\/sv++\/7H\/vf\/Q\/9H\/3v\/t\/\/b\/\/P8IABkAIQAxADUAQABJAFkAbwBqAGsAeAB3AHoAfgCBAIcAgwCUAJMAlQCgAKgAsAC3ALwAvwDUANIAyADVAO8A7QDuAAIB\/wAGAQcBCwEYARwBKgEdARIBIgEdASEBLwEqASwBKgEoASsBMAExASwBOAE1ATIBPgE5ATEBMgE3ATgBNgE0AScBMwFBATwBMwE1ATYBMwFDAT4BOAE3ATYBPAExATkBOwEsASsBPAE0ASQBJgEdASQBKAEmARMBEAEiASMBDwEGAQoB+QD1APAA6gDnAOMA4QDXANkAzgC7AL8AtACkAKIAnACWAIQAbABxAHEAYwBiAFoAQAA3AEkAPwAkACMAKwAaAA8AFAAGAPb\/AQD1\/9j\/2v\/L\/7j\/pv+i\/5\/\/hP9x\/2L\/VP9H\/z7\/K\/8d\/xj\/AP\/4\/vT+3v7Q\/sX+t\/6t\/qT+nv6k\/pT+gv6A\/nH+Y\/5e\/l3+UP5D\/kL+Pv44\/kD+Ov4v\/jj+Mf4f\/hj+Jv4h\/hH+FP4Q\/hH+Dv4H\/gj+Af75\/QD+B\/77\/e\/9\/\/3+\/fn9\/f3s\/ff9Af70\/fD9+P0I\/hD+Hv4n\/i3+N\/4+\/kD+Uf5j\/mD+cf55\/oD+hP6D\/pj+m\/6b\/qn+w\/7I\/tP+4P7e\/uv++v79\/gT\/Ev8e\/zH\/O\/9I\/1f\/WP9f\/3H\/ff+G\/5P\/nf+v\/7v\/xP\/R\/9b\/3v\/r\/\/P\/\/f8EABIAHgAlAC0AOQBIAEkAUgBdAG4AfwB6AHIAfwCTAJoAlACMAJYAnQCbAJ4AqQCsAKgAsADBAL8AwQDVANkA3QDoAOcA8QAGAQwBCQEJARABFwEkASoBKAEzATQBOQEzATgBQAE6AUoBQAE\/AUkBTQFQAVgBZAFUAU4BYAFkAV0BWgFhAWMBYwFrAW4BaQFmAXABdAFvAXEBcAF0AYkBhgGAAXwBdgGEAYYBfwF9AX8BhgF+AXABfgGDAXMBeAFvAWsBewF1AW8BbwF0AXIBaAFjAWMBXQFaAV8BTwE\/AT4BPgE4ASkBGQEaARcBBgH\/APYA9QD7AOQA0QDQANAAwAC2ALQAngCiAJwAkgCSAIwAiQB4AG0AbgBqAFcATAA8ACUAIgAOAPT\/6f\/d\/8\/\/uP+r\/6L\/kf9+\/23\/Y\/9d\/07\/Nf8n\/xv\/GP8V\/\/\/+7\/7q\/uP+1v7U\/tL+wf64\/rD+ov6d\/pj+k\/6Z\/pD+e\/57\/n3+fP5w\/mb+Y\/5f\/lb+UP5O\/kT+P\/5G\/kD+M\/4+\/kD+Nv4x\/iX+IP4o\/iT+Jv4i\/hf+Jf4k\/hj+Gv4b\/hb+G\/4w\/jL+Mv5L\/mL+Xv5o\/oT+gv6I\/pf+qf6t\/rf+0v7R\/sr+3P7n\/u7++\/7\/\/hD\/F\/8b\/yf\/MP83\/0j\/WP9j\/23\/e\/+J\/5X\/m\/+f\/7D\/uP\/G\/9L\/5\/\/x\/+z\/AQAIABAAIwA4AD0APgBSAFQAYgBpAGgAewCMAJMApACoAKsAxwDCAL0AyADAAMsAzwDNANEA0wDaANsA4QDaAOYA8ADvAPgA9QAAAQwBEQEZASABLgE2ATEBNgFEAUcBTAFOAU0BVwFlAWkBZgFrAW8BbAFrAWsBYAFfAXUBdAFoAXEBZwFbAWYBcgFxAWcBcgFuAWUBbAFrAWgBcwF9AWgBbgF5AW8BbQFqAXsBegFtAXMBcgFlAWUBbgFrAWMBaAFpAXUBeQFjAWQBbAFtAWgBaQFrAVkBVQFXAUoBRgFKAT8BPQE5ASgBLwEqAR4BFwETAQwBEAEIAe4A6gDeANcA0QC\/ALYAsQCzAKoAnACWAI4AkwCJAH0AfQBtAGkAXABOAEUAQABCADMAMAAUAPr\/8\/\/f\/9r\/1P+9\/6z\/oP+U\/3r\/W\/9T\/1f\/Tf84\/y3\/H\/8X\/w\/\/+\/7t\/uj+5P7X\/s7+wf61\/rD+rv6j\/pj+jf6B\/oT+gP54\/nj+c\/5u\/m\/+aP5q\/mP+V\/5g\/lz+Tf5L\/lD+Tv5B\/jj+PP48\/jL+N\/5C\/jb+Jv4l\/h7+Gf4d\/ib+HP4M\/hX+IP4a\/hz+Jf4z\/kD+Q\/5Q\/mT+bv50\/oP+hv6I\/pr+of6s\/sD+xf7G\/sv+0\/7d\/u7++v7+\/v3+CP8S\/yH\/K\/8s\/zv\/RP9b\/2P\/bf91\/4H\/k\/+S\/6H\/s\/+8\/8T\/2f\/a\/9r\/6\/\/3\/\/7\/+P8EABgAIgAjADMARgBIAFIAVgBhAGoAbQCIAIkAhACQAJYAmgCYAKEApAClAKAAmwCkALQAvACtALcAvQDAAM8AygDaAOQA5wDyAAABBgEDAREBFgEZASoBKQEoATQBOAE1ATYBPQFDAU4BSgFKAUoBUAFUAU8BUgFXAVwBWQFiAWMBZQFqAW4BZwFrAW8BZQF1AXcBegF5AXYBcwFxAYkBiwF7AW8BewGFAXwBhgF8AX0BigGRAYUBfwGIAX8BfgGHAYQBeQF9AWkBaAFyAXABbgFfAWMBYQFNAVkBVwFBAUcBRQE\/ATwBNgEpAR4BGwERAQsB+gDzAPUA7gDiAM8AzwDJAMEAuACqAKUAmwCeAJYAiQCHAHUAaABgAFoAVQBGADsAOQAkAAwA+P\/5\/+\/\/zP\/I\/7n\/o\/+M\/4X\/ef9g\/1H\/Rf9B\/zn\/MP8a\/wr\/A\/\/v\/t7+2P7S\/tH+xv61\/rb+tf6j\/pP+k\/6M\/pT+kv6C\/or+gf52\/nD+bf5q\/l\/+Yv5d\/lT+U\/5U\/ln+Tv5K\/kX+O\/5F\/kP+Nv4s\/jL+N\/42\/jr+NP4y\/jb+Of4y\/jf+PP4v\/jX+Qf5I\/k7+ZP5w\/nr+i\/6J\/pf+pv6m\/rr+vv7C\/t3+4f7t\/u7+8\/4I\/wz\/F\/8d\/yn\/O\/8+\/0P\/Uv9c\/17\/a\/97\/4T\/j\/+j\/67\/vv\/M\/9T\/3P\/g\/+z\/\/\/8KAAwAIwAoACIANwBDAEgAVABiAGsAcwB+AIsAiwCbAKYArgDFAMQAwgC8AMQAwQC9AM4AzADJAMcAzgDRAM4A0ADOANUA3gDiAO8A8QD2APwAAAEPAREBEAESARcBJgEuATUBOQE0ATQBPAE5ATMBSAFMAUMBSgFVAV4BWwFUAVIBXwFqAV0BVgFcAVwBWAFbAWEBVwFYAWABZgFrAWMBaQFvAWgBbgFtAV4BbAF1AXEBbgFtAXABawFzAXIBawFuAXUBcAF0AXIBbQFzAWkBZQFdAWUBYQFkAW0BXQFZAUkBUQFZAVYBRAE0AT4BMAE0ASQBDQEFAf4A\/QD2APkA7gDiANsA2wDNALoAvAC4ALQApwCfAJQAewB4AHMAaQBqAGUAWQBTAFIASQA4AC0AIwAMAAIA\/P\/n\/9X\/zv+\/\/6H\/jf+S\/3L\/Tv9a\/03\/Mv8s\/yP\/Ef8G\/wD\/+P7g\/tP+3f7Q\/sX+uP6p\/qL+ov6X\/oj+h\/54\/nD+bf5u\/mz+Xf5Z\/l3+ZP5S\/lD+VP5B\/kb+P\/5B\/kj+OP4z\/jD+Nf4z\/iz+Mv4p\/h7+Kf4k\/hj+E\/4T\/hL+Bv4H\/g7+E\/4V\/hr+J\/4n\/ir+Of5H\/lH+Yf5u\/mz+f\/6G\/pL+oP6e\/q3+sv7G\/s7+0\/7d\/uH+5\/7u\/gT\/Gf8e\/x\/\/Jf8m\/zj\/R\/9N\/1r\/av99\/3z\/iP+a\/6b\/p\/+2\/87\/zf\/e\/+v\/+v\/7\/wAAGAAVACoAOQA2ADwASgBQAFQAYgBoAHIAdQCQAKIAnQCmAKUAqAC6ALsAsgCwAMAAxgC4AM8AywDDANcA0QDQAOMA6ADsAP8AAQH8AAkBGwEpAS8BHwEhATABNgE2ATwBRgFEAUgBUQFXAVUBWQFeAWEBZwFmAWwBbgFqAW8BbwFsAWwBdQF+AX8BhQGJAYQBfQF7AY8BmgGHAYYBgAGMAZoBkQGOAYIBigGNAY4BlAGIAXMBeQGHAX4BcwGDAYoBegGFAYcBfwFuAWwBbwFwAXQBcAFkAVwBZgFeAVUBTwFPAU4BRwE7ATABKQEXAQkBCQENAQIB9QDrAOcA5QDTAMEAyQC9ALIAvwCzAJ4AmwCdAJIAiwCDAHwAfQB0AGQAYABWAEIAMwAfABgAFAABAOn\/4\/\/M\/67\/p\/+X\/4v\/hf94\/1b\/UP9N\/zX\/Jf8d\/xz\/Bf\/4\/ub+4f7i\/tb+wv6s\/rT+tf6h\/ob+kf6b\/oT+eP57\/oD+fP5s\/mn+cP5k\/ln+UP5T\/lP+S\/5G\/j\/+Q\/4\/\/j3+Ov4w\/ij+Kf4q\/iP+Gv4W\/iT+Hf4K\/g7+GP4S\/gH+B\/4S\/hf+Hv4s\/jL+Nf42\/jr+T\/5S\/l7+df54\/oX+kP6N\/pX+ov6i\/q3+wf7I\/tD+0P7W\/uz+9v77\/gj\/F\/8W\/xr\/KP86\/z\/\/Q\/9S\/1v\/af95\/4P\/e\/+F\/6P\/qP+1\/8T\/xP\/J\/8\/\/4P\/y\/wIABwAWACQAIQAzADMAPgBQAFgAaQBvAIcAjwCSAJUAlACdAJ0AlgCgALEAqgCiAKsArwCtALYAwQDOAMwA3ADoAOIA8QDzAPwACAEQARgBIgEqASsBOgE8ATABNAFDAUYBTQFVAU0BSwFRAVEBWAFdAWcBaAFhAWQBXwFlAWcBZwFiAWoBbgFnAXkBgQGAAW4BbQF+AXgBagF\/AX8BeQGHAYABfwFwAXsBfwFyAXMBZwFyAYQBewFpAWgBbgFzAXYBbgFzAXMBagFqAWQBXgFdAVsBXwFZAUgBSwFQATkBJAEjAScBHAEQAREBDwEJAQEB9wDoAOEA2ADTANIAxwDDAL4AsgCfAJsAogCeAJMAigCEAHUAagBiAGoAZgBMAEkARwA1ACYAFQAKAAIA8P\/Y\/87\/wP+g\/5D\/iv98\/2r\/VP9F\/zr\/LP8l\/x7\/FP\/9\/uX+5f7l\/tz+y\/7G\/sT+vP6u\/qL+n\/6R\/pL+kv6N\/of+dP51\/nH+bP5n\/l3+Wv5U\/k\/+UP5I\/kP+QP45\/kj+UP5K\/j3+M\/41\/jT+N\/4q\/ir+NP4l\/h\/+Iv4e\/hb+G\/4m\/iL+Of5F\/kb+Vf5k\/mn+bv54\/nv+lv6b\/qn+uv60\/rb+yP7V\/tf+7v7r\/vD++f7\/\/g7\/Gf8j\/y3\/PP86\/0n\/af9w\/3X\/gf+T\/6H\/o\/+y\/8b\/y\/\/T\/+f\/9P\/2\/wMADAAXACcAKgAsADcARgBIAFYAZgBvAH4AgwCOAJQAnACrALQAtwDBAMMAxQDUANoA2ADPANoA3wDYANQA5QD\/APgA\/QD9AAABFgEgARkBGQEnASQBLQE8ATUBOgFLAUgBSAFSAVUBWwFQAVYBZQFZAVkBZgFvAWoBawFxAXEBcwFyAXMBggF5AXUBfgF2AYIBgQGBAYIBewGBAX4BiAGQAYsBjQGMAZMBlQGQAY4BjAGHAYYBgwF8AYMBigGFAYQBegGAAY4BfQF0AX8BiwFyAWoBeQF0AWoBawFqAWEBYwFUAVMBVAFJAUQBPgE5ASoBHwEcAR8BDQH8AP8AAwHzANsAzQDPAMwArAC3AMAAmwCdAKMAhgCLAI8AhQB\/AGcAawB\/AGYATQBTAEkAMAAhABsACgD2\/\/v\/7\/\/B\/7P\/tP+c\/43\/j\/95\/1r\/XP9U\/zz\/L\/8p\/x7\/Gf8K\/\/P+6f7i\/uD+z\/7X\/tT+sf6p\/qn+of6Y\/pf+jf6C\/oj+iv6G\/nT+ZP5t\/nT+Y\/5R\/l7+YP5L\/kr+Uf5O\/jr+M\/4\/\/j3+Nf41\/jr+J\/4i\/ib+Hv4g\/hr+Hv4f\/g7+GP4p\/ij+NP5I\/kP+Rf5a\/nP+ev55\/oD+gf6V\/pP+m\/6y\/rT+u\/7B\/sj+wv7V\/vH+6P7j\/vr+Df8O\/xj\/Lf84\/zz\/QP9H\/2L\/c\/9o\/3P\/kf+Y\/53\/qf+1\/8H\/xf\/T\/+b\/8f8AAAUABwAXABoAIQAzADsARABMAFwAaQBvAHkAhgCKAJoAqACjAKYAtgC7AK8AsAC4AMIAyADJAMwAywDOAMoA1wDxAO4A7QD+AAMBAAEHAQkBCwEdASQBGQEkATMBMAE0ATMBQQFLAUYBRAFGAVABTwFHAU0BTgFUAVYBSwFXAVcBVwFpAWkBXQFbAWIBZAFtAXUBawFkAWkBegF5AXABdQF\/AYABewGDAX8BegGAAX8BegF9AXABbAF0AXwBfgFyAW4BewF1AV4BZwFmAWgBYAFaAVkBUQFUAUcBQgE3ASsBJwEyATABEgEOARMBCQECAfkA7gDoAOoA3gDKAM8A0wDKALcAsQCmAJoAogCWAIkAgwCEAHkAYABpAGsAUQBOAFkAPwAtAC0AJQAYAPj\/+v\/v\/83\/zv+6\/6D\/kP9+\/3n\/cv9g\/07\/R\/86\/yv\/J\/8U\/wz\/Cf\/4\/u3+5f7i\/tb+2P7I\/rf+tP6k\/p\/+m\/6c\/pn+kP6L\/nr+ef52\/mr+cP5l\/mH+Zf5h\/lz+VP5S\/kX+QP5I\/j7+Pv5A\/jr+NP4u\/i\/+JP4v\/ib+Ef4g\/iD+FP4Y\/hr+Cf4V\/ir+LP44\/kb+XP5k\/mv+cP52\/of+hP6G\/pD+n\/6o\/rH+vP65\/sr+3P7f\/ub+7v7\/\/gL\/Af8H\/xH\/Lv88\/0D\/TP9X\/1\/\/Y\/94\/4L\/g\/+Z\/6T\/s\/+2\/7z\/2P\/b\/9X\/6P\/z\/\/P\/+P8HABQAHAArADAANAA5AEEATQBgAGAAZwCCAIUAiACMAJMAkACNAJcAlgCZAKEAqwCsAKMAtQC\/ALEAvADLANAA1wDVAN8A9AD9APsA7wD\/ABgBFwEQAR0BLAEhAS8BOQE7ATQBMgFGAT4BOwFBAUsBRgFEAUsBSQFOAVIBWAFSAU4BRQFVAWkBYQFpAWwBbAFgAWEBaAFlAWgBbwFrAWcBcQFrAWkBaQFlAWgBbAFxAWkBYgFmAWMBZgFsAWkBXQFaAVkBWwFbAVoBYgFYAU8BPwFGAUkBOQE7ASkBHAEfARwBEgENAQgB+QDrAO0A6QDfANIAxwC+ALMApQCbAJ4AhgCMAIoAdwB+AHsAZQBbAGsAYgBZAE8ASABFADwALAAaABQA\/P\/s\/+z\/4\/\/P\/8L\/sv+Y\/4T\/eP9x\/2j\/WP9A\/zD\/Kv8b\/xL\/Cv\/\/\/vz+4\/7L\/sj+x\/60\/qL+q\/6u\/pv+kv6L\/nr+ef5v\/mn+aP5Y\/lT+U\/5O\/lX+SP5D\/j\/+Mf4z\/ir+Iv4r\/iX+Ef4N\/gL+Bv4G\/gH+Bv4H\/gP+9\/3v\/en95\/3v\/fP95v3j\/ev97f3r\/Qb+Ff4Z\/jD+OP46\/kj+Tv5N\/mP+bv5z\/n\/+gP6R\/pn+qP6r\/pr+rv7A\/sP+1f7f\/t3+5v77\/gT\/C\/8X\/yX\/Ov9B\/0T\/Sf9Z\/2f\/bv9+\/4v\/lv+Y\/6X\/sv\/A\/8b\/1P\/g\/9\/\/+f8DAAwAEQAUACsANwA+AD4ATwBfAGwAegB9AIkAigCNAIwAlACeAKAAowCiAK4ArQCkAKcAtAC6AL8AwADLANYA1wDvAOsA6QD9APkA\/gD\/AAoBFQERARkBHQEjASYBHwEsAToBLwErATkBQAE0ATsBTgFNAUwBUgFQAUwBUAFVAVkBYQFhAWIBZAFZAV0BaQFhAWMBdgFwAXMBdAFoAW8BewF0AXcBeQFvAXIBdgGCAXIBcAFyAXQBaAFTAXYBbQFlAV8BVgFhAVcBWwFbAVkBTAFOAU0BRQFGASYBIwE9ASwBEgESAQgBBAH9APIA5wDmANsAvQC9AMIAtwCnALUAmACCAI8AgwB3AGwAcwBlAF8AUwBQAEQARABGACEAGwAQAAYA9v\/h\/9H\/1v\/L\/7v\/sP+D\/2v\/bP9r\/1b\/Vv9D\/yb\/J\/8b\/xT\/BP\/9\/uj+z\/7S\/sL+yf7G\/qn+qf6h\/pX+gv6C\/pT+iP59\/m3+Zv5p\/mb+Xv5c\/l3+UP5V\/lj+UP5J\/kT+P\/4+\/j7+Mf49\/j3+L\/4u\/i7+J\/4m\/jX+Hf4V\/h\/+If4m\/iL+E\/4P\/h7+Jf4o\/jn+Sv5J\/lL+Vv5l\/n7+iP6I\/pD+pP6k\/qf+sP69\/r3+vf7G\/t3+8\/7r\/vr+Cv8I\/xD\/JP8v\/y\/\/Ov9C\/0f\/Wv9w\/3z\/fP+J\/6b\/of+m\/6j\/vP\/M\/8j\/3P\/d\/\/H\/9P8DABIAFAAqAC8ARgBIAE0ARwBGAHAAcQBzAH8AkgCfAIgAmwCfAJQArwCdAKIArACoAKwAuQDMALMAtgDQANQA0ADPAOQA3gDfAPcA8QD1AAgBIgETARIBJwEVARgBJgE3AUIBNgEhAS4BNAE9AUgBTAFLAUABTwFEATsBQgFIAU0BQwFCAUcBSQFTAVQBVAFhAV8BWAFXAVMBYwFvAVcBYAFjAWEBawFoAWYBWgFrAWoBYwFgAWEBZwFaAVIBYAFsAVsBWwFZAVcBTwFEAUoBSAFCAUQBPgE4AToBJgEmASQBEwEeARUBBwEIAfcA8ADtAOMA0ADKANQAwwCyAKkAtQCkAIgAnACLAG4AawBkAGoAawBfAFcASwBIADwAMQAqAA4ABgAAAP3\/5v\/G\/9H\/u\/+S\/5j\/h\/9j\/2\/\/U\/9J\/0\/\/J\/8g\/xj\/DP\/8\/vr+6v7Z\/s3+xf7H\/q7+pf6Y\/pX+iv6M\/pH+cv5s\/mT+X\/5T\/kP+Pf5J\/lz+RP41\/jz+LP4q\/i7+H\/4X\/gr+CP77\/fn9\/\/33\/fz98\/3c\/cz96P3o\/dn94f3T\/eD93v3O\/cr9z\/3Z\/dn96P3q\/fv9Bf4M\/hr+JP4r\/h\/+Qv5N\/j\/+Wv5v\/nf+b\/5z\/o7+m\/6Y\/pn+qv6o\/q3+yf7N\/tv+5\/7y\/gH\/Dv8Q\/x3\/GP8f\/0z\/Rv9O\/2X\/ZP9o\/3\/\/fP+H\/6L\/mv+q\/63\/wP\/d\/97\/1\/\/e\/\/P\/8\/8TABwAGwAxADgAOABAAGMAbQBqAHIAgwB3AG8AdwCDAJAAfgB6AJgApACCAJAApgCoALUAtQC6AMsA0ADPAOAA6AD0AO4A+AAGAf4AEgETAQoBGQEUARcBIwEqASkBEwEsAS8BNAE7ASUBIwEuASsBIgE6ATkBNAEzAT8BPwFHAUkBPQFOATgBQwFGAT0BUwFVAUwBRgFVAU0BSQFDAU4BUQE6AVEBUwFWAVIBQwFBAVIBUwFFAU0BRQE+ATwBUAFCAToBQwE7ASwBLgE2AR8BHQESARcBFwEPAf4AAwEDAekA6wDhANcAwQC3AKgAswCtAIoAigCUAH8AYgBxAGMAWwBbAFQAVgBBADEALAAfABsAFgAHAAMAAgD\/\/+j\/2P\/U\/8H\/sv+Y\/37\/ZP9a\/1L\/RP9B\/zL\/Gv8O\/w\/\/B\/\/l\/tH+2f67\/rP+rv6Y\/qL+pf6B\/nT+iP53\/lD+Q\/5c\/lH+Pv40\/jH+OP44\/iT+Lf4r\/gj+Ef4V\/g3++P0E\/gv+Cf4H\/vn99f3g\/fT9+v38\/d39z\/3\/\/dn93v3d\/dj98f3P\/dz93\/3X\/d\/94P36\/Rr+Av4X\/jf+GP4v\/kD+Uf5O\/kz+f\/6B\/m7+gP6C\/oT+o\/6q\/rb+wP7K\/tf+4P71\/gD\/EP8e\/yT\/HP86\/0L\/Rv9b\/1b\/bP9r\/3v\/kv+Q\/5z\/rP+s\/7H\/3v\/3\/\/T\/8\/8DAAcABAAeACYADwAiAEMASQBOAFsAZQB1AJoAjQCOAIQAfwCUAJYAngCYAJ8AkQCQAJ0ArACsAKYAvAC2AMEAywDUAN0A2wDjAOkA\/QD8AOwA+wAUAQYBBgE6ATkBKQE6AR4BJwFBATUBPwFJAUwBSwFHAVIBUQFUAVoBVQFeAVQBUgFfAWUBXgFZAV0BSwFlAXgBYQFjAWgBagFnAXEBcwF0AWkBVAFxAW4BeAFwAWEBYAFeAXgBaQFrAWUBaAFcAWQBYQFVAWwBYwF4AVcBWAFnAUsBVAFOAU8BRQE7AToBNQE5ASYBKgEuARIBCAERAQ0BAQERAf4A2wDlAOUA2QDAALgA0ACsAK8AwACUAJsAowCPAIwAjQCGAIUAZgBdAFMAUABXADMAKQAVAAUA7f\/l\/+3\/xP+t\/77\/q\/+B\/3z\/hP9o\/1H\/VP89\/yv\/JP80\/xb\/\/\/4U\/wn\/+v7u\/u7+3P7C\/r3+0\/6o\/q\/+1P6W\/qT+pf6I\/q3+sv6L\/nj+nP6F\/l\/+f\/6R\/nD+Z\/5h\/lH+jP5r\/mL+Z\/5K\/mX+YP5X\/kf+Vf5M\/j3+MP4x\/jz+Pf5K\/kv+R\/5S\/mT+d\/5+\/mb+e\/6R\/pT+oP61\/rr+r\/6p\/sn+6\/7h\/ub+7v7n\/u7++v4O\/x\/\/I\/89\/zv\/Pf9A\/1f\/fv9r\/3H\/k\/97\/4X\/uf+u\/7X\/wv\/M\/8n\/3P8AAPv\/EQAaAAcAFQAwACwASQBcAFMAZgBaAHMAiAB0AJsAqgCXAKsAvgCuAL8AzgDNAM0A0wDtANoA1gDjAO0A3QDsAPwA9AAoAfUA7gAxASEBMgEpARkBSQFAATwBWAFBAUMBWgFnAXsBawFvAWQBWwGMAXwBbQGOAXoBYwF3AYEBdgGBAYsBhQGBAYUBkQF6AYEBpgGgAYMBewGlAZ4BfAG6AasBkgGrAYoBpwHDAYoBfAG6AcoBnwGoAcgBrQGcAagBuQGoAaMBsQG9AaoBeAGiAaUBlwGtAa8BnQGZAaQBfgGNAaMBdwFoAWkBbQFxAVIBVQFYAUIBRQEyASYBLAEXASMBFQH9ABAB7wD2APMAzgDmAN4AxgDAAL4AugC1AJ0AjQCWAH8AdgCBAH0AWAA8AEsAPwAoACQACgDj\/\/n\/zf+0\/9f\/sv+I\/23\/jP95\/0r\/Tf9E\/zr\/L\/8k\/xT\/FP8g\/xT\/5\/7T\/v7+4\/7N\/sj+mv64\/q\/+mP6e\/qr+qf6P\/oD+gf6d\/qP+b\/5f\/n7+W\/5k\/n7+b\/5d\/mH+Rv5O\/ob+Sv5Z\/mX+T\/5u\/hH+bP6e\/gH+Pv5u\/ib+Nf5o\/mX+af5e\/mj+hv6b\/pz+l\/6+\/qD+wv7a\/rL+1\/7z\/tT+yP76\/gj\/8f4B\/yj\/Ev8i\/0n\/R\/8+\/2P\/X\/9C\/17\/aP+J\/4P\/mf+r\/6f\/nP+8\/+f\/rP\/L\/\/z\/9v\/p\/\/n\/EAAUADAAFwApAGQAWQA3AEYAfgB6AGEAggB\/AHoAoAC+AMoAwACqALAAzwCyAMsA0ACzAK0A1ADmALUAzwDrANcAtQDyABIBCgEbAQQBAgEJAScBLgEgATYBMQEmAT4BQwFLAWcBWQE8AUsBTgFFAWMBewFUAT8BYgFtAVgBUwGQAX0BWAFoAYIBpwFqAWYBjwGJAXsBhwGHAX8BcQFqAZUBmwGKAXEBbgFkAWUBlgGdAXgBeAGMAX4BfwFmAVkBhQF9AVUBaAGLAUoBbgGEAVsBXwE\/AXYBZwFYAWQBVQE9ASkBUwFaATwBEQExAS8BHAEMAe8ADQH3APYA+wDaALIAzQDZAK8AtgCcAJcAhwCFAKUAlAB+AF4AYwBuAFIAUwCDAF8AEwBBACMAEAAkAPL\/AwDi\/8T\/0\/+6\/6z\/rv+Y\/13\/Yf9Y\/1j\/YP83\/xH\/Gv8y\/+n+AP8S\/9b+y\/7I\/tD+sv6v\/qz+kv6D\/pf+k\/5n\/pT+j\/4+\/mb+b\/45\/lD+UP5K\/jj+Gv42\/kb+I\/4u\/kv+DP4W\/j\/+Gf4I\/gn+9f3W\/Q3+NP4Y\/h3+9\/3u\/Qn+\/P31\/fj94v37\/Sj+I\/4o\/jT+Rv5n\/mf+PP5Q\/oH+dv5o\/oj+ff6D\/o3+xP7T\/pP+1\/7Q\/sf+xP7q\/in\/7P7z\/vn+JP9H\/zH\/Pf88\/03\/U\/9P\/3z\/pv9y\/2f\/vP\/E\/4z\/rv\/5\/9\/\/zP\/M\/+j\/BwDk\/wgAJwAXACwAMQBHAEgAQgBbAHIAcwBaAHoAmACIAIcAngCNAIYArwC8AJUAigCdAK0AoQClANUAtgCvAMEAtgDgAO4A1wDqAOAA4gDrAPUA9gAPATABAwEHARoBKAEXARgBNwH\/APsAMgEdARMBKgEjARIBJwE9ATcBLQEcASIBGgEWASEBIAEoASUBKAEzATQBGwFLAScB\/gBHAUEBPQELATgBbAE8AREBIwFPASMBQAEyAT8BRwENAVkBUAEBARgBLAERARkBMQElAQwBLwEvARIBJgELAf4ABAEGAQEBBwHgANkA6QDAAMEAvwCpAJwAlQCIAJMAagBfAH4AYwBmAFwASQBRAEcANgA5ACoACAAbABUA9v8GAAQA8\/\/f\/+L\/wv+b\/5n\/if9+\/4D\/c\/9X\/1H\/Nv8r\/\/j++P4U\/9H+sf7L\/tD+kv6C\/qb+h\/5Y\/oD+Xf46\/kz+S\/5F\/iL+Lf4y\/gz+\/v0f\/v\/94v3x\/e79zv3N\/dj9u\/3I\/b79s\/21\/af9yv2p\/YX9qv2E\/Yb9dv2D\/a\/9b\/1f\/XT9eP2C\/W\/9aP1s\/Ub9Tv1v\/Vj9Uf11\/U\/9cP2f\/W79iP2v\/Zr9h\/2h\/cz9sv2n\/fH94f2o\/d795v3R\/SX+Cf7j\/ff9CP4D\/hb+Qf46\/iT+MP52\/k\/+bf6R\/oH+gP6A\/q7+rf7D\/sL+wv6s\/q\/+6v7x\/ub+3f4M\/wH\/7v4Q\/0n\/Q\/8h\/0L\/S\/9Z\/zf\/O\/96\/53\/af9Y\/43\/b\/9p\/3\/\/jf+I\/4T\/hP+e\/5z\/df+U\/3f\/nP+k\/4r\/y\/+t\/63\/v\/\/P\/8b\/1v\/a\/8\/\/AQDa\/87\/9v8AAOH\/tf8MAPv\/1f8RAPn\/CwDp\/+X\/CwD+\/wsA9P\/x\/\/\/\/5P8RACoA5P\/r\/wIA\/f\/5\/\/D\/\/v\/t\/+T\/5\/\/q\/\/z\/1f\/m\/\/v\/xf\/O\/\/X\/4\/\/d\/wEA1v\/R\/+D\/s\/\/B\/8r\/1v+6\/53\/rf+u\/6D\/tv+6\/2v\/hf+e\/5n\/h\/+E\/37\/Sv9s\/3v\/a\/8x\/1P\/Vf8t\/yr\/Ff9C\/wb\/CP\/9\/t7+7\/7L\/sn+yf7K\/pf+iP6a\/of+ff5j\/mj+Xv5d\/kT+Sf5n\/hD+Gf4h\/jr+BP7n\/R3+4f3W\/ar9uv29\/aT9h\/1d\/YL9R\/0W\/Sv9Lf3s\/M78Gv0A\/bD8pPyt\/KH8ivyW\/Hv8WPxj\/G\/8X\/wm\/D\/8Gfww\/Cz8\/\/sd\/Or7CPzo+\/v7\/vvV++L75vvQ+7771fuh+737xPu1+7r7nfui+5n7fPuV+5P7Z\/uK+4H7ivuM+0f7YPt1+1D7WPtI+2r7cvs0+0n7c\/tc+077g\/ud+5v7YPuD+7n7nPvA+8j7wvvd+\/T7+PsQ\/B\/8+PsU\/D\/8OvxB\/CT8O\/x+\/Hr8dvxx\/I78ifyZ\/OD80Pzl\/Of8+vz+\/B39Pv1I\/Yr9NP0q\/Vn9WP1X\/XT9ef1I\/UL9Pf1t\/WX9cP1r\/Rn9U\/1n\/Vz9k\/10\/V39fv2k\/Yn9b\/2f\/Xn9Xv2W\/Y79j\/21\/cz94f3a\/eP9Kv5Z\/lv+af6C\/q3+s\/7E\/gj\/9f79\/jz\/OP9W\/2v\/i\/+g\/6X\/rP\/F\/wcAEQDv\/\/v\/NAA5ACoAMwA3AEUAIQALAFgAOAAmAEoALwABAAQANwA0ACAAPgBBAAkAJgA\/ACoAOAA7ACEAKACBAG0AJwA\/AFAAOAA+AG4ASgAuADEAOAAyACAALQBFAFYAIwA5AGcAQAA3AIYAdgBXAJkAggCTAIoAgQCbAJ8A0gCyAJ8ApwCKAIQAtAC5AH8AeQBwAG4AfQBeAFkAVQBHACwAHwA1AD0AAADx\/wkA0P\/u\/\/3\/8v\/a\/87\/+f+q\/7P\/2\/+z\/+X\/zv+b\/9H\/3P+g\/8f\/3v\/O\/8H\/o\/\/h\/8X\/s\/\/X\/8P\/o\/+6\/7z\/x\/\/4\/6D\/o\/\/b\/9H\/2\/+z\/+j\/8v++\/9T\/1P\/z\/+z\/6P\/X\/+v\/EwASAPX\/6f8XABgAHwAVAPv\/DgBAACEAEQARABUAVwAfAA8AKwAFAP3\/EwAPAO7\/HQAJAMX\/zv8LABgAx\/\/H\/\/j\/+P8LADwAFQAUAFoAZABWAFsAdAB4AI0AlgCpANMAtADDAOEABQEUAeoAAQETAS8BPAFHAUgBSAGMAaABegHMAdQBtQHeAdYBCAIJAi8CKwL7AS0CUQJkAmoCOQJeApECSwKIApgCiQKyApsCAQOdAp0C5AIIA\/UCPwNoA4wD4wN1A0gEZgMHBa4DAAa0A\/UFaQSDBssGQwbKDhoGMAPn3ykEuyHg\/JT\/nv\/vCkQG7v7fAnYEcADCBHwIPQOpA3MC8AVvAoYA+QQ6BWUHbQQbA28GjQTIBwf\/VgJDCGkFDALyBXf\/vgFYLFa4luEWG2PuJHKJtDYBLEyAs78coA595X3ymkzmuR7tUew3vrUS9dnLPf9\/gv+4ptsN\/e8QLmHm2Rba83XIGm16U7cn1oZdCwR8zbRA8738ZLISU0fGCcW+IaEpRzsqpAIr5A6SzHZJsCNX1vXx1HqPD5eL+9ClYoc9i48n6u5WTTumq+ML7E28xiVIfQCDpuUScg3IT+ZE7JDV7dBY5PbLirz6gUBM8N5SE5hm+HtatPyB9H6xBmF6ttv\/rW1v9F36U5SuIy9ohs1Xljk7PEr11Iuk6eExevLoMYpSFlBbyTnStu7eUGQwKdDJUI6TGy47RgRYRrnFzZLL+GtyiinLzvnxV992XOQXrcHGJeSfquzMXUWmc9VgX2hkkNKzwGA44rufxYJshyk9siGvFS7zVfbwPylWDXWa4cDQYtNC8Rc4CV+Wxv\/ZJYsTlcdq6lMYR8PPzl0xdFgV+czxCAg0KcyVuBS1EL6t1Wcop9QZHCnXADokjIcgHQErlxCWCPkVzOpvmZ5CSkEm+NEgvd65AgsLxdaR7ojvFueM3ONGJgLUDd8C\/dIeOUTK2PTST9rCCcoDSRUnHkv0\/HGuHxU29Qu6PyiS8+zJLQKp+Ds3HTm8AlTsGMzB64FlVfTVyYgFgflaAhM9B\/SynkXU7SbcHZ7dNCNpOwrxndZIPAQOP+quBivdZ93mJE32++lHF57lFQGiDn0LIxvJB4nvyR1y9jLV6fPhEiUepPtq3uQoPBB4oGgEQVUgCh\/iwPaF+8Qdq\/ZR6yz7pA6xDFfnKfz5Ah4Q+uYvEmg3K\/rJ+QDyjAvZ+A30ugCxAVcWGNvn\/pEJA\/kKI3UWWvp27wQLfAhu+OsLMSzI4o\/UtAM+9kkFdgFsD9fsd98+FJ8iFBf2JEXSsQFTEH\/JdCcs2toHiRHO4Rw2j+rT4rMk7wX99\/j5vAaCAzDOQwh1DGzWLTl8C0T8bSQ16qrlF+UCFzv+0\/1S9Wfl8QlRHV4Ie+NpFLQAux7SCy\/N9wEd8WMK\/BAb2fXr4xCnAAYKBgdvEL4SLtWTAazpivfzCprgpQEzAGIU+gvm7h75ZRALD7D8Teei+mEThuBN4PcXFQe76PQHEQ3a4AfzrSKaCWDwrfv4+27uNxDoBSz52\/\/e2OUGFP6\/+UgdHROD9bf7GBXU1Az2DPDE\/aMcYPJ9Hm\/06NnA8vsHQfs7DkAlvunD7hQSeu2w32QcLgf2\/APjOPXOBcr5YSJVAtf4tPTeDl0Xw\/mf31r+mOgF4Isa1\/pxGID4qwI7CFcFhg0x46ULPPps+7YC9hbq6Dnco\/DqE1wMavwTIpf5IPiT6Wj\/aPi9+YoLAT27867YBA5N4iwMxwO2\/vfiYvdYMWP+Pvlh+8YCUgVVCOQXxOcB6LHpiABODLQXTRs21poKISCC+pf4EPKrAU\/3ygW\/C7r6+eiC83oPeAIBFz8ZGvOD4noJLweh+sH5XO7tIgYF8vbcAsIDPQCz2kYFiCi\/6j35xh6t7toSVv0qCiIXB+n9+LLvRfM4BHgdU+YB9zcbng75FRnvmw\/k2iDmoS3W8uYSkQxb+lP6+\/kcFPj6P\/khGmf3Z8\/zGakOHfK+AeUF9w1e6PYFBRPK+1IEnAJ3BeT99+FR8gwgI\/5s+d0IswPOCkj5rfZ7BXcJl\/pO\/6b+8gPHAML6dAE2\/lr4Wf2oE5cOtg1m4TsDgxne3tD5hfme\/ZQE8QnD+Gf4cxK1Cy0L4f+u8c77cghx\/+7zhuozAnYJPQBQFRQBYfLn\/BL3GAsZ92EAN\/GkAB4pYPLM+80Gnued4X8d7Alc85wdp\/Q48mMQBQDt6yDmoASlIeQEnfyMAm7pDvVUAf0AeyYIBODZhftDA04QjgeiAk75SelOClwVJu2t8fkM0RFLEinekP\/NHLL5BwdrF+T6GOo98TQM9BzxC8jmCNdzM2ANg+7cGi78tAHn9KgAshQ7AA8NVfnG7VMOnP+sDjgQxfJD+wQJ8Qkc\/Nn2DQsND4P\/XACeA7\/7ahMdB9TyEgIJDdEUKu5X\/YgMsQmV89z1+xrQ9lH97RZ8Dkny2vzFGuYEQvXODwX2HPWxCf78sxZxFDwAIuNqIQP2x+2RIN32+g5tBU4LO+r\/+dIGOhHSFDj7owpm9gMKuABqAdgOj\/oS+C\/8oguKD2ANNPyV7mcM9wSxCEYKX\/kV+svuXBP4EnwIwAV88IgIzARj6t8IOxHb+I8HywdXBSjyxBDzDVvrGA+GBc\/8qvGqBXsAxQCCEtL\/pAml9lQFVBVo\/5bzIe9wDVIRifj2ASDzVPgfGTYPVPVJAPwPOPek9dMIlQIa88AJdQB9+ycD\/vM1DdkS+f3L9rMUJQXM5\/77dfnK\/dj+IxGJ\/9LpUgbTDtj+EfiUBlr\/\/f9V+9r98fuLBmL\/ovIK\/\/0DPg8+8CH2dQhz60P3Wh9dCgbv3O3W+dIS+QbI8Hv0BwTB95X4QgpwERIBlOjP8IgCNQLC\/Q0DLQSY\/f\/wFQjpDgn2XfMoA9MAC\/Af+VX\/GQgdAA\/+ogOm+JADsPsr8sv6GARMDhr+kuXj+V4QFgPA\/f\/uBPZ4DWH8qAE+CW77ewBy9d39IgCB+7gPW\/fE52\/7KhQtAFz2RwYv\/MUGW\/yw+gL0v\/4pF5b5+v6TBkb2Q\/mAAmMESwZ3+bjwugkM\/lj56hGdBVL0jPh5BBAMTQBQ+Aj5dgKdEqP2FwC9CAn5jQGSBhgC+v2H+Ab97gzN+lMF8f2c7xoMkBTq+gsA6\/zD+awMn\/9m\/xAA9Qa6BaXtSPUgEsX70QZ8ClD5SwX7+8QKg\/2L\/doHIwQyCMXzSPwuCR35n\/8CENEDyPmkBCsChACvBscD3\/1s\/e0Hkv4\/\/+MGHgA8\/FkDHwKY\/ZIKmwkDAZ4GtAYU9hLwRQwrFNT1ZPy3DJ8D3vzKCAsI5fgQ9RQKhQiw+v0FwwSnDMP81\/pFBxcIpv85\/GYQnfFF9TMM0QVICJj6gAQiBjMA\/AlUBHX\/igTaCD3\/7vhR+5wErwJZ\/XgIG\/8M\/vIFWwq6CWH+4\/fC+igIrQNhACMB2wfO\/7UAmwXb9FIJxwXVAAUA1frSEi8Cj\/pLBfX7q\/sP\/88H8AFF+ZEEAw6uCBb0MfvHAxABXwG+9mUKDgXG88wIPgzV\/X4BjwUa9xv64g07Bkj1c\/h6+xIGogFXAQcJnAD8Al\/7u\/uIAwT\/JQeT+vbzTQuNBRADlALh\/Kz6OPeWCt0JSQCA+xwBowD+9xYCWPiuBSQCjPtiDVr3jvqLDN8DKfgn\/xYHbAc9\/r\/4UwOx+qACSwSm\/VgE3AWZ\/oD76Qj8BD3+sPtW\/8YJRwIu+Yj9LgLnCQ0DzQUF\/8j5jwVCBmAGffRy99sGAxWG\/bf7xQJDAXcQEfyN+IL2GwwMEAsBiPlKABcJpwBsA1X4tgiqDbUAwvzD\/CcFff6fAGoFZwb1BDL\/CAn2BZT5RQEeBlkD\/wDxAnoMNAB2+y0ATQMmCK75uAKXCyEG4PlB+3QQ+Afj\/qv+KQDVAln7fwwbC\/H4Ow1XC2P3Y\/UAAGANEQoR\/+H7Fwi2CKT27AAUEB0Bev6nAgUAzwaW\/owENQgl\/G4GkQpOAdX9yQbVAFT3VvkEC\/0Krv\/UBnX\/HAB2A88EjQcZA9f79AGeCX0BfAEBAf38UwKKBogCrwHABHoCjvv5CyEJjvAkA04O+wce\/v76WAR+ApcCyf7W\/Pz\/OATuByEI6wMi9rMBNwWw\/iACWwFYBwD\/dAG4AX8AKwqHAuT4yPyD\/JgBNwha\/1D\/OgNzA0MB6ARdAJP8Tv6M+p4G2P10\/e0Hmv2\/A84ALf6K+wQBvgFm+pQCKAFzAPT8wgJc\/6j72vySAkQH0AB4+6b5+gAkAbX9uflvBfH+nvZy\/cwLHgd08tsDFwLT9lD6FAHWC\/f2g\/MXBaX\/fgIXArL+JveG+0YGuv+OAHABq\/4ZALP8uvjo+jr7mAN1ATL+nwJU+6sAJQBt+yUBlwOz\/4b2if0bBCn+uf6nAA\/+v\/qXAU0Idv3191f5ZgahBjH8TP8O\/QEEPP24+XoK3f4h9m0DHwRmAS78sP1SALX\/pAPW\/U\/\/wQQh+8MAOAXf+4z9zAEOBXL9Pf+qBd0BGPu2\/yEAUf+CBH\/7AQGrB1AEJwCH\/Wn7if1FAsoD6AGpAIoBxf\/sAQj\/mwLIAoH84vnS\/0IIwgBuAisB\/ACFAvb6kwQhASX5SgT\/Ajn9x\/vQBqEFxfqCAx0EagLB+0r9bQP5\/+X7SwOkBhD+OwBj\/RgEIgTX\/Ib\/MQMWBCv8M\/6v\/6v83gFSA1T\/XgTiA7P+Ef6FAVkBEf43\/9f8pwInBPkCpP3CAE7\/cv5VBNH3LAM0B275ePrjA64FAfx+\/E8IDAfL+kcATQJW+w386f5oAAkCAQED\/TP9qAN\/CQf\/RPxHAkH8O\/1yArL\/+\/s8\/cMB6gWBAQb9JAK4\/6r6mPxWAzIGrvyw\/uoDif2n+64BPQGy\/R4Aav5X\/nr+Zwa2AkL7KwXw\/n39v\/6bALYF\/\/r6+oX\/2f9\/\/iL+WATfA6H7j\/y\/BnUD\/PpP+hL\/b\/+q\/JwCvv\/8\/SAApv16BV4AG\/1GAr361Pun\/TgA4gTr\/lUA\/v5\/+acFDASP+uz8J\/6jAXb9Vv6eACH95P8MAwAAD\/1CAWL9pAETAcz5rf9+\/3UAPf1W\/zQD\/v8HBBr8fPoXACb\/IALq\/KL94wEOAZH\/iAC8\/6z9wv\/O\/vwB5\/8vAc0BQv\/aAgABH\/1R+8T\/0ATCBUH7BPsABsAB1QKyAmL++v2VAAIHMgLn\/ZsANv+xBQcGPv0c\/nj\/0\/\/k\/ZsGiggB\/MYBIwhY\/dX+RwOmArEC6\/lSAnIHRv+yAv4DWQK8AGwDuASFARIDwf8cAyYGWAHu\/RsBBQXaASv\/AAAUBtUBrgCFB3\/+6P2+BjUEI\/+FATAI5gAY\/eEFrASJArIAvQCsAjEDjwZW\/+cAcAGZAEEDSQGGA0EBFgTNBCv9DgKCCLP72P3DBEYC9wI6BQUEd\/9zAt4CkgNg\/hj+sAODBRkC4gE7Akn\/nAZ0AHIBMAM\/AsICFf2\/A2wEkQQFAnz\/7gCKA8oCvwLRBWUBFAEEA+MEPAPLA40Csf8zAGX\/6wAGBHgBOAOLCN4A+v0FALIBCgSJAY7\/ngJP\/1T+2wcFA6L+DALMA90FugO8A2r9vf0zBcUC5P92AKsE5AEZAqACSv8bAG8AqgEkAOP+gANBBP78r\/6ZAsAA7AAzBDP\/5f65BAcA3\/55AIUCeQBKA1kBxv1jA\/8A9AD1\/vb9bP5M\/9z\/HwOQAcn8KATE\/+n7fQANA7L+Ov0+AOgAWwWQ\/Xj9AgQn\/gEBKQId\/Un\/VQNMAYf8GwCSAFH+8gCDAUv+PwDvAeP9tv71\/3ACBQFM\/zcAKQG+AMT\/sv6C\/0QBQf3LAecAqv7x\/mICqQS9+xn\/oQBwAeMB2P1N\/\/MBzAMvAdr\/0v6M\/RoD6QSz\/54AOgInAhEB3AGbALoApQIXACADyAHJ\/pEBMQEHAXwD+fwwAdoEvwD6AjP\/vwJTAQYCjgVgAVoDzQGM\/zUClQKJAnQEIQJMAMgCUwQIA68AawHFAKcELwQeAeUClv3HA54Fe\/\/EAv8EpQNtAAgB4AOcAYz\/YgU1BTMAuAKrBW8C9gFkBIcCOwERArcEtgFjAVME6AGvAcoEAwe2ACABMgMcATwERwHYA\/AEiv\/aBYkDAACGA80ClAXbAKsCGAR8AMgC4gH7BTIDLgKFAakCogQAABEEWQIKA2cEPwDyAUcEUAN3AVMBMQP+BAICswCiBJEDwP+uAhkFwQGqA6MDgAD8\/\/n+iwYsBGUAsgK7AvQDPQLxA5UA1wGGBJf\/JP9wA70B\/wCsBdYBvgDnAksC4QFaAMUA8P+oAmID+f4IA8EBJgHIA4X\/+QG1ABf\/SwMcAK8BKwQp\/oj\/twITA4AB5v22\/pL\/VAK6AV8APwAAAO0AkwCbAd39LP5E\/+P+VAEy\/xgCuAHY\/Y4Bsf8G\/3r\/Ufuw\/gIBVwAr\/qL91QH8\/yz+ZwClADH+W\/y7\/ZEBrP9z\/Kz+dQG3\/wz9xf\/c\/+D+3vxi\/ob\/Yv9RALf7P\/33\/4P\/U\/6n\/DoBOgEH\/fn\/PAAj\/Wr8Iv+k\/679Tf6X\/v3\/Of+jAAIAKP5m\/4\/9cP5q\/Yr\/OwBE\/0YCQf7M\/Vz\/wgD7\/+r9DgBi\/uT+jQDFAFEA3v0h\/6cCtf7n\/BABkgGSAJX\/cf8P\/2AA+QCM\/+3+fP\/9Af8Bqv5B\/0MACwEIAo0BnP4O\/t0CcgAoAVUAW\/6FAV4CFgK9\/en\/hgI5AH8AHQNgASEA2P6\/\/zMD9v+EA\/4Azf75APj\/WwLXAMH\/VgD9As0A9wCUAU0AlgJSATX\/HwAyAxsAnwHOAXIA7QCQAPwBXQFLApcAIgG8\/2AAdgNzAj4A3wAQAXoA1gCCASkDi\/5oAY0BuQCwApX\/FAPWAFYAbgBCAEMCj\/+3AlwBIgHsALEBIAHp\/24DaACDAUH\/sAHXApr\/BQEQAhoCJADfAM\/\/ggHpAZQA1P\/eAU4BeADDAtIATwDC\/xMDfwDj\/lsDmf+B\/y4BZwIfAZ\/+hgKxACb+iQC\/Al0C\/P72\/g0B1ABRALoArADGAKv\/l\/7+AP4AVf3TAWsDvP7O\/2oA4v+w\/OL\/rQMXAAIAgv2B\/+QA5f6n\/oT9hwARAaP+MP7rAEAAdP4d\/xr9Jv\/BABsAU\/9V\/NP9bv6o\/qMAPv+5\/REAO\/5D\/Q4Bv\/5j\/Z78YP7CAC3\/vf38\/b3+J\/0n\/s3+1f9g\/YH9Wv9+\/qMAO\/2O\/cT8xf3\/\/yj91\/0d\/iUBt\/4r\/LD\/Nf2u\/eH\/yPxN\/If+5\/1C\/pL\/yf0d\/8H+RP6a\/t3+RgCf\/TP86P75\/zP\/Mv6p\/pMAZP2u\/iT\/+P5uAfP9\/\/5W\/7T+DP\/9\/QQAlgCG\/rr\/uwEEAMj+X\/7CAMQA\/P3o\/jz\/cwC0AVMAlf8\/\/xj\/1gDKAcwAuQAPAHP\/ev++\/90AZgCaAK0A5AAZApwAO\/+R\/8AB1QES\/2kAhQEoAY4Bvf\/a\/1cAOgHlAI3\/sAEpAkkBLP9mAM0C3gBDADL\/LwGOAo4BOwH6\/m4BGQJ7AaUBiQHjAB\/\/8AEEAsQAjQB1AboBowElAlgAs\/+HARkDkQCfAY0BFQHQAbkA\/gAFAjcCXf9cAXgCKgJyAOcAQAMBANkAVAMuAeb\/oAFDAQ4BfgJgAtEAyAAnAVkCTwHxAH0Cbf8WApIDRgD8\/\/MBNQKGAEQBegEMAkwBVgE4AP0BxQIb\/44BhAJbAY7\/BAGJApP\/RAAxAmwCvwCQ\/5EAgAIwAaz\/BwJBABf\/xwDJAUcAVv4qAjcCwACcAFoADQFnANQA8f\/BAKP\/WP4fAAsBTgHh\/7UAgwCV\/7n\/cf+QAA4APP4BAPf\/Y\/7zAAQB\/P0Q\/1kAOv8P\/67+I\/+j\/okAkf\/f\/bj\/cP\/D\/mT9Yv8MAIf+iP0F\/4n\/kf8c\/zf9Of9l\/g\/\/Fv+J\/m7+r\/1E\/7j\/Xv\/P\/Jz+1f+N\/eb9Nv9z\/pz9nv6u\/ioAHP4G\/kr\/5f10\/pX+F\/9T\/QL9af++\/qT9Tv\/g\/jX\/a\/\/s\/ef+zv6i\/2v+qv1n\/0j\/oP9e\/ur\/sP+x\/ScAZf+z\/uL+xf4NAL7+G\/8KASAAr\/9C\/6MAVv\/h\/VEAVv\/GAMoADP+n\/x8AKQC9\/moA+AFHAAb\/fgBsAGT\/+QC6APz\/7v9\/AK8ArwAOAgkBW\/\/JALcASwC1AUQAcQCcAKT\/lgHbAd0A6ADNAIIBDQEIAbwAS\/+8AVQBof\/AAIoCIQKHAGkBzQAjALoBxAITAdoA0QAfARwCogBBARUCKgJWAd8AFgIxAVMBswHZAOcA9wGBAgQC6ADnAHwBlgG5AjoBFQKCAhQBNwBVAA4DMQGXAQ0C8wHcArUB\/wFEAHYBmAKZAWYB7QDoAKwB3wLOAcQBZgECAu0BswHBAfoAtQFZAMkBawHrALoCmQHPAdMB2gGyARMBHwGkAIUBnQFDAaQBowHtANEAYAJEAWUA+QB\/AQMB9P9LAYQB3gBrAeEAmwByAS4BIwDk\/9cA0QCGABsBjQAjAE4AgAATAeD\/GgHyAL\/+yQBcABMA1v9q\/+f\/Ef8vABwAEgA6AID\/CP+V\/9D\/IP9u\/gv+\/\/+9\/zD\/oP\/i\/iL\/0f4o\/8b\/8f6m\/pH+uf77\/Uv+tf+m\/tb+Lf9A\/7b+S\/7M\/uT93P6E\/sv+NP8D\/h7\/u\/7D\/Sz+8\/4R\/yX+I\/68\/ij\/Av8b\/c39JP9v\/oD+Yf6a\/jL+vv3L\/o\/\/SP4M\/vr+PP5z\/p3\/Hf8w\/jf+yf6Z\/qD\/5P\/d\/sz+pP4O\/2P\/JwCt\/qP+G\/8z\/7b\/I\/9KAGX\/zP8SAET\/pv9x\/xUAzv\/B\/oL\/cACnAKkApP8AAFgAUgCr\/4r\/CgFHAKIATAA8APoAcQB1AMEAxQDC\/+kAHAGkAOkA0gDJAD8BGgFwAHUBxAA6AEABYQERAfMAsABoAVIBdwBlASMBAwFZAeoAOAFiARMBmwCRAesBgAFQAXgADALGAvcASQDXAHQB\/wHSAYcBXgFQAd4BYgHPAeoBXAEjAUQBiQGDAaYBbwGIAQcCRwEWAeQCiAGsAAsChgHkAHgB7gFPAZcBRgIFAaMBxAGUAXkBgAGMAhcBSAECAbABsQFJAYQC8wB\/AZICVwHiAEsBLQKwAZMBKAIHAewA6AEGAv4ABQF3AeIB+wHoAW0BWACiAUMBlQCrAXQB8QDoAFABfAFjAQABzQC5ANAALwHnAOEASwBGABoBjAApAWIBlwDgAHMAqP9XAPMAvwCeAKT\/bwA8ASkAAwAlAAAANgAxAGz\/2P8lAGj\/Vv8vANT\/hf+2\/0\/\/+\/+c\/yn\/kP5G\/8L\/u\/74\/kv\/7\/+Q\/pr+wv\/\/\/pX+xf5\/\/3f\/Af4u\/tb\/6\/46\/uH+2\/7P\/qf+zP5v\/47+6v1t\/gv\/jf\/k\/nr9xf0q\/67+sf7K\/tz+Zv7O\/fD++f5R\/oT+J\/40\/tz+mP7o\/mr+6v0Y\/3n\/yf6O\/i\/+vP5Y\/0L++v7n\/wH\/MP9J\/9\/+KP9r\/xr\/nP4n\/+P\/6v81\/0X\/1\/+t\/wP\/ov\/v\/4n\/r\/\/O\/xgA7P\/U\/97\/\/P+v\/zgA1v9DAH4A5v+mAAYAYAA6ABYA0QC1AJ4AkwBMAKYATgH0\/9T\/MwFVAS8BtAByAAkBpgCIAKIBtwG3APr\/EgErAbgASQFCAQ0B7QA9AcoA3gCAAVwBvwDkAGQBvwGcAcsAbgEPAYIBjwHFAIIBgAGsATkBygGyAWYBcgE6AdsBVgFqAVoBuwF5AVsBCQLbAYIBNQGaATgC\/gHpAFsBpAGBAagBqAFqAZIBDQITArsBZAGAAeMBAAKEAUABKAGwAYsBYgE4AhcC1gEhAlsBfwHgASEBKgF2AYgBoQHBAbUB3QFUAaoB8AEjAZYBWwGRAagBxgBlATsB8wAOAp8BmgANAZsBaQGnALgAnwEqASUAFwFqAc4AewCnAH4B2gDIAGMAegDwAJ4A+QBfALMAwgByAHsANACaADEAOwCQACYALQD4\/\/n\/LwCV\/wAAYACW\/+j\/c\/8f\/2H\/Ov8UAIH\/FP9z\/3H\/eP\/S\/kL\/kP\/R\/qX+UP9x\/63+5f5I\/0T\/nf6n\/hz\/zv4p\/9D+mv4R\/7D+Sv4P\/x\/\/Wv5f\/v7+DP+p\/tn+Sv5D\/v3+nf5L\/sD+Nv5Z\/j7\/jv6P\/pf+OP45\/nL+p\/6q\/uf+bv6A\/sf+lP7H\/lv+qv76\/pb+AP8h\/zn\/nv76\/nP\/oP7Y\/qr\/j\/\/S\/uz+sP+B\/wH\/6\/94\/3H\/Rf8u\/w8Akv+E\/3D\/6f8XAO3\/AADk\/6f\/8\/9HANf\/MgA2ACYAfgAwABMAUACYAOgAXgAeAMEAfgCbAI4AQADXAPgA8ADrACQB3ACAADABWQEWAawAfABwAUIBrQACASQBjgEZAQUBUAHeADkBdQEWAQUBZAGpAQQB1wDfATwBCAHKAcEBJwEyASECSQFIAXoBVAHLAZMBnAGmAVoBqgHNAWcBqAF2AY4BxAFdAbIB5AFyAbYBAAKIAZkB7AHKAbABswG0AfwBnQFWAeMBxwGEAcYB1wF4AckBMQLKAU4BrQEZAqUBigGgAXMBYAENAiICeAG1Ac8BpgEnAZcB\/gFDAbYBpwFgAYMBjAGYAT8BPQGbAYEBaAGgARYBBQFNATMBfQH2AOUAOgH6AO0AhgDzACwBBQEkAbgA0wCxAKAA0wBpAJUAawB4ALIAfwCCAF0AvACZAFgAewD0\/9D\/CQDu\/wAA1P+h\/\/L\/WwDY\/0T\/sP+g\/0\/\/Uv8G\/4H\/7P8d\/yn\/Pf8+\/zv\/UP\/2\/qb+\/P7d\/jj\/9v7j\/hD\/\/v7Q\/oz+Cf\/e\/nL+1v4H\/7b+df7M\/gn\/+\/6D\/iv+4\/6c\/hb+tv59\/qT+sf5T\/rj+sf6a\/jv+YP59\/jb+UP5+\/nr+Kv5y\/qX+cv6R\/nX+jP6h\/kf+hP7I\/sz+ov6T\/rL+1f4g\/9j+kf4j\/1P\/4\/7f\/lb\/Qv\/L\/gv\/Yv+R\/yv\/\/v5W\/2\/\/Rf8u\/6f\/vv\/K\/5T\/iP+I\/7P\/2v9u\/\/L\/0v\/Q\/x4AGQACAKX\/\/\/8bAPb\/4f9TAJgA6P\/V\/1sArwBgAPv\/ZgBoAFAAtABmAFkAvwCsAKMAlACtAMUAbwBqAM8A5gCiAJwApgC\/ANIAtADBAAcB0AAGASsBywDjAN4A\/gBDAfwA9QBXAQoBEgFVAVABIwETARYBUAFtAU8BYAEnAR0BNgFyAUMBOAGgAUAB4wAeAcEBawH1AHYBewG3AVYB\/QAzAWABvQFSAQQBlwG\/ATABeAEwARUB1gF0AWkBZQFEAYIBXQFWAWgBpQGfAUQBWAF0AUIBSAFUAUQBdwFmAU4BgwFxAVgBQQEHATQBkQE\/AcUAHQGAATIBvAAcAUkB9QDnAKsA9AD6AMUAGgHaAKAAowDaAKAAWwC8AJAAzgCdAEIAhQBWAE8AfABCAFwAdAAOAP7\/CwAfAMT\/1P9JACwAuf+W\/8n\/tf91\/2v\/Of9K\/3T\/Zf9b\/w3\/bv\/8\/sj+Tv8P\/\/D+xf7b\/un+w\/7m\/gD\/v\/6Q\/rH+sv5x\/pj+y\/6h\/lv+SP6s\/q\/+t\/5m\/kP+Zf5c\/p3+U\/5d\/l7+ZP6N\/iT+B\/5B\/lT+\/\/3s\/Yn+gP4T\/h\/+Nv44\/jD+OP4v\/jf+Pv4c\/vH9JP5X\/or+d\/4x\/qn+q\/6H\/r3+rP5u\/mz+1P4Y\/8j+iv6t\/v3+Iv\/l\/sj+4f4H\/wv\/Rv8f\/\/\/+HP9C\/5v\/Yv8w\/yf\/Vv97\/33\/Tv9u\/+7\/uv+I\/+7\/AADd\/8H\/iP8lAD0AyP\/M\/+j\/HQAoADAALAAyAEUAMQBOAG4AaQBeAFUAgQByAFoAfwCmAGMASQCpAKMAgQCBAG0ApQC\/AH8AXgCoAAgBwACvANgA2wDSAIsAvQAAAa4AvwAZAQQB6gDmACoBFgHtAOsAAgEdAfcA7ADRAA4BHAEsAQIB9AAxAfMAHAH6AMcAHQEpAQ0BLgE0AQoBIAEtAQoByQDwADgBLgE0ARMBBQE3ARMBJAE8AfUALgHuACoBHAH6AFAB1AALARQB\/wAmASIBDAEZATQBAAEGAdMA6AAiAc0A5wD4APIAtAC6ACsB5QC7AI8AqADHAKAAkgBjAGEAgQCSAIoAfwBpAGQAcQBeABoAOwBHADcAEgAoAFQACwAiAOD\/7v8tABQAvf+0\/xAAvf+n\/4X\/df+H\/2D\/kf+A\/0j\/QP8f\/\/\/+Gf8F\/+7+9P72\/vL+t\/7P\/sD+e\/6Y\/oz+k\/6v\/lL+Yf6f\/mH+NP41\/nX+Rv42\/nP+YP4X\/tD9bv59\/u79M\/4u\/iX+Qf4B\/gH+Dv4T\/g7+Gv4U\/uz9\/f0M\/uj92f38\/RP+Av7N\/eL9Cv75\/c794f0S\/uH9uf3R\/RX+Uf4k\/gX+Y\/5o\/iD+QP6I\/mf+Mv5x\/qH+of6R\/r\/+t\/5\/\/q\/+5P7S\/sj+sv6z\/vr+6v4v\/zL\/2P4M\/1z\/T\/8p\/yz\/Z\/96\/1H\/cf9i\/6r\/vv97\/5X\/t\/\/K\/7D\/yv\/x\/9H\/zP8HAP3\/1P8EADQAKQD3\/wwAVQBPAEoAWwBdADUAVgBjAFEAZAA6AFYArAB9ACkAdwCHAIoAdgCRAKUAegDFAJsAdwCEANQA2gDEAOoA2wDUAK4A2gD0ANYAFgErAdYA\/QD4AO4AHQH5AAUBDwEtAQoB+QAfAQMBDQHvAAUBJAE7ATUB2QALAS4BIAEVAfUADwE4AS8BAQH0APoAHgEzARsBJQEkAQEBAQEdARAB2AAWAS0BAQE\/ATYB2QDZACsBGAEQASsBDQEGAQQBIgH4AL8A7QAJAf4A0wDhANkA6AAhAcAAzgDyALEAnACqAM8AqACqAJsApAC2AFoAngCiAFIAWQBGAG0AcQBkACsAEwBAAD8AUQA\/ABkACgAZAAwA4\/8BAO3\/u\/\/A\/5P\/mP+i\/5j\/iv93\/3r\/Yv8z\/\/\/+Kv85\/yP\/2P7M\/ij\/9f63\/sD+6P7f\/oP+WP65\/pv+ef6s\/nD+if6H\/lD+TP5h\/lP+Uv5p\/i7+Of5G\/iX+H\/4U\/iP+Qf5Q\/ij+Af7o\/R7+LP7g\/R3+Jv4J\/u790f0Y\/t79v\/39\/Qv+5P3s\/SL+3f3C\/ev9LP4K\/u\/9V\/5S\/kj+Of43\/l3+Zf52\/nT+df6Q\/oT+kf64\/p3+z\/7B\/qL+1P7X\/vv+3\/7O\/gT\/Av8V\/y3\/Ef9B\/0n\/Kv+A\/4T\/P\/92\/4r\/dv+T\/4v\/s\/\/l\/6H\/lv\/l\/\/D\/9P\/b\/9z\/+P8AAEAAGQD5\/ywAOgA8AEcAYQBPAGwAgwBmAG4AeQCIAHUAawCWAIcAewCLAJQAlwBhAIcAuwCcAKoAwwCwAL4A3ADJAMMA2gDnAPQA8gDeAPYACgH3ABwBIQELATEBGgEKAQ8BGgE8ASABAgEKATUBQAEoASgBMAEgAS8BVgEgAS4BUwFAATUBLAE8AWABXgElASwBTwFMAS8BWQFhAToBUgFTAVYBTwFCAWMBZAEYATYBbQE0AT8BVgE\/AT8BPgFCAS4BNQE0ATkBQQEPAUwBPwEOARUBGAEyAeAA9ADyAOMA\/QDcABUB6QC+AMwAsACxAI4AbQCCAIgAdwB9AJ8AiABHAC8AQgBkAC0ABAA5ACwABwAEAO3\/AwAGAAcA5\/+9\/+H\/o\/+L\/5T\/d\/+V\/4j\/Wv8v\/0j\/af8H\/\/n+K\/8X\/\/j+0\/7m\/gj\/6f6U\/pz+0f6r\/oj+kP6M\/nf+jP55\/kf+Uf58\/nz+Wv46\/jz+bP4\/\/i\/+QP4m\/hv+GP4o\/iX+H\/40\/hf+9P3l\/en9Hf7r\/db96f3i\/Qr+6\/3I\/e396P3P\/dz96f3y\/b79yP0Q\/ur9yv0E\/jT+Cf4P\/i3+IP4z\/lH+UP5N\/nL+bP5r\/o7+lv6a\/p\/+nf7f\/t3+j\/61\/t3+2f7f\/uT+8f4T\/xb\/9P71\/ib\/O\/8O\/yL\/Wf9M\/1L\/X\/9p\/23\/ZP+j\/7X\/nv+u\/6b\/tP+8\/8b\/2P\/M\/+P\/\/\/8DACwAFADk\/yAAPQA2AC4AHwBPAE0AMQBMAHgAdwAsAEIAewBpAEoANgByAJgAagBtAIcAmwC6AMEAqgCgAL0AoACPAMYA1wC9AMAA8QDkANAA8QD9ANwAvgDoAP0A8ADdAN0A\/QDqAAUBBgHSAO4ADAH+AOoA\/AD9AO0A\/AAHASgB+QDMAPQA\/wAWAQABEgEZAfYAFgEUAREBBgEGARUBFQESAQQBEQEZAR0B+wAKAT8BEgH5ABoBFgHlAP4AHwECAf4AAQENAQQB6QD4APUA9ADxAMQA3gDrAKwAogDBALAArgCrAIQAagBtAHoAcgB6AGMAWQBNACQASgBOABoAAAATADgAHAD2\/xMACADV\/+P\/7v\/1\/9z\/uf+c\/5b\/oP+R\/37\/af90\/1n\/PP9E\/w\/\/Af8X\/+7+6v7e\/t\/+3f6+\/sj+p\/6V\/rf+ov53\/oL+fP57\/mb+Sv5l\/l3+Uv4t\/kL+Xv4Y\/h3+LP4N\/vv9+v0M\/hH++P30\/QT+4f3W\/er96v3i\/fP97P27\/a79xv3h\/cn9sv28\/dz9zv2z\/a\/9pv21\/Z79uf3L\/az9t\/3B\/eD96\/0F\/g3+9f0W\/iH+GP4Z\/hv+Kf41\/kn+Vf5f\/mv+V\/52\/pH+iv6G\/ob+qv6g\/qT+z\/7I\/rv+\/v4J\/\/L+\/f4E\/xL\/7P4i\/0j\/N\/8+\/1D\/c\/9a\/2b\/e\/92\/3X\/ov+0\/63\/tP+w\/67\/wv\/m\/9X\/1v\/m\/woAEQAAADQAHQD+\/xkAMAAyACAAPwAyACsAPABGAEkANABIAFEAXgBmAG8AbwBYAHUAewCHAJAAegCvALoAqwCfAJYAvgDBAKYAvQDPAMkAzQDGAOkA5ADPAN0AuQDGAOMA3QD4ANAA1wD+AOcA4gDxAPcA6AD\/APgA5wDvABcBDwHoAAYBAgEJAQ0B5wD+ABUB7wDjAAIBFgEHAecA+QD2AO0AAQHyAPoAAAH5APcACAEKAecA+wAFAe8A9AD1APQA4gDfAO4A0gDJANsA0QC9AKgAvADLAJ0AiwCbAKAAjwByAHoAjQBsAG4AbwBhAFIAOwBcAEkANwAzABwAFAAMACoAGgD7\/\/X\/BAADAOL\/1v\/P\/8f\/r\/+2\/6v\/g\/96\/2j\/TP9R\/1L\/Nv8N\/x7\/L\/8U\/\/3+8P4B\/+b+2f7E\/tH+1\/6p\/q\/+of61\/rD+jf5\/\/nD+gf58\/n\/+df5a\/lb+Uf5S\/lj+WP5P\/lL+Ov4\/\/kz+Jv4y\/jf+Iv4y\/jD+HP4i\/in+EP4B\/gn+EP4J\/gD+DP72\/en9Cv4H\/uX97P0J\/vL95P0a\/jX+Gv4b\/k7+WP4\/\/kj+V\/5V\/l\/+Z\/54\/oL+eP6J\/pT+oP6U\/qH+xP62\/q\/+0v7r\/uj++\/71\/uX+DP8Z\/xb\/I\/8k\/z3\/Rv9D\/2X\/dP9r\/3v\/iP+P\/5D\/h\/+V\/6n\/tf\/H\/8b\/wv\/c\/8\/\/yv\/7\/\/f\/5v\/6\/wMAFwAVAAsAFwA7AD0AFAArADcAMwA2ADAALwA4AEwAOQBAAFIAQwBmAHUAWwBrAIQAggBnAH8AnwCQAIoAjQCqALgAowCsALoAwADCALQAxgC6ALIAxwDFANQAxQC7AM0A6ADYAMwA4ADdANUA4gD2AM8AzgDqAOwA5gDqAPIA6wDyAPoAAAH7AOsA5QD5AP0ABwH8AOYA9ADtAAEB+wDlAP0AAwHrAOwADAH4APAA9QAMAQEB2AD5AO0A4wDmAO8A+ADJAN0A2gC0AMAArwClALkAvACcAIwAmACTAHwAgQCFAHsAaQBiAHEAYQBkAFAASABbAEEAOQBJAD8AIwAeACwAJwAUAP7\/CQAlAPD\/y\/\/Y\/9P\/xv++\/6z\/iv+I\/3\/\/X\/9R\/1D\/NP8o\/zH\/J\/8X\/wb\/8v7e\/t7+zv7M\/sT+wP67\/p7+n\/6G\/ov+lv58\/mb+av54\/mj+Xv5j\/mr+Qf5P\/mD+QP4+\/jz+Rf49\/iX+Ff4f\/h7+Cf4H\/hD+\/v3\/\/Qb++f0E\/vL99f30\/eD96\/3z\/eb9zf3N\/eb95f3K\/d79Af4P\/gb+Ef4d\/hP+Gv4b\/ij+PP4\/\/jr+T\/5b\/lb+X\/50\/nj+bv6B\/oT+fv55\/qr+yP6f\/qz+y\/7N\/tT+5P72\/vv+\/f4H\/w7\/Hv8e\/yX\/Rf9P\/zr\/Sv9o\/2j\/dP+N\/5j\/ff97\/6H\/ov+h\/7H\/zf\/X\/8T\/1v\/u\/\/D\/7P8IABAAAAANAB4AGgASABEAGQAmACAAJQAnACEAIwAlAC8AMgAvADUAPwBVAFEASwBaAGIAdABpAF8AZwB0AH4AhQCGAIgAlQCJAI0AhwCKAKkAnwCPAJIAmACfAJkAhwCiAL0AoACcALUArwCsAKoAqQCmAKwAtgCpAKwAwADGAKgAwADMAKoAtQC8AL4AuwC9AMgAuAC4AMcAuACxAK4AuQC6AK4AugC\/AMMArgCyALAAoACdAIoAnQCMAIwAlAB5AHkAgACAAGsAXABZAFcASABMAEUAKwAvAC0AJQAWABQAAwDw\/+3\/4v\/h\/+j\/2\/\/G\/8r\/v\/\/G\/73\/q\/+u\/6X\/pv+e\/5\/\/cv9k\/3r\/XP9P\/0P\/Nf8d\/xP\/\/\/7r\/ur+1f6\/\/q\/+sf6e\/of+e\/5v\/lj+XP5X\/kn+TP4\/\/jf+F\/4o\/i7+Av4A\/gL+Df7+\/eH96v3k\/dv95\/3w\/dv90f3L\/cD9wv25\/bP9u\/29\/az9oP2f\/Z\/9qP2g\/ZT9mP2L\/Xf9gv2N\/Xz9g\/2G\/Yr9jf19\/YX9gP1y\/XL9ev1\/\/Y39mf2e\/aD9sP3M\/cD9yf3c\/eL97f31\/fj9AP4I\/gj+I\/4j\/jP+Sf4s\/j7+Uv5f\/mn+aP5x\/n7+g\/6A\/o7+qP7J\/rv+sv7f\/u3+7P76\/gn\/IP8W\/yj\/JP8n\/1f\/Tf9f\/1\/\/b\/98\/3\/\/nv+L\/5P\/nP+s\/77\/vP\/U\/9v\/5f\/0\/\/P\/+\/8IAPP\/AAAQAP7\/BQAKAB4AFgAKACQAIwAZACsANwA3AEcATgBVAEkASgBfAF0AaAByAIEAcABsAIMAhwCVAJkAigCGAJcAkgCWAKAAogClAKgAqACdAKAAswCqAJ8AuQC6AMEAxACuALYAsQCzAMAAswCwALUAwQDOAM8AxgC2AMwA1wC+AMcAygDLAMMAxwDPAL4AxADNANgAywC\/AMQAxwDMAMUAzwDPALwAyQDRAL8AywDKALgAvAC8AMAArwCmAK0AoQCNAIEAhwCDAHUAcwB4AGoAXwBbAEwARQBIAEIAMwAqABgAEAASAAoADAAGAAEABwDy\/9v\/6\/\/g\/83\/xv+z\/67\/of+b\/5P\/gf9u\/2D\/Uf9C\/0D\/Kf8H\/wv\/C\/\/j\/uL+6f7d\/sD+tf63\/pv+oP6i\/o\/+f\/6B\/oH+b\/5r\/mD+V\/5e\/lP+Pv41\/ib+Mf43\/h3+H\/4c\/iH+G\/4E\/gz+Ev4G\/v39Af7q\/e39+P34\/fL91\/3q\/ez92f3U\/eD92f3V\/dr9xP3R\/dn9zP3D\/dL90\/3A\/dv96P3o\/fn9CP4P\/hP+F\/4p\/jb+Kf45\/kD+QP5Q\/lb+Wf5Z\/m\/+ev6E\/nn+hP6b\/pP+of6h\/rn+wP69\/tP+0f7h\/uL+6f4K\/w3\/G\/8k\/yH\/K\/8+\/zL\/Qf9Y\/0\/\/ZP9l\/27\/jP+a\/5\/\/qP+2\/8L\/yP\/F\/9T\/5\/\/w\/\/P\/+\/8KAAQAAAAWAA4AAwAdABsAEwAiACUAJAAgACcAMQA1ADwATQBPADsAVwBmAFwAWgBfAG4AZAB4AHkAbQCNAIYAeACLAJsAnACPAJMAjgCWAK0AmwCSAJ0ApgCrALEAuQCtAKoAvAC3AKMApwCuALMAvwC6AMQAygDMAMwAvgDNANoA0QDAAMYA0QDZANUA3ADfAMUA2wDaANIAyQC\/AMoAvwDcANsAwgDUANAAzgDcANYAwgDIAM8ArwCkAL0AuwCgAJsAtwCvAIcAigCOAIQAiQB6AHEAcgBhAFQATgBUAEsARAAxACoANwAlAB0AFwAQABQABwAHAAAA7P\/z\/+3\/6f\/q\/9j\/yf\/E\/63\/nP+E\/3\/\/if9i\/03\/Vv9V\/zD\/G\/8X\/xH\/FP8D\/+3+4v7X\/sr+vv64\/rH+mv6R\/p3+p\/6I\/m\/+e\/6F\/nj+Tv5K\/lX+Sf5M\/kH+NP4y\/jH+Mf4g\/hn+GP4V\/hz+DP7\/\/Q3+CP4C\/vb9+P0K\/vz98f3z\/fT98\/3j\/dn93\/3s\/fH97v3p\/eT94\/3j\/er95\/3s\/e\/9Av4a\/iT+Iv4i\/kD+M\/4y\/lT+Xf5T\/mb+ev5s\/o\/+mP6I\/pn+o\/6z\/rj+w\/7X\/tX+1v7p\/vP++\/4C\/wn\/Fv8o\/zn\/Nv9D\/1v\/Z\/9i\/27\/eP+D\/5T\/n\/+x\/7H\/xP\/M\/83\/5v\/s\/+z\/8v\/7\/wYAFQAZAB8AHwAwAFAAVgBdAF4AXwBnAGMAagBfAFYAbAB3AG8AdABzAGsAegCEAIkAfgCHAJAAjQCpAKsArgDBALoAwQDcANkAzADXANwA5QDkAO4A4gDVAPwA6QDeAOUA6ADhANkA5gDhANgA4ADtAOAA5wDuAOQA3QDkAN8A6QDsANgA6wDyAOgA2QDmAPIA5wDfAOoA8wDnAOoA9gD1AOkA6gDhAOAA5ADeAO0A3QDJAOAA4wDfANgAxwDTAMkAwADCAMMAxAC+ALkAsgC2AKUAkgCIAI0AmgCFAHQAfgBwAF4AWgBlAFUALgBMAE4AMgAgABoAGgAFABoAFAD1\/\/T\/8\/\/0\/\/H\/7f\/d\/9L\/0f\/I\/8H\/sP+u\/6T\/f\/9w\/2r\/YP9M\/zn\/OP8y\/yT\/\/v7h\/un+5P7O\/sX+wv61\/qf+o\/6P\/nz+bv51\/nP+YP5j\/kf+Sv5d\/kz+PP4x\/iv+HP4W\/hL+Ev4g\/gL++\/0T\/gP+\/\/3v\/ev9\/\/3w\/dz95f3n\/dz92\/3S\/dv90f3A\/cz91v3H\/bj9zP3R\/c\/9yv3Q\/cb9vf3M\/cr90\/3e\/fP9\/\/0M\/gr+Af4b\/iz+L\/4x\/jj+RP5L\/lv+af5m\/nf+hf6N\/o3+kf6h\/rH+uf7E\/t\/+3v7b\/vH+Av\/5\/vz+EP8n\/zT\/RP9K\/0b\/XP9f\/3H\/e\/+A\/5X\/iv+X\/7X\/s\/+7\/8\/\/0f\/Q\/97\/8P\/o\/+n\/+f8JABQAGgAiAC8ASQBMAEQARABIAEwARABVAF8AUABbAGMAYwBpAG0AagByAIAAmACYAIkAfwCEAKUAoACkAKcArADAAL4AwQDAAMoAxwC\/ANAA2wDaANMA4QDZAOUA5wDJANwA3wDhAOYA3QDjAOsA6QDwAPAA6ADnAOMA6QDrAOoA7ADrAOwA7ADwAP4A8wDyAPsA9gD5APoA9QDxAAAB+gD1APwA9ADlAOQA3QDeAOUA2ADfAOYA4ADSANkAzADAAMoAxQC8ALEAsQCsALQAqQCcAJQAmACXAIUAjQB+AHgAeABkAGUAWgBMAFEAQwBCAEEAMAAqABwAGAAaABMADQAAAPn\/BAD4\/+P\/6f\/s\/+L\/zv++\/8L\/tf+V\/4\/\/gv93\/2z\/W\/9O\/zH\/Mv81\/xr\/DP\/\/\/vT+8P7z\/uf+1\/7T\/r\/+sf6q\/qH+l\/6Y\/pv+jf5\/\/nz+Zv5w\/nf+Vv5a\/mP+Wv5U\/lv+Sv5J\/kj+Pf5A\/jn+Pv4w\/i7+K\/4k\/jL+J\/4q\/iL+Ff4n\/iP+Dv4L\/hn+E\/4H\/gP+Bv76\/fz9C\/4L\/gz+IP4s\/iX+Nv5I\/lX+Tf5c\/nD+dv6J\/or+if6U\/qn+qP6z\/r7+uP7D\/s7+4v70\/vj+Bv8L\/xP\/Jv8h\/yL\/Mv9C\/0v\/Vf9b\/2z\/fv+E\/4P\/j\/+c\/6H\/s\/+6\/8L\/yP\/W\/+P\/3P\/t\/\/\/\/AQAHAAUAFwAiACgALwAxADUAPQBbAFoAVABmAGsAbQBrAHUAeABfAGoAfAByAGMAfgCFAHIAhwCFAIMAhQCVAJYAjQCrAK0AoACvAMUAuwC8AMUAygDLAMwA1gDFAM4AzQDEANEA2ADcAMwA2wDaAMMAzADVAN8AzgDOAOMA4gDiAOcA6ADgAOkA8QDoANsA6wD3AOEA3ADpAO0A4gDtAPEA6QDoANgA4QDrAOUA3QDXAOMA4wDbAOEA7QDwAN0A1gDmANsA1gDoANUAvwDeANQAtwDBAM4AwwCwALAAoACoAJYAlwCPAG0AgAB0AG0AawBmAFoATgBSAFAAQAAzAEgALwAXACAAIAAYAAUAEAAHAO\/\/6v\/p\/9z\/4v\/j\/7X\/sf+q\/5f\/kP+O\/3v\/ZP9X\/0v\/RP85\/yD\/Dv8S\/\/P+9P7l\/sv+0P68\/rD+pP6j\/pL+fP55\/oj+f\/5j\/mv+Yf5O\/k\/+R\/44\/jL+Of49\/iz+I\/4c\/hD+F\/4j\/hb+A\/4E\/gP+AP4A\/v399v3v\/e395P3q\/ez94\/3e\/dv93\/3W\/dD90P3a\/dP9zP3F\/cH91v3K\/dT95v3s\/e\/98P0J\/gr+EP4d\/iX+N\/43\/jr+Uv5a\/kf+U\/5w\/mv+c\/53\/n3+jf6T\/q3+qf6m\/rn+u\/7F\/uT+5P7u\/gj\/CP8Y\/xb\/Kv8q\/y3\/V\/9e\/2r\/cP94\/4L\/gf+H\/6X\/sv+e\/6b\/uf\/L\/9P\/3v\/o\/9P\/4P8CAP7\/DgAlACcAJQAiADsAPAA3AEMAQQA+AEQARgA4AFAAXwBSAFQAYACBAIQAdwBvAIMAmQCSAKQAqgCxALsAuACyALsAzwDGAMcA3QDbANgA6gDpAOkA5wDwAPoA7ADzAPkA8gDzAPsABQH3APsACAEAAQkBEAEKAQIBEAERARIBFQEPARoBHQEdARwBHgEcASMBHgEMARQBKwEbARkBMQEhAR8BIAEfAS4BIQEaASoBJgETARcBHwEaASMBGwEUAQ8BCgEUAQAB\/wADAQoB+gDgAOkA2wDNAM0A1QDEALkAugCoAKsArgCrAJcAiwCYAI0AfgB\/AH8AawBlAGUAXgBfAFIATQA8AEYASAAzACoAFQANAAAA+v\/u\/+H\/zP\/L\/73\/mf+U\/5D\/hv9q\/3T\/X\/8\/\/0b\/Lv8f\/yL\/If8P\/+v+6v71\/un+5f7c\/s3+v\/7G\/sX+sv61\/qb+q\/6n\/p7+q\/6I\/pj+mP6H\/o\/+hP6E\/nP+dv56\/nr+d\/6E\/nv+Xv5g\/mT+Zf5f\/mL+Zf5S\/lD+YP5Q\/lb+Xv5U\/kn+Sf5g\/lT+Yf6B\/oX+jf6n\/rL+q\/6z\/sD+0\/7K\/tH+4P7f\/vH+9P4A\/w3\/D\/8g\/xj\/F\/8s\/zv\/T\/9O\/1b\/V\/9M\/2z\/e\/+D\/4r\/eP+K\/6\/\/vP+6\/7r\/zv\/Y\/9b\/5P\/y\/\/f\/\/P8AAA4AIgAyADwANwBRAFoATABRAGQAeQB4AIwAigCRAKsAsQCyAL8AuwCkAK8AwQDNALkAwADdANEAvwDUANgA1gDmAOkA9QDuAAABCgH0AAQBHAELARQBIQEMASEBOQEnASoBOwE9AUABOAFCATgBOAFDAUMBSQE4AUUBUgFKAVIBRwE6AUsBRwFCAVgBWwFEAVABYAFNAVABXAFYAUIBWAFvAU8BVAFeAVIBUgFlAWUBSwFhAW4BUAFUAWABYQFgAWcBZAFXAVEBWQFRAUoBXQFWAUcBOgFKAUYBMwEsAScBOQEmARsBHQERAf8A\/gAHAfEA6QDiANwA1ADMAM4AwgCvAJ8AogCSAJcAjQBxAH4AdQBqAGIAZgBrAF4ASgBPAE8APAA6AC4AEwARABAA6v\/h\/+X\/z\/+7\/73\/rP+M\/4z\/kP9v\/1n\/XP9M\/zn\/Mf80\/yP\/Gf8X\/wX\/+v7+\/vH+zP7X\/t3+xv7I\/r3+pv6V\/qj+pP6W\/p7+h\/59\/ov+jf5z\/nv+g\/6A\/nr+bP5n\/lD+Yf5j\/lz+Sv5E\/lf+SP5L\/lX+Uv5I\/kT+T\/47\/kj+U\/4+\/lb+RP5Y\/mH+U\/5w\/nX+lf6d\/oz+k\/6x\/sP+vv7L\/tD+1P7g\/vH+9f76\/hb\/Ef8I\/xz\/Iv8u\/1T\/Tv9L\/1v\/Xv9n\/3P\/ev91\/47\/q\/+z\/63\/v\/\/X\/9P\/2\/\/i\/+T\/+v8HABUAGgAWAC4AOgA5AFEATAA+AG4AbAB0AJAAlgCdAIwAqQDDAMoA0ADLAMkAzwDKAM0A4ADVAM0A4QDoANgA1gDwAPYA9gAGAfoAAQEIARQBJgEUARoBKQEvASgBLQFHAUIBRwFUAU8BTwFPAVIBYQF1AVABSAFuAV0BZwF1AWUBagFkAXABhgF2AWABbQGCAYABiwFxAXQBjAGDAYwBfQF8AXkBhQGZAYMBfQF5AYEBkAGJAX0BcQF8AYEBkgGQAXoBewF1AXgBfAGCAYQBcgFpAXkBgwF5AV0BVAFiAWABZgFSAUMBUQFFATgBRwFAAR4BEAElASkB\/wADAf0A4wDvAO4A0ADPANUAuQC5AL8AvwCpAJcAmACfAI4AggCJAHcAZwBhAHIAXABOAEwANgAXABQAGQDr\/+n\/3f++\/73\/yv+8\/5f\/iv+N\/4H\/Yf9Z\/1H\/R\/87\/yb\/Gf8W\/wn\/Af\/9\/gv\/B\/\/l\/uT+1\/7N\/sb+yP65\/qD+sP6s\/qf+nf6L\/pP+kf6E\/pH+lf5+\/on+hv5v\/mv+f\/59\/m3+dv5s\/m7+Z\/5h\/mn+Zf5e\/mn+aP5c\/mz+X\/5a\/mL+YP5b\/m\/+h\/6B\/oj+l\/6i\/q7+vP60\/r\/+yf7e\/vL+4f7x\/gn\/EP8G\/xf\/Fv8b\/yv\/Rf9e\/z7\/Uf9q\/2X\/Zf90\/5H\/j\/9\/\/53\/pf+l\/7v\/vP\/R\/+3\/8\/\/1\/w4ADQAWACcANgA8ADkAUABZAGkAagBqAHsAgQB\/AJ4ArACfAKkAyADKAKcAxgDhAMgAwwDWANoAywDPAOcA5QDZAOMA9gDjAN4AAwENAQ4BDAEOARYBIwEdARcBKAEzASoBOwFJATIBNwE\/AVEBSQE4AUoBTwFKAUkBUgFWAVYBSgE+AVMBXQFKAVEBUQFEAUMBUgFbAUEBRAFTAVsBUQFZAWwBVAFaAWABYwFiAWEBYQFbAWIBWAFdAVkBUAFmAWYBTwFNAVUBRwFCAVIBRAFLAVsBWgFRAUABOAFBAUUBOgFAAScBLwE8ASUBHQEtARkB\/AAQAQQB+QDhAN4A5QDkANMAxQDJALwAuwCmAK0AqQCeAJ4AmQCcAJQAeQBtAIYAYwBOAF0AYwBYAEkAWgA2AB0AFgAAAPX\/9P\/0\/9H\/yf\/M\/7\/\/pP+Q\/4\/\/d\/9v\/23\/Xv9L\/zv\/SP82\/x7\/Kv8X\/\/7+BP8Q\/\/D+3\/7p\/uT+2\/7L\/s7+vv6\/\/rz+wf7D\/qj+qP6q\/qT+lP6i\/pz+h\/6M\/of+d\/5\/\/oH+cf51\/nf+cf5k\/m\/+Zv5W\/mT+av5f\/kH+Sf5Z\/kn+UP5e\/lT+SP5b\/l3+W\/6D\/of+iv6d\/pz+ov6k\/rL+zP7U\/tb+zf7Y\/vj+8f75\/gT\/+\/4D\/wz\/LP88\/zX\/O\/9A\/0n\/Wf9k\/1\/\/ev97\/2b\/h\/+a\/5r\/rf\/C\/7r\/sv\/L\/93\/3\/\/q\/\/3\/\/\/\/0\/xYAGAAfADgALgBDAD0AQABOAHEAfgBqAH0AjACNAIkAlAClAK0AjwCSAKIAngC2ALAAnwCiAKcAtQC1ALcAwwDDANQA3QDOANcA8wDxAO8A8gDmAOMA8AAFAQMBDwEYAQ0BGwEfARIBEwExASIBFQEpARoBEgETASsBMQEhASYBMgErASUBNgEvASQBJwEzATYBPQFFAS0BKAE4ATQBKwE\/AVEBOQE3ATcBMQE8ATABLgEwATMBLwEqATUBMgEwARwBKQEhARUBLQEnARoBFQEdARABDAERAQ4B\/AD5APcA6QDrANUA3wDaANYA2wC9ALUArQCvAKUAmQCXAI4AgwB1AHYAXwBjAGoAVwBBADwAQgArADQALgApACQAFwAWAAUAAQAAAPf\/1P\/X\/9T\/uP+x\/5z\/j\/9+\/3f\/X\/9a\/1T\/JP8p\/yT\/Cf8A\/\/f++P7e\/tH+xP6w\/sX+vP6o\/qT+mf6H\/oH+b\/5w\/nv+Zf5s\/k\/+Sf5w\/mb+S\/47\/kP+N\/4x\/j7+NP4s\/i\/+Mv45\/jT+F\/4d\/ij+Hf4W\/iD+IP4R\/hP+Fv4P\/vn9Cf4N\/vf98v0A\/iL+HP4M\/hD+MP5H\/j3+Qv5Q\/l3+X\/5r\/m3+Z\/5w\/n3+mP6P\/pP+sf6+\/rH+o\/7J\/sL+y\/7N\/sP+5\/7o\/vH+7P79\/hf\/L\/8v\/yH\/Q\/88\/0j\/WP9Y\/2v\/gP+F\/3b\/lP+V\/5D\/rv+x\/6\/\/xP\/Z\/9j\/3v\/4\/wEA6\/\/\/\/yQAGQAfADQARgAwAC8ATABEAEoAPwBGAFwAWwBWAFQAZQBoAFUAXgB\/AHAAdQB8AHQAiQCQAJIAjACpAKMAjQCnAMQAxACuAMEA0QC6AKoAwgDQAMwA0wDGAL4AywC+AM8A2wDGAMYAwgDQANoAwwDUAOgA0gDXAOcA4ADrAO8A1wDjAOkA5gDnAOkA7gDwAOkA5wDeAPAACAH3AAEB9gD6APAA0gDmAPQA6wDcAO0A8wDQAL4A4wDlAMcA0wDiAMYAvgDTAMkAugCxAKEAmgCnAKQAlACIAHkAfACEAHMAagBlAFkAUwBjAEwAJABAADoAHAAfACwAFAAQAB8ABgDh\/\/D\/+\/\/v\/+P\/1P\/v\/8v\/xv\/D\/6P\/qv+d\/5T\/h\/9v\/3D\/Vf88\/0b\/MP8o\/yf\/Gv8A\/+v+6\/7r\/uH+y\/66\/qb+ov6s\/pr+i\/6u\/pj+ef6I\/mn+Z\/53\/nD+Vv5P\/mD+OP5G\/lb+Q\/5H\/j3+MP4n\/jn+Nf5B\/kP+Iv4a\/ir+Iv4X\/iP+IP4V\/hL+Fv4M\/iL+Gv4V\/g7+E\/4a\/v39FP4I\/hL+Jf4b\/iv+K\/4n\/k3+YP5k\/mn+a\/6F\/oX+jv6S\/pr+pP6h\/rb+xv66\/sb+0v7K\/uD++P7z\/uf+Av8U\/wf\/JP8p\/xz\/M\/83\/0b\/X\/9s\/2f\/df9+\/4r\/o\/+w\/7H\/v\/\/W\/8n\/0f\/r\/+r\/4f8KAA8A\/v8ZACkAIAAxAE8AMgBBAHUAZwBnAI4AegBdAHkAiAByAHgAdwBqAJoAqgB+AIIAoQCMAJQAtAC1AMIAyQC9ANIA1gDHAMkA4QD\/AOQA6ADtAO4A\/QD4AP0ACgEJAQUBFwEfAS8BKgEOASgBOwEmASgBGwEfASwBMAE5ATsBMwFDAVcBPQFNAUoBMwFMAUsBOgFIAVQBQAEzAUoBRAE+AUYBOgFEAUoBSgFMAVMBSAFHAV8BQgE+AVsBOAFGAVUBNgEqATABOwErASgBIAEcARQBDgEFAQgBAQHiAOsA9wDnAMgAzgDSALgAtAC1ALQArQCLAI4AkwCKAHsAbwB3AG8AaQBSAFEASQA+AEMAMQAqAAoA\/\/8cAAcA+f\/p\/8X\/y\/+2\/6X\/qP+f\/4X\/aP9i\/03\/P\/85\/yz\/IP8a\/xD\/\/v73\/vT+3P7T\/t\/+wP6w\/q3+pf65\/q3+iv6F\/oj+fP5t\/nT+dP5U\/lD+aP5n\/lz+Yf5d\/kn+Uf5J\/kb+P\/40\/j3+Nv4s\/i7+P\/4r\/h3+Mf4t\/hv+Fv4d\/g7+Df4V\/v\/9A\/4P\/v\/9Bv4O\/hf+Gv4X\/kH+Rv4\/\/lT+W\/5u\/lX+U\/6B\/of+hv6Y\/qT+p\/66\/rv+sP7A\/tn+2P7X\/vT+8P71\/hP\/Bv8M\/x\/\/IP8o\/zn\/Qf9I\/1P\/aP95\/2b\/cv+K\/4v\/jv+V\/6f\/tv+8\/7z\/0f\/i\/9b\/5\/\/x\/\/T\/CAATABIAFAAVACMAOABLAEsASwBfAFUAWwBfAF8AZgBzAHMAcACAAG0AbACEAH0AdACOAJQAkACvALgAqACrALgAuQDBAM8AyQDNAN0A4gDZANUA4QDlAOAA5QD3APUA5wDuAP4AAwH5AAIBDQEKAQcB\/QAHARkBCAEAAQ4BDgEJAQQBHgEkAR8BKAEfAR4BJAEcASEBLAEbARUBJQEdAQ0BJwEqARoBJAESAREBJAEnARoBFAEbAQ0BDwEYARABEAEVARQBAwEEAfgA9QADAfYA8ADmAOcA1wDeANQAzADbALoArwCyAKwAmACnAJcAfwCRAIMAdABxAHAAXgBmAG8AVQBPAEgASABHAC8AIQAnACwAFwAVAAAA6f\/t\/9b\/yf+2\/7H\/rv+d\/5L\/fv9r\/1P\/S\/9M\/zT\/Iv8r\/yL\/+\/78\/v7+8P7f\/s\/+2f7Q\/sH+vv6v\/qb+qf6Z\/pX+lP6K\/oT+fP57\/nn+ev54\/mX+aP5s\/lz+VP5M\/ln+Vv5J\/lH+Tv5K\/jv+P\/5D\/jX+Nf46\/jX+Nf49\/in+Jv4z\/i7+NP40\/ib+Iv4d\/in+PP5I\/lb+Uv5Z\/l3+d\/6C\/n3+gf6C\/qb+rv6t\/rv+v\/7J\/tL+1P7S\/uP+\/P72\/gD\/GP8W\/x3\/If82\/0T\/Q\/9T\/1T\/Wv9u\/4f\/g\/+C\/5v\/rf+3\/7n\/wv\/G\/9f\/4f\/2\/wcA\/P8PAAoACgAxADUANABEAEcATwBrAHUAcAB2AJAAlQCIAJgAkACXAKQAmgCVAJoAqwClAKoAogCgALUAuQDFAMEAzADXAMwA1gDkAPkA9ADiAPUAAwEBAQ8BFAEOARcBFQEMARoBFQEIARABGwEgARMBGAEfAR0BHQEfASYBIAEmAScBHQEoATYBKgEnASkBMAEvASsBMAExAT0BMQErASwBKwEzAUABPAEsATIBNAE5ATMBLQEsATIBIwEfATsBNAE0ASoBKQEvASUBKwEhAR8BJAEdASABGAEVAQEBBwEXAQgB9wDxAAUB9gDuAOcA3wDVAMUAwwDCAMAAqgCoAJcAlwCXAHwAhgCEAHQAaABiAGkAYABXAGEAUgA7AEEASAA1ABwABQADAPj\/5P\/q\/9T\/vf+3\/6T\/lf+I\/4b\/cv9l\/2D\/Tf9C\/zH\/N\/8d\/xL\/FP\/8\/vj+6f7n\/t\/+zv7Z\/sr+rf6+\/q\/+rP6u\/pL+mP6J\/pP+h\/57\/or+eP52\/nX+e\/5x\/m7+X\/5u\/lH+VP5k\/jz+W\/5J\/k7+O\/5P\/kP+Lv5V\/h\/+Nf45\/i7+L\/4f\/jb+Lv4k\/jj+Rf5K\/lL+Xv5v\/m3+gf6G\/oH+kP6c\/q\/+sP6x\/r\/+0P7d\/t7+3\/7a\/vT+DP8B\/wH\/E\/8u\/y\/\/OP88\/zn\/Xv9w\/1\/\/U\/+D\/5b\/jv+s\/6P\/rf\/H\/8j\/0\/\/Z\/97\/8\/8AAPP\/AAAIAB4ALwARABUAMABGAEMAPQBQAFkAWQBxAH0AcwB6AHkAegB\/AIAAkQCVAI8AhwCQAJUAmgCeAJEApgCtALUArQC6AM8AzADTAMYA6ADzAN0A5QD3AO0A6gD6AO4A+gAHAfoA+QATARABBAEVARUBDAETARYBEAEDARIBJAEVAREBFgEfARwBEwEdAR0BGgElAR0BJQEqASQBHwEoASMBIgEuAScBKwEtATEBJwEnAS0BMQE0ATQBJQEZATIBMgEoASEBEgEfASwBIQEWARkBHwESAQoBBQECAQ8BAAH7AAAB4ADlAO4A3QDeANQA3wDFALAAtgCpAKkAnwCgAH8AcgB9AGwAZQBqAGkAVABRAEwASQBHAEEANQAqADMAIAAQABIAAADo\/+T\/2f+1\/7L\/v\/+h\/4D\/fP94\/2r\/W\/9Q\/0T\/Kf8h\/yz\/EP\/7\/vv+9P7p\/uT+2f7O\/s3+xP62\/qb+oP6f\/pb+iv6L\/nr+gP53\/mn+aP5d\/mb+V\/5Z\/lb+Sv5O\/kb+Rv4\/\/jH+MP4x\/jH+I\/4n\/iz+Iv4h\/g\/+Ff4Q\/hP+FP4H\/hP+Ff4N\/vz9Av4R\/hr+Gf4X\/ir+Rv5M\/lD+Wv5f\/m3+dP6O\/or+hv6M\/pv+qf6i\/qr+u\/7h\/tr+2P7l\/v7++v7z\/hH\/F\/8h\/yP\/MP8w\/0z\/WP9T\/2T\/av+I\/4r\/i\/+Y\/6L\/t\/+z\/7f\/yf\/S\/9b\/6f\/p\/\/D\/CwD8\/\/7\/DAAiACsAFwAxAEcATgBZAFMAVABdAF4AbABuAHMAdwBoAHYAfwBzAIAAhACAAIsAjQCeAJwAkACjALUAugC2AMAAugDCANEA2ADYANoA5QDbAOoA8ADuAOoA7wDxAPYA\/QD+AAAB\/AALAQkB+wD7AAwBDgEOAQwBBwEQARQBGgETARkBFAERARYBFQEeAR0BHQEiASUBEQEbASsBKgEaARsBIQEaASIBDgERARYBHwEKAQEBDwEEAQkBAQEKAQsB+wD9AAMB8wDvAO0A6ADhANgA6QDcAM4AxAC5ALUAswCnAJcAlwCVAIsAhgCMAG4AYgBzAGAATgBOAEIAPABDAEQAKwAXABEADAARAAIA+v\/6\/\/b\/7\/\/m\/9j\/w\/\/B\/7D\/mv+S\/3z\/cP9y\/1v\/PP8\/\/zj\/Hv8S\/w7\/BP\/v\/tv+1f7N\/sf+wv61\/qf+p\/6o\/pP+gf6C\/oH+c\/53\/nP+Wv5V\/lb+VP5F\/kT+Uf5K\/j7+NP40\/jX+M\/4k\/iX+Jf4m\/ij+Hf4c\/hP+GP4O\/gn+DP4F\/gX+BP4B\/gP+AP73\/fr99\/3x\/eP98f38\/QP+Iv4j\/i3+Nv4x\/kP+WP5q\/mb+Xf5x\/nX+dv6T\/pL+lv6v\/rj+vv6\/\/s7+2v7f\/uj+8\/7+\/gT\/Cv8a\/y3\/OP88\/03\/XP9Z\/3P\/d\/94\/4n\/hP+d\/6f\/pv+y\/77\/1P\/W\/97\/6f\/5\/\/3\/+v8cAB0AEgAeADQAQgBDAE4AUgBdAGwAcwBiAGwAaQBnAHMAawCBAHcAbwB1AH8AkwCSAIcAkgCfAJ0AmQClAMAAxQDBALoAxwDdANgA3QDwAOAA3wDqAOwA8wDwAPgA9AD8AA4B+wD5AAkB+wD+AAwBDAEFAQsBDgH\/AAoBFwEQAQwBCwEDAQkBFAETAQYBBQERAQkBDwEMAQgBEgEMAQoBCAEYARcBFwEWAQIBDQESAQ4BDAEGAQMBCQEIAf8ABwECAfsA9AD1AAEB8gDuAO8A6QDoANoA3QDfANAAxgDKAL4AtwC0AKEAnQCUAJEAgQByAGsAXwBcAFYAUwBOAEgAOAA3ADcAJgAnACAAGgAdABUADAAOAAcA8v\/m\/97\/1P\/G\/7j\/s\/+h\/5f\/if9u\/2L\/Zf9R\/zT\/Nf8e\/wb\/Ev8J\/+r+6P7f\/tH+vv61\/rT+n\/6f\/pP+mP6f\/or+ev5x\/m3+bP5t\/mf+YP5b\/ln+VP5K\/k7+VP5K\/jf+Lv44\/jD+Lv4u\/ib+Mv4q\/iP+IP4f\/hn+Hv4p\/hX+EP4N\/gr+Bv4E\/gz+DP4U\/h3+GP4e\/iP+Jv46\/kD+T\/5Y\/mf+bP5p\/oX+hf6B\/pL+nP6j\/rP+uf6w\/sH+0P7Q\/tT+3\/73\/vn+\/v4N\/w3\/Ef8m\/zD\/M\/9C\/0j\/X\/9v\/2v\/f\/+F\/47\/nv+n\/6v\/p\/++\/8j\/wv\/I\/9n\/9\/8EAPP\/+f8OABgAGwAjAC0AOAA7AEQAUABTAFsAZgB1AHMAcAByAHMAdQB4AHIAcgB3AHoAeAB0AIoAkACXAKIAowCmALQAvgC6AMMAyQDKAMYA1gDkAOYA8wDvAPYA\/AD1APkAAgEBAfEA\/AAMAQQBAwEJARcBHQESARYBFgETARUBEgEUARYBJwEiASIBKgEbASQBLQEzASkBIwEmARsBHwEgATEBMgEgAS8BKQEgASYBMAEwASIBGQEiASYBHwEvATQBJAEaASUBIQEgARABCAESAQsBAwHzAPoA8gDsAOoA5gDtAOIA0wDNAMQAuwC7AKUApwCmAJYAmwCIAI0AhABwAG4AbgBiAFwAVwBKAFkARgAzADcAKwAfAB4AIAAbABEAAwDz\/+f\/2\/\/L\/8j\/sf+h\/5D\/hf+A\/23\/av9M\/03\/Sf8y\/zT\/If8X\/wz\/Cv8E\/\/D+9v7q\/sz+yv7W\/sn+sf6w\/rD+qP6j\/qf+oP6L\/pH+if6K\/pD+iP6B\/nP+e\/50\/mz+dP5x\/mT+XP5X\/lL+VP5U\/lb+UP5U\/lf+O\/5A\/lb+RP5A\/k3+Rf4\/\/j3+Rf5f\/mX+b\/54\/n7+iv6Q\/p3+m\/6j\/q3+pf62\/s\/+1P7X\/tz+5v71\/v\/+AP8L\/xD\/Hf8u\/yf\/N\/88\/zr\/QP9V\/13\/WP9x\/3P\/ff+H\/5D\/oP+s\/7b\/vP\/C\/8D\/2P\/c\/9v\/6f\/0\/wEA9P8DABgAGAAmADQAPQBIAEoARgBTAGQAdQB0AIcAjACFAJEAjACaAKAAjwCXAJ0AnQCkAJ8ApgC5AKwArADAAL8AygDXANIA2wDnAOMA+gD6APUAAwH8APkAAwEWAQoBBgENARsBJwEfARYBGgE0AScBHwExASgBIQEpATEBMwEwASsBLwE3ATgBMAEyATcBKAEoAS4BMAE2ASwBLQE1AT4BMQEqATsBNQE4ATQBKwEzATUBMwE0AS0BLAErASABKAEsARgBDAEdASYBFQEVAQgB\/gAEAf8ACAH0APIA8QDZAOQA5gDLALoAuwC4ALQAtQCpAJ0AlQCPAIUAegBqAGcAZgBdAGEAVgBWAFUARAA4AC4ALgAxACQAGgAfABEAAgALAPj\/2\/\/b\/8z\/uf+u\/6n\/ov+X\/5H\/cf9S\/1P\/WP86\/yH\/Jf8T\/wD\/Av\/\/\/uv+3P7b\/tL+1v7K\/rv+rf6Z\/pr+nf6b\/n\/+ef6D\/ob+eP5m\/nf+bP5c\/l3+V\/5S\/lD+Qv45\/kz+Rf5B\/lL+Sv45\/jz+Sf43\/if+Lv4t\/jX+LP4p\/ib+Gf4u\/i7+J\/4Z\/hX+IP4x\/kP+L\/41\/kz+YP5z\/mz+Xv5q\/o3+mP6V\/p3+m\/6Z\/qX+uf7B\/r3+y\/7d\/tj+5P75\/vf+Bf8T\/x3\/Fv8k\/zD\/OP9L\/0n\/av9f\/1T\/f\/+E\/4T\/of+s\/6P\/qv\/A\/8L\/0P\/n\/+j\/9f\/8\/wAAAwAOAA8AHwA0ACkANABFAFIAVwBdAG4AWABSAHIAZgBWAGcAfQB6AHcAfwB4AIAAhQCEAI0AmgChAKcAowCkALUAvgC\/AMQAvADOAN0AxADbAOwA0wDdAPoA9wDcAO0ACAH3APkADQEUAf0A9QAOAQsB\/wD\/AAUBFQEPARIBJQETAQQBDQEnASQBEgEYARIBFgEmASYBGQEaASYBJwEjASIBGwESARkBEwEWAR4BCwEcASABBQEWARsBDgEQAQsB+wD9AAMB\/wD3AO0A8QDwAOgA4QDrAOsA2ADSAM8AvwDBALoAsQCqAIsAjQCUAIEAaAByAHAAVABjAFoAQwA+AEAAPQA0ADcAHAAOABEACwAMAAAA+f\/y\/+3\/3\/\/Y\/8n\/tv+t\/57\/oP+H\/33\/df9X\/1v\/Tf83\/zb\/Lf8Q\/wb\/\/\/70\/uT+1v7Z\/sX+wP6+\/qf+mf6d\/qD+h\/58\/nr+Zf5k\/mD+XP5b\/lz+Xf5T\/lr+Sv5J\/kr+Rf5G\/jf+M\/44\/jn+Nf4x\/ij+N\/4x\/iT+HP4m\/ib+F\/4g\/iH+Gf4M\/h\/+HP4N\/hT+G\/4d\/hr+MP41\/j\/+V\/5Z\/lr+W\/51\/oD+gP6P\/pj+mP6Y\/rX+tP67\/sb+u\/7K\/tb+4v7m\/uL+6v7x\/vz+D\/8Y\/x3\/Kf8t\/yn\/Rv9V\/03\/WP9Z\/27\/d\/92\/4v\/k\/+e\/6j\/s\/+7\/8r\/0v\/S\/9z\/1P\/S\/+j\/8\/\/\/\/wYADAAXACAALgA2AEkASwBPAFkAWQBoAGIAWABhAHcAaABkAHcAbwB8AH0AewCUAJQAkgCUAJQApwCfAKUAvwCwALcAzADJANAA3QDVANYA6ADlAOMA7ADsAPQA\/ADpAOcA8wDxAO4A\/wAAAfYAAAH+AAEB\/wACAQMB+AAJAQYBAAEFAQUBCwERARABCQENAQ8BGAEWARUBFQEWARYBDgEaAR0BGwEfASABHwEPAQgBEAEPAQkBCwERAQYBCQH9AP0ABQH5AAEB+QD1APAA6QDhANgA3QDTAMYAuQC\/ALUAnwCbAJUAlwB5AHgAdABfAGkAXABbAFQAPgA3ADMAKgAyAC8AIAAYAA0ABgD\/\/wAA9f\/x\/+z\/2P\/L\/8v\/u\/+S\/5X\/lP91\/2j\/Y\/9P\/zn\/Mv8o\/x3\/DP8G\/\/z+8\/7q\/tr+1f7P\/sH+s\/6x\/qX+oP6W\/or+iv58\/m7+Y\/5g\/mP+Zf5e\/k\/+Tv5O\/kv+Pv4+\/j7+Pv5K\/kH+N\/4x\/jH+K\/41\/jP+Iv4e\/h3+KP4d\/if+KP4a\/hr+Hv4f\/g\/+HP4Z\/g3+Ff4d\/iX+K\/5A\/kL+Q\/5U\/ln+WP5g\/nT+fv6H\/o\/+hP6P\/qn+qv6v\/rP+vf7N\/tD+3v7l\/u7+8f7+\/hf\/D\/8W\/yf\/L\/84\/0P\/Sv9X\/2b\/a\/97\/4T\/if+T\/6P\/p\/+t\/7n\/yv\/P\/8n\/2\/\/k\/+7\/8v\/+\/wkABQAYACYAJQAyAD0APwBPAFYAVwBlAHEAcQBtAHgAcgBxAHgAgwCEAHQAiACFAIEAjgCXAKMAowClAKsAtAC6AL8AvADMANYA2gDaANkA5QDjAOkA6QDqAPQA8gDpAOoA\/QD3APwACAH4APcA\/QABAQUBBQEGAQcBBAEOAQ4BCwEPAREBFQESARkBGgEbARwBGAEgASYBIgEoASEBHgElASYBLQEiAScBKQEsASUBIQEoARkBGwEpASkBJwErASEBHAEnASsBFwEXARUBBAEIAQIB+wD\/APsA7QDhAN4A2gDNAMMAugCuAKkAqwCiAJkAiQB9AHMAaQBtAGIAUQBUAEoANAA1ADEAJAAhAB8AFgAMAAIA\/f\/6\/+\/\/3\/\/Z\/8\/\/vv+7\/6P\/lP+R\/4H\/ev9t\/2P\/X\/9G\/z7\/MP8Z\/xv\/Bv\/+\/vf+6f7n\/tP+y\/7I\/sf+v\/61\/qz+pf6m\/pb+jv6P\/oj+gv57\/mn+df58\/mr+b\/5k\/mH+Zv5V\/lX+Sf5N\/k7+Pf5A\/jH+Mv45\/jD+Mv4z\/jD+Kf4o\/iX+Hf4W\/hn+Gf4g\/if+G\/4i\/iT+J\/4x\/kL+U\/5S\/mP+cP5p\/mj+hv6S\/or+mv6m\/q7+vv7C\/sD+zf7Y\/t3+2v7i\/vD+8\/75\/g7\/Ff8O\/yb\/N\/80\/zr\/Rf9S\/17\/ZP9v\/3X\/fP+K\/5z\/pf+m\/7b\/t\/\/I\/9z\/3v\/n\/+j\/+f8KAAsADwAVAB8AKwA1ADkARABXAFsAYwBdAF0AcgB1AGoAcwB\/AHwAdwB2AIEAfQCBAJIAlACTAKEArACoAKkAsAC+AMAAvgDGAMQAzADZANoA4QDkAOMA3gDfAOQA5QDoAN8A4gDyAPQA7wDoAPEA8gDsAPcA8AD1APwA+AD6APoADgEEAf4ABgEGAQsBBgEDAQYBCwEHAQIBAwEIAf4AAQEKAQkBBwEFAQgBCQEGAQQBAQH9AAQB\/wD2APkA+wD8APUA6QDwAPEA3gDjAOoA4wDZAMoAyQDPANIAzADBALcAswCtAKAAoQCaAIkAhgB5AHIAdABxAGgAVABOAE4APAA1ADcAKAAlACIAFQAMAA4ADQAAAPf\/+\/\/7\/+H\/2P\/K\/73\/tP+m\/5r\/jP+D\/23\/Yv9R\/0T\/RP8z\/yH\/GP8O\/wP\/\/\/7\/\/uz+3P7Y\/tX+zf7A\/rb+sP6t\/qP+n\/6X\/pD+iP5\/\/nn+dv5+\/nv+bP5j\/mT+Wf5Y\/lf+Uv5N\/kn+SP5L\/kH+Of4+\/jn+Q\/47\/i\/+LP4y\/jL+MP4w\/i7+NP4s\/ir+LP4z\/i3+K\/4z\/jn+P\/5Q\/lX+Vv5v\/nz+gv6A\/oz+j\/6b\/qz+sP64\/rr+0f7Y\/tP+6P70\/v7+CP8T\/xv\/Fv8h\/zD\/Ov9C\/0f\/Wf9o\/2j\/d\/97\/4D\/pv+d\/6f\/wP+z\/8b\/4v\/n\/9n\/7f8CAAMAGwAkABsAHwAuAD0APQA3AFYAaABjAGgAgQCLAH8AkACNAIcAngCjAJMAlgCaAJkAqAChAKIAqQCrALUAtgC9AMMA0ADbAOIA7ADpAOcA9wD+AP8A\/QADAQ0BDAEKARABIAEXARoBJQEbARcBHwEhASABIwEpASwBIwEdAR0BIAEmAR8BHQElASgBLAEqASoBKAEvAS4BLQE2ATIBMgEqATABOgEyATIBMAEzAS4BLwE8ATUBLAEqASoBMgEyASsBMwEkASMBKwEkAR4BGgEfARcBGQEZAREBCQESARABDwEEAfcA8gDhAOgAzwDRANQAvAC6AKsAqgCiAJUAkgCSAJIAjAB7AHYAdgBqAFcAWgBbAFUAUQBCADoALQAzAC0AHgASAAoAAADy\/+n\/2v\/K\/7r\/pf+R\/4v\/dv9z\/2f\/S\/9I\/0P\/Pf8u\/yr\/Ef8H\/wT\/7\/7p\/uL+5f7b\/tT+1P7H\/rz+r\/6m\/qv+n\/6a\/qD+lv6Q\/pT+lP6M\/n7+e\/58\/nv+ef5q\/mr+Y\/5g\/l7+W\/5X\/kb+Tv5G\/j\/+Rf40\/jv+Of4z\/jb+Lv4z\/i\/+Kv4p\/i3+M\/41\/j7+Tv5a\/lr+X\/5i\/nD+ff57\/oT+jv6P\/pv+s\/69\/rj+wv7P\/tj+4f7l\/u\/++P74\/gr\/Gv8U\/yT\/Lf8\/\/0D\/PP9N\/0\/\/Yv90\/4T\/jv+Q\/5r\/p\/+r\/7b\/v\/\/I\/9H\/2v\/n\/\/L\/9\/\/1\/wAABwAHABMAIgAlADAAOABCAFIAWwBkAF8AYgBuAG8AagBvAHQAeQB9AHYAeABzAHsAgAB\/AIsAjgCbAJgApgCxALAAtgC2AMMAxQDFAMMAzgDYANUA4QDsANwA1ADgAO0A7ADoAOcA6wD5APMA8gD8AAEB+QD4APwA8wD7AP4ABQEGAQABBgEHAQ4BAwECARsBFAELARIBDwEUARkBGAEVAREBFgEVAQkBCAEGAQYBFwEXARcBFQELAQ4BDwEMAQUBCQEHAQUBCQEJAQMB\/gACAf8A+gD2AOsA5ADmAN4A1QDHAMsAzQC\/ALgArACgAJcAkQCUAIsAfwB8AGwAagBrAFkAUABTAFQASwA8AD4AQwAxACcAJwAlAB0ADQD+\/\/X\/7\/\/w\/+X\/1P+\/\/7P\/rv+d\/5T\/ev9n\/2L\/Yf9X\/zb\/MP8y\/yj\/Dv8F\/wD\/7f7r\/uz+6P7S\/sr+xP6\/\/rr+rP6l\/pv+nP6X\/pL+lf6S\/oz+hf6N\/or+hv6I\/n\/+eP51\/m7+bv5r\/mn+cP5g\/l7+Xv5g\/l3+UP5L\/j7+Qf48\/kX+Rv5B\/kT+Nf4z\/jX+L\/42\/kf+S\/5Z\/mP+Zf5z\/n3+gP58\/o7+o\/6k\/qv+wP7A\/sH+1f7Z\/uP+7\/71\/v\/+A\/8P\/xn\/J\/8s\/y3\/Rv9L\/13\/Zv9h\/3b\/gv99\/3\/\/l\/+l\/7L\/uf+\/\/9P\/4\/\/n\/+r\/6v\/8\/woAEQAiACgAMAA0AEcASABLAFQAUQBgAHMAhQCAAIQAfQCAAJAAiQCOAJgAnQCTAKIAqQCeAKEAnwCyALUAsgDEAMgAzwDaANYA3ADkAN4A6wDwAPkACgEQAQoBFAEaARMBIQEcASABIgEkAR8BIwEtASUBMAEsATcBPwE3ATABNAE8ATYBNgE5AUEBOAEuATMBNwE1ATEBNwE6AS8BKQE9AT0BNgE7AT0BOgEyATYBNAEvATkBNgEtATgBOAEsASsBKgEoATMBMQEpASUBHAEkARMBBAEOAQ4BFAENAQQBAwH3AOwA8gDsANUA1QDPAMYAwACwAKcApACiAJgAmACOAIUAgQBrAFwAYQBhAFUATwBNAEgAPwA+ACYAJAApABEAFgANAPD\/5\/\/o\/+T\/zP+2\/6\/\/mP+I\/4D\/aP9g\/17\/Sf85\/zz\/L\/8d\/xL\/AP\/0\/vX++v7u\/t7+1f7J\/rz+vP61\/rD+r\/6c\/pn+mf6O\/pH+kP6H\/ob+dv5s\/mz+Zf5m\/l\/+W\/5b\/kj+Vf5b\/lX+Xv5C\/kT+Sf49\/kP+Pf5L\/kj+QP45\/jL+Nf4q\/iv+Mv4w\/jP+N\/49\/lT+ZP5e\/mT+d\/6B\/ov+kf6j\/qH+of6y\/rz+z\/7J\/s3+3\/7v\/uv+8f4C\/wj\/Hf8c\/yH\/MP9A\/0f\/U\/9l\/3H\/ev98\/43\/l\/+U\/6z\/uv+2\/8j\/3P\/l\/+P\/8v\/\/\/wAAFQArACsALwBDAEAAQQBTAFQAYABzAHEAegCIAJkAqACuALUArACsALMAsQC\/AL8AwQDKAMUAzADFAMMA1QDeANcA4ADsAOYA9gDxAAMBEwERARgBFAEmARsBIwEyASsBMgEyATABNgE5ATMBPgFHAUUBPgFAATkBNwFHAUcBQAE8AUEBRAE9AUABRAFKAVEBSgE7AUABUwFHATgBQQFNAUcBQwFLAVEBQwFBAU0BSgFKAUIBRQFIAUsBTQFMAVIBRgFGAUsBTAFIAUYBSAE+ATUBNQE7ATEBMwE9ASwBIgEgASYBHQEMAQ4BDAEBAfUA5wDdANgA0QDPAMIAtQCvAKkAngCcAJMAgACJAIQAcABsAGYAWQBdAFgASwBJAEYAPAAqACcAKQASAAQADADv\/9v\/2v\/M\/8T\/uP+l\/43\/gv+C\/3j\/Zv9d\/07\/RP87\/y7\/Lf8f\/xD\/A\/\/0\/uz+5\/7g\/tz+2\/7P\/sf+vf64\/rf+q\/6k\/qH+nv6d\/pv+kf6U\/o7+k\/6U\/oD+gf6E\/oX+gv6C\/nn+dP5z\/nP+cf5b\/lz+Yv5j\/mH+Yv5k\/mD+Xf5e\/lj+Wv5i\/lH+V\/5r\/nz+gP6B\/pf+n\/6c\/qD+rv67\/sL+xP7M\/tL+z\/7h\/ur+9f77\/gT\/Ev8R\/xH\/Gv8r\/zT\/RP9B\/0T\/VP9h\/27\/cP94\/3\/\/lf+j\/6b\/sv+5\/7r\/zP\/j\/97\/4f\/v\/\/f\/AQAHABYAIgAnADUAMgA6AE0AWABfAGcAfQB4AHoAkQCgAKIApACmAKcAtAC4ALcAsQCxALIAugDDAMUAwADQAN0A0gDoAPQA9QD6AAABCQEHAQkBEQEaASABJAEqASoBLAEuATEBOAFDATcBMAFGAUcBQwFFAUkBRwFGAUgBRQFTAU8BTQFdAV8BVgFcAWMBZQFrAWkBYQFqAXUBagFsAXMBdQFyAWUBawFtAWsBawFcAWUBdAFyAWkBZAFpAWUBaAFkAVMBUQFbAV8BVQFTAU8BTQFIAUEBOgE2ATcBLAElASQBJAEZARMBDwH3AAMBDAHyAOMA4wDjAM4AyQC+ALAAsACnAJ0AmACXAIUAfQB\/AHYAawBvAGgAUABOAE4APwAvADEALAAbABAADQD7\/+b\/5P\/g\/87\/uv+p\/5z\/kf+D\/3v\/cf9p\/1n\/Rf9E\/zv\/LP8h\/xH\/B\/8B\/\/r+8\/7z\/un+4P7b\/tH+yP7C\/sL+vv7E\/rf+qf6t\/rP+vP6m\/p7+ov6S\/oz+i\/6R\/pb+jv6J\/oX+dv5q\/nP+c\/5s\/m7+av5r\/mz+bP5s\/mv+b\/5q\/mD+Zv5q\/mf+cv56\/n\/+j\/6X\/pj+n\/6w\/rj+wf7C\/sv+2f7d\/vP+9P78\/v7+DP8a\/xH\/J\/8u\/zj\/O\/9D\/1L\/Vv9d\/2z\/ff94\/4T\/mP+e\/5z\/pv\/D\/87\/y\/\/U\/+b\/8v\/1\/wAADQASACQANQA1ADkAQABIAE8AWwBxAHkAeQB+AJUAmACTAKoAuwC6ALQAvwDGAMcAvgC7AMwA0gDOAMcAyQDXAN0A2wDiAPIA\/gD\/AAYBCgENARsBHwErASoBHAEuAToBNwE3AUQBQQFCAVABRAFIAVABUgFcAVcBUgFkAV0BVAFfAWQBbQFhAWABZQFcAWIBZgFmAWcBbAFkAWYBdwFxAXIBegF0AXEBfQFxAWoBdwF3AXIBdQFyAXUBcwFwAX8BdgFyAXQBcQFvAWsBcQFuAXEBbQFlAWcBXgFlAW0BXgFOAUwBSgFHAUMBOQE3ATQBJAEfASIBDwEIAQYB8wDpAOQA6gDZAMgAzQC3AKYArQCjAJkAnACVAJAAjwCQAIYAdwBuAGwAYQBTAFQAOgAoACwAIgAPAAIAAgDr\/9b\/0v+5\/67\/qP+V\/5H\/h\/92\/2n\/Yf9S\/0X\/Ov85\/yv\/Cv8V\/xL\/AP\/7\/vH+4\/7i\/tv+0P7X\/tL+w\/69\/sH+u\/65\/rT+qf6t\/rD+rf6m\/pj+nf6f\/pH+jP6F\/ob+gP6E\/ov+gv57\/nr+gf6A\/nn+cf5y\/nT+cv57\/nn+dv56\/n3+gv6O\/pv+mf6h\/qz+tP7I\/sf+zP7k\/t3+5\/74\/vD+CP8P\/xD\/If8v\/y\/\/M\/9I\/0b\/Tv9W\/2D\/ZP9o\/3j\/f\/+L\/4\/\/lf+i\/6H\/r\/++\/8X\/2v\/Z\/+X\/+P\/6\/wwADgAOACQAIgAoADkAOABGAFIAWgBhAG8AbgB2AIsAjwCfAKkAoACqALwAsQCzALYAsAC0AL0AxwC7ALQAvADBAMYA0gDWANkA4gDfAOMA8AD1APQA+wAJAQ8BEAEUARoBIAEkAS4BLgEjATgBOQExATYBLwEzATMBNgE1ATYBOwE8AUMBPQE4AUABQgE4ATgBPwFCAUoBQwE1AUIBSgFEAUoBVgFLAUsBXQFXAVUBYAFgAU4BVAFhAVsBVgFRAVABUQFQAVEBSQFKAVMBVwFQAUkBTgE7AUABRAE7ATwBNAE5ASwBHwEkAR8BBAEHARIB\/gDuAPEA6ADjANsAzgDKAMIAwQCtAKwArACTAI8AlACNAIcAeAByAGwAYgBfAFcAUgBKAEkANgA2ADsAKAAXAAkA\/P\/q\/+D\/0v\/K\/73\/s\/+h\/4v\/gP9x\/2b\/Wf9a\/0z\/Pf82\/yX\/I\/8T\/wn\/Bf\/\/\/vv+9P7p\/tP+y\/7Q\/sr+uP63\/rT+qP6o\/p3+lP6U\/pX+mP6Z\/pn+lf6E\/oD+hf6C\/oX+gf51\/m3+c\/56\/nL+a\/5r\/mP+Zf5y\/nH+X\/5f\/mP+Wv5a\/lv+Wf5X\/mT+bv5x\/nb+f\/6P\/pj+lf6b\/qv+tv65\/sL+x\/7F\/tf+1\/7e\/u3+8P7y\/vj+BP8O\/xz\/Lv8t\/zX\/R\/9I\/0b\/T\/9n\/2n\/dv+E\/4L\/iv+a\/6T\/qf+3\/7n\/uv\/C\/9b\/5f\/k\/\/L\/CQAAAAgAHwAhACcAMAA8AEQATgBTAGAAbgBzAIoAkgCRAJgAjQCRAKYAogCeAKAApgCiAKEArACpAK4AtQCxALUAvQDJAMcAxADSANkA1ADUAN8A5gDtAPoABQEHAQIBBAEPAQgBCQESAQ8BHgEdARUBFAEWARgBFwEfAR0BFwEcASIBJQEmAS0BNAEsATUBLwEqATIBKQEtATgBOwE7ATsBPgE+AT0BPwE8AT0BOQE7AUUBSAFBAUMBRAE1AT4BOQE5AUABNgE5ATQBQwE\/AS8BMwExASQBIQEqAR8BFgEaASABEAEJAQUB+AD1APQA7gDjANUA1ADXAL0AtwCuAKYAqgCZAIwAiQCJAIQAdgByAHcAZwBcAF0AWwBQAEUARQA9ADEAKAAVAAUA\/\/\/0\/9v\/zf\/L\/7n\/pP+Z\/4z\/gf9s\/17\/V\/9H\/z7\/Mv8v\/yT\/Ef8I\/wP\/+v7q\/uX+3f7X\/sn+xP67\/rX+uv6p\/qT+mP6O\/oj+hP6E\/oT+gv51\/nP+cP5r\/mX+Yv5o\/l3+Sv5N\/kz+Q\/5E\/jr+M\/45\/jz+N\/4o\/jP+NP4j\/iT+JP4p\/iv+K\/4z\/jj+PP5M\/lP+Vv5a\/mD+bv51\/ob+iv6O\/qD+sf6r\/q3+xv7B\/sz+zP7L\/uP+8v71\/vj+Bv8P\/xL\/Gv8m\/yL\/LP9C\/0f\/R\/9X\/2v\/cP9u\/3v\/jP+F\/5X\/of+q\/6\/\/tv\/O\/8\/\/z\/\/a\/+D\/4\/\/0\/\/7\/AAALABUAFAARACcAOQA\/AEUATABRAE0AVABbAFsAXgBcAGAAagBsAGsAbQB2AHUAdwB+AIYAjACNAJIAnwCtAKkApgCvALoAwAC8ALkAyADKAMQAygDPANQA1ADaANkA0QDTANwA4QDiAN4A1gDeAOMA5QDfANIA4QDfAOQA6wDpAOoA2ADrAO0A+ADyAOEA8gDUAO8A7gDdAPYA2gDsAO0A4QDrANMA3wDrANkA6gDSAOgAzQDGAAwB\/QDAAH4AFAERAYsAiwDXANwAiwDIALoAegDkALgAYwDPAH0AgACIAHsAVQCKAKoAEQA6AHoAXgAcACIAKwA8AL3\/GQBjAGkAYwCt\/\/b\/4wAAAPv+r\/9MABQAOP+X\/8n\/EQAGAAH\/uf+DANz+Vv63\/67\/Qv8V\/9D+Mf+w\/zP\/\/f7Z\/qv+NP+H\/mH+w\/6Y\/oX+tf4l\/jX++P4l\/n\/95\/5v\/1D+Sv4W\/r\/+av6u\/TX+sf72\/aT9XP5z\/jP+FP6e\/ij9n\/0L\/yD+df0f\/jv+6\/1e\/hD+T\/7q\/cD9av2w\/U3+WP7x\/fH8nv4D\/mf8D\/3N\/ob\/Pf5J\/Wr9bP4O\/z7+qfxR\/jX+qP7n\/qn9If4u\/uf+2P1p\/hz\/Xf+G\/iz95v6k\/1r+ZP5B\/yL+OP+B\/+79ff7o\/lwAEQDA\/o3+qf+cACL\/Rf4d\/uD\/BgBd\/y4A9P46AMcAwP9KAFj+vv8YATEAov41\/SsBmQH3\/0sAz\/9tAKcAIAEHATD\/nP+pALkADgA9\/5T\/zgDmAEUAFQD+\/4QCtgEm\/+\/\/mADGAGkAif\/K\/30A4wBHAToA\/QB3AQEBzAHfAHUAxwA8AOr\/9v9QACYBpgGFAfgA1gA1AUsBRgFhACoAzwEeAbX\/UQAPATQB6QAxAM8AeALYASkBeAAWAB4BGwJ0Acj\/DP8AAacC3wCNAO8A\/AAAAhoCaQDO\/5MAXgHNAdAAFQDh\/1gBcwIDAVMAYQBtAKgBAgJoAAAAlADrACEBaQBjAPAAHQCeALwBcQAXAHEAjwBRAZAArP+m\/0QAGAGGAAYA4v8iAAABFwELAAT\/mv9WAGEAIQCw\/7f\/ZwChANz\/N\/+W\/0gAJACi\/8z+P\/\/m\/7T\/R\/\/0\/rX\/fv9V\/z7\/BP9O\/\/b+Df\/c\/uz+8f50\/uL+zv6X\/nT+yP4C\/67+sf6B\/kr+ef5m\/kP+fP5Q\/pv+rf59\/v\/9Jv4C\/5f+ZP4D\/uz9Wv45\/lD+5f1j\/kH+JP6y\/of+Yf5+\/fD9mv7B\/Un96v1Q\/sv+YP6t\/SP+bP5l\/jj+Wv2f\/X7++f0e\/jz+M\/5S\/sL+0\/4w\/mz+rP6h\/o7+R\/5i\/mf+e\/7b\/tb+5f5k\/uv+z\/8Z\/xD\/Bv\/R\/t\/+Vf94\/0z+9\/5l\/zv\/bv94\/7v\/nP\/C\/7X\/7P84\/1X\/s\/+n\/9L\/gv\/g\/yQAnv9iAH0AS\/84AGEA8v9AAG8AyP99AHkA5v82AE0ALgHk\/wEAAgG1ABkAAwDFAJ8AZABrAF8AkQAuAXMAz\/\/WAEwBYwBaAKUAZQAfAQEBYADVAOIA8QCcAHUA4wAMAfYApgArAfgAHAEMAREAggFsAT8A6AC+AB8BKQHXAKQA3gBYAQMB4QDNAEkBFgE0AQcB6wBOAekA9wAuAUcB8QB7AOwABgIVAaoAGwFSAWkB+ACJAdcABQF0AegAGgFnAP4AtAHaAOIA0ABaAYMB8gADAekAXAEAAbQAGQGzAIUAxgDaAEABwwB8AP4A2wAJAbUACQBYALUADwG1AKr\/ZwDUADcAewBIACYA3ACNABcAUgBEAAkAIwBGADAAAwDV\/1UAmgDl\/8r\/GADx\/9r\/xf\/U\/1P\/Kf+y\/4\/\/M\/8g\/1r\/Yv9z\/4v\/Tf\/F\/sT+Wv8I\/7P+tP5s\/hn\/SP+V\/kP+ov5P\/7P+V\/6V\/qD+wf6u\/nH+JP6I\/uL+hf5e\/jP+if7w\/mj+Rf5O\/in+P\/5D\/kz+Uf57\/oX+Vf5Z\/k3+df5Y\/i3+Rf4r\/l\/+Wv72\/SH+f\/5T\/gz+Tf5y\/lz+T\/5q\/q7+VP5e\/uH+x\/6H\/ln+qP4O\/7T+ef6j\/jz\/Ev++\/hz\/7f7d\/kP\/Uf\/7\/jT\/W\/8q\/wb\/IP+g\/3D\/Dv9h\/5j\/rf+L\/6X\/zP\/c\/87\/h\/8AAPP\/kv8PAEwA4f\/6\/w4AMgB\/ADkAJQBcAFkAKgAmABgAbQCHAHUA1ACKAGsAzQDNAIcAcgCjAIoAhQCbAIoAmwCLAKgAugD\/AD0BlAClAPkACQH7AJ4AlQDZAFgB5gCuAAwBNAE5AeEA6gA8ATMB9gAMARoB2AD\/ADUBCgEYARMBJgFjAUcB5gDWAP4APAFSAQoB2wAsAY4BNAHGAA0BogGBAfMAyQA9AXIBGwH9ABMBYAF0ATsBLQE4AVIBSgEIAUYBWwEcAUEBPAHmAFkBgAHyAE4BOAEhATwBBQHrAAYBBgEDATwBBgEZAdEA1ABjAQUBWQCAABoBHgGMAC0AgwD+APgAiQA8AJcAEwGxADEANAB2AKgAdAAjAEsAfABMAD8AYQBIABIAAQBfAHoA7f\/N\/wcAKQADAKz\/mP\/m\/93\/rP92\/0b\/e\/+r\/3X\/A\/8W\/2n\/ff8T\/+j+Ef8S\/xL\/+P6\/\/sT+5\/6U\/rH+0\/7F\/tP+q\/6S\/o\/+qf6p\/mv+Of6X\/oP+Kf5w\/nn+dP5R\/ln+Zv5Z\/pr+N\/4t\/h\/+Tf6Z\/rz9Sf6b\/i\/+av4C\/or+cv7k\/V\/+Nf5l\/iH+\/\/1c\/kL+Qv4x\/kD+df7w\/lv+T\/6A\/rD+8f5o\/lf+1f4S\/7n+hP7K\/i\/\/2v4J\/9H+Af\/2\/gn\/+\/4P\/2L\/9f62\/+L+Ov+B\/zD\/rv8l\/67\/dv9n\/4D\/mv+z\/zn\/4\/\/V\/\/X\/nv\/C\/wAAwv8AAHP\/TwAhABoA8v8IAKEAAQCEAAkATQCCAC8AXwBEAG0AfACWADIAcwCSAG4AoAA6AH4AywCLAHcAcQDKAK0AdAC3AL4AoADOANEAwgC8AJYACAHrAKcA9gDhAB0B0wC+AA0BvABGAdgA7QAGAegAUQHWAPIAuQARAQ4BOgHgAMkAQgHWADQBugAsASkBCQGGAcoASQE3ARYBOwHWAGIBGAFFAT8BGgFtAd8AMAFIAQ4BXgEZAQUBZQEwAS4BVAFCAR0BEQEvAToBAAH9AFoBUwEqAfMA7wAuAR4BFAEUAboA7AAzAcsA1gCkAJcA3gDOAMEAqAB9AHcA5QCVAF8AYwCHAJ0AVgBJAFEAUQBQAIgAKgBHAHEAQAArAAgALgASAPD\/+P80AAUA7\/\/H\/77\/GAC5\/6D\/h\/+2\/7b\/Q\/98\/+7\/DAD3\/w0A\/\/8IAAsA9v\/7\/\/3\/AgD6\/\/\/\/BAABAAcAAAD+\/\/7\/\/P\/8\/\/7\/\/\/\/+\/\/\/\/\/f\/8\/\/7\/AAADAAYAAgAAAAAAAAABAAAA\/v\/6\/\/n\/+\/\/\/\/wAAAAAAAAAAAAACAAIAAQAAAP\/\/\/\/8AAAAAAAAAAAAAAAAAAAAAAAAAAAAAAAAAAAAAAAAAAAAAAAAAAAAAAAAAAAAAAAAAAAAAAAAAAAAAAAAAAAAAAAAAAAAAAAAAAAAAAAAAAAAAAAAAAAAAAAAAAAAAAAAAAAAAAAAAAAAAAAAAAAAAAAAAAAAAAAAAAAAAAAAAAAAAAAAAAAAAAAAAAAAAAAAAAAAAAAAAAAAAAAAAAAAAAAAAAAAAAAAAAAAAAAAAAAAAAAAAAAAAAAAAAAAAAAAAAAAAAAAAAAAAAAAAAAAAAAAAAAAAAAAAAAAAAAAAAAAAAAAAAAAAAAAAAAAAAAAAAAAAAAAAAAAAAAAAAAAAAAAAAAAAAAAAAAAAAAAAAAAAAAAAAAAAAAAAAAAAAAAAAAAAAAAAAAAAAAAAAAAAAAAAAAAAAAAAAAAAAAAAAAAAAAAAAAAAAAAAAAAAAAAAAAAAAAAAAAAAAAAAAAAAAAAAAAAAAAAAAAAAAAAAAAAAAAAAAAAAAAAAAAAAAAAAAAAAAAAAAAAAAAAAAAAAAAAAAAAAAAAAAAAAAAAAAAAAAAA=\" type=\"audio\/wav\" \/>\n",
       "                    Your browser does not support the audio element.\n",
       "                <\/audio>\n",
       "              "
      ]
     },
     "metadata":{
      
     },
     "output_type":"display_data"
    },
    {
     "data":{
      "image\/png":"[encoded data removed]"
     },
     "metadata":{
      "image\/png":{
       
      }
     },
     "output_type":"display_data"
    }
   ],
   "metadata":{
    "datalore":{
     "node_id":"8xno5tIEfn66xKg0b5TDVk",
     "type":"CODE",
     "hide_input_from_viewers":true,
     "hide_output_from_viewers":true
    }
   }
  },
  {
   "cell_type":"code",
   "source":[
    "scores, embeddings, spectrogram = yamnet_model(clap_wav_data)\n",
    "result = my_model(embeddings).numpy()\n",
    "\n",
    "inferred_class = my_classes[result.mean(axis=0).argmax()]\n",
    "print(f'The main sound is: {inferred_class}')"
   ],
   "execution_count":158,
   "outputs":[
    {
     "name":"stdout",
     "text":[
      "The main sound is: single_claps\n"
     ],
     "output_type":"stream"
    }
   ],
   "metadata":{
    "datalore":{
     "node_id":"DH3wgzh1qfH9Xenh9U2Dgr",
     "type":"CODE",
     "hide_input_from_viewers":false,
     "hide_output_from_viewers":false,
     "report_properties":{
      "rowId":"bZfD9HMnelygWdVvp6wiTl"
     }
    }
   }
  },
  {
   "cell_type":"markdown",
   "source":[
    "# Save a model that can directly take a WAV file as input\n",
    "\n",
    "Your model works when you give it the embeddings as input.\n",
    "\n",
    "In a real-world scenario, you'll want to use audio data as a direct input.\n",
    "\n",
    "To do that, you will combine YAMNet with your model into a single model that you can export for other applications.\n",
    "\n",
    "To make it easier to use the model's result, the final layer will be a `reduce_mean` operation. When using this model for serving (which you will learn about later in the tutorial), you will need the name of the final layer. If you don't define one, TensorFlow will auto-define an incremental one that makes it hard to test, as it will keep changing every time you train the model. When using a raw TensorFlow operation, you can't assign a name to it. To address this issue, you'll create a custom layer that applies `reduce_mean` and call it `'classifier'`."
   ],
   "attachments":{
    
   },
   "metadata":{
    "datalore":{
     "node_id":"CSjGqkWoESVBRkJVqZ27pS",
     "type":"MD",
     "hide_input_from_viewers":false,
     "hide_output_from_viewers":false,
     "report_properties":{
      "rowId":"uWof9e8sKGdarXxi0SPDuF"
     }
    }
   }
  },
  {
   "cell_type":"code",
   "source":[
    "class ReduceMeanLayer(tf.keras.layers.Layer):\n",
    "  def __init__(self, axis=0, **kwargs):\n",
    "    super(ReduceMeanLayer, self).__init__(**kwargs)\n",
    "    self.axis = axis\n",
    "\n",
    "  def call(self, input):\n",
    "    return tf.math.reduce_mean(input, axis=self.axis)"
   ],
   "execution_count":159,
   "outputs":[
    
   ],
   "metadata":{
    "datalore":{
     "node_id":"ukV7DBPtCN7jEzZv6IR3ns",
     "type":"CODE",
     "hide_input_from_viewers":false,
     "hide_output_from_viewers":false,
     "report_properties":{
      "rowId":"ENHE8VV1nw2wcu3VvzxPYD"
     }
    }
   }
  },
  {
   "cell_type":"code",
   "source":[
    "saved_model_path = '.\/clap_sounds\/clap_sounds_model'\n",
    "\n",
    "input_segment = tf.keras.layers.Input(shape=(), dtype=tf.float32, name='audio')\n",
    "embedding_extraction_layer = hub.KerasLayer(yamnet_model_handle,\n",
    "                                            trainable=False, name='yamnet')\n",
    "_, embeddings_output, _ = embedding_extraction_layer(input_segment)\n",
    "serving_outputs = my_model(embeddings_output)\n",
    "serving_outputs = ReduceMeanLayer(axis=0, name='classifier')(serving_outputs)\n",
    "serving_model = tf.keras.Model(input_segment, serving_outputs)\n",
    "serving_model.save(saved_model_path, include_optimizer=False)"
   ],
   "execution_count":160,
   "outputs":[
    {
     "name":"stdout",
     "text":[
      "WARNING:tensorflow:Compiled the loaded model, but the compiled metrics have yet to be built. `model.compile_metrics` will be empty until you train or evaluate the model.\n",
      "INFO:tensorflow:Assets written to: .\/clap_sounds\/clap_sounds_model\/assets\n"
     ],
     "output_type":"stream"
    },
    {
     "name":"stderr",
     "text":[
      "WARNING:tensorflow:Compiled the loaded model, but the compiled metrics have yet to be built. `model.compile_metrics` will be empty until you train or evaluate the model.\n",
      "WARNING:absl:Found untraced functions such as _update_step_xla while saving (showing 1 of 1). These functions will not be directly callable after loading.\n",
      "INFO:tensorflow:Assets written to: .\/clap_sounds\/clap_sounds_model\/assets\n"
     ],
     "output_type":"stream"
    }
   ],
   "metadata":{
    "datalore":{
     "node_id":"jGMw3JA3WBQ7oGkEX1Dsj2",
     "type":"CODE",
     "hide_input_from_viewers":false,
     "hide_output_from_viewers":false,
     "report_properties":{
      "rowId":"wqoN7hIIYnEl93ibOMRcHh"
     }
    }
   }
  },
  {
   "cell_type":"markdown",
   "source":[
    "# Load saved model to verify that it works as expected."
   ],
   "attachments":{
    
   },
   "metadata":{
    "datalore":{
     "node_id":"OjgtihAQF31KoJqGVBOoVL",
     "type":"MD",
     "hide_input_from_viewers":false,
     "hide_output_from_viewers":false,
     "report_properties":{
      "rowId":"VkCK219Pmi1j3ntjxO8IJ8"
     }
    }
   }
  },
  {
   "cell_type":"code",
   "source":[
    "reloaded_model = tf.saved_model.load(saved_model_path)"
   ],
   "execution_count":161,
   "outputs":[
    
   ],
   "metadata":{
    "datalore":{
     "node_id":"rgciogq2B8HlHtEbGIsJn5",
     "type":"CODE",
     "hide_input_from_viewers":false,
     "hide_output_from_viewers":false,
     "report_properties":{
      "rowId":"R969hexoxLLLQid8XPRIgG"
     }
    }
   }
  },
  {
   "cell_type":"code",
   "source":[
    "reloaded_results = reloaded_model(clap_wav_data)\n",
    "result_class = my_classes[tf.math.argmax(reloaded_results)]\n",
    "print(f'The main sound is: {result_class}')\n",
    "\n",
    "# serving_results = reloaded_model.signatures['serving_default'](clap_wav_data)\n",
    "# result_class = my_classes[tf.math.argmax(serving_results['classifier'])]\n",
    "# print(f'The main sound is: {result_class}')"
   ],
   "execution_count":162,
   "outputs":[
    {
     "name":"stdout",
     "text":[
      "The main sound is: single_claps\n"
     ],
     "output_type":"stream"
    }
   ],
   "metadata":{
    "datalore":{
     "node_id":"5vf6me1CU0Ehv4o6rbfefv",
     "type":"CODE",
     "hide_input_from_viewers":false,
     "hide_output_from_viewers":false,
     "report_properties":{
      "rowId":"0cUaWKPTjqY8uQLVympnsd"
     }
    }
   }
  },
  {
   "cell_type":"markdown",
   "source":[
    "# Some more testing using the test split dataset only\n",
    "\n",
    "A random audio .wav file is chosen each time"
   ],
   "attachments":{
    
   },
   "metadata":{
    "datalore":{
     "node_id":"CUNuj9NV9oBztdgUtsCwER",
     "type":"MD",
     "hide_input_from_viewers":false,
     "hide_output_from_viewers":false,
     "report_properties":{
      "rowId":"nQl6W99W9NwTtOjgaGrlqZ"
     }
    }
   }
  },
  {
   "cell_type":"code",
   "source":[
    "test_pd = category_id_pd.loc[category_id_pd['fold'] == 5]\n",
    "row = test_pd.sample(1)\n",
    "filename = row['filename'].item()\n",
    "print(filename)\n",
    "waveform = load_wav_16k_mono(filename)\n",
    "print(f'Waveform values: {waveform}')\n",
    "_ = plt.plot(waveform)\n",
    "\n",
    "display.Audio(waveform, rate=16000)"
   ],
   "execution_count":163,
   "outputs":[
    {
     "name":"stdout",
     "text":[
      "clap_sounds\/converted\/double_claps\/double_clap_13.wav\n",
      "WARNING:tensorflow:Using a while_loop for converting IO>AudioResample cause there is no registered converter for this op.\n",
      "WARNING:tensorflow:6 out of the last 6 calls to <function load_wav_16k_mono at 0x7f62b76d7160> triggered tf.function retracing. Tracing is expensive and the excessive number of tracings could be due to (1) creating @tf.function repeatedly in a loop, (2) passing tensors with different shapes, (3) passing Python objects instead of tensors. For (1), please define your @tf.function outside of the loop. For (2), @tf.function has reduce_retracing=True option that can avoid unnecessary retracing. For (3), please refer to https:\/\/www.tensorflow.org\/guide\/function#controlling_retracing and https:\/\/www.tensorflow.org\/api_docs\/python\/tf\/function for  more details.\n",
      "Waveform values: [0. 0. 0. ... 0. 0. 0.]\n"
     ],
     "output_type":"stream"
    },
    {
     "name":"stderr",
     "text":[
      "WARNING:tensorflow:Using a while_loop for converting IO>AudioResample cause there is no registered converter for this op.\n",
      "WARNING:tensorflow:6 out of the last 6 calls to <function load_wav_16k_mono at 0x7f62b76d7160> triggered tf.function retracing. Tracing is expensive and the excessive number of tracings could be due to (1) creating @tf.function repeatedly in a loop, (2) passing tensors with different shapes, (3) passing Python objects instead of tensors. For (1), please define your @tf.function outside of the loop. For (2), @tf.function has reduce_retracing=True option that can avoid unnecessary retracing. For (3), please refer to https:\/\/www.tensorflow.org\/guide\/function#controlling_retracing and https:\/\/www.tensorflow.org\/api_docs\/python\/tf\/function for  more details.\n"
     ],
     "output_type":"stream"
    },
    {
     "data":{
      "text\/html":[
       "\n",
       "                <audio  controls=\"controls\" >\n",
       "                    <source src=\"data:audio\/wav;base64,UklGRs7aAABXQVZFZm10IBAAAAABAAEAgD4AAAB9AAACABAAZGF0YaraAAAAAAAAAAAAAAAAAAAAAAAAAAAAAAAAAAAAAAAAAAAAAAAAAAAAAAAAAAAAAAAAAAAAAAAAAAAAAAAAAAAAAAAAAAAAAAAAAAAAAAAAAAAAAAAAAAAAAAAAAAAAAAAAAAAAAAAAAAAAAAAAAAAAAAAAAAAAAAAAAAAAAAAAAAAAAAAAAAAAAAAAAAAAAAAAAAAAAAAAAAAAAAAAAAAAAAAAAAAAAAAAAAAAAAAAAAAAAAAAAAAAAAAAAAAAAAAAAAAAAAAAAAAAAAAAAAAAAAAAAAAAAAAAAAAAAAAAAAAAAAAAAAAAAAAAAAAAAAAAAAAAAAAAAAAAAAAAAAAAAAAAAAAAAAAAAAAAAAAAAAAAAAAAAAAAAAAAAAAAAAAAAAAAAAAAAAAAAAAAAAAAAAAAAAAAAAAAAAAAAAAAAAAAAAAAAAAAAAAAAAAAAAAAAAAAAAAAAAAAAAAAAAAAAAAAAAAAAAAAAAAAAAAAAAAAAAAAAAAAAAAAAAAAAAAAAAAAAAAAAAAAAAAAAAAAAAAAAAAAAAAAAAAAAAAAAAAAAAAAAAAAAAAAAAAAAAAAAAAAAAAAAAAAAAAAAAAAAAAAAAAAAAAAAAAAAAAAAAAAAAAAAAAAAAAAAAAAAAAAAAAAAAAAAAAAAAAAAAAAAAAAAAAAAAAAAAAAAAAAAAAAAAAAAAAAAAAAAAAAAAAAAAAAAAAAAAAAAAAAAAAAAAAAAAAAAAAAAAAAAAAAAAAAAAAAAAAAAAAAAAAAAAAAAAAAAAAAAAAAAAAAAAAAAAAAAAAAAAAAAAAAAAAAAAAAAAAAAAAAAAAAAAAAAAAAAAAAAAAAAAAAAAAAAAAAAAAAAAAAAAAAAAAAAAAAAAAAAAAAAAAAAAAAAAAAAAAAAAAAAAAAAAAAAAAAAAAAAAAAAAAAAAAAAAAAAAAAAAAAAAAAAAAAAAAAAAAAAAAAAAAAAAAAAAAAAAAAAAAAAAAAAAAAAAAAAAAAAAAAAAAAAAAAAAAAAAAAAAAAAAAAAAAAAAAAAAAAAAAAAAAAAAAAAAAAAAAAAAAAAAAAAAAAAAAAAAAAAAAAAAAAAAAAAAAAAAAAAAAAAAAAAAAAAAAAAAAAAAAAAAAAAAAAAAAAAAAAAAAAAAAAAAAAAAAAAAAAAAAAAAAAAAAAAAAAAAAAAAAAAAAAAAAAAAAAAAAAAAAAAAAAAAAAAAAAAAAAAAAAAAAAAAAAAAAAAAAAAAAAAAAAAAAAAAAAAAAAAAAAAAAAAAAAAAAAAAAAAAAAAAAAAAAAAAAAAAAAAAAAAAAAAAAAAAAAAAAAAAAAAAAAAAAAAAAAAAAAAAAAAAAAAAAAAAAAAAAAAAAAAAAAAAAAAAAAAAAAAAAAAAAAAAAAAAAAAAAAAAAAAAAAAAAAAAAAAAAAAAAAAAAAAAAAAAAAAAAAAAAAAAAAAAAAAAAAAAAAAAAAAAAAAAAAAAAAAAAAAAAAAAAAAAAAAAAAAAAAAAAAAAAAAAAAAAAAAAAAAAAAAAAAAAAAAAAAAAAAAAAAAAAAAAAAAAAAAAAAAAAAAAAAAAAAAAAAAAAAAAAAAAAAAAAAAAAAAAAAAAAAAAAAAAAAAAAAAAAAAAAAAAAAAAAAAAAAAAAAAAAAAAAAAAAAAAAAAAAAAAAAAAAAAAAAAAAAAAAAAAAAAAAAAAAAAAAAAAAAAAAAAAAAAAAAAAAAAAAAAAAAAAAAAAAAAAAAAAAAAAAAAAAAAAAAAAAAAAAAAAAAAAAAAAAAAAAAAAAAAAAAAAAAAAAAAAAAAAAAAAAAAAAAAAAAAAAAAAAAAAAAAAAAAAAAAAAAAAAAAAAAAAAAAAAAAAAAAAAAAAAAAAAAAAAAAAAAAAAAAAAAAAAAAAAAAAAAAAEAAAAAAAAAAAAAAAAAAAAAAP\/\/AAD\/\/wAAAAAAAAAAAAABAAAAAAAAAAAAAAAAAAAAAAAAAAAAAAAAAP\/\/AAD+\/wEAAAACAP\/\/AQD7\/wAAAAD3\/w0Aff85\/1v\/R\/9X\/0\/\/Yf9i\/2T\/af91\/3\/\/fP+C\/4r\/kf+P\/5n\/mf+b\/6f\/rv+4\/77\/wv\/I\/8r\/z\/\/R\/9P\/2P\/c\/+b\/7v\/v\/\/X\/+P\/9\/wgAEQAZAB8AIQAlACcAJQAtADYAOgA8AD4APQBDAEwATABLAFEAVQBVAFgAXABgAGQAYQBhAGcAawBmAGIAagBwAG8AcgB3AHcAewCBAIIAgwCEAIYAjwCVAJsAoQCkAKUApQCnAKkAqgCsAKsAqQCsAKkAowCjAKUAogCeAKMApAChAKAApQCqAKkArwCwAKsArACuALEAswCyALIAsQCyALYAtACxALcAuAC0ALEAsgC0ALIAswCtALAAtwCxALAAswCzALAAsACxALIArgCuALIArwCwALAArQCtAK0ArQCqAKMApgCnAKYAnwCXAJQAjgCNAIgAiACFAH0AfwCCAH0AcgBsAGsAaABjAGIAXQBcAFgAUABRAE0ARQA7ADUANAAqACUAHAAQAAcABwAEAPb\/8f\/t\/+X\/3f\/W\/87\/x\/\/G\/8D\/t\/+z\/6r\/pP+k\/5f\/kf+S\/4z\/hv+C\/37\/c\/9v\/3X\/b\/9p\/2T\/Xv9e\/1j\/Uv9R\/1D\/TP9H\/0n\/R\/9G\/0H\/PP86\/zr\/Of8v\/zD\/Mv8u\/yn\/Kv8t\/yf\/KP8n\/yD\/Hv8d\/xv\/Gf8Y\/xX\/FP8W\/xH\/D\/8P\/xH\/E\/8Y\/xn\/Iv8u\/yz\/Nf87\/zz\/P\/9C\/0j\/UP9Y\/1b\/WP9g\/2r\/b\/9x\/3r\/gP+I\/5H\/k\/+Z\/57\/pf+v\/7X\/u\/\/C\/8f\/z\/\/T\/9P\/3f\/l\/+b\/7f\/u\/\/H\/+\/8AAAMABwAOABMAFQAWAB8AKAArADMANwA6AEAAQgA+AEIARgBFAEkATQBRAE4ATwBPAFAAVABXAFgAWQBYAFgAXQBdAFwAXgBlAGkAbQBwAHMAdwB6AIEAfgCCAI0AjACMAJEAlgCYAJ0AoACiAKEAnQCjAKkApwCiAKUApgCjAKgArACpAKsAsQCuAK0AsQCyALIAsQC3ALQAsAC0ALAAtAC5ALMAtQC3ALgAvgC7ALoAuAC1ALcAtwC2AK4AtAC3ALAAswC4ALYAsgC1ALcAvAC9ALgAtwC1ALcAvQC+ALcAtQC2ALAArgCvAK0ApgCjAKEAnQCfAJgAlwCWAI8AkACIAH4AfwB+AHwAegByAGwAawBoAGQAYABdAFoAVQBRAE0ASQBDADkAMQAqACYAGwASAA8ABgACAPz\/8v\/t\/+T\/2f\/W\/87\/wf+8\/7n\/tf+r\/6n\/o\/+V\/5D\/jv+H\/33\/fP97\/3P\/b\/9y\/23\/aP9m\/2D\/Xf9W\/1b\/VP9T\/1P\/T\/9Q\/03\/Sf9G\/0P\/PP88\/z3\/OP84\/zX\/Nv8z\/zL\/MP8p\/yz\/Mv8s\/yb\/Kf8l\/yP\/Iv8d\/yH\/I\/8h\/yD\/Iv8g\/yH\/Kf8s\/zL\/Nv87\/z\/\/Rv9J\/07\/XP9a\/1n\/aP9u\/23\/dP95\/3r\/gf+H\/4j\/kv+Y\/53\/pP+n\/67\/rv+z\/77\/w\/\/F\/9D\/1v\/X\/+D\/6v\/o\/+\/\/+\/\/5\/\/\/\/BgAIAAoAEAAVABgAIQAmACgALwAzADcAPwBAAD4AQQBDAEMARQBFAEgASQBHAE4AUABKAE0ATgBSAFQAVgBZAFQAWABXAF0AYwBkAGcAaQBuAG0AcwB4AHUAdgB6AHsAfAB\/AIMAggCGAIgAhgCOAJMAjwCNAJMAlwCVAJIAkQCYAJ8AmQCYAJoAkwCTAJwAnwCbAJ0AoQCeAJ0ApACiAJ4ApACmAKYApwCoAKgAqgCpAKgAqACjAKgAqwChAKAAowCqAKkAqQCvAKkApwCqAK4ArwCrAKwAqQCqAKwApQCpAK4AqQCnAKYAowCgAKIAnwCZAJIAkACSAIgAiwCIAH4AgQCAAHkAcABuAGUAZABjAF0AXABXAFMATABJAEYAQwA\/ADsAOQA1AC0AJgAeABMADwAMAAAA9\/\/z\/+\/\/6f\/d\/9L\/yv\/C\/73\/vP+w\/6r\/qP+c\/5f\/lf+M\/4f\/gv9+\/3j\/b\/9y\/2v\/a\/9n\/1z\/XP9a\/1n\/U\/9N\/0n\/SP9H\/0P\/P\/87\/z3\/Of8z\/zb\/N\/8x\/yj\/Kf8p\/yT\/H\/8h\/yP\/IP8h\/xr\/GP8d\/xj\/E\/8R\/xL\/Ev8O\/wv\/CP8H\/wr\/Cf8M\/xP\/Ff8d\/yD\/Iv8r\/y7\/Mf82\/z3\/Q\/9B\/0X\/UP9V\/1v\/Yv9p\/2\/\/c\/92\/3r\/gv+E\/4b\/lP+Y\/5n\/of+j\/6v\/tP+z\/7b\/vP\/F\/8\/\/0\/\/X\/93\/5P\/q\/+3\/8\/\/3\/\/3\/AwAIAA0ADwATABgAHAAgACEAJAAoADEANgA7AD8APABCAEUARABGAEMARQBMAE0ATgBSAE8AUwBbAFsAWABbAF8AYQBiAGIAbgBuAHMAdwBzAHgAegCBAH8AhQCMAIgAjgCTAJIAkwCYAJYAlgCbAJ4AmgCZAJ0AowCiAJ8AqACkAKMApQCiAKUAowCmAKkAqQCmAKcArgCpAKkArQCqAKoArACvALIAsgCyALIAswC1ALQAtACxALgAuwC1ALcAtwC1ALQAtACtALIAtQCsAK8AsQCzALEArQCvALEArQCmAKsApwCeAJ8AnACXAJMAkQCQAIoAggB7AHYAdAByAGcAZwBmAGAAXwBZAFgAWABVAE0ARwBNAEcAPQA7ADgANAAuACoAJAAbABgADwACAP\/\/9\/\/x\/+\/\/4\/\/X\/9T\/0f\/H\/77\/uf+z\/6z\/pP+c\/5f\/kf+O\/4j\/gv+C\/3z\/dv9y\/2v\/Zf9m\/2L\/Wf9V\/1X\/Uv9O\/0j\/Qv9E\/0D\/Of82\/zb\/N\/8x\/zH\/LP8p\/yf\/I\/8f\/x7\/If8b\/xr\/FP8V\/xb\/Dv8J\/wj\/B\/8K\/wb\/Af8E\/wH\/\/\/79\/v7+Av\/+\/gH\/Cv8R\/xT\/Gf8f\/yT\/KP8t\/zL\/Nv84\/z7\/R\/9I\/07\/V\/9Y\/13\/Zf9n\/27\/cv90\/3f\/fv+G\/4j\/jP+Q\/5v\/nv+i\/6n\/rP+y\/7T\/v\/\/G\/8f\/0P\/U\/9X\/2\/\/i\/+f\/7P\/w\/\/b\/+\/\/8\/wAACgAWABMADgAZAB8AJgAuADEAMgA2AD4APQA+AD8ARQBFAEAARwBLAEoASQBKAE8AUABTAFoAXgBeAF8AYwBpAGsAagBtAHQAdwB8AIEAfwB\/AIIAiQCNAIsAiQCOAJMAlQCXAJgAmQCXAJwAoACgAJ8AnwChAJ4AngCfAKAAogClAKQApwCnAKkAqACkAKcAqQCtAK4ArACuALQAtACvALIAsgCuALMAsgCsAK4AsQC0ALYAtAC1ALIAswCzALMAsgCtAK8AsgCqAKsArgCrAKkAowCpAKUAoQCjAKMAngCUAJIAkACMAIoAhQCCAHwAeABzAHAAbgBmAGEAYABeAFkAUgBRAE4ATABNAEYAQQA9ADsAPAAzACkAKAAqACEAEgANAAcAAAD3\/\/T\/7\/\/k\/+D\/1f\/Q\/8z\/wv\/A\/73\/sf+l\/6n\/qP+a\/5X\/kv+N\/33\/ff9\/\/3T\/cv9y\/3T\/aP9k\/1\/\/Wv9a\/1H\/T\/9P\/1L\/Uf9O\/0r\/R\/9E\/0T\/Qv88\/zb\/N\/83\/zL\/Mf8v\/zH\/MP8r\/yv\/JP8i\/yL\/IP8i\/x\/\/If8j\/yH\/H\/8a\/xr\/H\/8m\/yr\/Lf8x\/zf\/Pf88\/zz\/Q\/9J\/0r\/T\/9R\/1P\/Wf9d\/1\/\/ZP9o\/23\/dP90\/3n\/fv+D\/4b\/iv+S\/5T\/mv+c\/57\/pv+s\/6v\/sf\/A\/8P\/xP\/J\/9D\/2f\/d\/+P\/5f\/o\/\/D\/8\/\/5\/\/r\/\/\/8GAAgACwASABcAFwAfACYALgAxADMAOwA+AEYATQBKAE4AVgBRAFQAWABXAFgAWgBjAGMAYABqAG0AagByAHQAdQB2AH8AgQCBAIUAgQCIAIoAjQCVAJYAkwCVAJ4AmwCaAKAAoACcAKEApwCkAKUAqQCrAKkArACvAK4AsgCsAK0AtACwALAAtQC3ALgAsgCuALUAsgC0ALkAtgC4ALcAtAC2ALQAswCyALMAtACzALAArACtAK0AqQCsAKkApQCqAKYAnwCcAJkAngCaAJgAlwCQAJUAlwCNAIkAiQCCAHwAeAB3AG0AaQBtAGkAYwBbAFkAUwBSAE8ARgBDAEUAQQA3ADgAMQAuAC8AKgAlAB8AHQAaABcAEAAKAAUAAQAAAPv\/+v\/1\/+z\/4v\/e\/9b\/z\/\/J\/8H\/vP+x\/6r\/o\/+Z\/5j\/l\/+Q\/4j\/hf+B\/3f\/cP9t\/2n\/ZP9j\/13\/XP9Z\/0\/\/S\/9H\/0f\/Q\/8\/\/0D\/P\/87\/z3\/PP81\/zT\/M\/8v\/y3\/Kf8m\/yT\/I\/8j\/yD\/If8e\/xr\/Gf8X\/xb\/Ev8R\/xH\/GP8Y\/xT\/FP8P\/w\/\/Dv8M\/w3\/D\/8U\/xH\/GP8e\/x\/\/I\/8m\/zD\/NP81\/zv\/P\/9H\/0j\/Sv9N\/07\/Vf9Y\/13\/Yv9h\/2j\/cv92\/3j\/ev+B\/4X\/iP+N\/5P\/mv+d\/6L\/rP+x\/7T\/vf++\/8X\/zf\/S\/9n\/3P\/i\/+f\/6P\/t\/\/P\/+P\/\/\/\/\/\/BAANAA0ADwAXAB8AJAAnACsAMAA4ADoAQABEAEUAUABVAFcAUwBSAFgAWgBcAFsAXgBkAGgAbABuAHEAdwB4AH4AggCDAIYAjACQAIoAjQCSAJcAmwCiAKAAoQClAKcArwCqAKUAqwCrAKoArACwALEAsgC1ALYAtwC5ALoAugC3ALkAvwC6ALcAuwC4ALsAvQC6AL4AvwC+AL8AwgC8ALcAvAC6ALkAtwC1ALIAsACxAK0AqwCpAKsApwCkAKAAngChAJsAmgCXAJMAlQCMAIoAjgCGAIEAfgB9AHoAdgBwAGkAaABkAF8AWgBTAFIATQBGAEgAPwA5ADsAMgAuADAAJwAhAB4AHgAaABQADwALAAsABAAFAAIA+P\/0\/\/v\/+P\/v\/+r\/6f\/k\/97\/3P\/S\/87\/xP+9\/7f\/rP+m\/57\/l\/+U\/43\/hv9+\/3n\/ef9x\/2v\/af9n\/2D\/XP9a\/1X\/T\/9K\/0j\/RP9D\/z3\/PP88\/zb\/Nv8z\/zP\/Mf8s\/yz\/Kv8k\/yP\/Hv8d\/x3\/Hf8e\/xX\/Ev8Q\/xH\/Ev8R\/xD\/C\/8L\/wz\/Dv8N\/wn\/BP8E\/wr\/DP8M\/xD\/FP8W\/xz\/Hv8i\/yf\/LP8y\/zb\/Of83\/zz\/RP9G\/0L\/Sf9Q\/0\/\/VP9Z\/13\/YP9r\/2\/\/bf9y\/3j\/f\/+B\/4z\/j\/+Q\/5v\/n\/+j\/6v\/q\/+0\/73\/v\/\/L\/83\/z\/\/W\/9n\/3\/\/g\/+P\/7f\/v\/\/L\/+\/\/5\/\/7\/BQALABEAFgAYABoAHAAjACcAKwA2ADkAPQA8AEMATABLAEsATgBVAFMAVgBcAF0AYQBlAGcAbgBzAHIAdgB9AHsAfACLAIgAhACLAI0AkgCQAJIAlQCUAJEAmACdAJYAmQCjAKQAnQCeAKIAnQCeAKMAoAChAKIAogCkAKUAqACnAKQAqACmAKUAqQCjAKYAqQCsAK8AqgCtAKcApACoAKMApQCkAJ8AogCjAJ0AnwCfAJoAmgCVAJUAjwCTAJUAjQCQAI8AiwCIAIoAhwCBAIMAfAB4AHYAcQBzAGoAZwBlAF0AWgBWAFEASgBKAEMAOAA0ADIAMgArACwAKAAiACMAGQAUABMAEAAMAAcABAAAAAEA\/\/\/1\/\/P\/7\/\/m\/+T\/3v\/W\/8\/\/yP\/I\/8L\/tv+x\/6n\/oP+d\/5r\/jv+J\/4f\/gP99\/3P\/bv9u\/2j\/Xv9d\/1n\/VP9V\/03\/Sf9D\/z\/\/QP88\/zf\/Ov83\/zL\/Mf8w\/yr\/K\/8k\/yT\/Iv8e\/yH\/Hv8f\/xz\/Gf8X\/xj\/FP8Q\/wz\/Dv8U\/w3\/C\/8I\/wn\/Bv8E\/wj\/Bv8D\/wf\/Bv8G\/w\/\/Ff8U\/xr\/HP8d\/yX\/If8m\/yz\/Kv8y\/zb\/Ov88\/0L\/Sf9J\/1D\/Uf9X\/1\/\/Wv9l\/2v\/b\/92\/3f\/ff+B\/4H\/jP+V\/5b\/mf+g\/6T\/pf+y\/7b\/uP++\/8T\/zP\/N\/8\/\/1P\/d\/+D\/3\/\/p\/+r\/8\/\/+\/\/7\/AAABAAoAEAAWABgAGwAiACYALQAxADsAPgBAAEMAQwBGAEIARABIAEwATQBRAFMAUwBeAF8AXgBnAG4AcQBuAHEAeAB8AHwAfQCCAIcAiACGAIcAiwCNAIwAjwCNAI8AjgCKAI8AlACTAJQAlwCVAJoAkwCTAJYAlACbAJUAlQCYAJoAnQCWAJYAmgCcAJsAmwCeAJsAnACcAJUAmACaAJsAmgCWAJYAlgCRAI0AkwCPAIsAjQCNAIwAhwCKAIgAhQCEAIIAfgB9AHsAdwB1AHEAbgBpAGkAZgBiAGEAXABWAFQAVQBOAEgARgBCAEAAOwA6ADMALwAxACwAMAAoABwAGwAZABsAEwARAA4ABAAHAAIA+\/\/8\/\/r\/8v\/o\/+b\/5f\/a\/9b\/yf\/D\/8D\/tf+2\/7H\/qP+h\/5r\/j\/+P\/43\/hf+B\/3n\/cf9s\/2f\/ZP9f\/1X\/WP9U\/0v\/S\/9H\/0H\/PP8+\/zv\/N\/8x\/y\/\/LP8q\/yv\/Jf8j\/yL\/I\/8f\/x3\/I\/8j\/xn\/GP8g\/xv\/Ff8X\/xP\/E\/8Y\/xX\/FP8S\/xL\/Ef8L\/wX\/CP8P\/w7\/Ef8Y\/xr\/Hf8k\/yn\/Lv8x\/zb\/N\/84\/0L\/Q\/9E\/0b\/Sf9R\/1L\/V\/9c\/17\/YP9l\/3D\/cP94\/4D\/ff+A\/4v\/kv+V\/57\/nv+f\/6f\/sf+z\/7f\/wf\/A\/87\/0v\/U\/+D\/6P\/m\/+j\/8\/\/2\/\/f\/\/P8GAAYACwAMABEAHQAaABsAJAAsAC0ALgA4ADwAPgBGAEgASQBKAEsASwBOAE0AUABSAFIAVwBXAGAAaQBnAGYAbQBvAGgAawB2AHkAdwB+AIUAhQCNAJAAigCNAJYAmACWAJgAnACYAJkAnACdAKEAoQCdAJwAogCiAJ8ApgClAKUApQCjAKoArQCuAK8AsACvALEAuQCzAK8AtwC6ALgAtQC3ALIAtAC0AK4AtQC4ALUAsgC4ALcAtgC2ALIAswCzALMAsQCzALMArwCvAKsAsQCsAKEAogChAKIAlgCSAJQAkACMAIcAiQCFAHoAeQB4AG8AaABkAGMAWgBZAF4AUgBQAFQASwBCAD8AQAA+ADkAOgA5ACwAKgAsACUAHgAbABUACgAJAAEA\/f\/0\/+X\/5\/\/c\/8\/\/yv\/H\/77\/sv+w\/6\/\/pP+b\/5\/\/lv+Q\/4j\/g\/+B\/3n\/c\/9v\/2\/\/aP9i\/1z\/WP9X\/1P\/Tf9N\/07\/Sf9C\/0P\/QP86\/zr\/N\/86\/zT\/L\/8y\/zL\/Kv8n\/yn\/J\/8p\/yX\/Iv8h\/x3\/H\/8d\/xj\/Fv8X\/xL\/Fv8V\/wT\/Ev8O\/wv\/If8e\/xr\/G\/8d\/yX\/Nf82\/y3\/N\/9A\/0H\/RP9J\/1X\/Xf9d\/1v\/Yv9o\/2f\/av9z\/33\/eP+B\/4v\/kP+S\/5L\/mv+f\/6f\/qP+x\/7b\/tf+9\/8P\/xv\/L\/9H\/0v\/V\/+D\/5\/\/o\/+\/\/9\/\/8\/\/\/\/AAAKABAAEQAYACEAKwAqAC0AMQA7AEcAQwBJAFAASQBGAFUAXABOAE8AXwBaAFYAYQBeAFkAYQBpAGoAbgBzAG0AdwCAAHoAfgCAAIIAiQCBAIcAkgCJAJAAjQCRAJkAkACWAJcAmgCcAJoAngCdAJ4AoQCiAKAAnwCgAKIApQCjAKEAogCnAKoAogCiAKgAqQCkAKYAqwCmAKkAqQCpAK0ArgCqAKcAsQCwAKMApQCpAKUAoQCmAKwApQCjAKgApwChAKAAogCfAJ8AmwCaAJYAmQCYAIwAiwCPAI4AhgCDAIIAegB3AHoAcgBqAGgAawBlAFwAYgBeAFEAUABXAE0APgBAAEYAPAA2ADgAOgA4ACkALQAuACQAIgAfABcAEAALAAMA+\/\/x\/\/j\/6\/\/X\/9z\/2v\/C\/7r\/u\/+u\/6z\/p\/+l\/5X\/jP+O\/4P\/gP96\/3L\/b\/9t\/2j\/YP9a\/1z\/X\/9a\/0n\/Rf9L\/0b\/Pv88\/0D\/O\/8y\/zL\/Nf8x\/y3\/Lf8p\/yL\/Iv8m\/yP\/Hv8a\/xv\/HP8W\/xX\/EP8P\/xb\/E\/8N\/wz\/DP8J\/wT\/Bf8K\/wj\/C\/8M\/wX\/D\/8b\/xr\/HP8g\/yr\/Lf82\/zn\/N\/9H\/0v\/S\/9S\/1n\/Wv9i\/2n\/Zf9r\/3D\/ef99\/3r\/gf+O\/5L\/jP+V\/5z\/n\/+s\/6z\/qv+z\/7v\/vv\/B\/7\/\/yP\/V\/9X\/2P\/h\/+L\/5v\/2\/\/b\/8\/\/5\/\/z\/AgAFAAoADwAUABoAHgAiACcALgA1ADoAPQA8AEAAPAA9AEMAPQBAAEkASgBHAE4AUgBGAFEAVgBaAGAAXQBnAGUAawBuAG4AcwB3AHoAdQB+AIMAhgCEAIsAlgCOAI8AmACaAJMAlgCcAJ0AmwCaAJ8AoQCiAJ0AogCkAKMApQCiAKIAnwCqAKkAnwCqAKkApgCrAKoApQChAKoAqQCoAKcAqgCtAKUAqgCpAKQApgCvAKgApACtAK0AqACrAKcAowCqAKcAogClAKgAngCdAJYAlACeAJkAlwCTAIsAjgCOAIcAhAB+AHkAewB0AHAAcgBqAGgAZQBhAGAAUwBUAFYATQBOAEsARwBGAEcAQQA2ADgANAA2AC4AKQApABoAHAAXAA0ABgD8\/\/r\/8\/\/m\/+f\/3P\/O\/8\/\/yf\/B\/7r\/t\/+m\/6P\/nv+V\/5b\/i\/+I\/4X\/ff9y\/3T\/df9q\/2T\/Zf9m\/1n\/U\/9W\/03\/S\/9M\/0T\/QP9I\/0P\/Pv8\/\/z\/\/O\/86\/zj\/Mv8v\/yr\/Lf8o\/yX\/J\/8l\/yT\/Gf8W\/xz\/Gf8U\/xH\/F\/8V\/w3\/Fv8P\/w\/\/Fv8S\/xT\/Fv8d\/yX\/Kv8s\/zH\/O\/9A\/0L\/Qf9G\/0r\/T\/9Y\/1n\/XP9h\/2H\/aP9w\/3H\/ev9\/\/4P\/iP+Q\/5b\/lP+Z\/6L\/q\/+s\/7D\/tf+5\/77\/w\/\/K\/8n\/0P\/X\/9n\/3\/\/k\/+f\/6\/\/2\/\/n\/\/v\/+\/wcACgAEABAAFAATABYAIQApAC0AMwA6AD4AOwA+AEEAQgBEAEsASQBNAFIATABNAFMAVABUAFoAXwBjAGQAXwBmAHAAcABvAHIAeQB9AIUAhQCBAIsAjwCMAJAAkgCPAJEAmQCZAJUAmQCgAJ0AnwCgAKAApACkAJ8ApQCoAKYAqwCkAKgAqQCnALAArwCqAK0AswCzALMAtAC2AK8AsgCyALMAtwCzALMArgCzALoAtwCyALUAtACyALcAtQC3ALsAtwC0ALEAsQCxALAArgCoAKcAowChAKEAnACbAJkAlwCSAJIAjACDAIYAhwB\/AHUAcgBtAGsAbQBhAFwAXgBbAFEATgBOAEYARgBCAD4APQA5ADQAKgAnAC4AKgAdABgADwADAAIA\/f\/x\/+z\/6f\/j\/93\/1v\/M\/8b\/v\/+0\/7D\/rf+l\/5v\/mf+Y\/4z\/h\/+B\/3z\/f\/93\/2z\/bf9v\/2b\/Yf9a\/1b\/U\/9R\/1T\/Rv9B\/0T\/Q\/9C\/zz\/Ov84\/zv\/N\/8y\/y7\/KP8u\/y\/\/KP8e\/yH\/Hv8V\/xv\/Ef8Q\/xH\/Df8R\/xL\/Df8I\/wn\/CP8J\/wn\/B\/8J\/w\/\/E\/8T\/xz\/IP8l\/yn\/K\/8x\/zT\/PP9A\/0P\/Sf9G\/1P\/Wf9W\/2H\/Zv9p\/2z\/b\/94\/3n\/eP+I\/4n\/iP+T\/5n\/oP+k\/6r\/rv+z\/7f\/wf\/E\/8b\/0v\/Y\/9j\/2v\/l\/+r\/7\/\/z\/\/L\/9f\/\/\/wcACgAOABAAFwAdACAAJQAnADAAOwA7ADwAQwBCAEcATgBLAEsASwBLAE4AVQBWAFEAVABZAFkAWQBcAGQAZwBhAGgAcABvAHEAeAB0AHEAfQB\/AHkAgACJAIsAjACIAIoAjwCLAI8AkgCNAIwAjQCOAJAAkQCYAJMAjQCUAJcAmQCXAJcAkACSAJkAlgCUAJMAmACXAJoAnQCaAJkAlgCaAJsAlgCQAJYAngCWAJoAmgCTAJEAlACTAIkAjQCQAI4AiwCIAIcAhACCAIAAgAB7AH0AewB3AHIAbABsAGYAZgBiAGEAXgBYAFkAUwBPAEoATgBMAEEAQAA5ADgAOQAwACkAKQAqACMAHAAhAB4AFQAWABYAEQAKAAUABAD7\/\/v\/9P\/t\/+r\/3f\/a\/9L\/yf\/G\/8P\/tv+t\/6z\/oP+b\/5n\/jv+H\/4f\/gv96\/3j\/bv9l\/2P\/Xv9X\/1L\/Vf9P\/0X\/Sf9G\/zz\/Ov85\/zb\/Mv8z\/zH\/J\/8q\/yr\/Jv8k\/yD\/Jf8g\/xz\/IP8b\/xj\/Fv8W\/xb\/FP8P\/wj\/EP8R\/wP\/B\/8I\/wH\/Bv8D\/wP\/AP\/8\/gD\/Av8D\/wX\/Dv8Q\/xP\/Gv8d\/yH\/Kf8u\/y3\/Mv82\/zb\/Pv9F\/0j\/Sf9L\/1b\/XP9b\/13\/Y\/9x\/3b\/dP93\/4P\/h\/+D\/5D\/mf+U\/5b\/o\/+p\/6v\/rP+0\/7f\/uv\/L\/83\/0\/\/a\/9n\/3f\/m\/+\/\/7\/\/w\/\/j\/AQAKAAsADQAQABUAGQAdACIAJgAyADgAPwBAADsAOgA8AD8APwBDAEgATABKAE4ATABPAFYAWwBcAF0AZABgAGYAbABrAG0AeAB8AHoAewB9AIIAfgB\/AIgAiACIAI4AjQCPAJQAkgCWAJcAmwCZAJwAoQCcAJwAngCiAKQAogCjAKgApgCiAKcAqgCuAKsApwCuAKwApQCkAKsArACpAKsAqACoAKoAqQCkAKcAqQCjAKAAqACoAKIApgClAKQAngCeAKYApACYAJoAowCbAJgAmACWAJQAkgCRAIwAhgCDAIQAhAB8AHoAfQBxAG0AbgBmAGAAXgBaAFAAVQBWAEsARABFAEIAPAA9ADUANQAvACkAKQAiACMAHwAeABMAEQARAAEAAgD9\/\/P\/6\/\/k\/+D\/1f\/N\/8X\/wv+8\/7b\/sv+n\/6D\/nf+c\/5L\/j\/+M\/4H\/gP9\/\/3z\/d\/9y\/27\/bv9m\/17\/YP9d\/1n\/WP9U\/0r\/S\/9R\/0\/\/Sf9D\/0L\/QP8\/\/zr\/O\/82\/y\/\/Nf8x\/yv\/Kv8r\/yf\/I\/8n\/yT\/Hv8c\/xr\/Gf8Z\/xn\/Gf8V\/xT\/F\/8Z\/xn\/I\/8l\/yX\/K\/8u\/zb\/Pv9C\/0H\/Q\/9G\/0b\/Tv9U\/1T\/Xv9f\/1n\/Yv9s\/2v\/bP93\/3v\/eP9\/\/4f\/iv+O\/5f\/nP+Z\/6T\/rv+z\/67\/sv\/D\/8H\/z\/\/N\/8z\/3v\/b\/+P\/5P\/p\/\/n\/+\/\/3\/\/r\/BAAKAAkAEAAXAB8AIwAjACkAKgAwADkAPwBBAEEAQgBAAEEARQBJAEgASABKAEoARQBMAFgAUgBPAFYAYQBlAGEAZwBuAGsAcgB7AHUAewCCAIMAhgCGAIwAiACIAI8AjQCOAJAAkQCVAJEAjgCRAJYAlgCUAJYAmACeAKUAmgCZAJ8AlQCgAKQApwCmAJ0AnACiAKkApQCpAKQAoQCmAKUAqgCmAKMAqQCkAKMApgCkAJ8ApgCqAKAAnQCdAKIAoQCaAJgAmACTAJUAlgCKAIwAkwCJAIQAhwCCAIAAfwB7AHsAdABxAHIAawBlAGAAXQBdAFoAVQBPAEwASgBGAEQAOwA4ADYAMgAxACsAJgAnACUAIgAdABkAFQAOAAsACAABAPv\/+v\/z\/+f\/5f\/c\/9L\/0\/\/J\/7f\/uf+2\/6v\/p\/+d\/5f\/kf+T\/5H\/g\/+D\/4X\/fP91\/3b\/av9h\/2b\/av9f\/1b\/Wf9Y\/1f\/V\/9Y\/1b\/Sv9J\/0v\/R\/9C\/0L\/Q\/9A\/z\/\/Pf88\/zf\/Nf80\/zH\/Kv8o\/yv\/J\/8l\/yf\/J\/8g\/yP\/I\/8b\/x3\/IP8f\/x7\/H\/8f\/yj\/Mv8t\/zT\/QP81\/0D\/Tf9F\/07\/Uv9Q\/1X\/Wv9e\/2X\/bP9v\/27\/cv98\/33\/f\/+I\/43\/j\/+X\/5z\/mP+i\/6r\/q\/+w\/7r\/wv\/A\/8j\/0v\/Y\/9v\/3\/\/o\/+z\/8P\/0\/\/f\/+v8AAAMACgARAA8AGAAjACEAKAAsAC4ANAA3ADsAQQBJAEsAUgBRAFIAWABUAFgAYQBeAFsAYABkAGIAYgBrAGoAZwBwAHMAeQB4AHoAgwCDAIkAhwCJAI4AjwCTAJcAmQCcAJ4AngCfAJoAnwCnAKgApwCnAKcApwCmAKgAqgCqAK4AsACzALAArQC1ALgAtgC7ALgAtQC7ALoAvQC3ALYAvgC7AL8AxQC8ALkAvQC2ALgAuAC3AL8AvAC8AMAAvQC4ALgAugC3ALQAtAC2ALcArwCyALAAqQCrAKUApQCiAJ8AoQCeAJEAlQCVAI4AjACFAIMAfwB8AHgAdAB0AHAAagBpAGYAXwBhAGAAWQBUAE8ATwBFAEIAQAA9AEAAOQA2AC8AKAArACkAHQAYABUACwABAP3\/+f\/v\/93\/1\/\/W\/8\/\/yv\/E\/8D\/tv+w\/7D\/qv+f\/53\/lf+P\/4\/\/i\/+F\/4H\/gv9\/\/3P\/a\/9v\/2v\/av9p\/17\/Wv9d\/1\/\/Xv9U\/0\/\/Vv9Q\/0r\/S\/9L\/0b\/Qv9G\/0H\/QP9B\/0D\/Pv82\/zj\/O\/80\/zP\/M\/8v\/yz\/Mf8x\/yv\/L\/8t\/yv\/K\/8y\/zz\/PP9C\/0b\/SP9L\/07\/UP9T\/1v\/Yv9k\/2j\/bf9r\/3P\/eP98\/4D\/gv+H\/4r\/jf+T\/5r\/nv+n\/7D\/sv+z\/7n\/v\/\/A\/8n\/0v\/U\/9r\/5P\/p\/+j\/7P\/w\/\/r\/AgADAAoAEQAWABMAGQAiACYALQAvADEANwA7AD8ARwBHAE0AVQBaAGAAYgBoAGsAagBvAHAAbwB1AHAAcAB4AHYAeAB4AIQAjgCKAIoAjgCRAJsAoAChAKIAoQCmAK4AsACyALQAsgC2ALgAuQC7ALgAvQDAAMEAwgDBAMIAwwDEAMYAxgDCAMYAxADGAMsAygDLAMoAygDJAMcAxQDMAM0AzADTANQA1ADRAM8A1QDUANEAzwDJAMwAygDLANAAyQDIAM0AzQDLAMoAyQDFAMQAxgDGAMUAvQDAAL4AvQC8ALYAtwC0ALcAsACqAKkAqQCnAKAAngCXAJAAjACNAIkAgQCCAIAAeABxAG4AbgBkAGIAZABgAF4AWABSAE8ASgBIAEgAQQA9ADoAOAAzACkAJwAjABYAEgAPAAEA\/f\/2\/+\/\/6P\/g\/9r\/0v\/I\/8P\/uf+w\/7X\/sf+r\/6f\/ov+c\/5T\/lv+M\/4f\/iP+C\/3v\/eP91\/3b\/eP9s\/27\/bf9p\/2X\/YP9h\/1n\/WP9W\/1j\/V\/9T\/1P\/Vf9R\/0b\/Sf9M\/0n\/SP9G\/0P\/Q\/88\/0D\/Pv88\/z\/\/OP88\/zj\/N\/83\/zL\/Ov88\/z\/\/SP9J\/0z\/Vv9Z\/1r\/Xv9j\/2r\/bP9w\/3b\/dv96\/4X\/hv+F\/47\/kf+T\/5X\/ov+m\/6L\/rf+0\/7f\/uv+\/\/8n\/0v\/W\/9r\/3\/\/j\/+3\/8f\/1\/\/f\/\/f8GAAkADgARABwAHgAeACgAKgAtADQAOQA7ADsAPgBGAE4AUABVAF0AYABsAG8AcABxAHAAcQB0AHcAcwB3AHIAegB+AIIAgwCCAI0AjwCTAJMAlgCZAKAAowChAKUApgCqAK4ArQCyALUAtwC9ALsAvwC7AL4AvQC6AL4AvAC+AMAAyADIAMkAyQDCAMUAyADEAMgAzgDIAMwA0QDOAMwA1QDSAMwAzgDTANcA1ADaAN0A2gDYANsA0gDMANcA0wDQANEA0QDRANIA0QDJAMkAygDHAMkAywDFAMQAwwDCAMAAtwC6AL4AuwC2ALgAsgCoAKwAqACjAKEAnQCcAJcAlgCRAIkAhwCDAIEAegB2AHIAaABrAGoAYQBeAFwAWABWAFcAUABHAEQAQgA+AD4AOgAzAC8AKQAmABkADAAOAAoA9\/\/v\/\/D\/6f\/e\/9\/\/2f\/O\/8P\/wf\/C\/7T\/sv+v\/6T\/n\/+b\/5T\/iv+M\/4\/\/iP+A\/3r\/d\/9z\/27\/bP9o\/2X\/av9p\/2H\/X\/9e\/2D\/W\/9V\/1H\/Uv9O\/0v\/Tf9F\/0j\/Qf89\/z3\/Ov84\/zT\/Mf8u\/y7\/M\/8r\/yT\/Lf8p\/yX\/JP8n\/yz\/LP8v\/zH\/Nf83\/zz\/R\/9H\/0P\/UP9T\/1X\/Vv9Y\/2P\/Yv9j\/2v\/bP9t\/3f\/fP96\/4H\/jP+P\/47\/lf+g\/6D\/pP+t\/7b\/u\/+6\/8H\/y\/\/Q\/9b\/4f\/h\/+H\/5\/\/v\/\/n\/+f\/\/\/wUABgAKAA0AFQAZAB8AJwApACwALgA4ADsAOQBDAEcATQBRAFIAVQBVAFMAUwBYAFQAUgBYAF4AZABfAGAAYQBhAGkAbgBxAHAAeQCAAH4AggCBAIIAhwCQAIsAjQCOAI4AmQCbAJoAmACdAJ0AmgCdAJsAnQCjAJ4AmwChAKYAngCeAKQAqACkAKMArwCpAKQAqQCoAKUApwCoAKUApgCrAKoApwCrAK0AqgCoAKcApACmAKcApQChAJ4AowChAKAAowCnAKQAoQClAJ4AmwCcAJgAmACYAJoAmACWAJEAigCOAJEAiQCGAIYAeAB3AH0AcQBtAG8AaQBoAGAAXgBXAFQAUQBLAEsAQwBDAD0ANwA6ADUAMAAsAC8AKAAkAB8AFgAYABMACgAGAAYA+v\/1\/\/X\/6\/\/j\/93\/2P\/M\/8T\/xv+8\/7f\/sv+k\/6D\/mP+R\/4z\/iv+G\/4b\/fP9w\/3X\/bv9o\/2T\/ZP9g\/1j\/V\/9T\/0\/\/Rf8\/\/0X\/Rv8+\/z3\/Pf83\/zP\/Nf8y\/y3\/Lf8w\/yj\/Iv8o\/yX\/JP8h\/x\/\/Iv8d\/x\/\/GP8T\/xr\/Fv8Q\/xb\/E\/8K\/wr\/Cv8M\/w7\/Ef8X\/xj\/G\/8g\/yf\/Kf8o\/y3\/MP80\/z\/\/RP9D\/0T\/Sf9R\/1X\/V\/9Z\/2H\/av9y\/3P\/c\/98\/4D\/hf+J\/4z\/jv+X\/5n\/nP+j\/6X\/rP+z\/7v\/wP\/D\/8X\/yP\/S\/9v\/3v\/i\/+f\/7P\/y\/\/r\/AAADAAkADwAPABYAGgAWABsAIgApADEAOAA6ADwAPABDAEYAQQBDAEcAQwBDAEkARwBNAFAAUQBYAF0AWwBeAGUAZABjAGYAcAByAHIAeQB+AHkAegCFAIEAgwCJAIkAiACGAIoAiQCLAIsAjgCPAIsAigCSAJMAjgCTAJEAkgCVAJYAnACaAJcAmwCZAJMAmgCeAJkAngChAJ0AmACbAKAAnACfAKUAngCZAJ4AnACbAJkAlgCaAJgAmgCcAJoAlgCTAJUAlQCTAJQAkgCOAI0AjACLAIMAgQCFAIIAgAB6AHYAcgBuAGwAaABkAF4AWwBZAFoAVABPAEsARQBDAD0APAA+ADwAMgAtAC0AKgAnACEAHAAcABkAEQAQAA0ABgACAAEA9\/\/v\/+3\/3v\/X\/9f\/0v\/G\/7n\/tP+s\/6b\/of+X\/5b\/kf+J\/4n\/fv96\/3b\/b\/9o\/2f\/ZP9c\/1j\/Vv9Z\/1L\/Sv9I\/0X\/Q\/9A\/z\/\/Ov84\/zv\/N\/8z\/zL\/NP8w\/y7\/Lf8m\/yD\/Hv8j\/yH\/HP8c\/x\/\/FP8Q\/xX\/FP8S\/xD\/E\/8Q\/w7\/DP8K\/w3\/Dv8P\/xH\/E\/8P\/xz\/Jf8i\/yb\/LP8x\/zT\/Of89\/0L\/Q\/9K\/0\/\/Uf9T\/1H\/Wv9f\/2L\/af9t\/3H\/cv98\/4P\/h\/+G\/4\/\/l\/+a\/5\/\/ov+r\/7T\/vv\/C\/8n\/0f\/U\/9v\/4v\/j\/+f\/7v\/w\/\/b\/\/P\/\/\/wEABQAHAAsAFAATABoAIwAmACsAMQA+AD4APgBCAD4ARwBMAEgAQgBKAE8ASwBPAEwAUQBPAEsAUgBVAFsAWgBiAGkAYQBlAG4AcgByAHIAdgB4AH0AgACBAIIAhACHAIwAjACLAJQAkACLAJYAmQCTAJkAmQCZAJsAnQCdAJ4AqQClAJ0AngCmAKQApgCuAKkAqwCuAKwArwCwALIAtQCxAK0ArACyALcAsQCxALIAsQCxALYAtQCxALEAsgC0ALAAtQC0AK0AsQCtAKoAqgCpAJ8AnwCgAJcAnwCaAJQAlACTAJEAiwCGAIUAhQB9AH0AewBwAGwAawBlAGIAYQBaAFsAVgBWAFQATABNAEsARQA7AD4AOQAxADMALgAuACkAIAAYAAwACQADAAAA\/P\/z\/+7\/4v\/a\/9j\/zf\/H\/8L\/uf+z\/6z\/rf+l\/5j\/mv+V\/4v\/iP+G\/4X\/f\/95\/3T\/c\/9z\/2j\/Xv9d\/2D\/Xv9c\/1z\/U\/9P\/1n\/Uv9O\/03\/Rv9I\/0X\/QP9C\/0H\/Ov84\/zn\/Nf81\/zH\/NP82\/zD\/Mf8w\/y7\/Kf8s\/yr\/KP8s\/yr\/J\/8p\/yz\/Lv81\/zf\/Pv9E\/0j\/Sf9L\/1X\/XP9e\/13\/X\/9m\/3D\/dP9z\/3r\/gP+A\/4j\/k\/+X\/5X\/l\/+j\/6v\/qv+x\/7f\/uf+8\/7z\/xP\/N\/83\/0\/\/c\/+P\/4v\/l\/+\/\/8P\/0\/\/r\/\/\/\/+\/woAFAANABQAHAAfAC0AMQAtADAAOAA9AEQAQgBHAE4ATgBXAFgAWQBYAFUAXABfAFoAXwBjAFwAWwBgAGQAagBzAHQAbABzAH0AfgCAAIAAhwCKAI8AkgCQAJQAnACfAJoAoQChAKIApwCmAKQAqwCsAKgArQCrAKwArgC3ALQAsACyALIAtwC6ALoAuQC7ALsAwAC4ALgAwQC7AMIAyADEAMIAwADAAMEAvwDDAMUAvwC+AMYAwgC9AMEAvQC\/AMIAwgDBAL0AwQC\/ALoAvAC7ALgAtgCyALIAtQCtAKoApwCiAKQAngCbAJ4AmACKAI0AjgCFAIIAhQCFAHQAcgB0AGcAYQBbAFsAXABKAE8AUQBHAEkARABFAD0AOgA5ADAAKgAmACEAGgAWAAsABgAAAPj\/8f\/t\/+b\/2\/\/V\/8j\/xP\/D\/7r\/sf+r\/5\/\/nP+X\/5D\/kf+G\/37\/e\/92\/3H\/cP9u\/2r\/af9d\/1\/\/Xv9Z\/1T\/Sf9R\/1L\/SP9F\/0n\/R\/88\/z\/\/PP86\/z\/\/Nv82\/zX\/L\/8w\/yz\/J\/8o\/yb\/Jv8n\/yD\/Jf8p\/x7\/Hf8i\/yH\/JP8g\/xn\/HP8f\/yr\/LP8r\/y\/\/N\/9C\/zz\/Rf9Q\/0\/\/V\/9U\/2D\/aP9m\/3P\/bf9v\/37\/gv+C\/3\/\/iP+R\/5P\/mf+f\/6P\/qP+w\/7j\/t\/+7\/8T\/x\/\/L\/9P\/3P\/d\/93\/4v\/q\/+3\/8\/\/3\/\/n\/AgAIAAYABwAUAB8AHgAgACkAKgAqADMANwA5ADwARQBJAEIASABOAEkASwBOAFYAWABaAFUAUwBeAFkAWgBfAF8AYgBqAHQAcQBwAHkAfACAAIUAgwCDAIUAkACUAJIAkgCYAJ4AnQCgAJ8AowCiAJ4ApgCuAKgAoACkAKUAqQCtAKcAqACvALMArACpAK4AsACwALMAtQC3ALYAtQC5ALcAtQC6ALwAuwC1ALUAswCvALUAuQC0AK0AtwC3ALUAtwCxALEAtAC1ALgAtQCrAKwAtQCyAK4ArACoAKgApwCpAKQAmwCdAJoAkwCTAJAAiwCHAIUAgQB4AHQAdQBrAGgAaQBfAFsAXABXAFMAVwBOAEEARgBDADcAOQA1ADgAMwAtADIAIQAkABwACQAKAAYA\/f\/0\/\/L\/7v\/o\/+H\/0v\/O\/83\/wP+z\/7b\/s\/+k\/5\/\/nP+e\/5L\/jP+K\/4D\/ev9y\/3L\/bf9n\/2T\/Yv9h\/1z\/Uv9W\/1H\/SP9G\/0j\/S\/88\/zv\/Ov80\/zH\/OP8x\/yD\/Hv8o\/zD\/I\/8c\/xn\/Hv8e\/xb\/Ev8S\/xj\/Gf8b\/xL\/G\/8d\/xL\/FP8X\/xb\/Df8V\/xv\/Hf8l\/yz\/Kv8s\/zL\/OP9F\/0v\/Rv9I\/1X\/Vv9Y\/1v\/Yf9h\/2P\/a\/9t\/3H\/c\/98\/3\/\/h\/+A\/4T\/lv+W\/5f\/nv+s\/6r\/qv+6\/77\/uP++\/8v\/zv\/c\/+P\/5P\/l\/+j\/8\/\/0\/\/f\/\/P\/\/\/wcADwAPABUAGgAhACQAIgAqAC4ANwA8AEEARQBAAD8ARwBLAEAARwBQAEwAUwBTAFQAVgBWAFwAWwBcAGIAZgBqAHAAcABtAHMAfAB9AH0AgwCFAIEAigCMAIsAkwCQAJYAngCUAJUAoQCbAKMApACeAKUApwCoAKUAqwCrAKUArAClAKgAsQCrAKMAogCsAK0ApgCoAK0ArgCrAK8AtQCzALUAtwCzALIAsQCzALcAugC0ALUAuwCxAK8AsgC5ALQArQC0AKgArACuAKkAqACnAKoAoQCjAJ8AlgCXAJAAlACUAI8AjQCEAIMAewB3AHsAbwBpAGwAaQBiAFkAWABaAFUATQBMAE4ASABEAD8APAA5ADEALQAlACcAJAAaABQACwAIAPr\/8f\/z\/+r\/5v\/b\/8\/\/yv\/C\/7f\/sP+s\/6T\/of+a\/5T\/jP+I\/4f\/e\/90\/3b\/df9n\/2b\/Y\/9h\/13\/Uv9U\/07\/S\/9F\/0T\/R\/9C\/0T\/Ov85\/zr\/NP87\/zf\/Mf8y\/y\/\/Lv8r\/yj\/K\/8o\/yf\/J\/8j\/x7\/G\/8X\/xf\/GP8d\/xn\/FP8V\/xP\/HP8X\/xT\/Gf8b\/yH\/Jf8w\/zH\/Mv87\/0H\/R\/9M\/1H\/Wv9b\/1v\/YP9q\/2n\/a\/95\/3r\/f\/+F\/4f\/jv+V\/5b\/lv+d\/6D\/qP+s\/7T\/u\/+6\/8D\/zv\/a\/9r\/4P\/i\/+b\/8f\/0\/\/r\/\/f8AAAUADgAYABkAHQAhACcAMgAwAC0APAA+AD0ARwBLAEsAXABjAF4AYgBjAGMAZABnAGkAaABnAGwAbQBvAG0AcgBzAHIAgwCEAIEAgACOAJIAjwCWAJkAlwCVAKQAqACiAKQArQCsAKoArgC1ALMAqgCuALYAuAC6ALwAtgC7AL4AuQC6ALkAvgDEAMMAvQC+AMUAyADHAMUAxQDHAMkAxADCAMQAwwDDAMkAygDLAMcAwQDIAM0AxQC\/AMEAxQDHAMcAwgDFAMcAwwDBAMIAwwC5ALwAvAC4ALQAuwC4AKwAsQCrAKcApQClAJ0AmQCdAJ4AlQCIAIQAfwCDAHgAeAB1AGsAbwBoAF0AWQBeAFUAVABOAEcARgBAAEQAPQBAADsAMwA0ACwAKAAgABcAEQAKAAkAAgD7\/\/n\/6f\/f\/93\/1\/\/P\/8H\/uv+4\/7P\/rv+m\/6b\/o\/+d\/5v\/jv+K\/3\/\/gP99\/3L\/b\/9q\/23\/ZP9f\/1v\/Wv9Y\/1L\/Uf9O\/0j\/Rf9K\/0T\/Qv9A\/z3\/QP8\/\/zj\/O\/86\/zH\/Mv8x\/zL\/K\/8l\/yn\/Jf8c\/yH\/LP8j\/x7\/IP8e\/xr\/HP8g\/xP\/F\/8c\/x7\/K\/8p\/yn\/Mv87\/0H\/QP9E\/1L\/UP9X\/2D\/Wv9f\/2f\/aP9w\/3X\/c\/95\/3\/\/iP+J\/4v\/k\/+Z\/5z\/nf+s\/7L\/sP+4\/77\/vP\/G\/87\/zv\/a\/9j\/3\/\/s\/+r\/9P\/5\/\/v\/AQAEABIAFQAVABgAHAApACQAJwA0ADoAOwBDAEsARgBMAFAAXQBcAFUAYQBfAF4AYABoAGQAWwBnAGoAZgBpAHEAcABuAHUAewB5AH0AhgCHAIkAhgCLAIkAigCWAJIAkgCUAJsAmwCcAJ0AmACfAJwAmwCgAKEAogChAKEAoACkAKYAqACoAKYAqQCrAKwArgCqAKcAsACyALMAtACwAK8AsQCxAK8ArgCvAK4ArQCwAKsAqwCwALEAqgClAK0AsgCwAKcApAClAKQAqACoAKMAngCgAKEAnACdAJkAmACUAI0AiwCJAI4AiACFAIEAewB3AHIAcwByAGoAYgBjAFkAWQBZAE4ASABCAD8AOgA1AC8AMgAsACgAJgAdACAAHgAaABYAEgARAAgA\/P\/7\/\/T\/6\/\/n\/9v\/1P\/S\/8z\/w\/+8\/6\/\/p\/+n\/6T\/mf+R\/47\/if+G\/3z\/ef90\/2\/\/bv9q\/2z\/Yv9X\/1n\/Xf9U\/0v\/Rf9C\/0n\/Qv89\/zv\/Pv87\/zn\/Ov8y\/y3\/Lf8x\/y\/\/K\/8o\/yT\/IP8e\/xr\/Gf8V\/xf\/Hf8R\/xf\/FP8I\/xH\/DP8N\/wv\/Bf8G\/wX\/Df8T\/xf\/F\/8e\/yD\/Iv8s\/yf\/Kv81\/zr\/M\/88\/0L\/Pv9G\/0T\/Sf9Q\/1X\/WP9c\/2X\/Zv9u\/3X\/d\/99\/4D\/fv+D\/4z\/jf+U\/53\/of+m\/6v\/t\/+5\/7z\/vv\/F\/9H\/1P\/b\/9\/\/5f\/p\/+v\/7P\/t\/\/H\/+P8CAAAAAgAMAAkABwAVACMAIgAlACsALwAxADQANgA4ADoAOQBBAD0APABCADwARABIAE4AUwBTAF8AXQBdAGIAZgBoAGsAeABwAHMAfQB9AHsAfwCBAIEAiQCBAIoAigCKAJAAigCUAI4AjwCXAJIAkgCSAJMAlgCaAJUAkwCbAJwAlQCWAJcAlQCYAJsAnACeAJ4AngCeAKMAqACkAKIAngCeAKIAoQCmAKYAnwCfAKEAogCkAKUAngCdAJsAmQCYAJUAlwCSAJQAkwCRAJIAjQCHAIQAhgCAAHkAdQB0AHUAbABsAG4AYgBaAFYAVgBSAFEASQBCAEYAQAA8ADQAMAAzAC8ALwAnAB4AHwAYAA8AEQATAAsACgAHAPz\/9P\/y\/+r\/3f\/V\/9b\/z\/\/E\/77\/tv+1\/6n\/o\/+d\/4\/\/lP+N\/4T\/gP93\/2\/\/af9o\/2f\/XP9Y\/1n\/T\/9N\/0n\/Qf9D\/0H\/Nv83\/zz\/Nf8w\/y7\/K\/8l\/yX\/JP8h\/x7\/Hf8b\/xj\/Fv8U\/xv\/GP8L\/w7\/Ev8I\/wf\/CP8H\/wP\/Af8E\/wD\/\/v7+\/gH\/Af\/9\/vr+\/v4H\/w\/\/Ev8T\/xn\/Hf8f\/yH\/Kf8p\/y3\/OP81\/zX\/Pf9C\/0H\/Qf9L\/0\/\/UP9X\/1T\/XP9n\/2v\/c\/90\/3P\/ev+E\/4f\/hv+O\/5v\/nP+g\/6j\/qf+x\/7r\/vf\/B\/8r\/zv\/R\/9X\/1v\/e\/+b\/6P\/z\/\/H\/9P\/\/\/\/\/\/AAALABEAFAAdABsAJAAsACwALwAwADEAMwA7ADkAOQA8ADoAPgA+AEIASABMAFAAUABTAFcAWwBbAGAAZQBqAGwAbgB2AHQAcgB4AH4AewB9AIcAhACDAIcAiACJAIoAjgCRAJAAjwCSAJgAkwCYAJoAlACTAJIAlACVAJsAnACYAJ4AmQCVAJoAmgCZAJ4AoACZAJgAngCkAKIAngCaAJoAmwCdAJwAlwCWAJoAnwCbAJcAlwCaAJ0AmgCXAJIAkACVAJQAjwCRAJIAiACLAI0AggCAAIAAgAB6AHEAcABrAGcAXQBYAF4AUQBOAFQATAA+ADwAPAAzADIALgAoACcAIwAkACAAGAAXABYAEgAKAAkACwADAP7\/9v\/1\/+n\/3f\/b\/9L\/zf\/F\/8H\/uf+u\/6n\/rv+l\/5j\/k\/+L\/4b\/gv+A\/3b\/c\/9v\/2X\/Zv9l\/1j\/VP9R\/1H\/Tf9B\/0X\/Pv89\/z7\/OP8y\/yf\/Lf8t\/y7\/Kv8k\/yT\/H\/8h\/x\/\/Hv8c\/xX\/Ev8Q\/xD\/C\/8I\/wj\/Af8C\/wP\/Af\/8\/vz+Af8D\/wP\/\/f4A\/\/3+\/v4K\/xP\/Gf8V\/yT\/I\/8j\/zP\/Lf8x\/zn\/Of86\/z\/\/Qv9L\/0v\/S\/9T\/1b\/Wv9e\/2T\/af9n\/2j\/cP92\/3n\/fv+G\/4b\/i\/+T\/5b\/m\/+d\/6v\/rv+t\/7v\/wP\/F\/8j\/y\/\/U\/9r\/3f\/i\/+v\/7\/\/3\/\/f\/9\/\/8\/\/\/\/CQARABMAFAAXACAAJwAtACoAMAA7ADUAOQA5ADcAPQBAAEMAPwA9AD0AQwBLAEcASwBTAFYAWwBcAGUAaABnAGwAbQByAHUAdgB\/AIEAfQB+AIAAggCDAIQAgQB\/AIIAiACMAIoAigCLAIoAjACRAI0AiQCMAI0AkQCTAJQAkgCTAJMAkACVAJIAkwCZAJgAmACYAJkAmgCcAJoAlQCVAJcAlQCTAI8AkQCRAJEAkwCRAJIAkQCQAI4AjwCPAIoAjgCMAIoAiACGAIEAegB+AH4AfAB0AHEAbgBmAGYAYgBYAFQAUwBUAFEATABEAEAAPAA3ADgAMwAvACoAKwAnAB0AHAAUABAAEwANAAcABwAHAAEAAAD9\/+7\/5\/\/n\/+D\/3P\/Y\/8v\/xf+8\/7n\/s\/+r\/6n\/ov+c\/5X\/kv+J\/4b\/hv9+\/3b\/dP9z\/2v\/bP9p\/17\/V\/9T\/1P\/Uf9J\/0T\/SP9D\/z\/\/P\/84\/zj\/Of83\/zb\/Nv8s\/yz\/LP8m\/yf\/JP8e\/x\/\/H\/8f\/x\/\/Ff8Y\/xr\/Fv8b\/xn\/FP8R\/w3\/C\/8P\/wv\/Cv8L\/wf\/Ev8Z\/xv\/Iv8q\/yr\/Lf8z\/zH\/PP9D\/0T\/Tf9R\/1L\/V\/9X\/1n\/Yv9n\/2b\/bf95\/3v\/ff+J\/5b\/mP+g\/6j\/pP+s\/67\/sv+5\/7b\/t\/+9\/8H\/vP\/F\/83\/0P\/W\/9j\/4v\/o\/\/T\/+\/\/8\/wkAFAAeACQALgAuACsANwA0AD8AOwA2AEgARQBHAEwATABSAFMAUQBTAFoAXwBeAF0AYABfAGAAYABmAGkAaABrAG0AaQBwAHMAcAB5AGoAeQCMADEBKgGk\/9f\/4ACUALUAKgGRAAYAkwC1AIUAnADGAPUAigB1ADoAogC\/AI4AsQCBAOAAYQDgACMAMAExA4IA7f4vAN7\/W\/8dA+oCif+3\/oX\/xgGCAnYA+P\/r\/34AbwFWAGQB0gEDAbv\/ywB\/AfEC1v1r+wAA7AGXBqv+kv29BNH+EgCnBNv+I\/yV\/WsCaAKoAPUC6P+M\/0b9SQI6At\/5bf32Cc4J3P8QA+ACFPQQ+AQHqwD0AbHsQgcuAzGnC+oDZakHsYyt1IMQF0lOVCC\/GsITMvsDAydpJImR6CdYIU\/aYjXJp8zpL1zm7Zq+oApELeLNv+R\/LRT\/neeC9MYZMgcM3U4Tjg7bAP4PUOufBwv38b8sC\/IinQLaB4MAdfmm+n346+Mu+hcfzgB38qsCbABIAdj9LP9oDXH2SPYoC+4F+wVe2p\/x3x0F7HHyIhRi\/Rr+DBRD81Tt0Q6589X7rBAU9UEF+PqW8tUF8gUA9Ez6pB0QANfxjPJk81QDhf7FBhwHoflG+tEAGwDg+4P4DQtJBx\/7VQu5+if8RgMb\/Oj2wu7RAfEFAAUt9+j4Mw\/sB9v71\/4oBnD\/2Qaf9lXyUw22+Ezu0QH0DCwG1\/d0BH4FYPcS\/FTyCftHEIoPUAH\/+e4CAfg3BZ8PWfG29qEE6PRD6jsKjQ7J9y4Gu\/uBCMQVOfvr8IUF\/Ahb8KD3NQu+\/Rr6mwbG\/kQGKPSi+0sXeAMn8Q329wt3BRT\/sP+S9MQEO\/2d+vcQFvuU+IcE8wEDAv8ATgHsAigMrfsE8KsKAQDL9KQHS\/0\/BEP\/2fZIC8gC4fis\/ZAFxgCbAwH9Y\/2FCU38Of9p\/fcFYgJJ+sACkv6NBDv9C\/xJB5QCrfm7Aj8Nu\/xX9GH85gJV\/8EB+wWn91QASQEbAzYIsP5q\/xkBawM++zT+YQGLAU77Of\/YAKD8pQSjARv84fslCO399v06AHgABQVg\/LcDeQHp\/TH8QwF4\/tH\/LAQk9oX9DQVFBHr74vrtCUwC3\/sx\/1n70wAx\/mH+9gN1\/ur+Bvz6+wcBGQKl\/WcCUgGR\/kv96fyI\/yIBlv00+QsCHv4sAxEAYQCV\/F36igX3\/TL9bPusAXkB0vqoAM7\/r\/u1\/K4En\/0s+xwEQPzeAnr+2PdL\/fH\/3AVw+fL9AgWb++L+L\/47\/iABy\/v9\/3MC1Pg6\/NkEM\/4s\/Yf\/Z\/zo\/o39xP+XAsr9x\/2w\/zwEMf\/r\/uEBKfeG\/ZIA5\/qe\/S4D2AIb\/7f7W\/qBBmsGqfhe\/3EG+fqA+GgAewWN\/LX98ALoBPj7TPNkCCAC3vwxABj7nQMQCCP4Afs2CAwAjfrj\/HsBqv5nBrb4Qv37DWf+SvpoAX8GZ\/oV+u8Hb\/wo\/HgDhv2XBAj+8ACNBLz9f\/4m\/\/sAjf5A\/hX+7wTf\/mz+wgVKBWf+SgIzB2r2dgH+\/fL4JQiP\/X36AAQ7BNQAXQCp\/OwCJQEG\/S4IrwAS\/JMEyAR9+sb10gitCGD7T\/xs\/AgGkQLn\/tL9fP+FCMgAdABXAI77\/f\/tAQH\/uP\/FBX8ET\/3d\/rb8SP\/P\/iYHhwqk9ov7Xwk3BaL1lgAsCBv8CPsQAiQFsgN7+Qf+uQ2z++j10QMgDJT\/U\/8J\/Sn3Iwi+BpT+hvyiATsFCP0v+VkEQQRe\/ln+7v\/F\/08DsQED\/oYCzvsBAxQHjv32\/DwA7v\/cACT+5f5QBSv+dQJQ\/pr76QWhADD6gv39B0IBCPvXA1EB\/\/yq+sv\/6gbG+\/D6ggoeABD30QSsAFr7Uf8IAmj9OPxIAXoABf9oAZL\/X\/+QAkz94gAz\/jIAAP18+5UEq\/sYAUoBRfyEAhwB9P9P\/cP5vACHBv\/8w\/n5\/6MDHP\/8+O77owfuBE36NgAw+A7\/MwgVA2D5jvW7Bjr\/OvyLA5z+jvrrA2QBMvZiBf4EDv0M+1X+VwFy\/loCf\/4X\/m7\/MwK5BbD9Efg9BM8Cq\/a4++YBQwHSAVYBgP\/PAi7\/Q\/1eAOn+UP\/QAiD\/xvv2ANQAdwCqAVwAEAZc\/mr33P9tAVYAZwCp\/V3\/kgOQAEAG\/P14+98F+Pzp\/8ADIvvQAAcGif7s+87+OQTA\/3n\/oQLK\/K7\/fQL\/AHgCOf\/S\/YUDYASW+aT8OgaLAtb8g\/woBe0B8QDBAcT\/OwDX\/HUBCgVH\/mX\/JAOx+iD\/3AZD\/zT\/FwMr\/n8BYAX0+838TQb5\/5X+cQR3\/70AhQJF\/gMBJf+8ABAErvlX\/mUGMgF\/\/28ARQHYApYBRf4WAkoBCgFzAST\/\/P4k\/gYE0gCr\/iUEFv9M\/j4AwwA3BAv+2\/4OCKr\/Cvu3AigERPyf\/xkF9f1MAJcCNAEX\/qX\/Nv6fAsoEwvzl\/jkCLASA\/4T91\/5TBYIAv\/mPA94AM\/zWAuUB+vvDBKcDtvq\/AJECVf08\/ccDkP\/BACUDBP60\/w\/\/qv9D\/+ACqf\/R+rsBbP9T\/AYFwAIQ+wkB2QHA\/wf9iP22AnwAXP9z\/Kj+ugF8\/ZIBCwFb\/Tj+GfyH\/+z\/YAPhAcn96v8F\/Tz\/5v9Q\/lr87v4kAzQBRPyH\/zoCe\/2d\/XL9RgEW\/t\/7CAJFAFn9+AD5AOX8xv39\/\/\/\/n\/w8AIwAQf8k\/739mAEo\/VD9zQEw\/4j8BP80Abf+HADH\/\/X+pP6Q\/sD\/EP5BAEX\/ff+cAC4AEf7i\/mAAf\/zkANMA7\/6lAf4Acv3x\/ET\/agEv\/y\/\/7QBc\/wn+4v8MBAAA\/Ppz\/n0GgAC5\/C\/\/fv7NAEwA6ACeASgCef7e\/KL94wBbBZr+nv30A63\/HP\/TAOr+ngSH\/yj8sQMmAND+7gAR\/wL\/hgJvAFn9PwFRAgUDPQDq+6sCIwZC\/Zz8gwLMAWD\/1f+oAAACIAB0\/9kAy\/\/M\/yUCgwL7\/fwBkQEZ\/24CtgB9Adn+7\/6EASX\/JwB1AzkEaf+Q\/9EASv9rAOD\/eQEi\/xsAkwSG\/0H+8QJBBNv\/fP\/yAdT+Pf5lAVoDov4AAZ8BIAHGA1P+IgBpAY4A2v8hAVsAHgD2AJEBQwDI\/04E8\/+2\/h0BmQB3AD0DCAFH\/1j\/xQHeARX+4gFtAED+2wGRAtn9gwGYA+L+PABFARH+TQA6A3sBXf8b\/uoBvQFG\/9j92gC5AccAywBh\/nD\/zQAZAvEB9\/\/a+4EBMgPq\/Of+TAKkAsT+Mf8sAE4A9v52\/ykA2f04AbEAMv9m\/0kAVAAa\/lv\/uQEZ\/4H8YwKAAMX+GwAT\/2QBzvwN\/WkAMQEu\/978NgGK\/6L\/0QEF\/cL+JALP\/gz8QAAQAGL9Sf\/r\/97\/2v5lAM3+\/v6MAFD9uv0\/ASP\/b\/1+AVMAafwH\/\/oAJP6f\/d8ATP8N\/WgAb\/8r\/\/T\/+v4D\/lf+bQG5\/hL99wC3AQf+yvxaAH0APwH+\/nj9ogA0\/\/z9GQH+AOX7\/v+pAfX+af9o\/5v\/DQBbANP9XwClAuH\/2\/19\/woBvf88AJ7+Ov50AZgBKv9+\/isBXALU\/ov\/0gFj\/47\/hwAYAUv\/8f5AAS0Abf9DADgAuQDUAv7\/Xv9jAEUAGQPY\/gX9zQEnA73+cP7VA3UANv8LAef+b\/+PA1YCKP2pAIICBf9N\/wkCpQKF\/xT\/XwK4AK7+EAGBAewAjQCXATACbf6x\/q4DWALP\/sj\/IQHmAEkAZgGQALn+jAHDAjcAIQHu\/3QA3QFp\/xQCyAA5ALEBagCAAI0AZAERASYAQAFp\/xf\/YgNgANj\/GQGbAXMCCQCIADoASv8mAUAC2P97\/wEC6wFP\/6IAigFxAfX\/1v7hAW7\/UQGrAzr\/8f5uAXACZAB1\/wYADwBZAOsBvQD1\/tAAAAEXAMb+DwHGAeoAgwGR\/wP+Ef\/cAnUAi\/4rAGEC\/v+s\/eAB3\/\/aAN8An\/8X\/yP\/qgEHAPT+jf+LAR3\/s\/7nABUATP\/s\/4UATv8a\/xP\/z\/\/i\/6f\/KAB2\/0T\/df\/6\/nD\/X\/+kADMAF\/7\/\/gAAXgD2\/ZX+qP\/X\/pEAHwCk\/R\/+iwGT\/wj9dwCcAOn+vf6X\/i7\/8P8dAD3+Dv9M\/03\/jf6n\/iQBGP+F\/vv+0v+h\/jD+7f\/r\/kEAkv8I\/ur\/pv+Y\/SL\/iwD\/\/SL\/6QCj\/qL+RADY\/9T+CADlAE\/+2v3l\/1MAWv9M\/jwAAQCJ\/2r\/Rv+HAcb+Gf6gAeAAcP\/a\/+T+3P6o\/2X\/aADfADYAPwBFAAYAwf7F\/0gAAAAnAIv\/4QG\/AIX+WgAUAXT\/4P4fAv4B4\/1VAEkB2v4IAZEBa\/\/Y\/hoBWAIcAET\/qAArAY3\/FQC1AQsB5v+lAPP\/Ef81ARIBSAG9AH8B3\/+m\/mEBTQB+ADEBzQBjAf8ACQBjAUoAe\/82AZ4B\/gCM\/wMAagFqAUAAGQBbAbcBOQGEAA4ALAIIANb+MgKQAZj\/5wC1AaT\/1gA3AlIAsf7MAWYDIACTAFUBLf\/6AQwBw\/4uAiIBv\/\/XASEBFP\/CAfMBLAA7Ae0AggBoAfoA\/f+nAGwBxABqAAUB5QDvAFYAnwA5AbwAcQD4\/3QCQQGd\/pcB7wHC\/+L\/ZwExALUAUgDW\/9oBqv+VADYBsABqAKD\/owCiAIcAjP9A\/1IB9gIW\/8T+YgFGAQYAj\/5HAMwAZABmADUAZP+NAFcARADW\/yj\/hAD8\/9j\/pf8hAED\/KwBYADz\/3v8I\/43\/AABbANX\/2v1W\/xMBcf8t\/3cAcf8x\/x4A6P7D\/h\/\/Sf9nAEv\/tv39\/\/4A9v6N\/goAcACa\/uf+kf\/9\/ov+ov8JAJv+L\/\/A\/1P\/7P2t\/2wApv7W\/9v+qv6z\/xr\/uv9S\/43+R\/8VADj\/U\/51\/6\/\/Iv+T\/zL\/m\/5EAPf\/jP4f\/14ADgCK\/tz\/tv98\/tD\/1\/9c\/wUAAwCl\/3f\/VP+3\/+L\/Rf9C\/wUBFAEl\/ib\/JQGM\/3\/\/9v8fABYAbABw\/\/f+swA6ALYAMQBu\/z4ArgBb\/8X\/7ACGAKkAYP8NAV4AnP+JAOH\/swAiAIwAnwAyAFwAmgB+AJMARAGmAAAApf\/2\/3gBtABX\/2IBlAAqAP4AMQD0AAcAUwDhAYgAiv+XAH0BjAANAMIAMAClAK4BfAArANIB2QD2\/64AmwC2AHIA1QBAAZIAXQAGAfUAdAD7ABABJQB\/AF8BCAGpADoBJAGp\/8P\/3AF+AQoAy\/\/9ARAC0P+MANQABwGDAEIBPgFt\/5wAXwH1AE0B7QAwAKkByACs\/\/YAMQHvAEsAMQGBAOYAEwHk\/w4BzABCAToAXP9dAVUB8P9MAfQA9P95AVsAof9dABABGQBSAGkBpwCx\/ycARAH\/\/zsAIADw\/zUBHQC4\/60AMwDG\/6sA\/gCF\/5v\/DAAhAAoBDwBh\/87\/4gBwAF\/\/Bv\/L\/0AB6\/9N\/5P\/AwBgAJX\/4P51\/wgApv84AOv\/Dv9Z\/0L\/\/f\/a\/0T\/GwD5\/tf+vP+n\/0T\/1P6e\/0cAOv9T\/z7\/\/v6Y\/9H+mf+m\/wr\/cv+m\/9T+T\/+o\/\/b+hv+F\/gv\/0v8m\/5z\/Rv9s\/sP\/nv8c\/j\/\/f\/+S\/3r\/Gv\/Q\/iP\/Xv+g\/nj\/h\/\/N\/yX\/nf6u\/7L\/Cf8o\/zf\/Lv\/y\/1T\/xf9G\/6f+NACG\/9b+0P\/7\/73\/4v8x\/0X\/+\/8+\/3P\/FADH\/1f\/gv\/5\/\/3\/f\/8KAM\/\/1P8YAXD\/gf8wANr\/KwA+ALT\/gf9JAOL\/DwCxABQAxv+aAAAAz\/8AARAAtf9JAREAWP+DAWsAUf8YAeIAq\/\/c\/yMAMQBDAUgBfP9VAHUBNgBHACMAaQDYAAkAmgAOAN3\/kgFGATgAQQD1AM4AXQBZAL0A6gDB\/5IAQwFUAG8AhgEVAe3\/0gBAATIAKgAEAXoAiAD3AIEA4QDwAHQA6QDTABQBiAD9\/zwB+gA0AFQAbQHzAHMA2ABPALAAVAHZACIA6gCHAWsAGAAiAT4BeAA4APAA5wB1APkA0gBwAAsBWwFiADYAlQBwAMMAGwHxAKAA0ACWABcBqABPAIQAWAA4AUkAXQAOAVAApADYAGAA0gArAJ3\/qgD+AF4AWACOABIAuQALAVMApf83AMcAz\/8CAAcBnQApAPn\/+\/+aAE8AEQAiAD0AWwA1AKD\/jf9eAFUArv+v\/1YACACY\/wAAr\/+M\/9\/\/CgA\/APr+M\/9VAMv\/f\/+x\/zkAXv8I\/93\/Mv8Z\/xIAOAAS\/5\/+EAAGAIb\/SP9B\/9v\/Nf9A\/xj\/Mf+e\/6r\/uP8Z\/5D\/lP8o\/+r+P\/\/n\/1r\/L\/8o\/1L\/0f89\/xT\/tf+d\/xj\/zf5t\/1r\/F\/95\/0P\/r\/\/k\/1j\/I\/+V\/1n\/c\/+n\/y3\/y\/\/H\/1v\/Fv\/L\/zUAd\/+B\/9z\/BQCo\/4b\/j\/94\/8H\/AABf\/8L\/ewCz\/+H\/HgCa\/9z\/4\/\/P\/3cAKAA2\/\/\/\/7QC6\/xQATABr\/4EAZQDh\/6YATADN\/3sAewA0APz\/bQBMAC4AUABgAO4AQgB6AIQAxwBwADoA9ABkAEoAWwDkAJIAGwDVAOgATQBnAMcAmgCpALoAmwDPALwAgwDoAHMAoAA0AesA0gCyAMoAlwC6AN8A+ACtAKYA9gCSAD4BqQDIAE0BoABDAe0AywCvAMcArgCsAE0BkQD8ACQB4AD4AM0AwQCvAFIByAB+AHUB7QBdAD4BJgFiAAsBbgGnAKoAEwHaAOAADgEZAXwAygA2AZ0A1wCPACwBdAE\/AIMAHAEXAcYAtwDjAKcAtQAGAcMAbwCnAAIBsgBiAPYAswCyAB8BUgAYAPUA+wAmAG4AhgCBAKoAjABVAEsA8QB7AMP\/TQAAAW8ARwA4ABoAtgBgAAkAPABuAEMAKwA7ACwAHwAaACIAAwC8\/xgAYgDe\/7v\/CQAiAJv\/n\/8nALH\/Xf8XAM\/\/g\/+3\/7T\/4P99\/6X\/z\/+R\/2T\/p\/+L\/xD\/uf8OAG7\/F\/+U\/9X\/c\/8H\/5v\/y\/9G\/6H\/Yv8a\/43\/XP8u\/7P\/fP9N\/4X\/0P4w\/\/f\/Fv8N\/6v\/QP9D\/4D\/Sf86\/1P\/N\/8q\/1L\/Qv9V\/1j\/Zf9B\/17\/qP95\/3T\/SP+g\/5T\/R\/85\/2H\/3P+p\/2v\/jP\/b\/8D\/Q\/9m\/77\/ff\/z\/9n\/jv\/U\/7\/\/7f\/K\/2f\/3\/9dAF\/\/rP8DAJX\/KgBCAPP\/FQAXAL\/\/JAAUAOT\/PQALACAATgATADMAUwAsAEkAPQA5AIoAEAAdAIAAeABXAE0AvgA\/AGUA0gBvAAYAcQC5AG0AdwAyAKkA0wBNAGYAswBhAGUAuACCAJAAvACGAI0ApwCHAMcA8ADVAF0AlgDyAMUAWwBkAPsA5ADAAJ4AuACbAA8B1wBqAOMAlADoAPIAygB\/AMoANQFaAIMABAH3AKMAYwDyAAsBiwDQAPUA2gCuANIAuQC7AP4AjwDDAOMAjgCSAA4BzwBhAAwBHAFIAIAARgHQAH0A0wCmAM8AxgAnAIIAFwGnAE4A9gCOAJgA8QCBAKEAZQC4AE0ATAAKAU0AKACEAGMAdACTAIAAZABfAEUALgBFAHAAKgADAKwAaAAXAEkATQD\/\/x8AdADG\/y4ADgDT\/50AAACw\/0sAGwCX\/9P\/IgDT\/5f\/vv\/I\/5z\/qv\/A\/8f\/x\/+k\/3f\/fP\/Q\/27\/+\/5\/\/9D\/df9O\/4b\/x\/+O\/wX\/Gf+E\/47\/RP8c\/zb\/Zf9z\/1T\/7f5z\/6n\/Qf9E\/xD\/P\/81\/1j\/8P4A\/8T\/VP\/Y\/jH\/b\/8E\/zv\/Zv\/1\/iD\/Yv\/o\/sr+UP\/D\/xr\/tP5f\/1L\/L\/9I\/zv\/Fv84\/4D\/W\/8A\/xL\/Zf+Z\/3D\/OP9d\/4j\/nP89\/1j\/rf9c\/4v\/qP8u\/67\/8f9X\/4r\/9\/+2\/zj\/qP\/Z\/4\/\/yP+p\/9X\/5v\/K\/8T\/4f9RAN\/\/1P8LAMH\/\/f8lAA8A\/\/8JAAAAEgAhAOr\/LgBVACQAKgArAIcAdwD6\/0YARgBdAHsADABgAKkAWABDAHgAMwBkAJUAMgCUAG8AZwCmAHMASgCKAM8AbgByAI4AkgCEAIQAnQCVAM0AvgB8AJYAtADXAMAAjAC0AMsArQCMAM4A2ACSALYA4wCqAMEA5QCDAJ0AHAHTAGcA7gDCAKAA6QDEAOMAygDcAJsAwgDaAHoACQH4AJgAyQAWAcwAdgDAANgA9gDgAJkAoADpAMoAqQDaANQAyQC4ALMAsgDbAMUAjgDvAPYAaQCIAJgAvACyAJcA5gCoAKMAqgABAUUAEwASAagAQAC1ANMAtgBaAOwAvACH\/X0AxQOCADEAiP4V\/hEDbAJg\/jj\/awC5AMcAwf9LAMr\/GQGcAB4BDP8FAMf\/tAC6AaX5\/gIVAwMC0flk+6gI2fzlAMcApP07ARsAg\/9C\/4UBl\/xYAJoFvf2e9hH\/tQSx+8n\/JgMuBYgER\/YY9+sBkwCpAAECF\/6q+Uf4EfFD\/swtuQ1330kWq\/pD8uICSPVDJ\/XEGKOwZT9AAYBn9bsn2wv6YkTl04j5KywzmPs1THGoPq3wdxHibsKyaorL2K9qbVvM8NaCNA2hsOWgEqHxQvV14pzr0cgN8ev+lu82zqDDxRhp4ivsXAxu77\/q79Fl6wce08F8vWsuhNqB06P7A\/pF6tPfSekP8df98d\/43Q3vCemJ7rL0Y\/rABQXNV\/em3KvOeCuO4IXJFBhR8ibFKgUUzvfeVRIT9mzo0tpF9kLwxu+l7A7w19194TrtRP2g+47gxwot\/bup2e9QJ\/rQOfWmCTrOpMycBCj4JOlw\/gP7L+1s37AJ+NqU5537rt7LBowD\/M5A1U8SkeuD9hr2OODx\/m\/xiPkp7G3gpeaj50H7Tf6P7Yr3TfMZxsULqBQUun4FZAYqx50FruvUwjwNURIw6w\/yRd+\/6qYBvvUJ6mjenPes8djWpf9V\/tLa4QDy947WgfsX+czkAv+z64PhLAjQ6hDohhMf08bI2xZk5UDWBRax5RDdvhFP4wHoMhe15S\/f3fxj1f3rshbo5\/3pSAWa5BTwNwv26oPtPgS055\/lT\/go9Z36Rfz46+flcvKY+ZL1EvFb8x7gJ\/ZI\/eLglQnK+J\/bU\/\/k6qjcXg8j+jveC\/\/k8wXs+PiM+mLtLOjW+c\/2JepY9ZDsdOZ+A4j2oe+z+CrnMO7u\/ZnyZ\/Ry9vjpfu1k9+j56O8a9abzGem79NH\/MuzF8T\/8XeFi+R\/\/neOx7wv1gfMN+an2JPIp8kf2gvg68nftIfRC8wDzgfBP8372SO0E+s37Le827VL5lO8363oGTwJC5hHrt\/t57PLwJPey63\/3FP\/1+1Lyg+dN+u4CAuwA6invgvEkA8j37e4y8Yn1rAOm7Szv9AR96RTw7QHU5iH1BgDT8tvxZfex+fXzB\/cM+\/nw5+1\/ALj11\/DD+eHz6e32\/RD9VOhh+dv7IPxb\/FHrI\/QR\/pntHfoPAIvoYPZr+Rv0YPsJ+Uj6yvMi90T7Lu6Y+MP\/yOy4+S7+lu7092X5J\/wb9nH0SPiF7D\/8PgP87y38+\/eY7hgBu\/BS820GQfij8Kr9Mfac6UcCGvoX7N8F9\/fZ6Pb91\/1i8Bf5AP7c7634TwDa7D746AHx9I33KPL6+4D+OvP691v3BvXn\/Yv9ce0L92\/8VPNl9lAB2Py\/9Af1WPjK9zL0NPpN+Xf5+vSgAPr3UvU7CqPyRu1K+a35y\/679Erw\/P2A9dz6Egdw6pzxhAaQ9Z36FvhK8RoEUP1J8+\/yDfmrAu35wPRE\/Ab0cPJf\/qj+ZfYD9bP6uPht+yD0Uv1V\/vvy7\/bg+uD+vvu78ArwPvhEAef70\/Ft\/Yv6WPeS998C+\/Ku8RsEYOnh+Uv\/kOq4CMT\/kuyBAX7\/Iu0y9XAIpPAv6S4Izf+V8Xb6nPbmAH32s\/bN+RHxywTO+SH1U\/gu+4sAFfhV9xz5\/PQ291P9Mvzk\/cX7zPVC\/gv9KPJQ\/UT4tvQa+Y79R\/tw88oC0\/qW7\/EEcwK9768CJvtK8Lf4Hf0AAHP2Dvh9\/Xr4k\/SdCaT64e\/MBkj8kPU7\/Fj1HvkS\/m38tPzp+Zj++v1c+a75Wf7v+Wz7tPhG\/D4HGu7o8wwJ1\/yl+rn7dP9O+uzyAAHt\/fH+OgJx6mf0xAuuAcH4JPlK+wwBU\/4l\/Kz+IvSH9x8B1\/p5AWv7ffB+A64B7f3oAdT0sfr1AIH50PnZAhn5U\/fgBc37H\/1W\/g\/9Rf3C\/JsCofol+VX3HP5HA+n9tvpy\/ST+n\/tM\/bD9d\/8\/+3EDn\/1B+jn+Bvs4\/0P+WPs5\/RUDkPXN\/wYFsfdk\/UT92\/mL\/0UHzfhI+lkAYPpYA\/f9CfctCaH90\/PqB676i\/dAAi0BwPr2+kUBRfsUAUv+gfw4\/aL6XQSv\/7j5+QGkAAH64gBG\/WD4R\/yMBLcA0Pi\/\/6AAjvzX\/DgDoP2z\/tT7RfhZAg7+zvsgAsb+gPn8Air9e\/tfACX9VgFw\/737VPuuAFYAJP91\/Rb93flI\/dIBaf\/f\/pP50vqUAXgFzvmd\/OsA2vr4\/Gf\/CwDS\/LX7mP0OADwBU\/rn+YACMfwT\/rL91\/of\/ZkAwwAh+sb+xv+S9oP\/wAZP9awAdgVT9Ef8igB3+lgFafq2+GUJhPN1\/AoG2\/eQAbr\/Gfd0\/aQD6fkn\/oED0fWDAfUDPvPp\/noCdvuiABH9avx8+lcBhgcR+qX3gfsgAfcBl\/tz+yn9u\/8xAq7+Wf0V\/+n8mgCh\/ej97gAY+UkBv\/5O+OQDff5X\/pgE7v1n\/zj78vZoAEQCywAyADz+c\/9O\/Q8CQwEz+4H91v\/UANv8vv9YAqAAQv3P\/qQAXQC5\/7f7kgDK\/E8CcAM2+JABtwbj\/Qv8bgDl\/iABagGD\/S7\/nQOI\/ez+EgSi\/Mj+DgbE\/mf3dAa2A4z8KQAbAGgCevhuAXcMyvjP+UUHtACC\/Y0De\/+c+j4GPAIr\/uMEr\/3A+1cEhAE4APT\/U\/tDAxQDWwH9\/8H+MAG3ABoBmwLoAjD9DwEnAOD\/6ASb\/oX\/KAOKAcz9aACmA7X\/IgCoA\/j9wgByBpT\/M\/+5AK8Anf4oBAMFG\/zm\/14HzgAu\/PEBPv63AAkGOP6Y\/tUFgwKCAp0AHv+aA5v9Df98BYn\/ggCFAy8AHgDw\/vcEuwGKAMoC3\/szAIkF2ABO\/vEE8v\/4\/4sCtgBdAjX\/TgN7A+L7Sv+zAsT\/WQLOAB0ADQLLAPEBQwNxALUBxQDA+zAAlwOKANsCEgN8+1ACqQWi\/f7+2gHfAP78BwFmAlP\/8QP7\/4X+zARb\/zP92gJe\/kX+RQIIAYABcgFnAYkABv96AGH\/wgD\/AtT8p\/+4BL3\/bvxmAgMEaf3\/AKMAmgCJAuT9lALM\/W3+wgZ6\/YX8GARQAt7\/8AKK\/TP8MQPuAYoBmQBw\/\/L\/QwG0AKkAAAJd\/nIErAIZ\/EUCJQJ3\/zoAngEDABEAdgMFAt\/+9v\/+AToCJwCTAvQCCv+HA3ABmf1FBJkE7ftTASgFhfxiA4kEJv+bAncDNAGb\/\/UC3AHxAvUCL\/waBGEGaf5ZAhEClwFxAyUAcQPsA+v\/YQHPA58CaQABAzkEBALkApgBYAClAb8D0QR2\/8ABhwZ4AloAGQKwAEAAlgXBA0sATAM0BckDTwBFAQMFTAL5A0kChP4ABLcCGgM+BAQC0gIYA9kBLwZBAo\/9JAZmAor\/SAhOAuv\/nQYhAS0DuASPAd4A+gE8BDcDogMHBIQBcgCtBiMFqQHlAIQCsQZtASEC8QMqAVUD4gLvAdoDlAM8AjgEJQSLA9oDXgFYA3YDkAJwA0cDpALpAAkFPARxAVQDrALUBE8FDgD1ASEF6wDNAUYEQAa9AhgAlAaZAo\/\/GQSQArcCxQQIAk4EuQTO\/ksDPgWOAUcEXAGTAU8GWwFaAp4DGQHpA74C2gGBAxEElAGdAWAEbgIyAhcDJQOVAgkBuQOVBAkAJgNuBX7+QQJZBfoAqQIKAe8ATAXOA6T\/pAHEBGIBoAFPA9wBtAJBAQ0CBwLMAb4EQQBU\/xsFWASDAT8B1gFwAVQCowSRAIsAjgSVASD\/FwVgA9v+YgSxASoAmAIwAoMDNwI2AUcCnAAVA1oDIQE5AjUBMQLxAbICeAKeAkwD3AGsAAMBcARtAxn\/yQKRAv8AaAXwAG8B9QMvA4sCTgEpA1kCMQJqAg4BIQPhBOMCdAG+AXoDEgI9A9sE5gCTAa8EnAJpAzgEpf+WAp0ERwIaBGUDrwE8BNAC5QFXBWYC5gHOBfgBTwJQBu4BnALRA5gCcQTTA6ID5QKqA5MDtgE7BBMEGgTvBLQCwANeBKkCEAQqBEcBoQRuBpMBTAKuBa4CwgM9BYcC1QRMBFUDeQR1A\/gCcAMUBQsFBQOSA3wEGwOzA1kFtgKvBEMEAAI5CLIDtQEmBRQD5gNTBOQEKQTFA3AEKwR6AhcEUQbaAjcD7gW7A6MDqgRBA8cDWQX3A6UEvAVpAp0CNQQLBbgEPgQ0AwcEzgWfA7EDtgPmAz0E9QOwBL4FyQSuAh0ElwIZA4oG9ATjA\/sDYgQOA08DDAU\/A0kEKwWsA5sDMARABJEDYwQDBQYD9AJ4BcUDDgKTBEIELAPHBP4C3wJ7BTMDXwOgBYcD1ALTBN4DCgFxA70FxAPvAg0DzwOkA0cEjgSIAn4D2ANKAicDuQMlA1cCVwNbA2oE9QQwATEEdwQyAIUDJgQTAkcDLQLMApME2gLLApYDowKGAnUCZQNFBCACkwEfA\/QChwNrA8oBiQOyAy4CHAJTA8ACowEyA4oDWwPcAXsCCQTVAkMC3AJJAwQDjAHfAOEEoAOtAPcDlAKgAlkE+ABQAq4EkQLAAcgCVAMbA5ECqQKlA6UCYALaAysEdQLUAa8D2QNzAuACzgMAA68C3QNwA5ICDgQOAZMDeQaAAb8DiARBAgADJQTkAl4DwgRlA9gD9gJ+A\/0DtAIIBP8EtAM8AxEEUgMJAw8FTQTRAnkEZATIAo4DCwTAAzgFMAQuA3IEigS0AzkElAR7AqIEOQYKAqIDjAaMA5ADPgRsA2UEngT2AzgEWQR+A8EE9wVABLUDogRxAyME6gQ4BFoE3gM9BUwEUwScBQwD6wM+BtYE1AOOA\/0DRQXnBHkESAT1A3gEGAViBC8EDgXTBGsDVwR4BVAEOAQIBSAFmQNsBLEFdANlBAwGogICBRwG9wEZBcoFogT+BEMDxATWBJUDxwUnBSQDUAWSBHsDZgawBAsDEASxBPgEzQS6AyIEYAXSBOQEigOmBJQFRATOA9MDzgMcBAcFFASjBGEFFgSvAzMEbgTMA9sDeARRBK4E7gPfAwwFkgNTBMUEVgO4AwEDJASjBYIEXwOFA3QD5gQCBawBugTEBEIC1wQfA\/kCKwTnA5wDjwQXBIoBiAP5A2ADWwMFBAgEjwIEA08EtAOUAhoDawN+A2oDLQPaAh4EVwJZAqQEuwLLAowD7AKGA4QD0AI2A70CJAPbA8YC5QKmA48CMAL6A2sDFQM\/A7kCXwPdAqsCOgMbA4wCHwMIA+oCdAMAA+oCZgM7AygD0gJOAvoDoQM4AjUDmQM0A9ACgAPMA1ECNQOYBOcDaQJ1Ai0ERQOgAiwExwOjAoEDbQN9A\/sEZgO1AkoEWAOMA6QDKgMfBE4EpgNkAxEErQNkA+ECmwRABfYDTQOBA1kF6QM1BKID4gL9AzADjAWgBTUDCAQHBboD2wMIBB0E\/ARsA10ELgVeBHwEJQSrA4oE4wR0BLAD2AJkBeoFGgQoBOgDJwQvBQkEBAWsBN0CegUABXAD1QQ7BZ4ErwQ5BOwE0AStA\/8E+AQlBAAFsgTMA\/8ECAUDBCIF+QTiA10FpgR1BKcFWgTqA5UEvQQiBXQEcwOJBVAFqgSzBE4E4wSfBO4EewTxBOUELQTrBAYF5wT\/BN8EGgTzAxcFhwWCBKAEpAQNBEMFmgVeBEQEEwW\/BEsERgQFBW0EEwTuBcgEbASQBO8D8wQFBVoE9wOYBOYEHwSLBHYE7APbBLAE5QTYAzQE3gTIA8QE+APlAxMFEwSaA1AEEwQxBe4DMQMwBZwEKgPwAwoFgwNfBMkDKQP9AyYEdwSbAzgEBQSWAwUETgM3A80EZQMOAsQEfATqAmgDNAOPA0kEnQPrAjwDBAMKA+8DnwN\/A8UDGQOJA2wD1gKdA\/cCwwLAA5MDTgNUA8kCPwN9A+QCJwS1A7oBtgKPBAYD7ALFAx0ChgOOA\/4CrQOAArYCOwMmA2sDFQT9ArYCtwP0AiUDhwKvAgsEOAMwA80D+gI1AxEEEwNiAygD\/wLtA9sCcwMsBHADZQPjA8QDHwN8A3sDZAM7BB0EaQOiA6EDXANTBE0E2QK2AygEcQOSBEcESAM2BHUE1wMXBNADtAOXBNkDyAOPBAwEBgQaBIUE7wMgBBMFCAQQBLcEMQTxA5EEngS\/A0MECwVFBK8E7QMUBNsE0AOhBAYFeQPAAw8GIwRUA0gFbQRuBKwEKwTFBLkEZwSCBBAECQUdBewD6gRcBdQDQQQ9BU8ETwSIBPEExAR+BJUERgTQBLoE1QTDBCUExQTNBEwEwgQ\/BHAEHQV+BP0E0QQkBKgE8ASgBBAEnwTrBGQEtAR0BLkEMwUCBJQEdQVEBHAESQUqBBYESgWsBAQEiASUBHQE7AS+BK8E4gSeBF8ELwRbBDcFPgTKA2AFIgQqBHYFdwQnBBsEYQStBAwEuARoBFQDgwTLBEMEGQQDBKUEXAS7A3wEugSKAxkEPARXA10EYwSNA2gEmgScA0cETASHA0cDLAR9BEkD5gOwA2oDmQTkAyMDdgOZAy0EXgPxAukDbgMpA58DawOfA5EDrAJbA9IDWAMKA6cCawNUAxkDpwMKA7cCRAN+A0gDAQPoAh0DMwPsAlMCVQP4A6cC5gJVA1ACKgMZBEgCOgKXAxsDswL+AogC4wJ2A8ACjgL6AtECGQNPA24CVwL0AjgDxQLhAhgDlgL5AoQD9QKuAvcCvAJBA0ADxQImA4UD5gKEAs0DlAPuAh4D5QI2A+AD6gKpArQDTQNZA6cDSwM9A7oDyAMqAwMDyAOnA10DrgOQA+ADawPaAscDQATIA1gDqgNGBIQDmANdBMoD0APrA2sDoQPUA9QDDgRmBOEDxgOLBP0D6QNABOwD2QMLBB4ETgQXBIoDQgQoBOgDfATNA7IDyAR9BOUDDwTHA1UEowQNBFEE5wO7A9AEVAQjBFsE3AOEBKwEEARNBD8E\/wO9BEYE6wPIBD0EGgReBN4DRQTGBIEEVgSNBO0DqwPQBGMELQR7BAAEWwSqBHsEIwR6BDsE3QPPBFUEoQNuBHwESQSOBDoE9gOHBLQEQwTqAwoE6ARCBKEDXAQ4BGkEpQTzA8cDbwScBBMEDwRIBNAD9gPNBN8DuQNDBP0DmgQKBNoDEwTnAxEEHgS1A30DSgTsA5sDHQTgA70DBQTaA7YD6QPtA4oDuwPfA8IDmgNeA9QDsQPMA3IDVQPQA2kDZQO+A0kDwQKvA6QDGgNpAx8DFwOTA0QDpwLHAikDZQMdA6wCDwMiA7YCAQP+ApkC6AIRA6ACtwKyAqUCswLMAswCowLUAmcChAK1AuACxgICAqECFQNBAl4C5AJyAl0CXwKbAocCxAJZAvMB\/wJDAh4C5AI0AhUC1gI3AjIC3QJZAiUCwwJFAskB3AKkAgoCWAK\/AkUCcALYAigCiAIRA8ACLgKaArMCOgLgAgQDhgKhAt0CiAIKAw4DDQIcAxUDVAITA\/kC6QJsA5oCXQKvA+8CwAJxA\/ECFgMpA\/YCcQMpA7cCiAMtAzgD5gMdA+ACfANIA0IDmgNPA3wDtQNlAzgDhwOHA38DigN9A5gDhgOaA6UDdgNVA8cDvwObA6UDWAOQA6wDCwSlAwMDtwPXA9YDpwNIA9kDCgSDA6UDAAR\/A\/IDCwRTAxAE+ANaA0MEMARBA90DHQTCA64D1gPJA7MDQgTYA0gD\/gNZBLkD2AMgBLoDwQMUBAQE2gPnA7MD0AM0BMwDdQMOBA8EzAP2A7gDKgQ0BLgDEQTbA58D9wPlA90D8QPQA9kD0wPXA\/MDzQPmA\/MD+QMQBJkDtgPoA6ID3wMaBM0DtAPgA4YDmQMQBJoDjwPjA44DhwOHA7QDzwOLA54DfwOnA7IDYQOKA2wDOQN8A4wDNANmA5IDXAOVA00D8QJPA5MDTQMvA2MDJAMIA2UDHAPNAi0DEgMfAwkDmQLrAiMDrwLGAtkC7QLvAloCyALNAmYCnQKgAokCmQKMAmoCnwKcAmwCYAJqAmwCaAJoAiUCYwKIAm4CfgILAjMCtAJYAg4CIAL6ASUCeQJ4AjcCQwJHAvEBSQI\/AvsBWQIYAggCCgLdATwCYgIyAvEBPAJRAgECIgICAu0BJgIZAhsCSgJoAjMCIwJOAjUCWgJtAkQCEQJwAogCNwJoAkYCgALGAngCUwJ\/AkwChQL6Aj0CYwLjAqkCwgJ5AmQC3QLFArkCxgKOAvACyQLAAhUDqALVAikD7ALgAugC4AIlAyMD6QIcAyYDFgM5A9EC4gJgAwsDDgNmAzwDYANRA\/wCTgM1A1MDIwMTA2cDSgNuAxAD+wJkA7oDUwMvAzUDLAOWAz8DLQN3A2sDhgOMA5YDiwMiA2kDtANoA0MDfQOjA50DlgNhA3sDcwOXA7UDYwN+A4sDVgNhA8YDvQM8AzADuAPLAy0DeQOkAzoDqAPAAzMDjAOKA0QDxANxA2MDogOMA2ADigOqAzEDfgOzA1kDWgOhA3cDbAN0A1ADdgOJA4ADZQNkA3oDQwNbA3sDFgNBA8ADTwP8An8DWQMyAzwDGAM+Az0DSQM0A+4CMwM5A\/QCGAMjAwcD8gLqAugC9ALrAhsDIAO7ArYCFAPpAo4C2wLEArQC2wLZAtgCdgKoAuMCXwJ\/AtsCTwJvAs8CYwJEAkcCcAJhAkgCQgIrAkcCNwInAj0C5wHwAVsCxAHeATAC4wHhAewBAwLnAe8BxwGwAeABwgGfAcEBygGyAfIBwAF9Aa4BrQG6AagBqQGWAWsBnAGfAZUBnQGhAXgBegHQAXcBOgGmAYQBfAGWAVoBhQF9AXMBgAFfAYwBbQFbAZsBaAFhAZEBlgGdAXsBmgHYAZYBmQHmAZUBnwHXAbkBqwGxAewB6QG8AcgB\/wHeAe0BAgLQAegBAgIMAvcB2wEGAjsCEgI4AisCBwIvAhICKAItAk4CggIsAhYCjwJLAikCigJGAjYClgJ\/AlsCnwJVAl8C0wJ5AmgCuwKHAn0CrQKRAsYCwgKSArIClwKWArcCvgKiAqkCtAKIArsC5wK7Aq0CrwLSAuUCuALHAucCvgLMAuoCzwLhAtkCzALYAs4C9wLrAuIC5gK+AhQD\/QLCAgIDpQLdAj8DmALgAiwDmwLuAjIDtgK7AvECCwMKA9IC4wLdAtAC2QLQAvECBwPjAvMCFwPoAr0C3AINA+oCxgLEAswCDgPuAr0C\/wLhArICCwMOA7YC2gLXAq8C1QLeAtoC1wLSAtACywKxAqcCxwLAArICugK9ApcCmQK3AqsCtQKSAooCmQJ+AoICfgKcAp4CPAJhApYCYQJgAlICWAJfAmUCUgJKAlQCKAJNAmACKAI8AisC\/QE2AkQCCgL4ARQC+gH5ARICvwG7AQAC5QG3AcwB8wGaAXsB2QGrAXUBpAGqAXcBqAGfAYIBmwE8AXwBoAFZAYUBWQFNAYYBUAFnAXEBHgFuAXgBLwFKAU0BPAE5AVMBUQEeATsBYAE4ASYBKwE2AUMBAQEiAWkB9QAbAVkBCgEkATIBHgEfASUBCAEPAWcBJwH2AE4BTwE7AToBPgFGAU4BegFyAUkBUgFZAXsBgQE+AW4BqQGCAXIBgQGFAXwBkwGoAZ8BmgGmAasBoQG\/Ab8BqAG3AdAB6AHEAbkB6AHvAeoB7gHZAeMBCgLvAf8B+QEAAkcCAAIIAjgC8wE8AlECCwIdAiYCPQJRAjkCOgI+AjACXwJiAkkCRwJYAk8CRgJcAjcCUAJyAkgCVQJ+AlECUwJ6AnYCaAJlAnMCcAKFAoACdQKGAmYCawKpApACcAKWApgCfQJpAoICngKWAoECiQKTAmwCqAKaAl0CrgKnAmQCmwK0AmwCjQKjAnsCkwKSAn4CoQKkApoCnAKDAp0CnAKHAqUClQJbAngCvQKmAp4CkwJ8ApgCiwJ4ApICgwJaAooCpAJ0AnUClwJ+Am4CigJwAmICewKLAnICQAJnAnkCRwJIAmYCXQJgAloCNgJVAi8CJgJvAjAC+gE1AlICGgIdAjQCBgISAjICAAL4ARsCAQIOAgUC6QEIAvIB3QHpAQQC8gHAAckBzgHcAbgBlwG1Aa4BjAGbAa8BeAFtAYwBjgFiAWgBfwFJAWUBaAEXATEBYAEjAScBSQEjASwBHQEEARwBDQEXASUB+AD6ABcB+gDmABMB9wDSAP4A\/ADlAAIB7ADEAPsA9wDRAOIA2wC1ANAAAAHcAMkAtADAAOsA1QDCAMQAzADTAM8AywDEAMYA3gDmAMUAyQD\/AP8A+wAEAfQABQEOAfoA9QAcAScBFQElAQ0BHgE0ASsBOwEnASQBKAE1AUABQQFIAUsBWQFdAVcBVAFiAXoBZgFiAXIBhwGsAWYBdwHCAZMBgQGjAb0BrAG3AbIBpwGxAc8BxQG2AeQBuQHgAfkBzQHbAc8B7AH+Ad8B4QEOAuUB2wESAuQB7AELAugB7wELAgcC9QHpAQsCGwIBAigCDALsASwCMAIXAhgCGgIrAiMCBwI4AjACHQI4AhcCEQIvAkACIQItAjMCCQI2AjICHQJSAiICEAI\/Ai4CKgJGAh0CBQJZAkICBwIvAkcCIwIXAksCJQIVAlICJQISAjwCHAIjAjoCKAIpAhQCIwI8AiQCLgInAhkCNgI3Ag0CBwIiAiQCHAIiAhgCFwISAhgCNQLqAf0BMwLuAfwBAgLoAQgC8wHIAQcC9QG9AfEB8QG7AdAB6QGvAa4B1QHQAbwBtAG3AbkBqAGeAasBlgGSAbYBmwF5AZEBmQGLAW0BZwF+AWwBSgFEAU0BPAFEAV0BGgEQAToBEwEGAQgBBAEHAfYA6gDnANIA6wDoAK0A6gDeAJ0AwAC5AKcAvwCzAIoAnwC7AJkAmACtAHsAjgCxAHsAgACHAGwAiAB+AHYAggBwAHQAbABvAGgAaABxAGIAVABeAGgAXQBoAGMAVwBcAEsAVgBoAEgAWQBbAFUAawBwAGkAcwCQAHcAZgCEAIoAgACdAJQAjACsALAAlwCYALUAqwC0AMUAsQC0ANsAzgDNAN0AxADfAPoA1gDnAP0A6gD3AAgBBQEJASEBDgEQASwBJwE1ATEBLAE+AUABNgFRAVQBOgFTAWEBYgF0AW0BZwF9AXsBZwGGAZ0BhQGHAZgBjAGEAZwBkQGRAa0BmgGMAZEBoAGmAakBqgGyAakBnAHEAbsBuQG8AbsBxwG9AcIB3wG\/AbwB7wHBAcoB7QHRAdAB6wHkAdgB1gHIAeAB1AHTAdcB3QH3AdUB0wHyAecB7gHlAdYB7QHhAdIB+AH5AcYB5AH+AfMB5QHWAfcB+wHiAe8B6QHiAfcB4AHtAfgB2QHhAe4B2wHsAfIBywHuAesBywHmAd8B0wHeAccBywHWAdIB5wG9AbIB2wHEAaIBvQGyAbUB1AGrAZMBoQGxAaMBigGNAY4BeAGRAZIBcAF8AYEBcAFzAW8BZwFyAV4BagFkAVQBZAFLAU0BVAFEAToBMQE5ATUBKAEUAQcBGwEOAeoA6AD1AOoA2QDQAMgAzQDAAL0AtQCxAMIApwCHAJgAqQCWAIMAhQB1AIEAkABbAGgAiQBtAGUAWwBeAGYAYQBcAFkAQAA8AGkAUwBQAFsANABCAFgARAA4AEUAVABAADoAMgAsAEQAOAAuADIALwAsAEAAKQAdAC8AGQA0ADkAKgBGAE0ARABLAEcAWgBsAFQAWABjAFkAYQCHAHkAawCEAHEAiQCPAHYAngCYAIkAqAClAJIAtgCnAJMAygDGALoAyQDGANIA4wDPANQA6wDjAO8A6wD+AAUB9QALAQwBCgEdAR4BCgEpASIBIAE8ARwBNwFAASsBSQFUAUsBWQFXAUYBVgFnAUoBTAFqAVEBTAFkAU8BSgFxAWgBVwFsAXEBWgF0AXsBZgF7AXYBbgGDAYUBeQGHAYkBhwGWAYkBiQGgAYwBjAGjAY4BkgGeAZEBkQGWAZ8BpQGdAZ4BlAGUAbIBpQGRAaABlwGTAa0BlwGcAbMBkgGgAbsBogGZAaoBmgGYAakBrwGmAZkBogGoAa0BoQGNAZ4BrQGZAZIBnAGXAZEBngGZAYoBkAGYAYgBgAGVAY0BdgF+AXwBcAGDAXoBZgF6AXMBYAFfAVQBXAFUAUsBVwFGAS4BQgFeASsBJwE6ARMBHgEuARUBFwEcAQ8BFQEEAQIBCAH4AP8AAQHpAOgA6gDbANQAzQDSAL0AvACyAI0AqwCqAIMAlQCPAHEAggB7AGMAawBmAFoAWABTAFEAPgA8AD8ARQBGABsALABDAB4AHgA0ACIAFwAXACAAKQALAAkAIwAbAAYACQAJAAcA\/\/\/+\/wAA\/P8GAPj\/8P\/9\/\/v\/9f\/2\/\/X\/8v\/2\/+r\/9P\/9\/+X\/4f\/u\/\/T\/7f\/t\/\/P\/+P\/9\/wkABgD\/\/xcAHQAMAB8AKQAcACAAIwA1ADkALgA+AEQAQgBUAEQASQBkAFYAWwBuAHUAagB2AIMAgACCAIUAjgCQAKYAowCaAKYAqACuAK8AswDHAMYAwADNAMwAyADRANsA4gDfAOkA8QDxAPsA\/AAFAQIBBwEYAQUBAwEdASUBBAENAScBBgEGARoBCgERASIBFwEaARcBIwEsASABJQE5AT8BLAE2ATsBOQE0ATkBTgE7AUcBWAE7AToBVAFVAUUBRgFIAU8BWgFLAUcBWgFMAUIBYwFVAUQBWwFYAVgBVQFHAVUBXQFaAVkBVgFbAVIBTQFWAV0BWAFTAUoBVgFnAUkBOwFTAVQBWQFlAUcBSwFXAVABVwFMAUkBRwFEAVgBRgE6AUsBQQFAAToBQAE\/ASgBOwFCAR4BIwE\/ASgBFwEjASIBGAEPAQ4BDgEFAfYA8wD5AO8A7QD2AOoA4ADlANsA0ADfAN4AxwDDAMUAvQCyAL4AxQCqAKsAqwCaAKEAkgCEAIQAegB\/AGUAZABlAE4AYABNADoAVABGACQANAArABsAIwAQAA8AFgAGAPv\/AwD5\/\/P\/9v\/r\/+n\/6v\/o\/+P\/4P\/Y\/9P\/3f\/W\/8v\/0v\/P\/8P\/zf\/K\/7n\/w\/+\/\/7H\/uf+1\/67\/uv+u\/7T\/tP+k\/6v\/lP+X\/63\/nf+Z\/6n\/mf+T\/6L\/mv+R\/5H\/jf+U\/6f\/of+r\/7r\/rP+i\/7b\/x\/+1\/8n\/1P+\/\/8v\/1\/\/J\/9f\/7v\/r\/+D\/7P\/+\/\/b\/AQANAAAADQAkAA0AEAAvACcAIQAtADIANgA9AEYATgBKAEwAWgBcAF4AegB3AGYAegCDAHsAhACSAI8AjwCVAJgAlwCkAKwApgCqAK8AwgDMAMMAvQDKAMMAvADSANAAwQDGAM4AygDJAMoAzADXAN8A2QDUANkA5gDaAOIA5wDcAO4A9gD6AOsA9AD7APQAEAEJAe8A+AD+AAEBBwEFAQMBDAEVAQABCAEPAQMBGgEcAQ0BDgEUARIBIgEdAQ4BFQETARUBCgEaASkBGAEUARIBFQEeARYBFQEgARgBEQEYARcBEQEQARwBIwEYAQsBEQEjARABBgEjARQBBQEVAQkBAAERAQMBAgEWAfcA+AD9APUA+QDwAO8A6wDjAOIA5gDeAOUA5gDOAM0AzgDKAMIAvgC+ALsAuQCxAK0ArACrAKoAogCbAKEAngCSAJAAjwCLAIQAhAB0AHcAegBfAFcAXABYAEwAQAA\/AEMAJQAjACgAGAAVAAgA\/v8AAAwA+v\/s\/+z\/5\/\/i\/9j\/1f\/T\/9D\/0P\/H\/8T\/xf\/I\/8T\/uv+6\/7b\/tP+5\/7z\/rf+n\/6v\/mP+k\/7D\/k\/+W\/6H\/lv+a\/5v\/l\/+i\/5P\/hv+d\/4z\/h\/+g\/4j\/gP+S\/5H\/h\/+F\/4P\/g\/+J\/3r\/iP+X\/4r\/if+j\/67\/nf+k\/6r\/p\/+s\/8D\/vf+p\/7j\/wf+7\/8T\/0f\/P\/8b\/2\/\/g\/83\/2v\/o\/+n\/6\/\/3\/\/j\/9f8GAAkACQARACEAJwAcABwAMQA\/ADoAQQBAAD0ASwBVAEwASwBeAFUAVgBqAFcAVwBwAIAAfQB3AIAAgACRAJcAlwCZAJ0AkQCYALgAmACUAKgAoQCfAKUApwCfAKcArwCgAKMAtgCxALoAwAC6AMwAzgDLANMA1QDcANcAywDeAPEA8ADfAOEA6QDpAPYA5wDzAPkA6gDnAPMA\/ADrAP0A\/ADmAPcAAgHsAO0A\/ADyAOsA8wD0AOcA6QDyAPoA8QDtAP4A9gD2APsA9gDrAPMACgH2APEA+ADsAOUA6wD1AO8A6wDwAAAB7wDoAOsA3wDrAOoA6ADiAM8A0wDTAMYA1wDNAMIAzQDGAMgAxAC9ALkAsACrALAArwClAKAAowCeAJoAmgCQAI0AkgCNAH0AgQB\/AGMAaQCCAHgAZABuAHEAVABNAGIAUgA1ADYAPwAzADIAMgAcABcAFAAEAAMABwD2\/+z\/xP+6\/9n\/2P\/P\/7n\/uv+9\/67\/tv+2\/6r\/o\/+Y\/37\/cP99\/27\/aP94\/2n\/b\/97\/3D\/d\/9s\/2H\/ZP9g\/1b\/Xv9o\/1f\/Xv9W\/1H\/UP9T\/1j\/T\/9e\/1b\/Rv9C\/0P\/R\/89\/zr\/Qf83\/zD\/M\/8x\/yP\/LP9J\/zz\/Mf81\/1T\/Wv9B\/1n\/aP9M\/1b\/bP9a\/1\/\/ZP9s\/3P\/dv9r\/3D\/if+K\/5T\/nv+e\/6T\/sv+x\/7r\/v\/+3\/7n\/xf\/L\/8v\/3f\/e\/9b\/3v\/e\/\/D\/8f\/r\/\/z\/AQD\/\/wUAGgAWABwAMQAmACAALAA0ACsALQBDAD4ANwBVAF4AQgBZAGsAXQBqAGAAXgBbAFgAcACAAHsAcgBuAHEAegBpAH0AhgB+AHUAcACNAIkAkwCUAJoAlwCWAKkAoQClAKEAtQCxALkAwACcALQArQC2AMMAqQCrALwAwgCsAMAAtAClALAAzgDVAK8AygDGAM0A2QDSANcAwADTAOMAzADNANcAxwDMAOoA4wC6AMwA6gDRAL0A0wDVALsAzwDFAMEAygDQAMgAwQDPAMcA0gC9AMMA1wDHAMMAzQDMALYAxgDNAMAAwgC9ALEArQC3AKYAqQC6AKwAoQCXAI4AiwCTAJAAgwCaAI8AbAB5AHwAhgBrAGIAawBXAFEASQBaAEkATABjAE0ANABBAEQAOwA+AC0AHwAaABkAFgAEAOb\/6f\/m\/97\/5v\/k\/8L\/p\/+r\/7f\/vf+x\/57\/fv+K\/4f\/f\/+D\/4X\/hP9w\/3\/\/bP9p\/4L\/df9p\/27\/Zv9U\/2P\/X\/9c\/2r\/Vv8\/\/0j\/TP9L\/03\/TP9A\/yP\/Nv87\/zr\/R\/88\/y7\/Jv\/+\/gb\/bP8D\/+r+Yf8d\/xz\/QP8p\/1H\/Yv8z\/zr\/Rf8v\/0L\/Nv85\/0v\/Pf9Q\/2n\/YP9c\/3D\/ff99\/3z\/af91\/5f\/gv9\/\/4z\/lv+W\/4j\/rf+1\/47\/m\/+7\/6z\/p\/\/I\/8b\/v\/\/W\/+v\/5v\/j\/+r\/8v\/y\/\/L\/AADw\/\/7\/DQASABAAFwAtACIAMAA4ACsAIwBMADQAFgBKAEQAPQBlAFcAagCKAFIAZgCEAGUAZwB3AHcAbQBlAHAAgQByAGkAcABvAG0AbgBuAIwAlwCLAI4AkQCZAJEAngCTAJgAowCeAKAAjACnAKQAkgCtAKsAngChAK4ApQCbALIAsQC2AKQApgC5AKsAuAC7ALcAsQCoAKkAswC8ALIAsQC+ALUAtgC6AK0AoQCpALMArwCmALgAxQCfAKUAuQC1AL8AqwCoALcAtQCpALYAyACUAKgAwQCjAKQAnQCnAKQAiQCPAJQAiwCSAIgAkgCSAGsAZACDAG0AcACBAF8AZQBpAF0AWgBxAGUAVABPAEUAUgBGAEgASQA7AC4ARgBAABsAJwArAC0AFwAWABcABgAGAPr\/AgAAAPL\/7f\/l\/9z\/2\/\/J\/8P\/0P+3\/6z\/vf+0\/6\/\/tv+s\/6H\/gf+B\/4T\/dP95\/2b\/Xv9c\/2H\/WP9l\/2j\/Uv9m\/0z\/O\/9R\/0\/\/Ov8z\/zr\/SP9L\/0\/\/M\/8Y\/yX\/Kv8m\/zn\/Pv8b\/xP\/Jv8c\/yv\/KP8J\/yn\/Fv8A\/xD\/Kf8X\/\/r+CP8T\/w7\/Df8f\/wj\/Cv8B\/wH\/NP85\/y\/\/N\/9E\/zP\/I\/9J\/0z\/Sf9i\/0r\/T\/9m\/2X\/YP9d\/2\/\/df95\/2v\/av9y\/3n\/iP91\/3j\/g\/+D\/4z\/ov+y\/6b\/mf+t\/7z\/rP+o\/8b\/zf+9\/7r\/w\/\/n\/+f\/0v\/m\/\/f\/\/f\/s\/+n\/AgAFABcAJAAcACUAIwAsAEQAPgAxADAAMQA2AD8AQABCAEUASwBTAEgASABTAEEARABaAE0ASABWAF4AZQBmAHIAewBwAHUAjwCEAGMAcgCDAIQAgQCLAIsAkgCBAH8AlwB+AIUAkgCWAH4AgwCQAIEAhgCOAJIAhwCGAIgAlQCiAKIAmgCMAJYAkgB+AJkAtQCUAJIArwCJAIEAnwCoAJoAmQCyAIIAgACmAKEAhwCCAJMAjgCYAIoAiQCgAI4AfgCVAJYAkwB5AGQAjACVAH0AcAByAHoAZgBxAHAAYQBsAFgAWgBZAF0AWQBQAEoASgBGACgAPwBGADsAQgAsACYAIQAYADQAKwAoACQAAwAOABwACwD\/\/wEA7P\/5\/\/P\/2f\/1\/+D\/yv\/P\/7f\/sf+6\/67\/uv++\/5T\/ev+D\/5P\/dv9q\/3b\/af9X\/03\/Xv9d\/1f\/Z\/9j\/0n\/NP9H\/0v\/PP9L\/y7\/Hf8q\/z7\/Lv\/7\/hn\/Jf8c\/w\/\/9v4M\/xj\/Cv\/9\/gD\/A\/\/y\/vX+EP8M\/wD\/+f7r\/vX+8\/71\/vj+8\/73\/t3+9\/71\/t7+Cv\/6\/vf++v7x\/gf\/Bv8D\/xX\/J\/8f\/x7\/LP8q\/xj\/Jf84\/zD\/KP8z\/zf\/MP9H\/1b\/Tf9G\/0\/\/Yf9p\/2r\/bv9z\/3f\/ff+P\/5b\/mP+D\/47\/q\/+w\/7f\/nv+w\/73\/0\/\/U\/77\/1P\/p\/9r\/uP\/v\/+\/\/zP\/Z\/+L\/+P\/7\/+v\/9f8NAAcABgAiAB0AFgAZABoAMQApACMAKwAqACMAJAAjACwALAAtACYAGABEADMAOwBFADAARQBBAEgAOQBFAEYARwBgAFwAXABuAGwAYwCCAG8AVwBlAHcAfwBxAGkAcwB5AG4AWQBgAHcAbgBvAHsAagBgAGkAegCFAI4AcwBoAH8AbABxAIkAgABuAHQAfgCIAIoAewB6AIgAcgBrAIYAfQCAAIIAiQCAAIIAigBrAIIAjQCJAH4AbQCVAH0AdgCKAIEAegBtAHgAagB7AIEAdQBZADwASQByAHEAVABzAGcARgA4AFAASAAzAD0ANQAvAB8AHAAkACoALwAeAAAACAAAAAsAKQADAPr\/\/\/\/6\/+\/\/4v\/d\/9j\/vf+3\/87\/tv+x\/5v\/o\/+w\/5P\/mf+f\/5L\/gv92\/2T\/bv99\/3L\/Uf9X\/1b\/Tf9N\/0f\/Vf9I\/0\/\/Rv89\/y\/\/Mf9E\/yb\/H\/8r\/yz\/F\/8b\/xr\/GP8U\/xf\/Jv8r\/xH\/\/\/4j\/xT\/Cf8a\/xD\/Cv\/\/\/gH\/B\/8F\/wj\/+f7z\/gX\/Av\/k\/u7+9f7j\/u3+9f70\/u\/+4\/7x\/v\/+Av8A\/wP\/Df8N\/w7\/D\/8s\/0D\/N\/8p\/zP\/K\/8d\/zn\/PP9Q\/0z\/Of9I\/2T\/av9R\/2H\/eP9y\/2f\/ev+W\/5v\/mf+O\/4P\/hf+l\/7L\/s\/\/R\/7n\/nP+v\/7j\/vf\/J\/83\/1P\/H\/8P\/1P\/Z\/\/j\/+f\/e\/\/7\/AwDj\/+3\/AQAfACUAEwAEABgAGwAEADEAOQAoAA0AFQAxACsANQA8AD8AGAAqAD0AOQBEACgARwBeAEAAUgBtAE4ASQBgAFgAWwBYAF0AXwBeAGsAYgBPAE8AZQBwAGMATQBdAGgAaABeAFYAdwB0AFcATgBlAGQATwBgAHEAbABqAGgAWQBxAGUAWgCDAG0AZQBfAGAAdQB2AG0AYgByAFYAYgCIAHsAcgBrAH0AegBcAGUAegCBAGgAVABkAGwAaABcAFUAYgBpAFUAYABZAD8ARQBFAFAATwBLADIAOAA6ABsAKAAqACoAFgAXABAABQAcABQAAQAHAB4A+\/\/1\/\/T\/6P8BAPT\/9P\/y\/9T\/1v\/f\/+L\/4P\/E\/7n\/rf+p\/7b\/qf+e\/53\/kP9y\/3n\/e\/9y\/2P\/WP9b\/0\/\/Uf8+\/0P\/RP8r\/zr\/Uv9I\/yH\/IP8y\/wz\/Cv8j\/xL\/D\/8O\/xD\/Cv8V\/xL\/Cf8N\/wf\/BP\/o\/u7+7v7x\/u3+2v7m\/t7+2\/7O\/t7+3P7M\/tj+z\/7T\/s3+vf7L\/tv+y\/7E\/s\/+0v6\/\/r7+z\/7Y\/sv+x\/7Z\/uf+4\/7P\/uv+7f7S\/u7+\/f7u\/u\/++v74\/vb+Af8O\/xr\/IP8v\/y7\/Mf80\/x\/\/O\/9N\/0T\/Ov8z\/03\/V\/9N\/1z\/X\/9q\/2n\/Wf97\/3v\/d\/94\/3n\/iP+K\/47\/iv+f\/6X\/m\/+b\/6j\/tP+f\/6v\/w\/\/B\/8H\/0f\/T\/9r\/5\/\/k\/+f\/3P\/q\/+\/\/6\/\/y\/+X\/4P\/7\/woA+v\/r\/+z\/BgAGAAcABwD3\/\/D\/DAAfABgAJQAFAPz\/IQAtACMAHAAnACoAJAAaADAALgAmAE0AMAApAEAAPQBRAE0ARQBIADsAQQBTAFAASABYAFcAPwBKAE4APQA\/AEsARgBOAE4AQABDAEAAUQBUAEwAUQBSAFAAUgBXAFMASQBOAE8AQABQAE8ATABdAFIAQQBBAE4ATQBTAFQAPwBLADwAOABTAEkANwAvADwAMQAvAC0ALwArABAAJgAkABsAEAAcACYAEAAPAAQACAAEAPr\/6v\/j\/+n\/9\/\/j\/9z\/\/v\/h\/8b\/1\/\/y\/9j\/vf\/Z\/9f\/vP+5\/77\/uv+1\/6X\/qP+t\/6D\/hv93\/3z\/av9e\/3n\/cf9a\/1r\/RP86\/zf\/Ov81\/zP\/HP\/9\/iX\/HP\/9\/gb\/Bf\/4\/uj+9\/4D\/\/b+4\/7b\/t7+4v7h\/ur+2v7Z\/tv+wP7Y\/tX+y\/7L\/sv+3f7N\/r3+vf7L\/rr+p\/6+\/rv+qv6i\/r7+xP6m\/rX+tf6j\/rT+uP6v\/rP+t\/61\/rb+uf7F\/sz+wf7S\/tH+y\/7T\/uf+9v71\/ub+3\/7+\/vn++P79\/gf\/B\/\/9\/gv\/Gv8m\/xT\/GP8l\/zP\/M\/8s\/0T\/Sv85\/z3\/U\/9H\/0r\/W\/9p\/2v\/aP9t\/2r\/ev+D\/4b\/mv+5\/6b\/l\/+k\/6n\/r\/+v\/8\/\/y\/+y\/7j\/yv\/Q\/9b\/2\/\/U\/93\/5P\/c\/9v\/9\/\/7\/+L\/3v\/t\/+T\/5\/8BAPX\/6P\/\/\/wMA\/P8CAAYADwAJABAAEQANACMAIgASABQAJAArACIALAA8ADAALQA4ADoAMwArADEAOQAyADgAPwA5ADUANgA6ACkAMQA\/AD0APAA6AEIAQQBEAEgASgBFAEEAPAA\/AFYAUQBOAE0ARQBKAFAAVwBaAEkAQQBcAFMAOQBRAF0AVgBWAFYATwA\/AEkATgBKAEgAQAA7AEAARgA6ADYAOgBIADwAIgAyAD4AHQAXAC8AGwALAA4AFAAcABUAFwAIAPn\/9f\/0\/\/n\/5f\/r\/+\/\/3P\/z\/+3\/5f\/u\/9f\/0f\/Z\/9H\/zP\/Q\/9T\/w\/+4\/8H\/t\/+p\/6b\/mf+T\/5D\/e\/9z\/3r\/df9l\/2v\/XP9M\/0r\/Qv9B\/zX\/L\/8m\/yf\/Kf8d\/xj\/Iv8i\/w3\/Ev8T\/\/7++f4D\/\/f+7f7t\/u\/++P7j\/ub+6v7g\/ur+5P7h\/uj+3v7Z\/tX+1\/7X\/tD+0\/7a\/tX+u\/6+\/sj+x\/68\/r7+vf6s\/r\/+v\/6o\/rH+vP66\/rj+uv7A\/r\/+z\/7N\/tn+2f7V\/uv+8P72\/u7+\/f78\/vz+C\/8E\/xD\/Fv8O\/xj\/Kf8l\/xz\/Kf85\/zn\/Nv9G\/1D\/R\/9O\/1f\/XP9b\/1r\/a\/9s\/2z\/e\/+A\/4D\/if+R\/47\/m\/+g\/5\/\/qf+p\/7X\/sv+1\/77\/yv\/M\/83\/zf\/K\/9b\/2f\/k\/+b\/7P\/1\/+\/\/6v\/7\/wAA9v\/6\/wQACwD8\/wAACQAAAAYADgASAAcAEQAhABoAHwAjACIAJgAkACgAKQAmADQAMQAtADwAPAAwADAAPAA4ADIANAA4ADYAMAA\/ADsANwA+ADMALQA4AD8AQQBDAD8AQQBJAFAASgBOAEoAPwBLAEsASwBIAEgAUQBMAEAASQBMAEMASgBMAEYAPQA8AEEARABMAEYARABEADkAMgA7AEQAOQA5AD8AOAAtACgALgA0AC4ALgAvAB0AGgAdABsAIwAiAA8ABQALAA0ABAD\/\/wcAAADv\/+3\/7\/\/w\/+z\/7f\/q\/9r\/2\/\/h\/+H\/2\/\/N\/8\/\/zv\/E\/8P\/w\/\/D\/73\/sP+w\/6r\/m\/+Y\/5v\/j\/98\/3n\/a\/9q\/23\/Y\/9Y\/1D\/Tv9F\/0H\/PP82\/yr\/Mv8t\/yD\/IP8c\/xv\/FP8O\/wn\/Bv8B\/\/z++P7\/\/vf+3f7k\/uT+1\/7a\/t\/+4\/7a\/tH+0f7V\/tL+yf7L\/s3+xv7H\/sn+uP6+\/sX+v\/7C\/rz+t\/6w\/rL+t\/6v\/rT+sf6v\/rD+s\/67\/rf+tv64\/sL+xf7H\/tH+2f7Q\/tj+8P7n\/uz+7f7x\/vj+7\/74\/gb\/C\/8F\/wz\/D\/8N\/xX\/Ff8a\/yL\/Jv8l\/y\/\/Nf8r\/zj\/Q\/9D\/0H\/RP9Y\/17\/X\/9e\/2j\/cP9q\/3n\/f\/97\/4j\/kP+T\/5P\/mf+h\/6b\/rv+t\/7b\/uv+8\/8z\/1P\/N\/9r\/5f\/U\/9r\/5v\/q\/+3\/4\/\/g\/+r\/5\/\/r\/\/H\/7\/\/z\/\/H\/8f\/z\/\/\/\/+\/\/6\/wUABgAAAAgAEwAQABMACwAQABMAEAAdAB8AIAAlACMAIgAoADAAMAAvADUAMwA4ADQALgAyADkAOgAxADIAOwA8ADwAQQA9AD0APwA6AEEASgBGAD8APwBDAEYASABFAEEAPQBAAEgAQwBCAEwASAA+AEMARABEAFEASgBAAEMARgBEAEIARQBDAD4AQwBEAD4AQQA8ADkANQA6ADwAMAAvACkAKQAkACIAIwAWABMAGgAYAAwACwAJAP\/\/AwD+\/+z\/6f\/p\/+n\/6P\/j\/9\/\/3\/\/c\/9j\/1\/\/S\/8z\/x\/\/H\/8L\/wf+5\/67\/p\/+k\/5\/\/l\/+Z\/4z\/gf99\/3f\/af9h\/2b\/Wf9Q\/1H\/SP85\/z7\/Ov8o\/yj\/K\/8k\/xb\/Gf8X\/wv\/DP8P\/wz\/Bv\/9\/vv+\/P7z\/vH+8f71\/vP+6\/7r\/uj+3f7a\/t\/+1\/7Y\/tz+0\/7M\/sj+yv7F\/sL+v\/64\/rf+vf68\/rf+uv67\/sH+wP65\/rz+uv60\/rr+wf7A\/sL+zf7V\/tP+1f7X\/tv+2v7h\/un+5\/7w\/vn++v79\/v3+AP8G\/wr\/Dv8K\/xD\/G\/8c\/x3\/Jf8n\/yf\/M\/83\/zf\/Pf9I\/03\/Tf9W\/1n\/Xf9n\/23\/bv9z\/3b\/df9+\/4v\/jv+H\/4v\/lv+Y\/5b\/oP+o\/6b\/qP+x\/7r\/tv+7\/73\/yv\/S\/9D\/2P\/T\/9L\/2P\/c\/97\/4\/\/o\/+j\/6v\/l\/+3\/+v\/3\/+7\/7f\/4\/\/r\/AAAFAAYABgAIAA4AEQAUABAAGAAgACAAJQAnAC8AKgAoADAAKAArADQAMwAvADUANQAoAC4ANQAvADAANQA0ADIANQA7ADsAMgAzADkAOQA5ADwAPgA5ADYAOAA\/AEAAPQA\/ADcAOwA9AC4AMQA5ADsAOQAzADIAMgA0ADQANgAuACcALwAsACsALAAoACUAHwAjACAAGQAWAA0ACgAKAAkACAADAP3\/+v\/+\/\/n\/8P\/u\/+\/\/7P\/o\/+X\/3\/\/c\/9T\/1P\/U\/83\/zf\/G\/8D\/uf+2\/7z\/uf+t\/6j\/qP+i\/5\/\/n\/+Z\/4z\/hv+J\/37\/d\/94\/23\/Y\/9f\/1f\/UP9K\/0L\/P\/8z\/zD\/K\/8g\/xz\/FP8T\/wv\/AP8B\/wD\/\/f79\/vn+8v7r\/uf+5P7j\/t7+2\/7Y\/tn+2P7S\/tD+0P7T\/s7+0P7Q\/sT+xP7J\/sb+vv6\/\/sX+vP68\/sD+u\/6z\/rb+uP6s\/rD+rf6s\/qn+pv6s\/qb+pv6m\/qn+sP6z\/rf+v\/7E\/sX+z\/7T\/tT+2\/7h\/uX+6v7y\/vT++f4C\/wL\/Af8L\/xH\/Fv8i\/x7\/Jf8s\/yz\/M\/84\/z3\/P\/9F\/0z\/U\/9a\/13\/Yf9j\/2z\/dP97\/3f\/fv+F\/4f\/k\/+Y\/5j\/mv+e\/6T\/rv+v\/63\/s\/+1\/7n\/uv++\/8X\/zP\/W\/9j\/2\/\/d\/+D\/5P\/j\/+H\/4\/\/o\/+j\/6v\/s\/+7\/7v\/m\/+j\/9f\/6\/\/X\/+v8DAAMAAgAMABcAEgAUABgAFQAaAB8AHgAjACMAIAAjACgAKgAmACQALQAvACYAKwAwACsAJwAqADEAMgA1ADYAMAAuADMAOQA8ADoAOwA2ADcAOQA7AEQAPwA7AD8AQAA+AEIARgA+ADwAPwA8AD8AQwA\/AD0APgBBADwAPQA\/ADsAOwA+ADkAOAA6ADgAPAA2ADMANQAvACoAKwApACQAJgAiABwAGgAUAAwABgAFAP\/\/9f\/z\/\/P\/7v\/m\/+r\/5v\/c\/9b\/0v\/O\/8z\/xv++\/8P\/xP+6\/7L\/sv+x\/6v\/pP+h\/6f\/n\/+X\/5T\/jP+I\/3r\/dv9y\/2T\/Wf9W\/03\/Qv89\/zH\/Mf8r\/yL\/HP8W\/xb\/Df8C\/\/r++f76\/vD+7P7x\/ur+4P7c\/tf+0P7M\/sz+yP7J\/sf+xP7D\/r7+wP6+\/r3+t\/6s\/rH+sv6u\/qf+pf6p\/qD+nf6j\/qD+mf6d\/qD+m\/6a\/pn+l\/6V\/pf+lv6b\/p7+mf6Z\/pv+ov6o\/qr+rf60\/rr+wP7D\/sP+x\/7N\/tX+1\/7c\/t\/+5P7p\/u3+8\/72\/v\/+Af8A\/w7\/Fv8T\/xr\/HP8e\/yb\/J\/8p\/zX\/P\/9B\/0f\/Tf9L\/1D\/Vv9b\/2L\/ZP9u\/3P\/df9+\/3\/\/h\/+L\/43\/jf+R\/5\/\/n\/+g\/6n\/sv+y\/7H\/uP\/C\/8n\/zP\/O\/87\/zP\/P\/9P\/1v\/e\/9v\/2\/\/h\/+P\/3v\/c\/+X\/4\/\/k\/+z\/8P\/6\/\/z\/\/f\/7\/wMACAAEAA0ADwAMAA4AEwASABkAHwAYAB0AIAAgACAAIAAfAB8AJgAlACQAJAAqAC8AKgAnACYAKAAvADIALwAyADEANwA1ADMAOgA5AD8AQgA8ADgAPQA8AD4AQABCAEIAQgA\/ADsARQBIAEYAQAA+AEQAQQA9ADoAOwBCADkAOAA7ADYANgAxADUAMQAmACgAKAAdABoAHgAVABIAEwAPAAcACAACAPn\/\/P\/6\/\/T\/8v\/s\/+r\/6f\/h\/9v\/0v\/U\/9X\/0P\/K\/8H\/xf\/H\/8D\/uf+0\/7X\/tf+n\/6L\/pv+X\/47\/jf+F\/3r\/cP9v\/2n\/XP9U\/0\/\/Sf9F\/z\/\/Of82\/y7\/KP8j\/x\/\/Gf8Q\/wz\/Bv8C\/wH\/+v7u\/vP+7\/7f\/uD+3P7a\/tr+1P7Q\/tH+zv7H\/sX+vP69\/r\/+u\/67\/rj+sf61\/rj+rf6r\/rH+qf6j\/qT+o\/6j\/pv+nP6d\/p7+n\/6f\/qH+mf6Z\/pr+mv6c\/p\/+p\/6p\/q3+tv67\/r3+xP7L\/sr+y\/7Z\/t3+2P7k\/uj+5\/7v\/vj++v74\/vv+\/v4H\/w7\/Dv8T\/xn\/Hv8l\/yr\/NP87\/z3\/Qv9D\/0v\/UP9R\/1n\/Zf9r\/27\/dP95\/37\/gf+I\/4z\/kf+a\/5\/\/pf+o\/6v\/sv+4\/7r\/wv\/G\/8z\/1v\/Z\/9f\/3P\/e\/9v\/4v\/i\/+H\/4\/\/p\/+r\/6P\/u\/\/D\/6v\/t\/\/H\/8f\/2\/\/\/\/+v\/7\/wwABwALABUAFAAUABYAIwAeAB4AJwAhACQALAAoACcAMwAyADAAMQAsADEANAAzAC4ANgA9ADoAOgA5AD0AQgBEAEAAQgBBAEQATQBFAEIASgBIAD0AQABCADwAQABBAD0ARAA\/AD4ARwBIAEQARABGAEYARwBGAEoARwBGAEUAQgBIAEQAQQBGAD0AQAA\/ADUAOQAxADIAKAAjAC0AFgAYACIAFQASABoADwACABIA\/\/\/1\/wAA+v8AAPT\/6P\/s\/+3\/3f\/Y\/+D\/1v\/S\/8\/\/0f\/O\/8T\/zf\/C\/7n\/wP+5\/6b\/o\/+h\/5b\/k\/+D\/4X\/eP99\/23\/X\/9s\/07\/T\/8+\/2L\/N\/8b\/0j\/Fv9B\/xT\/\/v45\/wf\/+f4W\/xP\/5f7p\/gf\/BP\/n\/tv+5f7n\/ub+2v7W\/tr+3\/7U\/tT+0v7S\/sj+uP7V\/rv+wP7d\/pn+uv7d\/qL+rf7J\/qz+qP6+\/qj+uP6r\/p3+rf64\/rD+fv6i\/tH+n\/6R\/sr+uf6t\/q\/+tf7E\/tT+3f7H\/r\/+z\/7t\/ub+8v7n\/vb+B\/\/y\/vr+Ef8J\/+v+I\/8h\/xX\/H\/8M\/yz\/Rv8v\/yn\/Mv8\/\/1X\/Ov9a\/1\/\/T\/9f\/17\/d\/9y\/3n\/g\/90\/4P\/mP+u\/7r\/lP9\/\/5r\/1P\/Q\/7L\/tP+y\/8b\/y\/\/a\/+T\/4\/\/Z\/9b\/7v\/z\/+3\/6f\/n\/+v\/4P\/u\/wQA7f\/m\/wAA7v\/i\/woAEADx\/wYACgACAA8ABwAPAA8AEQAOACsAMwASACwANAAeACMAQQBIAD4AJgAPACwARQBKAFAAPAAkADYASgBMADoAOgBSAD8ANwBBAEEAPwA7AEcAUQA+ADQAPwBRAFgATgA7AEQAVQBGAE4ASwBCAEgAQQBJAFYAUABIAFAATABRAEoAPABFAFAATQBBAEgAPwArADoAUgA5ABwAJwA8ADYAKAAhACAAJAAkABsACgAOAAkA9\/8HAA0A\/v\/5\/+P\/+v\/8\/+7\/5P\/T\/+n\/3f\/M\/9\/\/0v+u\/8b\/1\/\/M\/7P\/u\/+z\/6X\/vv+l\/5f\/hv+N\/5P\/fv98\/23\/af9n\/1n\/XP9Y\/z\/\/N\/8z\/0H\/K\/8Z\/yT\/Ev8Y\/w\/\/C\/8O\/\/v+6\/7k\/vz+AP\/u\/vb+4v7U\/tP+1\/7l\/tX+y\/69\/rr+1f7Z\/r7+wP7N\/rv+u\/7M\/sT+uf61\/q7+q\/6q\/q3+qf6e\/rn+uf6j\/pv+nv6l\/qv+p\/6f\/qr+kv6h\/qb+l\/6Y\/pz+uv7E\/r7+rv6p\/rj+4v7m\/uL+0\/6+\/t7+5\/75\/gD\/8P7w\/vv+B\/8U\/xT\/\/v4V\/zT\/I\/8U\/yT\/Mv84\/0P\/N\/85\/0b\/T\/9m\/2H\/Wf9o\/2z\/df96\/3L\/gP+E\/4v\/k\/+R\/57\/nf+m\/7b\/wP+5\/7X\/t\/\/E\/8z\/zv\/Z\/9D\/3\/\/t\/+z\/6v\/l\/\/L\/7f\/q\/+3\/+P\/+\/\/X\/+P\/1\/wcACQD+\/\/7\/BQAUAAcAEgAZABQAFwAVAB8AKQArACQAKQAwADMALQAtAD8ANQAmADIAOAAzAEYARQAyADoAPwBAAE0AQAA0AEcARABJAEwASQBOAEIASABSAFkAWgBJAEQATwBdAFoASQBRAGQASgBKAFwATwBMAE8AVgBUAEkAUgBaAFsAUwBHAFkAXgBUAFMAUABGAEUATABGAEoAQwBCAEgATQBGADEAOwA6ACsALAAxACgAIwAgABwAHQAWABcADgAMAAkAAwAAAAAA+f\/0\/\/b\/7P\/i\/9P\/4f\/r\/+H\/yv\/O\/9z\/2\/\/U\/7v\/xv+5\/6j\/sv+t\/5r\/jf+O\/43\/g\/93\/3n\/dv9t\/13\/Uv9b\/1X\/QP88\/zr\/L\/8z\/yz\/H\/8n\/yD\/Ef8Q\/xn\/FP8F\/wj\/Bf8A\/\/n+7P7w\/vn+8v7v\/vD+5\/7k\/uf+7P7l\/tn+2\/7g\/tr+0\/7a\/tP+0v7T\/sz+yv7E\/s\/+y\/7N\/sr+tf7E\/s3+yf7G\/rf+uP7B\/rj+sv7B\/sb+x\/7M\/tL+1v7Z\/ur+5\/7m\/vH+8P73\/vz+\/v4C\/\/\/+Cf8S\/wr\/Ff8c\/xn\/K\/8j\/xv\/LP81\/zj\/N\/82\/zH\/Rv9Z\/1z\/Tf9S\/2z\/cP91\/3P\/bv96\/37\/f\/+Q\/5X\/lv+R\/5b\/of+q\/6n\/o\/+t\/67\/uP+6\/7j\/v\/\/M\/9L\/0f\/e\/9X\/2P\/l\/9\/\/3v\/k\/9j\/4\/\/q\/93\/7f\/h\/9v\/7\/\/x\/\/X\/7\/\/v\/\/\/\/AwADAAUABgD\/\/w0AFQAaABsACwAaAB0AJAAhABUAIwAkACsAKwAiACkANQAvABwAJAA3AC8AHwAqAC0AIwAvADEAKAAuADAAKgA0ADoAMAAwADYANgAzADYAOAA0ADgAOwAwADoAOQAwADsAPwA5ACgANAA5ADgAQgAyACcALwA4ADAALQAsACcAMwAtACYAJwAuACkAHgAjABsAFgAcACAAGAAEAAgADwANAAgA\/v\/4\/\/r\/9\/\/t\/\/L\/4f\/i\/\/H\/3\/\/Z\/9j\/2f\/T\/8\/\/1f\/L\/8L\/yP\/R\/77\/sP+6\/6\/\/tP+o\/5v\/qf+a\/4j\/g\/+K\/4L\/cP9w\/2n\/Wf9X\/1b\/T\/9G\/zj\/NP81\/zT\/IP8a\/yP\/FP8Q\/xP\/Cv8J\/wL\/\/P7\/\/v3+8P7q\/vL+5f7j\/u7+5f7e\/uL+3\/7c\/uD+3\/7Y\/sj+zf7X\/tH+zv7J\/sH+x\/7P\/sr+yf6+\/r7+yv7F\/sL+tv6z\/r\/+wf65\/qz+sf7B\/sH+uf65\/sT+yf7S\/tT+0v7Y\/tf+6v7t\/uL+7P75\/vr++f76\/v\/+\/v4G\/xL\/Ef8T\/xL\/G\/8l\/yX\/Jf8p\/zn\/Pf84\/0D\/Sf9K\/0z\/WP9h\/1v\/Y\/9v\/3X\/dv9\/\/43\/hv+F\/5X\/m\/+d\/5z\/oP+p\/6r\/sf+3\/7n\/u\/\/B\/8j\/yP\/N\/9X\/1f\/g\/+r\/6P\/i\/+3\/9f\/p\/+\/\/8v\/x\/\/j\/+P\/2\/\/v\/9f\/3\/wAA+f8EAA0ADAARABAAFwAYABQAIwAhABoAIwArACoAJwAoAC4APAAzACcANwA7ADIAPAA+AD0APQA\/AEEANwBDAEQAOgBCAEoARQBGAE0ARwBMAE4ATgBXAFUATABTAFoAUgBRAFQAWABaAFYAVgBXAFMAWQBcAFsAVABQAFcAWwBUAE4AUABVAFcAUQBNAEsATQBCAEAATQBDADwAPAA8ADwAPgA0ADIANQAqACYAKQAmABsAFQAaABgAEQAQAAQABAAAAPz\/AgD2\/+n\/7f\/w\/+P\/3f\/f\/+H\/2f\/Y\/9r\/0f\/K\/8n\/yv+\/\/7T\/t\/+3\/6v\/pf+f\/5H\/j\/+L\/3b\/dP9y\/27\/Y\/9W\/1v\/Vv9T\/0X\/Pf8+\/zb\/K\/8l\/yf\/GP8X\/xv\/Dv8J\/wT\/BP8B\/\/j+9\/7y\/uv+8f7v\/uP+5P7c\/uT+7f7b\/tX+3v7d\/tn+2P7Q\/tT+1P7S\/tH+0P7M\/sb+yv7G\/sf+x\/7E\/sH+xP7D\/rn+vP6\/\/r\/+vP6\/\/sT+yv7O\/tL+3P7h\/uf+6P7m\/uz+8\/72\/vr+Av8J\/wv\/Dv8Q\/xj\/Gv8c\/yj\/Kf8s\/zT\/M\/85\/z3\/RP9M\/1D\/Vf9b\/17\/YP9o\/2z\/cv92\/3f\/eP+I\/4j\/gf+P\/5H\/mf+j\/6X\/rP+x\/67\/tv\/B\/8b\/x\/\/J\/87\/0f\/Z\/9f\/1P\/l\/\/D\/8P\/u\/+\/\/+v\/+\/\/v\/\/P\/5\/\/j\/\/\/\/9\/\/r\/AwABAAEACgAOABAACgARABYAGAAeABwAIgAiACIAJQAnACkAKwAsACoAMAAwAC4ALgAvADEALwAwADEAMwAzADMANQAuADEANAAzADgANgA5ADcAOgA8ADkAOwA+AD0APgBGAEMARQA+ADsARgBFAEAARwBFADoAPwBAAD8AOAA4AEIAOgA3ADkANQA1ADIAKwAuADEAKQAnADEALQAkACIAIgAjAB0AGwAYAAsADgAQAAcACQAIAP\/\/9f\/1\/\/X\/7P\/l\/+T\/4f\/e\/9z\/1\/\/V\/9P\/zf\/F\/8X\/wf+9\/77\/uv+1\/7L\/r\/+m\/6f\/qP+g\/5n\/kP+M\/4r\/ff92\/3T\/cP9n\/1z\/U\/9I\/0P\/Pf85\/zD\/K\/8l\/yH\/Hv8S\/xH\/DP8H\/wT\/\/f74\/vL+7f7t\/uv+6P7p\/tz+2\/7l\/t\/+1v7Z\/tj+1f7N\/sT+0P7L\/sL+xP7F\/sb+wP7B\/r\/+vf69\/rr+tP64\/rb+sv6y\/rL+tP6u\/q7+qv6n\/q7+qf6n\/qj+qf6s\/rP+uP66\/sX+x\/7K\/tH+1\/7Z\/tj+3v7q\/vT+8P7u\/vX+\/f7\/\/gP\/CP8M\/w\/\/GP8d\/xz\/J\/8i\/yX\/M\/83\/zv\/Ov9C\/0j\/Uf9W\/1f\/Yf9l\/2n\/av9w\/3f\/d\/9\/\/4b\/h\/+Q\/5P\/lf+d\/53\/o\/+o\/67\/s\/+z\/7n\/wf\/E\/7\/\/yP\/V\/97\/4\/\/j\/+P\/5P\/i\/+H\/7f\/r\/+X\/8f\/3\/\/L\/7f\/7\/wAA+f\/\/\/wYAAgAHABcAFQAOABQAHgAeAB0AJAAiAB8ALgAxACgALgA5ADcANAA5ADgAOQA8ADsAPAA3ADkAQAA7ADwARQBDADgARQBJAEMASgBBAEIASABCAEMASQBLAEUASQBNAEkASwBMAEkAQgA+AEcARwBGAEUAQwBHAEIAQwA\/AD8ARABAAD0AQwBDADsANwA9ADsANQA6ADIALgAvACoAJwAnACEAIQAaABUAEQAHABMACgD\/\/\/7\/+\/\/4\/\/H\/8f\/r\/+T\/3v\/f\/9v\/1f\/Y\/9L\/yP\/M\/8b\/wv\/H\/73\/uf+1\/7D\/r\/+s\/6X\/o\/+e\/5T\/kf+K\/4D\/dP9z\/2\/\/YP9f\/1T\/T\/9M\/0L\/PP8y\/zP\/Kv8i\/yL\/Fv8R\/w3\/DP8K\/wT\/AP\/6\/vj+8v7n\/ub+6v7o\/uX+3f7g\/t\/+2v7b\/tj+1v7S\/tH+yv7L\/sz+wv7F\/sz+yf7G\/sj+v\/6\/\/sP+w\/7A\/rv+vv66\/rX+tv67\/rX+uf7A\/r3+uv7B\/sf+yf7U\/tz+3P7c\/ub+7P7s\/vH+9f75\/gD\/Af8A\/wv\/Cv8M\/xb\/EP8S\/yP\/J\/8m\/yj\/K\/8z\/zf\/Pf9C\/0b\/TP9W\/1f\/Wv9j\/2f\/cv90\/3f\/ff+H\/4v\/i\/+T\/5n\/n\/+i\/6f\/rP+u\/67\/sf+6\/7j\/vf\/J\/8X\/yf\/S\/9P\/3P\/f\/9z\/5f\/n\/+X\/5P\/q\/+\/\/6P\/o\/+z\/8f\/3\/\/T\/9\/\/9\/wAABAD\/\/wAADAAVABUAEgAXABcAGgAeAB8AJAAmACsALAAwADgAMgA0ADQAPAA+ADMAOwBDADwAPQBFADwAOgBCAEYAPwA+AEgARQBDAEYASQBHAEcARwBNAE4ATQBTAFAATwBRAE4AUwBWAE4ATwBPAFMAUQBKAE4AVABSAFAAVgBSAFEATwBOAEwATgBPAEoATwBNAEoARgBGAEkAQgBCAD4AOQA8ADYANAAuACoALQAmACAAHwAaABYAEgAIAAcACQD\/\/wAA\/f\/y\/\/f\/8v\/v\/+n\/4v\/j\/97\/2f\/b\/9b\/xf\/G\/8z\/x\/\/B\/7b\/rv+n\/6b\/oP+X\/4\/\/hP+G\/33\/cf9s\/2T\/Wv9W\/1X\/Rv9D\/0D\/N\/8w\/y\/\/Lv8n\/yH\/G\/8W\/xH\/Df8H\/wD\/+\/7\/\/vz+9P7z\/vP+7\/7y\/uv+5v7y\/uj+4v7i\/uL+4P7b\/t3+1f7V\/tj+0f7U\/s7+z\/7P\/sT+zf7L\/sH+v\/7E\/sb+uf69\/sH+vP65\/rn+w\/7G\/sr+3P7a\/s7+3P7m\/uf+6f7r\/vP+8\/74\/v\/+BP8H\/wb\/Ev8W\/xr\/G\/8b\/yj\/Kf8p\/zn\/Nv82\/0f\/Sv9I\/07\/WP9f\/2L\/ZP9w\/3b\/cv+C\/4P\/gf+S\/5b\/mf+f\/6j\/q\/+v\/7X\/uP\/A\/8X\/w\/\/H\/9L\/0\/\/Y\/9\/\/4v\/p\/+\/\/8P\/w\/\/P\/9\/\/3\/\/f\/\/f\/3\/\/v\/AAD7\/wAAAAAEAAYAAAAFABMAEgANABoAHQAbACAAJwApACoAMgA0ADQANAA1ADoAQQA8ADwARABEAEEAQABDAEMARgBHAEcASgBIAEgARgBGAEwASwBMAEgARABMAE8ARwBJAFEAUwBUAFQAVgBUAFgAXQBWAFIAVwBdAF8AXABaAFoAVQBaAFwAVwBSAFYAWwBSAFQAVABMAE4AUwBNAEkASwBKAEUAQABDAEIAOwA8ADoAOAA3ADIALAAqACgAJgAiABwAHAAaABgACQAAAAcAAAD4\/\/z\/+\/\/0\/+v\/7P\/u\/+T\/4f\/i\/9X\/0v\/W\/83\/yP\/D\/73\/v\/+y\/6j\/qv+c\/5r\/lf+C\/3z\/d\/91\/27\/Xv9X\/1n\/Uf9I\/0X\/QP87\/zX\/Kf8m\/yT\/GP8T\/xT\/EP8J\/wn\/A\/\/+\/v3++P73\/vr+9v7x\/vD+7f7q\/uf+4\/7i\/uX+5f7h\/t3+3v7Z\/tf+3v7V\/s\/+1P7U\/tD+0f7N\/sr+zf7M\/sj+xP7I\/sr+yf7K\/sb+xf7C\/sT+xv7M\/tb+1f7e\/uT+6P7q\/uz+7\/71\/v\/+Av8G\/wb\/DP8P\/xP\/HP8d\/xz\/Jv8t\/y3\/MP8z\/z3\/P\/9C\/03\/Uv9S\/1f\/Yf9j\/2H\/av92\/3r\/f\/+F\/47\/k\/+R\/57\/oP+d\/6T\/rP+0\/7X\/t\/+9\/8f\/yf\/O\/9P\/0\/\/X\/+H\/5\/\/q\/+3\/7f\/1\/\/f\/8P\/z\/\/b\/+P\/9\/wEAAAAAAAQAAwAGAAcABQAQABcAEQAaAB8AHAAkACoAJwAmADUANgAxADQAOwA8ADQAOQA\/AD4APwBAAEIAPwBBAEkARgBCAEMARwBHAEkASgBLAE4ASQBJAE0AUgBQAEoAUABSAFAATwBQAFcAWABWAFMAVgBTAE8AVwBWAFQAVgBXAFQAWQBaAFQAVgBYAFsAWQBWAFUAVABUAFIAVgBOAEkATwBQAEsASABIAEMAQQBHAEYAPAA7AD4ANQArAC0AKwAhACMAHwAVABEACQANAAkAAwAAAPf\/9v\/x\/\/D\/8f\/n\/+j\/5v\/h\/9z\/2\/\/X\/83\/1f\/P\/8D\/vf+z\/7L\/rf+k\/53\/kv+J\/4X\/gv9z\/2r\/av9i\/13\/VP9J\/0z\/Qf88\/zr\/Mf8s\/yX\/Jf8i\/x\/\/GP8W\/xP\/Bf8F\/wb\/+f73\/vf+8v75\/u7+5\/7r\/ub+5P7h\/uH+3f7c\/tv+2P7X\/s\/+0f7K\/sj+zv7J\/sf+xf7D\/sD+xP7B\/r3+vP69\/r3+vP67\/rn+uv69\/sL+xf7L\/s7+1\/7e\/t3+5P7q\/uv+7\/75\/vf++P4G\/wz\/D\/8V\/xf\/G\/8e\/yf\/LP8q\/zb\/OP83\/0D\/Rv9M\/0\/\/Vv9k\/2X\/Zv9x\/3j\/ff99\/4X\/jP+M\/5T\/mv+h\/6H\/qv+u\/7L\/vP+6\/8b\/x\/\/J\/9L\/1P\/d\/+b\/5v\/m\/\/P\/\/f\/9\/\/\/\/AAABAAUAAgAFAAgACgAIAAsAEQAUABYAEwAZABwAHAAaACMAKgAkAC0AMgAxADcAOQA9AEUARgBGAEgATgBPAFIAXABdAFcAWABeAFkAXQBgAF8AYgBcAGEAYwBiAGYAYABdAGsAbABpAGUAYgBpAGUAaABoAGwAbQBmAGgAaQBpAGsAbwBsAHMAbwBpAHAAbABqAHAAbwBoAG4AcQBxAHAAbgBvAG4AcgB1AGoAaQBtAG4AbABkAGcAYABdAGEAXABWAFIAUABNAEUAQgBCADsAPQA7ADAAMgAsAB0AGQAfABsAEAATAA4ABgAEAAAA\/\/8AAPv\/7v\/w\/\/X\/6\/\/g\/+H\/3P\/V\/9T\/zv\/G\/7r\/uv+1\/6j\/pP+f\/5b\/kf+F\/3r\/fP92\/27\/Z\/9i\/1z\/V\/9Y\/1H\/SP9B\/z3\/PP82\/y\/\/Jv8k\/yX\/Hv8a\/xb\/E\/8P\/w3\/DP8F\/wX\/Bf8C\/\/3+Af\/+\/vL+9v77\/vj+7\/7w\/vD+6v7p\/un+7v7k\/t\/+7P7k\/t\/+4v7k\/uD+3v7j\/uD+2v7X\/tr+3\/7f\/tz+4v7y\/u\/+7\/77\/v3+Af8E\/wz\/D\/8N\/xv\/H\/8g\/yT\/Kv8v\/y7\/Mv85\/z7\/Qf9J\/07\/VP9c\/13\/Yf9o\/2r\/cP9x\/3b\/fv+D\/4f\/jP+V\/5z\/n\/+l\/6v\/rP+u\/7b\/uv\/A\/8n\/zf\/R\/9T\/1\/\/e\/+T\/5\/\/s\/+3\/9P\/5\/\/n\/AAAHAA4ADgAMABAADwAOABIAGAAUAA8AFQAYABQAGAAbAB4AHwAdACIAKAApADAAMwAvADMAOwBEADsAOABHAEgASwBNAEoATgBQAE8AUQBSAFEAVgBYAFgAXwBhAFwAYABfAF4AYgBgAGQAYQBmAGwAaABsAGoAZgBmAGoAZwBmAGoAagBsAG4AagBqAHEAcQBqAGYAagBuAG8AcQBvAGwAbABxAG4AagByAHEAdQBxAG8AcABrAG4AZwBoAGkAZQBpAGUAYQBgAGUAXwBaAFsAVABTAFMATQBCAD4AQQA+ADYANAA0ACwAJwAiAB4AGQAgAB0ADwATAA4ACQANAAoAAAD+\/wEA9\/\/y\/\/P\/6\/\/k\/97\/1f\/P\/8T\/uf+5\/7b\/rP+l\/6L\/mf+S\/43\/g\/96\/3v\/d\/9q\/2T\/Y\/9f\/1j\/WP9U\/0v\/Sf9G\/z\/\/N\/83\/y3\/J\/8u\/yn\/Hf8c\/yD\/HP8X\/xP\/FP8R\/w3\/DP8P\/xD\/CP8J\/wf\/\/\/78\/vn++\/79\/vn++P78\/vb+9f74\/vf+8\/7v\/vT+8v7q\/u\/+7\/7y\/vb++\/4F\/wn\/Ef8W\/xb\/Gv8g\/yX\/K\/8x\/zb\/Of86\/0D\/Qv9E\/0j\/TP9V\/1f\/Vf9U\/2L\/bf9o\/2r\/df94\/3v\/hv+H\/4j\/lv+Z\/5v\/oP+m\/63\/rv+0\/7b\/uf\/D\/8r\/y\/\/T\/9f\/2f\/f\/+L\/6P\/s\/\/D\/8\/\/1\/wAABwAJAAsADAAaAB8AGQAiACcAIQAkACcAJQApACsAJAAlADEAMwArADIAOgA2ADwASABFAEQASwBOAFIAVQBYAFkAVgBYAGUAZQBhAGcAaABsAG4AbwBrAG0AbQBsAHAAcwBwAHAAeAB0AHcAdwB0AHQAdgB2AHMAdgB3AHgAdAB5AHwAeAB2AH0AewB0AHgAdwB5AHoAeAB3AHIAcQByAHMAcgBzAHIAcwB0AHAAcgBtAG0AbgBmAGoAcQBwAGUAaABmAGAAZgBgAF8AWQBUAFoAWwBOAEkASgBEAEIAQAA+ADYALQAwACsAIAAmACcAGgAXABkADwAIAAsACQADAPv\/+\/\/4\/+7\/7\/\/u\/+3\/4f\/e\/93\/1P\/K\/8P\/vP+y\/7L\/q\/+m\/53\/lf+M\/4H\/f\/91\/3L\/cP9n\/1z\/V\/9U\/07\/Rv9G\/0T\/Of87\/zr\/Mf8l\/yT\/If8W\/xn\/Ff8R\/w3\/C\/8L\/wf\/Cv8G\/wH\/\/P77\/v\/++f72\/vL+7\/7y\/vP+7P7r\/vD+6P7n\/uj+5P7i\/uL+4\/7d\/t7+3P7b\/t3+2v7d\/tf+1f7h\/uP+5f7q\/vH++f72\/vz+CP8I\/wH\/CP8S\/wz\/Ev8f\/yD\/IP8t\/zH\/K\/8y\/zj\/Pf9A\/0X\/Sv9O\/1b\/Wv9c\/2D\/ZP9s\/3H\/c\/99\/37\/g\/+L\/5D\/mf+b\/6P\/q\/+s\/7H\/tf+4\/7v\/wP\/E\/8f\/0P\/a\/9r\/3\/\/o\/+X\/5v\/x\/\/X\/\/P8CAAAADQAPAAgADAARABMADQAXABsAHAAYAB0AIAAfACAAJQAqACMAMwAyAC4ANQA3ADgAOQBCAEQAQwBGAFAATABBAEEASQBNAE0AUwBYAFcAUwBXAFgAVwBaAFcAWQBbAF8AZgBYAF4AYgBaAGAAZwBpAF8AYgBoAGUAagBtAGoAaQBrAGwAaABuAG4AaQBqAGwAbwBqAGUAagBpAGQAawBsAGYAYgBiAGQAXQBXAFsAYQBcAFgAWwBWAEsATQBRAEwARgBAAEAAPQA\/ADoANAAxACwALAApACQAGgAaABEACgALAAoAAwD\/\/wAA9P\/0\/\/T\/7f\/x\/+7\/5v\/g\/9v\/2P\/Y\/9j\/0P\/M\/8j\/xP++\/7v\/tP+l\/5z\/lf+W\/4z\/hf99\/3H\/cv9u\/2X\/YP9Z\/07\/Qv9C\/0X\/N\/8x\/zD\/KP8k\/yP\/IP8Y\/xP\/DP8M\/wz\/Av8B\/\/7+AP\/8\/vf+9f7z\/vP+7\/7v\/ur+6v7k\/un+5v7h\/uP+2P7a\/tz+3f7R\/tf+3v7P\/s\/+zf7P\/s3+zP7M\/s3+0f7F\/sj+zv7H\/tP+2\/7a\/tj+4v7x\/u\/+9v73\/v\/+BP8B\/wz\/Cv8Q\/xf\/G\/8b\/xz\/K\/8v\/zL\/M\/8\/\/0X\/QP9J\/1D\/U\/9V\/1r\/Zf9o\/2z\/d\/9\/\/3\/\/hP+S\/5D\/jv+c\/6H\/of+m\/6\/\/vP+\/\/73\/wv\/O\/9H\/zP\/U\/9v\/4f\/m\/+3\/7f\/s\/\/r\/AAAFAAMABwATAAwADQAWABEAEQAZABwAHAAeAB8AJQAqACMAKgA1ADoAOwA+AEAAQQBFAE4AUQBSAFAAVgBgAFAAWQBnAGEAYwBlAGYAZABrAHIAagBkAGkAbgBuAHUAeAByAHYAcgByAHgAeAB2AHYAewB3AHwAfAB3AHcAeQB\/AIUAfwB7AIQAfQB6AIYAhQCAAH4AewB\/AHwAegB7AHkAegB7AHoAagByAHYAawBwAG0AbABlAGUAZwBcAFkAWQBWAFMAUgBJAE8ASwBCAD8AOwA7ADAALQAtACgAHAAcAB0AFgAYAA4ABAAFAAYA\/\/\/9\/\/\/\/9\/\/z\/\/H\/7P\/p\/+j\/5f\/a\/9v\/2\/\/N\/8z\/yv+6\/7X\/sP+o\/6L\/mP+Q\/4n\/gv94\/3b\/cf9m\/2P\/YP9Y\/1D\/S\/9J\/0L\/Ov84\/zT\/LP8q\/yz\/IP8e\/xr\/GP8a\/xL\/Df8H\/wX\/AP\/+\/vr++v79\/vv++v71\/vX+8\/7s\/u7+6v7o\/uf+5\/7p\/ub+6f7k\/tn+4f7i\/t3+3v7e\/t7+3P7h\/t7+2\/7e\/t\/+4f7n\/un+5\/73\/vj++v4C\/wX\/D\/8T\/xj\/Iv8m\/yT\/Kv8x\/zL\/M\/85\/z3\/RP9P\/1L\/Uf9b\/2j\/aP9p\/23\/dP92\/33\/fv98\/4v\/kf+U\/5b\/ov+u\/63\/tP\/C\/8P\/vP\/K\/83\/y\/\/V\/9f\/3P\/g\/+T\/7f\/w\/\/D\/9P8AAAIA\/\/8LABMAEgAaACIAJAAhACQAKwAkACsALwArADYAMwAqAC8ANQA5AEAAQgBFAEUATQBUAEsAUABRAE4AUwBcAGQAZABiAFwAYQBtAG8AaQBrAHAAbQBuAHAAbABuAHAAbQBwAHEAdgBzAHIAegB5AHUAdAB5AHoAeAB9AHkAdgB+AHsAfQB\/AHsAgACGAIMAgACCAH4AfQB\/AH0AdwB1AH4AfAB1AHoAegB0AHcAeQBzAHMAcgBxAGwAagBwAGkAYgBmAGcAZQBjAF8AWwBZAFYAUwBNAEUAQgBCAD0AOwA4AC4AMQAyACcAIQAgAB0AGQATAAwADQALAAgABgACAAAA\/f\/7\/\/L\/6f\/s\/+z\/5f\/e\/9n\/3P\/O\/8D\/wf+3\/7T\/r\/+l\/6D\/lv+N\/4z\/h\/99\/3n\/d\/9t\/2f\/Yv9a\/1P\/T\/9N\/0X\/P\/88\/zb\/L\/8p\/yT\/J\/8l\/xv\/GP8S\/xX\/E\/8O\/w7\/CP8K\/wz\/Af\/\/\/gP\/\/f76\/vT+9P7w\/uz+7\/7s\/un+5\/7n\/uD+3v7k\/uL+2\/7W\/tr+3\/7V\/tT+1\/7Y\/tn+1\/7k\/uX+5\/7x\/vX++v73\/v7+Bv8J\/wz\/FP8d\/xj\/IP8o\/yX\/LP81\/zf\/OP9A\/0L\/P\/9I\/1T\/Wf9Y\/17\/Zf9p\/23\/bv9z\/3r\/ff+D\/4n\/if+P\/5j\/m\/+i\/6z\/rP+t\/7f\/u\/++\/8D\/xv\/P\/9D\/1v\/c\/+L\/5v\/s\/\/T\/9\/\/6\/\/z\/CAALAA8AFQAQABMAFgAWABkAHAAbABwAIwAnACcAKAAnACgALAA3ADwAOAA9AD8ASABJAEEASgBRAFQAVwBZAFgAVwBbAF8AXwBcAGEAaQBoAGgAZgBoAGsAZQBnAGwAawBoAGoAbABtAHAAbABqAGwAbwB1AHUAdQBxAG8AcgBxAHUAdgBzAHEAcAB0AHIAbwBxAG8AcAB0AHQAbgBuAHEAbwBtAHAAagBpAGkAaQBuAGQAYABlAGEAWgBdAGAAWABXAFcATQBJAEsARQBAAEAAOgA1ADEAKwApACoAIwAfABoAEAAPAAwACQABAP3\/\/\/\/9\/\/X\/7v\/w\/\/D\/7P\/n\/+T\/3\/\/d\/9z\/2v\/S\/8f\/xf+9\/7b\/s\/+u\/6H\/mv+Z\/4v\/g\/+A\/3n\/cf9r\/2b\/Yf9d\/1j\/T\/9M\/0j\/P\/85\/zX\/Nv80\/y3\/JP8g\/yH\/G\/8U\/w\/\/D\/8R\/w3\/Cf8J\/wT\/\/\/4C\/wD\/\/f75\/vL+9P7y\/u3+7v70\/vL+6v7q\/uj+5f7k\/uT+5P7h\/t3+3f7d\/tj+3f7c\/tr+1\/7b\/uL+3v7h\/uv+7v7v\/vf++\/4F\/wr\/Cf8N\/xT\/FP8Z\/yT\/I\/8j\/yv\/Mf81\/zv\/P\/9C\/0f\/S\/9P\/1X\/Wv9e\/2X\/bf9w\/3L\/ff+H\/4z\/jv+U\/5z\/n\/+m\/63\/sP+u\/7f\/w\/\/F\/8r\/z\/\/V\/9n\/3\/\/l\/+n\/7f\/z\/\/X\/9\/\/9\/wkACgAGABMAGgAeAB4AIgAkACAAIgAkACMAIAAmACkAKgArAC0ALAApAC8ANwA1ADcAPQBCAEQARgBJAEcASgBRAFIAVgBWAFcAWwBgAGIAYABjAFwAYABiAGMAZwBmAGoAaQBpAGkAbABtAGsAbgByAG8AbwB0AHIAbwBuAHMAdABxAHMAdABzAHYAeAB8AH0AewB5AHcAfAB7AHoAfAB7AHwAfwCAAH0AfQCBAH4AeAB6AHsAegB4AHUAdwBzAHMAdABtAG0AbQBnAGUAZwBmAFsAVwBWAFEATgBLAEoAQwA7AD0AOQAwAC4AKwAiAB0AHwAZAA4ADwASAAwACAAIAAQAAAABAPv\/9f\/z\/\/D\/7P\/l\/+D\/1P\/N\/8v\/xv+7\/7n\/tf+n\/5\/\/mP+Q\/4j\/h\/+D\/3n\/cP9q\/2L\/Y\/9g\/1T\/Tf9K\/0r\/RP85\/zX\/NP8u\/yz\/Kf8h\/yD\/G\/8V\/xf\/Ff8R\/w7\/Dv8M\/wz\/Cf8F\/wT\/A\/8B\/\/7++\/72\/vj+\/P7z\/u7+8f7v\/u3+7\/7w\/uz+7\/7r\/uL+5P7p\/uX+4P7k\/uT+5P7o\/vP++f76\/v7+Af8G\/wr\/Ev8S\/w\/\/E\/8Z\/yD\/I\/8n\/yz\/Mf80\/zj\/Pf8+\/0f\/S\/9L\/1P\/Wv9b\/13\/Zf9q\/2j\/cf97\/4D\/hf+J\/4\/\/l\/+f\/6L\/qP+t\/63\/t\/+\/\/7\/\/vf\/G\/87\/0P\/R\/9j\/4P\/g\/+b\/6v\/t\/\/L\/+f\/\/\/wMACAAFAAcADwAQABAAEwAVABYAFQAVABUAFwAcABsAGwAjACMAJgAsAC0ANgA8ADwAPAA9AEIASABEAEQAUQBXAFYAVQBZAFkAWABdAF4AXgBeAF8AawBmAF0AYwBgAF8AZgBrAGgAZgBrAGUAaQBtAGgAbwBzAG8AcQB1AHcAewB7AHwAegB7AH0AegCAAIMAfgB7AH4AfwCBAIEAfgCCAH8AfgCBAH4AggCBAHwAfwCBAIIAfgB+AIAAeQB4AHcAbwBwAG0AZwBkAF4AXQBdAFsATwBMAE0AQgBDAEAAOwA3ADYANgAvACwAKAAiAB8AGgAUABQAEgANAAkABAAAAP3\/9\/\/2\/\/L\/5\/\/i\/9\/\/1v\/O\/8f\/wP+6\/7D\/qf+e\/5n\/l\/+T\/4n\/g\/99\/3H\/b\/9s\/2f\/Yf9d\/1n\/VP9P\/0v\/Rf88\/z7\/PP80\/zL\/Lf8p\/yj\/I\/8g\/yL\/G\/8Y\/xv\/Fv8Q\/xP\/DP8I\/wr\/Bf8D\/wD\/\/v7+\/vv++f7z\/vP+9P71\/vH+6\/7v\/uv+5\/7o\/ur+6\/7p\/uv+6f7m\/un+6\/71\/vv++v4D\/wr\/Df8T\/xr\/GP8e\/yf\/J\/8p\/y3\/L\/82\/z7\/Qf9H\/0r\/TP9V\/1r\/XP9l\/2j\/bP9y\/3j\/gP+B\/4j\/jv+S\/5j\/nP+k\/6j\/rf+x\/7T\/vv\/D\/8r\/z\/\/S\/9f\/2f\/e\/+b\/6P\/p\/\/H\/9\/\/3\/\/3\/BwAHAAkAFAAZAB8AJAAjACYAKQArACoALQAvADMANwAwADMAPQA7ADYAPwBEAEMATABOAFIAVABRAFQAXABhAGEAXgBnAGsAZQBsAG4AcgB2AHYAdgB4AH4AegB3AH4AfwB7AH0AgAB9AHsAfgB\/AIAAfwB9AIEAgwCAAH0AhACKAIUAhgCMAIoAiQCJAIoAhwCJAIoAiACKAI8AhwCEAI4AjgCMAI8AjwCNAI0AigCIAIgAhwCHAIYAgwCAAIAAgwCDAHwAdwB7AHkAcABrAGoAYwBhAGMAXgBbAFcAUgBQAEgARABBAEAAQQA6ADUAMgAxAC4AJwAmACMAHAAZABkAFgAUABAACAAJAAUA\/f\/7\/\/n\/8\/\/u\/+v\/3f\/U\/9D\/yP\/A\/7r\/tP+q\/6P\/nf+V\/5H\/jP+G\/37\/ev9z\/2z\/af9j\/1z\/WP9T\/07\/TP9G\/0D\/Pv85\/zL\/Mv8z\/y7\/LP8r\/yX\/JP8l\/yD\/H\/8d\/xr\/Fv8U\/xP\/E\/8R\/w3\/C\/8J\/wf\/Av8C\/wT\/Av\/+\/v3+\/\/7+\/vz++v76\/vn+AP\/+\/vb+9P75\/v\/+\/v4H\/w3\/Ev8Z\/xv\/IP8m\/yj\/KP8u\/zL\/Nf88\/z\/\/Qf9G\/03\/Uv9X\/1v\/X\/9j\/2L\/av9y\/3b\/fv+C\/4j\/iP+L\/5T\/l\/+g\/6b\/pv+s\/7T\/uP+9\/77\/w\/\/L\/9H\/2P\/Z\/93\/5f\/q\/\/D\/9v\/3\/\/r\/\/\/8FAAsAEAASABUAHQAkAC8AMgAxADMAOQA2ADIAOAA\/AD0AOgBEAEYAQQA8AEMASABIAE4AUABUAFYAWABdAF8AZQBrAGwAbgBzAHQAcQB5AHwAeQB9AIMAgQB\/AIEAgQCEAIQAhgCGAIMAiACLAIoAiACIAIwAjgCNAIwAjQCLAIYAiQCMAIwAjQCSAJkAlQCQAJMAmACUAJMAlgCUAJMAkwCWAJIAlACRAI8AkwCSAJQAjgCKAIwAjQCMAI0AigCIAIoAhACCAIIAegB4AHsAcwBvAHAAcwBqAGQAZABgAGAAXABYAFMAUgBJAEUARQA\/AD0ANgAwACwAKAAkACAAHQAZABcAFAAOAAoACQACAP\/\/\/\/\/8\/\/b\/7\/\/o\/97\/2f\/W\/8\/\/yf\/D\/7r\/rv+l\/6H\/mf+R\/43\/iP+F\/4D\/fP91\/27\/Z\/9k\/13\/V\/9Q\/0z\/UP9L\/0D\/P\/89\/y\/\/Lv80\/zP\/Lf8o\/yX\/If8h\/x\/\/IP8f\/xn\/Ff8V\/xL\/Ev8O\/w7\/Ef8T\/w3\/CP8K\/wr\/CP8E\/wb\/CP8D\/\/7+\/P79\/gL\/Af\/\/\/vv++f4A\/wH\/Av8J\/xD\/Ef8U\/xn\/Gv8h\/yf\/Kv8w\/zf\/Of83\/zv\/RP9D\/0n\/U\/9W\/1T\/W\/9n\/2f\/bf90\/3P\/d\/+D\/4T\/hP+M\/5P\/mf+c\/6n\/sP+u\/7L\/uv+4\/7v\/zP\/Q\/9P\/1v\/Y\/9n\/3v\/m\/+j\/7v\/x\/\/T\/9\/\/2\/\/r\/AAADAAwAEwAVABoAHwAcABcAGwAbAB4AGwAgACYAIAAkACgAJQAoAC4AKwAtADIANgA6AD8ARABIAEwATABNAE0ATABQAFcAWgBdAGEAXwBlAGcAaABqAGsAbgBpAGwAbABqAG8AcgBxAHAAdAB2AG8AdAB0AG4AdQB3AHYAeAB4AHcAdAB4AHkAeAB7AHoAewB8AH8AfgB7AHwAdgB5AHsAeQB2AHYAeAB9AHwAdQByAHUAeQB1AHAAbQBrAGsAbQBnAGQAaQBiAFsAWgBaAFUAUABOAEsASgBFAD8ANwAxADEALwAtACUAHAAcABkAFQARAA4ACAADAP3\/\/P\/+\/\/T\/8f\/y\/+\/\/6\/\/k\/+P\/4f\/d\/9v\/0\/\/N\/8b\/vP+0\/63\/pv+g\/5r\/kP+H\/37\/ev96\/27\/Zv9k\/17\/V\/9P\/0v\/Sv9G\/zz\/Nv80\/yv\/KP8r\/yX\/If8a\/xT\/E\/8O\/wv\/Cf8H\/\/\/+\/v7+\/gD\/\/v70\/vT+7v7t\/vD+8P7t\/uz+7v7p\/uX+4\/7n\/uf+4f7g\/t3+4v7e\/t7+4P7b\/t\/+3P7a\/tz+1v7Z\/ub+7P7s\/vT++P77\/vz+A\/8M\/wz\/BP8V\/yn\/D\/8c\/yj\/H\/8m\/y7\/J\/80\/zv\/Qf9F\/0n\/Sv9K\/3z\/Wv9N\/2f\/e\/9w\/1b\/f\/+V\/2X\/a\/+w\/4f\/jf+G\/5f\/sP+k\/7\/\/pP\/w\/+n\/kv+z\/\/P\/wv+x\/\/\/\/5\/\/R\/6f\/AwAdANX\/xf\/4\/ygAGwA1AMn\/MwAYAO3\/TgDd\/zoAHADW\/zgA3\/8EAD4ACQA0AFAAJQDo\/3YAKQDW\/00AbwB3APz\/ZQB0ACoARQBeAIoAGQBGAI8AMgArAFQALAB7AMcAXQBiAE8ASgCmABEA\/v+FAMIAqQBHAFoAMgCHAKIA+v90AO0AOQADAJAAoABbAEwAogCFAC0ApACkAFYAcwBaAHoAggCnANwAMwAEAJMAqQB0AFYAhgC8AIMAXQA7AHQAmwCFAEkAUgDMADsAKgCEAFYAmACTAEkALgBCAJ0AXgDv\/8v\/XADKAB0AAABUAIYAcADr\/wAANADL\/\/P\/TgBCANb\/8P88AN7\/NQA+AO3\/DAD8\/7r\/k\/\/U\/xcAJgCd\/3z\/6P+D\/67\/xv+i\/7L\/iP+u\/4f\/wP9k\/9P+nv\/Z\/0f\/PP9g\/y7\/aP+2\/yX\/7P5g\/3f\/S\/92\/yn\/uv75\/kD\/H\/\/2\/nD\/N\/8A\/y3\/S\/80\/4T+C\/80\/\/D+Qv+0\/vH+Pv\/6\/vr+1v4d\/wH\/3\/79\/tn+6P4K\/9b+sf70\/vP+Fv\/3\/qf+6\/7i\/vD+8\/7C\/hH\/DP\/g\/v\/+N\/9X\/xv\/7P74\/kT\/Sv8J\/wr\/EP9n\/4H\/If8n\/yL\/X\/97\/0D\/ZP9M\/1j\/kP9s\/3T\/gv9W\/27\/hP9y\/6L\/qP+N\/5r\/pv\/d\/7\/\/qP\/V\/8f\/mf+0\/\/H\/xv\/1\/wgAzP\/+\/w0AFQD7\/8v\/DQABAA8AKQAGADAAKABJAFIAIQBaAC4AGABZAD0ANgAXAAMARABLADUAQgBXAIAAdABJAGIAVwBcAHwAbQBwAGEAZQB6AGAAawCHAIEAgACMAIcAfQB5AIAAhQBrAIQAmQCSAIIAfwCiALAAgQBWAJMApgB2AFsAegDDAHwAaQCrAKQArACbAJYAfACHAH8AaACTAKUAjAByAJkAjwB8AJcAmwCIAJYAtQB1AGEAiACUAIMAWQCNAJMAkQCEAFEAbAB5AJEAfQBeAIUAhQBmAGMAbwBXAFwAVQA4AGsAUABKADkAHgBWACgAPAAuAAwAPQALABYAHwAfADgAFAAcAAEAEQAGAOX\/8v\/O\/wkAHQD3\/\/P\/6f\/1\/8T\/uP\/N\/7n\/uf+m\/7f\/sf+g\/5n\/hv+n\/4b\/if+V\/1H\/ZP+J\/2L\/Mv9a\/4r\/SP8y\/13\/X\/9T\/0H\/OP85\/07\/Qf8W\/y7\/O\/8s\/yf\/Ev9A\/zn\/M\/8m\/wn\/Uf8T\/\/f+Jv8Q\/x7\/AP\/3\/g7\/Gf8y\/wv\/A\/8n\/xP\/\/f7v\/vP+KP8F\/+3+7\/75\/jP\/6\/7y\/jj\/Df\/w\/ib\/Pf8Y\/yX\/QP89\/yn\/P\/9U\/0j\/Z\/9l\/z7\/Vf9Y\/1z\/b\/9E\/2n\/h\/95\/4\/\/df+y\/6T\/df+f\/5X\/m\/+a\/7D\/u\/+z\/6r\/sP\/I\/8L\/2P\/Q\/8D\/6f8GABoA3v\/f\/y0A\/v\/7\/\/7\/3f8BAC8AOgAFACUAWAAyACwARAAqACUAYAA6AEUAbwBgADcAKQB0AF4AWABaAEYAXABXAFQAYQB3AFgAYAB6AHkAcABbAHoAdwBvAH0AbwBvAJwAgABnAJYAjQCDAH8AlwCqAH4AfwCeAHgAdQCiAI0AkACYAIkAfQB\/AJ8ArACgAHcAiQClAKAAnQCEAIkAnACdAJoAkgCbAKUAgACGAJcAmQCPAHwApACaAI0AkACBAJgAmACWAJYAfACcAKsAcQCFAI8AbQCMAJgAgQB2AIkAkwCPAG4AZABgAFoAfABYAG8AawBEAIAAYQBEAFcATABRADEANQBSACIAJwA\/ACcALgBBACsA+P8XADgAEAATABkAFgALAAAA\/v\/2\/\/r\/8P\/z\/+T\/2\/\/l\/8f\/y\/\/F\/6\/\/q\/+i\/7f\/qP+Z\/4z\/iv+S\/2n\/cf92\/2P\/Xv9k\/3D\/V\/9S\/13\/Xv9a\/0X\/MP83\/0H\/P\/8+\/y3\/LP8z\/y3\/MP8+\/zH\/Gf8e\/yj\/M\/8o\/xb\/H\/80\/y3\/B\/8W\/yn\/D\/8W\/x3\/C\/\/7\/hv\/Kv\/\/\/hL\/IP8S\/xH\/FP8k\/wP\/Ef8h\/wr\/JP8Z\/x3\/Q\/9C\/zf\/M\/9B\/1z\/Wf9S\/0z\/Tv9Y\/1v\/bv9t\/2j\/Yf9x\/4D\/ev+L\/3v\/gP+W\/47\/kf+N\/6D\/tP+i\/6D\/u\/+7\/7j\/v\/+y\/8H\/3\/\/E\/9D\/5v\/d\/\/X\/7\/\/y\/\/T\/7P8AAAIAAQAGAPz\/EwAvABMAIgAtAC0ANQApACwARABCADgAQgA0AEcASgA\/AFwASABFAGAASgBXAFUAUwBzAE0AUQB6AIAAcABjAHcAewBxAHYAfgB1AHoAjAB0AIAAmAB\/AIAAjgCJAH8AgQCFAI0AlwCPAIwAhQCPAJsAjwCOAIQAnAChAIoAkQCMAKMAogCVAJgAlACbAKUAoQClAKsAnQCpAKUAnwCoAKYAkQCaALQAlgCiAKUAlgClAKYApgCaAJsAoACQAJQAkgCHAJUAkwB4AIYAmgCGAHYAewCSAHsAYACBAHgAWwBtAG8AWwBYAE8AUQBXAEYASABDADkAMwAtADEAMQAsACcAJQAlADEAHQAHAA4AFgAaAPz\/BAAOAPn\/BgDw\/+T\/5v\/b\/97\/zv\/E\/7P\/tv++\/63\/rf+g\/5z\/lP+Q\/5z\/iv9z\/3H\/hf97\/2\/\/fP9d\/1f\/Yf9R\/13\/Wv9B\/0j\/X\/9V\/0b\/P\/9F\/0v\/QP82\/yr\/Nf85\/zH\/L\/8g\/y7\/LP8f\/yf\/Jf8v\/x7\/Ev8b\/xL\/C\/8P\/yP\/Gv8S\/xb\/\/v4C\/xP\/C\/\/9\/g\/\/If8F\/xH\/Kv8r\/yX\/J\/84\/zj\/N\/8x\/z3\/Sf8+\/0X\/Sf9S\/2P\/Y\/9Z\/2j\/d\/9h\/2f\/jP+D\/2\/\/f\/+F\/5n\/nf+O\/6j\/rv+p\/6f\/qf+z\/77\/yf\/O\/8\/\/0P\/d\/9L\/3v\/j\/+L\/+P\/s\/+z\/BAAIAAAABAAQACIAFwAXACkAGwAZADkAOgAxAC4ANwBKADkASQBKADYARABCAEwARwBFAFcATgBQAEwAWQBnAFwAWABZAG8AdgBiAGwAhwBnAHcAlAB8AHcAkQB2AHAAkQB0AIcAdACIAJ8AfACWAJUAhwCSAIcAmACcAHIArgChAIYAkwCKAKcAnACIAI0AwACcAG8AuQCYALAAlACCAM0AgwC5AIsAggDBAIEAoACeAJMAlwCQAJAApACIAIkAsgB2AIgArAB6AIoAiwCLAIIAegCNAJwAdgBeAI0AgwCOAG8AdABwAGMAhwBuAEMAYgByAEgAWwBOAF0AWgAmAEIARwBIADEAIwBCACEAOAAmAB4AKQAPACwAFQAQACMABwDq\/wQACADu\/+3\/2\/\/o\/+T\/2f\/C\/7j\/z\/+i\/53\/rP+r\/4T\/mv+M\/3f\/iP9m\/4T\/Tv9n\/3H\/X\/95\/y3\/Z\/9Q\/y\/\/Sv8p\/0\/\/LP8v\/0b\/NP8y\/zv\/MP8n\/yz\/JP83\/xv\/Jv8v\/wb\/Jf8S\/wT\/KP8U\/xX\/Gf8Y\/\/n+\/f4W\/\/7+AP8K\/x7\/\/v76\/hj\/+f4Y\/+v+\/P4j\/\/H+IP8V\/x\/\/Mv8d\/zP\/NP8u\/zj\/Mf9U\/z3\/O\/9d\/0f\/a\/9S\/2H\/aP9Y\/3n\/ff91\/4H\/jv97\/57\/lP+M\/6j\/r\/+i\/7r\/uP+w\/9D\/t\/\/L\/8j\/1P\/i\/8r\/2f\/z\/+r\/8f\/\/\/\/v\/BgAKAA4ACAAZABwAGwATACgAOQAYAEMALgA4AEYAPQBTADIASABFAFMAKAD6\/wYA\/P8DAP\/\/AQD\/\/\/\/\/\/\/\/\/\/wEAAAAAAAAAAQAAAAAAAAD\/\/\/\/\/AAAAAAAAAQAAAP\/\/AwD+\/\/\/\/AAAAAAAAAAABAAAAAAAAAAAAAAAAAAAA\/\/8AAAAAAAAAAAAAAAAAAAEAAAAAAAAAAAD\/\/wAA\/\/8AAAAAAAABAAAAAAAAAAAAAAAAAAAAAAAAAAAAAAAAAAAAAAAAAAAAAAAAAAAAAAAAAAAAAAAAAAAAAAAAAAAAAAAAAAAAAAAAAAAAAAAAAAAAAAAAAAAAAAAAAAAAAAAAAAAAAAAAAAAAAAAAAAAAAAAAAAAAAAAAAAAAAAAAAAAAAAAAAAAAAAAAAAAAAAAAAAAAAAAAAAAAAAAAAAAAAAAAAAAAAAAAAAAAAAAAAAAAAAAAAAAAAAAAAAAAAAAAAAAAAAAAAAAAAAAAAAAAAAAAAAAAAAAAAAAAAAAAAAAAAAAAAAAAAAAAAAAAAAAAAAAAAAAAAAAAAAAAAAAAAAAAAAAAAAAAAAAAAAAAAAAAAAAAAAAAAAAAAAAAAAAAAAAAAAAAAAAAAAAAAAAAAAAAAAAAAAAAAAAAAAAAAAAAAAAAAAAAAAAAAAAAAAAAAAAAAAAAAAAAAAAAAAAAAAAAAAAA\" type=\"audio\/wav\" \/>\n",
       "                    Your browser does not support the audio element.\n",
       "                <\/audio>\n",
       "              "
      ]
     },
     "metadata":{
      
     },
     "output_type":"display_data"
    },
    {
     "data":{
      "image\/png":"[encoded data removed]"
     },
     "metadata":{
      "image\/png":{
       
      }
     },
     "output_type":"display_data"
    }
   ],
   "metadata":{
    "datalore":{
     "node_id":"b7DlQD15rMCpFiMwDp7Xxr",
     "type":"CODE",
     "hide_input_from_viewers":false,
     "hide_output_from_viewers":false,
     "report_properties":{
      "rowId":"WDebyG0FoxBB0sRTh4KnxJ"
     }
    }
   }
  },
  {
   "cell_type":"code",
   "source":[
    "# Run the model, check the output.\n",
    "scores, embeddings, spectrogram = yamnet_model(waveform)\n",
    "class_scores = tf.reduce_mean(scores, axis=0)\n",
    "top_class = tf.math.argmax(class_scores)\n",
    "inferred_class = class_names[top_class]\n",
    "top_score = class_scores[top_class]\n",
    "print(f'[YAMNet] The main sound is: {inferred_class} ({top_score})')\n",
    "\n",
    "reloaded_results = reloaded_model(waveform)\n",
    "your_top_class = tf.math.argmax(reloaded_results)\n",
    "your_inferred_class = my_classes[your_top_class]\n",
    "class_probabilities = tf.nn.softmax(reloaded_results, axis=-1)\n",
    "your_top_score = class_probabilities[your_top_class]\n",
    "print(f'[Your model] The main sound is: {your_inferred_class} ({your_top_score})')"
   ],
   "execution_count":164,
   "outputs":[
    {
     "name":"stdout",
     "text":[
      "[YAMNet] The main sound is: Hands (0.4722512662410736)\n",
      "[Your model] The main sound is: double_claps (0.8715088963508606)\n"
     ],
     "output_type":"stream"
    }
   ],
   "metadata":{
    "datalore":{
     "node_id":"IGQg4rEVaPx1XjdoTG0cGN",
     "type":"CODE",
     "hide_input_from_viewers":false,
     "hide_output_from_viewers":false,
     "report_properties":{
      "rowId":"s6IhrfMZaPdU6EjoBdSaBT"
     }
    }
   }
  }
 ],
 "metadata":{
  "kernelspec":{
   "display_name":"Python",
   "language":"python",
   "name":"python"
  },
  "datalore":{
   "computation_mode":"JUPYTER",
   "package_manager":"pip",
   "base_environment":"default",
   "packages":[
    
   ],
   "report_row_ids":[
    "HbP5IyspfN6fdZBETT5yS8",
    "YvVZOjOpqy61ocux8pOgnW",
    "Fb6hNU0amGJqSdq7TEO7pv",
    "XT0MtDVDnlYT5Yksodh3MB",
    "bNyXXVIbUKqxdcMYWVJD2A",
    "hdEKAZ0jVhzbU0BQYMuYGl",
    "DNNJDiHYjsfDahSgVLNpen",
    "V2xAz4bH4ADsZs7TT0ZgxL",
    "eZ8C5wbZNmRRS5xKxjHuVX",
    "Fuxge69njRJyMruBBszKRp",
    "Y1YLhtFEUGq7Wnzi58vATa",
    "Tm9NFKqVk9FNecphJySm6A",
    "i8iNNek4TDPebXZzJww65G",
    "XiQO7U4am5U9iR6RvIzuC9",
    "nQRwXcRl6xushsh9JfzkPy",
    "o8yk3Uju8d5jG1bPYjohoB",
    "6mOupses0Nh272uxbTURx0",
    "iXqyjfQtEB0iVsCITkOZEg",
    "ZsLDLipuBWWzAy7rttcZ0v",
    "iJshpnLphMcS65WhdIWP4w",
    "4Qm1G8QQWUF4cxLVExDwbo",
    "iQQKXf81vvSLAs1Ly0sJBZ",
    "1585fdE7SwM3SL5fcbEbA1",
    "76aenUn946kwicf5kP0DRZ",
    "wwXXVRr1TV9siDfJkmTuR8",
    "V3tDilgT9E6ehQBcyEQEGi",
    "LkKpYHCKXm65OgxccZ8UBG",
    "NQkNDlPUQJatbEjJ8fctGZ",
    "aAkHOWVDSdJw6SXftfPxqo",
    "zIL06YTibUHOn4ATB2xK51",
    "9ulzWVrUXqIFVU2AgFY67X",
    "2gyc990hyfGHlZWwD2D38S",
    "HZXNFrLIbJ0NbrlHZKZkRD",
    "j54ARAoD90WJ8mA7ljRJzA",
    "Toe5mxCWXzMNT4fE92K9uy",
    "aAP0ytxFs24OHwyJL3WS6z",
    "CysxcsJPJBY481S0cLRnfm",
    "LCmi9u9bdCSkpdhyz2C739",
    "UuDLJuhkq4cUAhN7LdZBET",
    "qMOsiSxy5l56iVZBWhcOYW",
    "Q673X22lQI6G1JJmdhqsv6",
    "bZfD9HMnelygWdVvp6wiTl",
    "uWof9e8sKGdarXxi0SPDuF",
    "ENHE8VV1nw2wcu3VvzxPYD",
    "wqoN7hIIYnEl93ibOMRcHh",
    "GfcBACAinhxzMgRRTwHma5",
    "VkCK219Pmi1j3ntjxO8IJ8",
    "R969hexoxLLLQid8XPRIgG",
    "L4FckYWpoyT6JVluc01IRW",
    "0cUaWKPTjqY8uQLVympnsd",
    "im3r4wNLLTPvqUJUCzinuH",
    "HkDcct3JLJggOVNISNei2T",
    "nQl6W99W9NwTtOjgaGrlqZ",
    "WDebyG0FoxBB0sRTh4KnxJ",
    "s6IhrfMZaPdU6EjoBdSaBT",
    "bVVKgAmGOxYJcxReDHyD0S"
   ],
   "version":3
  }
 },
 "nbformat":4,
 "nbformat_minor":4
}